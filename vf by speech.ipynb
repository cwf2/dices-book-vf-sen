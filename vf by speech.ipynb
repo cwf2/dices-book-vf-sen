{
 "cells": [
  {
   "cell_type": "code",
   "execution_count": 1,
   "id": "344981ae-4ee4-4d3e-81bc-d04a43bca0af",
   "metadata": {},
   "outputs": [],
   "source": [
    "import pandas as pd\n",
    "import spacy\n",
    "import os\n",
    "import re"
   ]
  },
  {
   "cell_type": "code",
   "execution_count": 2,
   "id": "2811723d-513d-4d62-a955-3c94a074d649",
   "metadata": {},
   "outputs": [],
   "source": [
    "vf_files = [\n",
    "    'VF_Argonautica_1.csv',\n",
    "    'VF_Argonautica_2.csv',\n",
    "    'VF_Argonautica_3.csv',\n",
    "    'VF_Argonautica_4.csv',\n",
    "    'VF_Argonautica_5.csv',\n",
    "    'VF_Argonautica_6.csv',\n",
    "    'VF_Argonautica_7.csv',\n",
    "    'VF_Argonautica_8.csv',\n",
    "]\n",
    "\n",
    "nlp = spacy.load('la_core_web_lg')"
   ]
  },
  {
   "cell_type": "code",
   "execution_count": 3,
   "id": "3bf6b51f-bb66-4810-87b4-f92309971310",
   "metadata": {},
   "outputs": [
    {
     "name": "stdout",
     "output_type": "stream",
     "text": [
      "VF_Argonautica_1.csv\n",
      "VF_Argonautica_2.csv\n",
      "VF_Argonautica_3.csv\n",
      "VF_Argonautica_4.csv\n",
      "VF_Argonautica_5.csv\n",
      "VF_Argonautica_6.csv\n",
      "VF_Argonautica_7.csv\n",
      "VF_Argonautica_8.csv\n"
     ]
    }
   ],
   "source": [
    "tables = []\n",
    "cur_id = 7000\n",
    "\n",
    "for file in vf_files:\n",
    "    print(file)\n",
    "    df = pd.read_csv(os.path.join('data', 'vf', file))\n",
    "\n",
    "    speech_ids = []\n",
    "    last_spkr = None\n",
    "    for speaker in df.speaker:\n",
    "        if pd.isna(speaker):\n",
    "            id = None\n",
    "        else:\n",
    "            if speaker != last_spkr:\n",
    "                cur_id += 1\n",
    "            id = cur_id\n",
    "        last_spkr = speaker\n",
    "        speech_ids.append(id)\n",
    "        \n",
    "    df['speech'] = speech_ids\n",
    "    df = df.loc[~df.speaker.isna()]\n",
    "    df = df.loc[~df.perseus_text.isna()]\n",
    "    df = df.loc[~df.pc_bounds.isna()]    \n",
    "    df['speech'] = df['speech'].astype(int)\n",
    "    df['file'] = file[:-4]\n",
    "    df['line_id'] = df['file'] + ':' + df['perseus_n'].astype(str)\n",
    "    df['speaker'] = df['speaker'].str.replace('[\\[\\]\\']', '', regex=True)\n",
    "    df['tokens'] = df['perseus_text'].apply(lambda s: [tok for tok in nlp(s)])\n",
    "\n",
    "    tables.append(df)\n",
    "\n",
    "df = pd.concat(tables)\n",
    "df['line_id'] = pd.Categorical(df['line_id'], categories=pd.unique(df['line_id']), ordered=True)"
   ]
  },
  {
   "cell_type": "code",
   "execution_count": 4,
   "id": "3de1c36c-3219-425c-bd94-8666e182e82d",
   "metadata": {},
   "outputs": [],
   "source": [
    "def normalize(s):\n",
    "    return re.sub(r'[^a-z]', '', s.lower()).replace('jv', 'iu')\n",
    "\n",
    "\n",
    "def getElided(df):\n",
    "    '''extract elided tokens from a line-array table'''\n",
    "    rows = []\n",
    "    row_count = 0\n",
    "    \n",
    "    for row in df.itertuples():\n",
    "        elided = [False] * len(row.tokens)\n",
    "        row_count += 1\n",
    "        \n",
    "        if 'SY' in row.pc_bounds:\n",
    "            bounds = row.pc_bounds[1:-1].split(',')\n",
    "            pc_toks = row.pc_text.split()\n",
    "            no_punct = [tok for tok in row.tokens if tok.pos_ != 'PUNCT']\n",
    "            \n",
    "            if len(no_punct) == len(bounds):\n",
    "                for bound, tok in zip(bounds, no_punct):\n",
    "                    if 'SY' in bound:\n",
    "                        idx = row.tokens.index(tok)\n",
    "                        elided[idx] = True\n",
    "            else:\n",
    "                if len(bounds) == len(pc_toks):\n",
    "                    for bound, pc_tok in zip(bounds, pc_toks):\n",
    "                        if 'SY' in bound:\n",
    "                            normalized_pc = normalize(pc_tok)\n",
    "                            normalized_toks = [normalize(tok.text) for tok in row.tokens]\n",
    "                            count = normalized_toks.count(normalized_pc)\n",
    "                            if count == 1:\n",
    "                                idx = normalized_toks.index(normalized_pc)\n",
    "                            elif pc_tok.endswith('que') and normalized_toks.count('que') == 1:\n",
    "                                idx = normalized_toks.index('que')\n",
    "                            else:\n",
    "                                print(f'[{row_count}]\\t' + ' '.join([f'{i}.{tok.text}' for i, tok in enumerate(row.tokens)]))\n",
    "                                print(' '.join(bounds))\n",
    "                                idx = int(input(f'Which word is {pc_tok}? '))\n",
    "                            elided[idx] = True\n",
    "        rows.append(elided)\n",
    "    return rows"
   ]
  },
  {
   "cell_type": "code",
   "execution_count": 5,
   "id": "613d31d9-e335-4602-9629-77f4b79b51cc",
   "metadata": {},
   "outputs": [
    {
     "name": "stdout",
     "output_type": "stream",
     "text": [
      "[24]\t0.da 1.Scythiam 2.Phasim 3.que 4.mihi 5.; 6.tu 7.que 8., 9.innuba 10.Pallas 11.,\n",
      "'CM'  'CM'  'CF'  'CM'  'SY'  'DI'  None\n"
     ]
    },
    {
     "name": "stdin",
     "output_type": "stream",
     "text": [
      "Which word is tuque,?  7\n"
     ]
    },
    {
     "name": "stdout",
     "output_type": "stream",
     "text": [
      "[31]\t0.iam 1.iam 2.ego 3.et 4.inviti 5.torsissem 6.coniugis 7.ignem 8..\n",
      "'SY'  'SY'  'DI'  'CM'  'DI'  'DI'  None\n"
     ]
    },
    {
     "name": "stdin",
     "output_type": "stream",
     "text": [
      "Which word is Iamiam?  1\n"
     ]
    },
    {
     "name": "stdout",
     "output_type": "stream",
     "text": [
      "[38]\t0.non 1.iuvenem 2.in 3.casus 4.eademn 5.que 6.pericula 7.Acastum\n",
      "'CM'  'SY'  'CM'  'CM'  'CF'  'SY'  None\n"
     ]
    },
    {
     "name": "stdin",
     "output_type": "stream",
     "text": [
      "Which word is iuuenem?  1\n"
     ]
    },
    {
     "name": "stdout",
     "output_type": "stream",
     "text": [
      "[99]\t0.hanc 1.vero 2., 3.socii 4., 5.venientem 6.litore 7.laeti\n",
      "'CM'  'CM'  'CM'  'SY'  'DI'  'DI'  None\n"
     ]
    },
    {
     "name": "stdin",
     "output_type": "stream",
     "text": [
      "Which word is uenientem?  5\n"
     ]
    },
    {
     "name": "stdout",
     "output_type": "stream",
     "text": [
      "[176]\t0.inde 1.meae 2.quercus 3.tripodes 4.que 5.animae 6.que 7.parentum\n",
      "'CF'  'CM'  'CM'  'SY'  'CF'  None\n"
     ]
    },
    {
     "name": "stdin",
     "output_type": "stream",
     "text": [
      "Which word is tripodesque?  4\n"
     ]
    },
    {
     "name": "stdout",
     "output_type": "stream",
     "text": [
      "[229]\t0.ut 1.superum 2.sic 3.claret 4.opus 5., 6.tolli 7.que 8.vicissim\n",
      "'CM'  'CM'  'DI'  'SY'  'CM'  'CF'  None\n"
     ]
    },
    {
     "name": "stdin",
     "output_type": "stream",
     "text": [
      "Which word is stare?  3\n"
     ]
    },
    {
     "name": "stdout",
     "output_type": "stream",
     "text": [
      "[231]\t0.armorum 1.que 2.hominum 3.que 4.truces 5.consurgere 6.in 7.iras\n",
      "'SY'  'CF'  'CM'  'SY'  'DI'  None\n"
     ]
    },
    {
     "name": "stdin",
     "output_type": "stream",
     "text": [
      "Which word is Armorumque?  1\n"
     ]
    },
    {
     "name": "stdout",
     "output_type": "stream",
     "text": [
      "[270]\t0.tu 1.que 2., 3.excite 4.parens 5.umbris 6., 7.ut 8.nostra 9.videres\n",
      "'SY'  'CF'  'CM'  'CM'  'DI'  'CF'  None\n"
     ]
    },
    {
     "name": "stdin",
     "output_type": "stream",
     "text": [
      "Which word is Tuque,?  1\n"
     ]
    },
    {
     "name": "stdout",
     "output_type": "stream",
     "text": [
      "[275]\t0.ultrices 1.que 2.deae 3.Fas 4.que 5.et 6.grandaeva 7.Furorum\n",
      "'CF'  'CM'  'SY'  'CM'  'CF'  None\n"
     ]
    },
    {
     "name": "stdin",
     "output_type": "stream",
     "text": [
      "Which word is Fasque?  4\n"
     ]
    },
    {
     "name": "stdout",
     "output_type": "stream",
     "text": [
      "[335]\t0.iam 1.que 2.aderunt 3., 4.thalamis 5.que 6.tuis 7.Threissa 8.propinquat\n",
      "'SY'  'CM'  'CF'  'CM'  'CF'  None\n"
     ]
    },
    {
     "name": "stdin",
     "output_type": "stream",
     "text": [
      "Which word is Iamque?  1\n"
     ]
    },
    {
     "name": "stdout",
     "output_type": "stream",
     "text": [
      "[385]\t0.Vulcani 1.que 2.' 3.ait 4.' 5.ecce 6.domos 7.: 8.date 9.vina 10.preces 11.que 12.....\n",
      "'SY'  'DI'  'CF'  'CM'  'DI'  'CF'  None\n"
     ]
    },
    {
     "name": "stdin",
     "output_type": "stream",
     "text": [
      "Which word is Vulcanique\"?  1\n"
     ]
    },
    {
     "name": "stdout",
     "output_type": "stream",
     "text": [
      "[482]\t0.vos 1.que 2., 3.viri 4., 5.optatos 6.huc 7.adfore 8.credite 9.Colchos 10.. 11.'\n",
      "'CF'  'SY'  'CM'  'DI'  'DI'  'DI'  None\n"
     ]
    },
    {
     "name": "stdin",
     "output_type": "stream",
     "text": [
      "Which word is uiri,?  3\n"
     ]
    },
    {
     "name": "stdout",
     "output_type": "stream",
     "text": [
      "[512]\t0.' 1.quos 2.fugitis 3.? 4.vellem 5.hac 6.equidem 7.me 8.strage 9.meos 10.que\n",
      "'CM'  'CM'  'SY'  'CM'  'CM'  'DI'  'CF'  None\n"
     ]
    },
    {
     "name": "stdin",
     "output_type": "stream",
     "text": [
      "Which word is uellem?  4\n"
     ]
    },
    {
     "name": "stdout",
     "output_type": "stream",
     "text": [
      "[754]\t0.iam 1.iam 2.aliae 3.vires 4.maiora 5.que 6.sanguine 7.nostro\n",
      "'SY'  'CM'  'CM'  'DI'  'DI'  None\n"
     ]
    },
    {
     "name": "stdin",
     "output_type": "stream",
     "text": [
      "Which word is Iamiam?  1\n"
     ]
    },
    {
     "name": "stdout",
     "output_type": "stream",
     "text": [
      "[824]\t0.saepe 1.Iovem 2.in 3.terras 4.Argiva 5.que 6.regna 7.Pelasgum\n",
      "'CF'  'SY'  'CM'  'CM'  'DI'  'CF'  None\n"
     ]
    },
    {
     "name": "stdin",
     "output_type": "stream",
     "text": [
      "Which word is Iouem?  1\n"
     ]
    },
    {
     "name": "stdout",
     "output_type": "stream",
     "text": [
      "[895]\t0.exspectata 1.manus 2.nostris 3.que 4.' 5.ait 6.' 7.agnita 8.votis 9..\n",
      "'CF'  'CM'  'SY'  'DI'  'DI'  None\n"
     ]
    },
    {
     "name": "stdin",
     "output_type": "stream",
     "text": [
      "Which word is nostrisque\"?  3\n"
     ]
    },
    {
     "name": "stdout",
     "output_type": "stream",
     "text": [
      "[971]\t0.tecta 1.vides 2.: 3.illae 4.redeunt 5., 6.illae 7.aequore 8.certant 9..\n",
      "'CF'  'CM'  None  'CM'  'CM'  'SY'  'DI'  None\n"
     ]
    },
    {
     "name": "stdin",
     "output_type": "stream",
     "text": [
      "Which word is illae?  3\n"
     ]
    },
    {
     "name": "stdout",
     "output_type": "stream",
     "text": [
      "[980]\t0.iam 1.que 2.alio 3.clamore 4.ruont 5., 6.omnis 7.que 8.tenetur\n",
      "'SY'  'CM'  'CF'  'CM'  'CF'  None\n"
     ]
    },
    {
     "name": "stdin",
     "output_type": "stream",
     "text": [
      "Which word is Iamque?  1\n"
     ]
    },
    {
     "name": "stdout",
     "output_type": "stream",
     "text": [
      "[1002]\t0.lin 1.que 2.gravem 3.fluvium 4.et 5.miseris 6.sua 7.fata 8.colonis 9.:\n",
      "'CF'  'CM'  'SY'  'CM'  'CM'  'DI'  'CF'  None\n"
     ]
    },
    {
     "name": "stdin",
     "output_type": "stream",
     "text": [
      "Which word is fluuium?  3\n"
     ]
    },
    {
     "name": "stdout",
     "output_type": "stream",
     "text": [
      "[1056]\t0.vela 1.fretis 2.. 3.ilium 4.in 5.sanie 6.tabo 7.que 8.recenti\n",
      "'CF'  'CM'  'SY'  'CM'  'CM'  'CF'  None\n"
     ]
    },
    {
     "name": "stdin",
     "output_type": "stream",
     "text": [
      "Which word is illum?  3\n"
     ]
    },
    {
     "name": "stdout",
     "output_type": "stream",
     "text": [
      "[1207]\t0.te 1.que 2.alium 3., 4.quam 5.quem 6.Pelias 7.sperat 8.que 9.cupit 10.que 11.,\n",
      "'SY'  'CM'  'DI'  'CM'  'CM'  'CF'  None\n"
     ]
    },
    {
     "name": "stdin",
     "output_type": "stream",
     "text": [
      "Which word is Teque?  1\n"
     ]
    },
    {
     "name": "stdout",
     "output_type": "stream",
     "text": [
      "[1210]\t0.Ossa 1.dabat 2.Pindus 3.que 4.rates 5.quot 6.que 7.ante 8.secuti\n",
      "'CF'  'CM'  'CF'  'CM'  'SY'  'CF'  None\n"
     ]
    },
    {
     "name": "stdin",
     "output_type": "stream",
     "text": [
      "Which word is quotque?  6\n"
     ]
    },
    {
     "name": "stdout",
     "output_type": "stream",
     "text": [
      "[1343]\t0.hic 1.labor 2.amborum 3.que 4.haec 5.sunt 6.discrimina 7.fratrum 8..\n",
      "'CM'  'DI'  'SY'  'DI'  'CM'  'DI'  None\n"
     ]
    },
    {
     "name": "stdin",
     "output_type": "stream",
     "text": [
      "Which word is amborum<que>?  3\n"
     ]
    },
    {
     "name": "stdout",
     "output_type": "stream",
     "text": [
      "[1383]\t0.cuncta 1.tenens 2., 3.me 4.cum 5.omnis 6.amor 7., 8.iactura 9.que 10.plaustri\n",
      "'CF'  'CM'  'SY'  'CF'  'CM'  'DI'  None\n"
     ]
    },
    {
     "name": "stdin",
     "output_type": "stream",
     "text": [
      "Which word is mecum?  4\n"
     ]
    },
    {
     "name": "stdout",
     "output_type": "stream",
     "text": [
      "[1391]\t0.praedari 1.que 2.iuvat 3., 4.talem 5.que 6.hanc 7.accipe 8.dextram 9.. 10.'\n",
      "'CF'  'CM'  'SY'  'DI'  'DI'  None\n"
     ]
    },
    {
     "name": "stdin",
     "output_type": "stream",
     "text": [
      "Which word is talemque?  5\n"
     ]
    },
    {
     "name": "stdout",
     "output_type": "stream",
     "text": [
      "[1662]\t0.' 1.ipse 2.rogat 3.certe 4.me 5.que 6.ipse 7.implorat 8.Iason 9.?\n",
      "'CF'  'CM'  'CM'  'SY'  'SY'  'CF'  None\n"
     ]
    },
    {
     "name": "stdin",
     "output_type": "stream",
     "text": [
      "Which word is ipse?  1\n"
     ]
    },
    {
     "name": "stdout",
     "output_type": "stream",
     "text": [
      "[1697]\t0.coeperat 1.his 2.que 3.iterum 4.compellat 5.Iasona 6.dictis 7.:\n",
      "'DI'  'SY'  'CM'  'CF'  'DI'  None\n"
     ]
    },
    {
     "name": "stdin",
     "output_type": "stream",
     "text": [
      "Which word is his<que>?  2\n"
     ]
    },
    {
     "name": "stdout",
     "output_type": "stream",
     "text": [
      "[1744]\t0.sit 1.mihi 2.nocturnae 3.que 4.Hecates 5.— 6.nostri 7.que 8.vigoris 9.'\n",
      "'CM'  'DI'  'SY'  'CM'  'CF'  None\n"
     ]
    },
    {
     "name": "stdin",
     "output_type": "stream",
     "text": [
      "Which word is nocturnaeque?  3\n"
     ]
    },
    {
     "name": "stdout",
     "output_type": "stream",
     "text": [
      "[1766]\t0.sola 1.que 2.tantarum 3.virgo 4.haut 5.indigna 6.viarum\n",
      "'DI'  'CM'  'SY'  'CM'  'CF'  None\n"
     ]
    },
    {
     "name": "stdin",
     "output_type": "stream",
     "text": [
      "Which word is uirgo?  3\n"
     ]
    },
    {
     "name": "stdout",
     "output_type": "stream",
     "text": [
      "[1776]\t0.sidera 1.et 2.haec 3.te 4.me 5.que 6.vident 7.. 8.te 9.cum 10.aequora 11., 12.te 13.cum\n",
      "'SY'  'DI'  'CM'  'DI'  'CF'  'CM'  'SY'  'DI'  None\n"
     ]
    },
    {
     "name": "stdin",
     "output_type": "stream",
     "text": [
      "Which word is tecum?  9\n"
     ]
    },
    {
     "name": "stdout",
     "output_type": "stream",
     "text": [
      "[1786]\t0.dic 1.age 2.nunc 3., 4.utrum 5.vigilanti 6.hostem 7.que 8.videnti\n",
      "'CM'  'DI'  'CM'  'CM'  'SY'  'CF'  None\n"
     ]
    },
    {
     "name": "stdin",
     "output_type": "stream",
     "text": [
      "Which word is uigilanti?  5\n"
     ]
    },
    {
     "name": "stdout",
     "output_type": "stream",
     "text": [
      "[1790]\t0.orbe 1.voco 2.in 3.que 4.unum 5.iubeo 6.nunc 7.ire 8.draconem 9.,\n",
      "'CF'  'SY'  'SY'  'CM'  'CM'  'DI'  'CF'  None\n"
     ]
    },
    {
     "name": "stdin",
     "output_type": "stream",
     "text": [
      "Which word is uoco?  1\n"
     ]
    },
    {
     "name": "stdout",
     "output_type": "stream",
     "text": [
      "[1829]\t0.ipsa 1.fugit 2.tanto 3.que 4.( 5.nefas 6.) 7.ipsa 8.ardet 9.amore 10..\n",
      "'CF'  'CM'  'CF'  'CM'  'SY'  'CF'  None\n"
     ]
    },
    {
     "name": "stdin",
     "output_type": "stream",
     "text": [
      "Which word is ipsa?  7\n"
     ]
    },
    {
     "name": "stdout",
     "output_type": "stream",
     "text": [
      "[1844]\t0.Cyaneas 1.que 2.vocat 3., 4.memini 5.que 6., 7.o 8.Tiphy 9., 10.tuorum\n",
      "'CF'  'CM'  'SY'  'DI'  'CF'  None\n"
     ]
    },
    {
     "name": "stdin",
     "output_type": "stream",
     "text": [
      "Which word is meminique,?  5\n"
     ]
    },
    {
     "name": "stdout",
     "output_type": "stream",
     "text": [
      "[1879]\t0.me 1.cum 2.adsunt 3.. 4.magni 5.virgo 6.ne 7.regia 8.Solis\n",
      "'SY'  'CM'  'CM'  'CM'  'DI'  'DI'  None\n"
     ]
    },
    {
     "name": "stdin",
     "output_type": "stream",
     "text": [
      "Which word is Mecum?  1\n"
     ]
    },
    {
     "name": "stdout",
     "output_type": "stream",
     "text": [
      "[1911]\t0.te 1.que 2.simul 3.me 4.cum 5.ipsa 6.traham 7.; 8.non 9.sola 10.reposcor\n",
      "'CF'  'CM'  'SY'  'CF'  'CM'  'DI'  'CF'  None\n"
     ]
    },
    {
     "name": "stdin",
     "output_type": "stream",
     "text": [
      "Which word is mecum?  4\n"
     ]
    }
   ],
   "source": [
    "# df['elided'] = getElided(df)"
   ]
  },
  {
   "cell_type": "code",
   "execution_count": 6,
   "id": "d3e2911a-9104-43cf-b83f-1d175d1f6b1d",
   "metadata": {},
   "outputs": [
    {
     "data": {
      "text/html": [
       "<div>\n",
       "<style scoped>\n",
       "    .dataframe tbody tr th:only-of-type {\n",
       "        vertical-align: middle;\n",
       "    }\n",
       "\n",
       "    .dataframe tbody tr th {\n",
       "        vertical-align: top;\n",
       "    }\n",
       "\n",
       "    .dataframe thead th {\n",
       "        text-align: right;\n",
       "    }\n",
       "</style>\n",
       "<table border=\"1\" class=\"dataframe\">\n",
       "  <thead>\n",
       "    <tr style=\"text-align: right;\">\n",
       "      <th></th>\n",
       "      <th>comp</th>\n",
       "      <th>perseus_n</th>\n",
       "      <th>perseus_text</th>\n",
       "      <th>pc_n</th>\n",
       "      <th>pc_text</th>\n",
       "      <th>pc_bounds</th>\n",
       "      <th>elision</th>\n",
       "      <th>speaker</th>\n",
       "      <th>speech</th>\n",
       "      <th>file</th>\n",
       "      <th>line_id</th>\n",
       "      <th>tokens</th>\n",
       "      <th>elided</th>\n",
       "    </tr>\n",
       "  </thead>\n",
       "  <tbody>\n",
       "    <tr>\n",
       "      <th>39</th>\n",
       "      <td>0.931818</td>\n",
       "      <td>40</td>\n",
       "      <td>'hanc mihi militiam, veterum quae pulchrior ac...</td>\n",
       "      <td>40.0</td>\n",
       "      <td>\"Hanc mihi militiam, ueterum quae pulchrior ac...</td>\n",
       "      <td>['CM', 'DI', 'CM', 'CM', 'DI', 'DI', None]</td>\n",
       "      <td>0</td>\n",
       "      <td>Pelias</td>\n",
       "      <td>7001</td>\n",
       "      <td>VF_Argonautica_1</td>\n",
       "      <td>VF_Argonautica_1:40</td>\n",
       "      <td>[', hanc, mihi, militiam, ,, veterum, quae, pu...</td>\n",
       "      <td>[False, False, False, False, False, False, Fal...</td>\n",
       "    </tr>\n",
       "    <tr>\n",
       "      <th>40</th>\n",
       "      <td>1.000000</td>\n",
       "      <td>41</td>\n",
       "      <td>adnue daque animum. nostri de sanguine Phrixus</td>\n",
       "      <td>41.0</td>\n",
       "      <td>Adnue daque animum. nostri de sanguine Phrixus</td>\n",
       "      <td>['DI', 'SY', 'CM', 'CM', 'DI', 'DI', None]</td>\n",
       "      <td>1</td>\n",
       "      <td>Pelias</td>\n",
       "      <td>7001</td>\n",
       "      <td>VF_Argonautica_1</td>\n",
       "      <td>VF_Argonautica_1:41</td>\n",
       "      <td>[adnue, da, que, animum, ., nostri, de, sangui...</td>\n",
       "      <td>[False, False, True, False, False, False, Fals...</td>\n",
       "    </tr>\n",
       "    <tr>\n",
       "      <th>41</th>\n",
       "      <td>1.000000</td>\n",
       "      <td>42</td>\n",
       "      <td>Cretheos ut patrias audis effugerit aras.</td>\n",
       "      <td>42.0</td>\n",
       "      <td>Cretheos ut patrias audis effugerit aras.</td>\n",
       "      <td>['DI', 'CM', 'CM', 'CM', 'DI', None]</td>\n",
       "      <td>0</td>\n",
       "      <td>Pelias</td>\n",
       "      <td>7001</td>\n",
       "      <td>VF_Argonautica_1</td>\n",
       "      <td>VF_Argonautica_1:42</td>\n",
       "      <td>[Cretheos, ut, patrias, audis, effugerit, aras...</td>\n",
       "      <td>[False, False, False, False, False, False, False]</td>\n",
       "    </tr>\n",
       "    <tr>\n",
       "      <th>42</th>\n",
       "      <td>0.928571</td>\n",
       "      <td>43</td>\n",
       "      <td>hunc ferus Aeetes, Scythiam Phasimque rigentem</td>\n",
       "      <td>43.0</td>\n",
       "      <td>Hunc ferus Aeetes, Scythiam Phasinque rigentem</td>\n",
       "      <td>['CM', 'DI', 'CM', 'CM', 'CF', None]</td>\n",
       "      <td>0</td>\n",
       "      <td>Pelias</td>\n",
       "      <td>7001</td>\n",
       "      <td>VF_Argonautica_1</td>\n",
       "      <td>VF_Argonautica_1:43</td>\n",
       "      <td>[hunc, ferus, Aeetes, ,, Scythiam, Phasim, que...</td>\n",
       "      <td>[False, False, False, False, False, False, Fal...</td>\n",
       "    </tr>\n",
       "    <tr>\n",
       "      <th>43</th>\n",
       "      <td>0.926829</td>\n",
       "      <td>44</td>\n",
       "      <td>qui colit (heu magni Solis pudor), hospita vina</td>\n",
       "      <td>44.0</td>\n",
       "      <td>Qui colit (heu magni Solis pudor), hospita uina</td>\n",
       "      <td>['CM', 'DI', 'CM', 'CM', 'CM', 'DI', 'DI', None]</td>\n",
       "      <td>0</td>\n",
       "      <td>Pelias</td>\n",
       "      <td>7001</td>\n",
       "      <td>VF_Argonautica_1</td>\n",
       "      <td>VF_Argonautica_1:44</td>\n",
       "      <td>[qui, colit, (, heu, magni, Solis, pudor, ), ,...</td>\n",
       "      <td>[False, False, False, False, False, False, Fal...</td>\n",
       "    </tr>\n",
       "    <tr>\n",
       "      <th>...</th>\n",
       "      <td>...</td>\n",
       "      <td>...</td>\n",
       "      <td>...</td>\n",
       "      <td>...</td>\n",
       "      <td>...</td>\n",
       "      <td>...</td>\n",
       "      <td>...</td>\n",
       "      <td>...</td>\n",
       "      <td>...</td>\n",
       "      <td>...</td>\n",
       "      <td>...</td>\n",
       "      <td>...</td>\n",
       "      <td>...</td>\n",
       "    </tr>\n",
       "    <tr>\n",
       "      <th>443</th>\n",
       "      <td>0.954545</td>\n",
       "      <td>441</td>\n",
       "      <td>nescio quid tuus iste pudor? mene, optime quondam</td>\n",
       "      <td>441.0</td>\n",
       "      <td>Nescioquid tuus iste pudor? mene, optime quondam</td>\n",
       "      <td>['CM', 'DI', 'CF', 'CM', 'SY', 'DI', None]</td>\n",
       "      <td>1</td>\n",
       "      <td>Medea</td>\n",
       "      <td>7194</td>\n",
       "      <td>VF_Argonautica_8</td>\n",
       "      <td>VF_Argonautica_8:441</td>\n",
       "      <td>[nescio, quid, tuus, iste, pudor, ?, mene, ,, ...</td>\n",
       "      <td>[False, False, False, False, False, False, Tru...</td>\n",
       "    </tr>\n",
       "    <tr>\n",
       "      <th>444</th>\n",
       "      <td>1.000000</td>\n",
       "      <td>442</td>\n",
       "      <td>Aesonide, me ferre preces et supplicis ora</td>\n",
       "      <td>442.0</td>\n",
       "      <td>Aesonide, me ferre preces et supplicis ora</td>\n",
       "      <td>['CM', 'DI', 'CF', 'CM', 'DI', 'DI', None]</td>\n",
       "      <td>0</td>\n",
       "      <td>Medea</td>\n",
       "      <td>7194</td>\n",
       "      <td>VF_Argonautica_8</td>\n",
       "      <td>VF_Argonautica_8:442</td>\n",
       "      <td>[Aesonide, ,, me, ferre, preces, et, supplicis...</td>\n",
       "      <td>[False, False, False, False, False, False, Fal...</td>\n",
       "    </tr>\n",
       "    <tr>\n",
       "      <th>445</th>\n",
       "      <td>1.000000</td>\n",
       "      <td>443</td>\n",
       "      <td>fas erat? haud hoc nunc genitor putat aut dare...</td>\n",
       "      <td>443.0</td>\n",
       "      <td>Fas erat? haud hoc nunc genitor putat aut dare...</td>\n",
       "      <td>['CM', 'DI', 'CM', 'DI', 'CM', 'CM', 'DI', 'CM...</td>\n",
       "      <td>0</td>\n",
       "      <td>Medea</td>\n",
       "      <td>7194</td>\n",
       "      <td>VF_Argonautica_8</td>\n",
       "      <td>VF_Argonautica_8:443</td>\n",
       "      <td>[fas, erat, ?, haud, hoc, nunc, genitor, putat...</td>\n",
       "      <td>[False, False, False, False, False, False, Fal...</td>\n",
       "    </tr>\n",
       "    <tr>\n",
       "      <th>446</th>\n",
       "      <td>1.000000</td>\n",
       "      <td>444</td>\n",
       "      <td>iam sceleris dominumque pati.' sic fata parantem</td>\n",
       "      <td>444.0</td>\n",
       "      <td>Iam sceleris dominumque pati.\" sic fata parantem</td>\n",
       "      <td>['CM', 'CM', 'CF', 'CM', 'DI', 'CF', None]</td>\n",
       "      <td>0</td>\n",
       "      <td>Medea</td>\n",
       "      <td>7194</td>\n",
       "      <td>VF_Argonautica_8</td>\n",
       "      <td>VF_Argonautica_8:444</td>\n",
       "      <td>[iam, sceleris, dominum, que, pati, ., ', sic,...</td>\n",
       "      <td>[False, False, False, False, False, False, Fal...</td>\n",
       "    </tr>\n",
       "    <tr>\n",
       "      <th>468</th>\n",
       "      <td>0.923077</td>\n",
       "      <td>467</td>\n",
       "      <td>'mene aliquid meruisse putas? me talia velle ...'</td>\n",
       "      <td>467.0</td>\n",
       "      <td>\"Mene aliquid meruisse putas, me talia uelle?</td>\n",
       "      <td>['SY', 'CM', 'CF', 'CM', 'DI', 'DI', None]</td>\n",
       "      <td>1</td>\n",
       "      <td>Jason</td>\n",
       "      <td>7195</td>\n",
       "      <td>VF_Argonautica_8</td>\n",
       "      <td>VF_Argonautica_8:467</td>\n",
       "      <td>[', mene, aliquid, meruisse, putas, ?, me, tal...</td>\n",
       "      <td>[False, True, False, False, False, False, Fals...</td>\n",
       "    </tr>\n",
       "  </tbody>\n",
       "</table>\n",
       "<p>1932 rows × 13 columns</p>\n",
       "</div>"
      ],
      "text/plain": [
       "         comp perseus_n                                       perseus_text  \\\n",
       "39   0.931818        40  'hanc mihi militiam, veterum quae pulchrior ac...   \n",
       "40   1.000000        41     adnue daque animum. nostri de sanguine Phrixus   \n",
       "41   1.000000        42          Cretheos ut patrias audis effugerit aras.   \n",
       "42   0.928571        43     hunc ferus Aeetes, Scythiam Phasimque rigentem   \n",
       "43   0.926829        44    qui colit (heu magni Solis pudor), hospita vina   \n",
       "..        ...       ...                                                ...   \n",
       "443  0.954545       441  nescio quid tuus iste pudor? mene, optime quondam   \n",
       "444  1.000000       442         Aesonide, me ferre preces et supplicis ora   \n",
       "445  1.000000       443  fas erat? haud hoc nunc genitor putat aut dare...   \n",
       "446  1.000000       444   iam sceleris dominumque pati.' sic fata parantem   \n",
       "468  0.923077       467  'mene aliquid meruisse putas? me talia velle ...'   \n",
       "\n",
       "      pc_n                                            pc_text  \\\n",
       "39    40.0  \"Hanc mihi militiam, ueterum quae pulchrior ac...   \n",
       "40    41.0     Adnue daque animum. nostri de sanguine Phrixus   \n",
       "41    42.0          Cretheos ut patrias audis effugerit aras.   \n",
       "42    43.0     Hunc ferus Aeetes, Scythiam Phasinque rigentem   \n",
       "43    44.0    Qui colit (heu magni Solis pudor), hospita uina   \n",
       "..     ...                                                ...   \n",
       "443  441.0   Nescioquid tuus iste pudor? mene, optime quondam   \n",
       "444  442.0         Aesonide, me ferre preces et supplicis ora   \n",
       "445  443.0  Fas erat? haud hoc nunc genitor putat aut dare...   \n",
       "446  444.0   Iam sceleris dominumque pati.\" sic fata parantem   \n",
       "468  467.0      \"Mene aliquid meruisse putas, me talia uelle?   \n",
       "\n",
       "                                             pc_bounds  elision speaker  \\\n",
       "39          ['CM', 'DI', 'CM', 'CM', 'DI', 'DI', None]        0  Pelias   \n",
       "40          ['DI', 'SY', 'CM', 'CM', 'DI', 'DI', None]        1  Pelias   \n",
       "41                ['DI', 'CM', 'CM', 'CM', 'DI', None]        0  Pelias   \n",
       "42                ['CM', 'DI', 'CM', 'CM', 'CF', None]        0  Pelias   \n",
       "43    ['CM', 'DI', 'CM', 'CM', 'CM', 'DI', 'DI', None]        0  Pelias   \n",
       "..                                                 ...      ...     ...   \n",
       "443         ['CM', 'DI', 'CF', 'CM', 'SY', 'DI', None]        1   Medea   \n",
       "444         ['CM', 'DI', 'CF', 'CM', 'DI', 'DI', None]        0   Medea   \n",
       "445  ['CM', 'DI', 'CM', 'DI', 'CM', 'CM', 'DI', 'CM...        0   Medea   \n",
       "446         ['CM', 'CM', 'CF', 'CM', 'DI', 'CF', None]        0   Medea   \n",
       "468         ['SY', 'CM', 'CF', 'CM', 'DI', 'DI', None]        1   Jason   \n",
       "\n",
       "     speech              file               line_id  \\\n",
       "39     7001  VF_Argonautica_1   VF_Argonautica_1:40   \n",
       "40     7001  VF_Argonautica_1   VF_Argonautica_1:41   \n",
       "41     7001  VF_Argonautica_1   VF_Argonautica_1:42   \n",
       "42     7001  VF_Argonautica_1   VF_Argonautica_1:43   \n",
       "43     7001  VF_Argonautica_1   VF_Argonautica_1:44   \n",
       "..      ...               ...                   ...   \n",
       "443    7194  VF_Argonautica_8  VF_Argonautica_8:441   \n",
       "444    7194  VF_Argonautica_8  VF_Argonautica_8:442   \n",
       "445    7194  VF_Argonautica_8  VF_Argonautica_8:443   \n",
       "446    7194  VF_Argonautica_8  VF_Argonautica_8:444   \n",
       "468    7195  VF_Argonautica_8  VF_Argonautica_8:467   \n",
       "\n",
       "                                                tokens  \\\n",
       "39   [', hanc, mihi, militiam, ,, veterum, quae, pu...   \n",
       "40   [adnue, da, que, animum, ., nostri, de, sangui...   \n",
       "41   [Cretheos, ut, patrias, audis, effugerit, aras...   \n",
       "42   [hunc, ferus, Aeetes, ,, Scythiam, Phasim, que...   \n",
       "43   [qui, colit, (, heu, magni, Solis, pudor, ), ,...   \n",
       "..                                                 ...   \n",
       "443  [nescio, quid, tuus, iste, pudor, ?, mene, ,, ...   \n",
       "444  [Aesonide, ,, me, ferre, preces, et, supplicis...   \n",
       "445  [fas, erat, ?, haud, hoc, nunc, genitor, putat...   \n",
       "446  [iam, sceleris, dominum, que, pati, ., ', sic,...   \n",
       "468  [', mene, aliquid, meruisse, putas, ?, me, tal...   \n",
       "\n",
       "                                                elided  \n",
       "39   [False, False, False, False, False, False, Fal...  \n",
       "40   [False, False, True, False, False, False, Fals...  \n",
       "41   [False, False, False, False, False, False, False]  \n",
       "42   [False, False, False, False, False, False, Fal...  \n",
       "43   [False, False, False, False, False, False, Fal...  \n",
       "..                                                 ...  \n",
       "443  [False, False, False, False, False, False, Tru...  \n",
       "444  [False, False, False, False, False, False, Fal...  \n",
       "445  [False, False, False, False, False, False, Fal...  \n",
       "446  [False, False, False, False, False, False, Fal...  \n",
       "468  [False, True, False, False, False, False, Fals...  \n",
       "\n",
       "[1932 rows x 13 columns]"
      ]
     },
     "execution_count": 6,
     "metadata": {},
     "output_type": "execute_result"
    }
   ],
   "source": [
    "df.to_csv(os.path.join('data','vf_scanned.csv'), index=False)\n",
    "df"
   ]
  },
  {
   "cell_type": "code",
   "execution_count": 7,
   "id": "c29ef1cb-a0ef-45d4-97ac-45666bb383a3",
   "metadata": {},
   "outputs": [],
   "source": [
    "def getContext(token_table):\n",
    "    df = (token_table\n",
    "        .assign(lemma = token_table.lemma.str.lower())\n",
    "        .groupby('line_id', as_index = False)\n",
    "        .agg(line_id = ('line_id', 'first'), lemmas = ('lemma', list))\n",
    "    )\n",
    "\n",
    "    r_context = (\n",
    "        pd.concat(\n",
    "            pd.DataFrame(dict(\n",
    "                line_id = df.iloc[:-i].line_id.values,\n",
    "                lemmas = df.iloc[i:].lemmas.values,\n",
    "            )) for i in range(1, 3))\n",
    "        .groupby('line_id', as_index=False)\n",
    "        .agg(r_context=('lemmas', lambda lems: sum(lems, [])))\n",
    "    )\n",
    "\n",
    "    l_context = (\n",
    "        pd.concat(\n",
    "            pd.DataFrame(dict(\n",
    "                line_id = df.iloc[i:].line_id.values,\n",
    "                lemmas = df.iloc[:-i].lemmas.values,\n",
    "            )) for i in range(1, 3))\n",
    "        .groupby('line_id', as_index=False)\n",
    "        .agg(l_context=('lemmas', lambda lems: sum(lems, [])))\n",
    "    )\n",
    "\n",
    "    context = pd.merge(l_context, r_context, how='outer', on='line_id')\n",
    "    context = pd.merge(df, context, on='line_id')\n",
    "    context['context'] = context['l_context'] + context['lemmas'] + context['r_context']\n",
    "    context = context.drop(columns=['l_context', 'lemmas', 'r_context'])\n",
    "\n",
    "    return context"
   ]
  },
  {
   "cell_type": "code",
   "execution_count": 8,
   "id": "2234ccb1-c5da-4f78-8dc8-1f7a88811b8e",
   "metadata": {},
   "outputs": [
    {
     "name": "stdout",
     "output_type": "stream",
     "text": [
      "7001\n",
      "7002\n",
      "7003\n"
     ]
    },
    {
     "name": "stderr",
     "output_type": "stream",
     "text": [
      "/var/folders/2x/rfhzgyjn2zq2wlzk_kn4th680000gn/T/ipykernel_9410/2342058334.py:2: FutureWarning: The default of observed=False is deprecated and will be changed to True in a future version of pandas. Pass observed=False to retain current behavior or observed=True to adopt the future default and silence this warning.\n",
      "  df = (token_table\n",
      "/var/folders/2x/rfhzgyjn2zq2wlzk_kn4th680000gn/T/ipykernel_9410/2342058334.py:9: FutureWarning: The default of observed=False is deprecated and will be changed to True in a future version of pandas. Pass observed=False to retain current behavior or observed=True to adopt the future default and silence this warning.\n",
      "  pd.concat(\n",
      "/var/folders/2x/rfhzgyjn2zq2wlzk_kn4th680000gn/T/ipykernel_9410/2342058334.py:19: FutureWarning: The default of observed=False is deprecated and will be changed to True in a future version of pandas. Pass observed=False to retain current behavior or observed=True to adopt the future default and silence this warning.\n",
      "  pd.concat(\n",
      "/var/folders/2x/rfhzgyjn2zq2wlzk_kn4th680000gn/T/ipykernel_9410/2342058334.py:2: FutureWarning: The default of observed=False is deprecated and will be changed to True in a future version of pandas. Pass observed=False to retain current behavior or observed=True to adopt the future default and silence this warning.\n",
      "  df = (token_table\n",
      "/var/folders/2x/rfhzgyjn2zq2wlzk_kn4th680000gn/T/ipykernel_9410/2342058334.py:9: FutureWarning: The default of observed=False is deprecated and will be changed to True in a future version of pandas. Pass observed=False to retain current behavior or observed=True to adopt the future default and silence this warning.\n",
      "  pd.concat(\n",
      "/var/folders/2x/rfhzgyjn2zq2wlzk_kn4th680000gn/T/ipykernel_9410/2342058334.py:19: FutureWarning: The default of observed=False is deprecated and will be changed to True in a future version of pandas. Pass observed=False to retain current behavior or observed=True to adopt the future default and silence this warning.\n",
      "  pd.concat(\n",
      "/var/folders/2x/rfhzgyjn2zq2wlzk_kn4th680000gn/T/ipykernel_9410/2342058334.py:2: FutureWarning: The default of observed=False is deprecated and will be changed to True in a future version of pandas. Pass observed=False to retain current behavior or observed=True to adopt the future default and silence this warning.\n",
      "  df = (token_table\n",
      "/var/folders/2x/rfhzgyjn2zq2wlzk_kn4th680000gn/T/ipykernel_9410/2342058334.py:9: FutureWarning: The default of observed=False is deprecated and will be changed to True in a future version of pandas. Pass observed=False to retain current behavior or observed=True to adopt the future default and silence this warning.\n",
      "  pd.concat(\n",
      "/var/folders/2x/rfhzgyjn2zq2wlzk_kn4th680000gn/T/ipykernel_9410/2342058334.py:19: FutureWarning: The default of observed=False is deprecated and will be changed to True in a future version of pandas. Pass observed=False to retain current behavior or observed=True to adopt the future default and silence this warning.\n",
      "  pd.concat(\n",
      "/var/folders/2x/rfhzgyjn2zq2wlzk_kn4th680000gn/T/ipykernel_9410/2342058334.py:2: FutureWarning: The default of observed=False is deprecated and will be changed to True in a future version of pandas. Pass observed=False to retain current behavior or observed=True to adopt the future default and silence this warning.\n",
      "  df = (token_table\n",
      "/var/folders/2x/rfhzgyjn2zq2wlzk_kn4th680000gn/T/ipykernel_9410/2342058334.py:9: FutureWarning: The default of observed=False is deprecated and will be changed to True in a future version of pandas. Pass observed=False to retain current behavior or observed=True to adopt the future default and silence this warning.\n",
      "  pd.concat(\n",
      "/var/folders/2x/rfhzgyjn2zq2wlzk_kn4th680000gn/T/ipykernel_9410/2342058334.py:19: FutureWarning: The default of observed=False is deprecated and will be changed to True in a future version of pandas. Pass observed=False to retain current behavior or observed=True to adopt the future default and silence this warning.\n",
      "  pd.concat(\n"
     ]
    },
    {
     "name": "stdout",
     "output_type": "stream",
     "text": [
      "7004\n",
      "7005\n",
      "7006\n",
      "7007\n"
     ]
    },
    {
     "name": "stderr",
     "output_type": "stream",
     "text": [
      "/var/folders/2x/rfhzgyjn2zq2wlzk_kn4th680000gn/T/ipykernel_9410/2342058334.py:2: FutureWarning: The default of observed=False is deprecated and will be changed to True in a future version of pandas. Pass observed=False to retain current behavior or observed=True to adopt the future default and silence this warning.\n",
      "  df = (token_table\n",
      "/var/folders/2x/rfhzgyjn2zq2wlzk_kn4th680000gn/T/ipykernel_9410/2342058334.py:9: FutureWarning: The default of observed=False is deprecated and will be changed to True in a future version of pandas. Pass observed=False to retain current behavior or observed=True to adopt the future default and silence this warning.\n",
      "  pd.concat(\n",
      "/var/folders/2x/rfhzgyjn2zq2wlzk_kn4th680000gn/T/ipykernel_9410/2342058334.py:19: FutureWarning: The default of observed=False is deprecated and will be changed to True in a future version of pandas. Pass observed=False to retain current behavior or observed=True to adopt the future default and silence this warning.\n",
      "  pd.concat(\n",
      "/var/folders/2x/rfhzgyjn2zq2wlzk_kn4th680000gn/T/ipykernel_9410/2342058334.py:2: FutureWarning: The default of observed=False is deprecated and will be changed to True in a future version of pandas. Pass observed=False to retain current behavior or observed=True to adopt the future default and silence this warning.\n",
      "  df = (token_table\n",
      "/var/folders/2x/rfhzgyjn2zq2wlzk_kn4th680000gn/T/ipykernel_9410/2342058334.py:9: FutureWarning: The default of observed=False is deprecated and will be changed to True in a future version of pandas. Pass observed=False to retain current behavior or observed=True to adopt the future default and silence this warning.\n",
      "  pd.concat(\n",
      "/var/folders/2x/rfhzgyjn2zq2wlzk_kn4th680000gn/T/ipykernel_9410/2342058334.py:19: FutureWarning: The default of observed=False is deprecated and will be changed to True in a future version of pandas. Pass observed=False to retain current behavior or observed=True to adopt the future default and silence this warning.\n",
      "  pd.concat(\n",
      "/var/folders/2x/rfhzgyjn2zq2wlzk_kn4th680000gn/T/ipykernel_9410/2342058334.py:2: FutureWarning: The default of observed=False is deprecated and will be changed to True in a future version of pandas. Pass observed=False to retain current behavior or observed=True to adopt the future default and silence this warning.\n",
      "  df = (token_table\n",
      "/var/folders/2x/rfhzgyjn2zq2wlzk_kn4th680000gn/T/ipykernel_9410/2342058334.py:9: FutureWarning: The default of observed=False is deprecated and will be changed to True in a future version of pandas. Pass observed=False to retain current behavior or observed=True to adopt the future default and silence this warning.\n",
      "  pd.concat(\n",
      "/var/folders/2x/rfhzgyjn2zq2wlzk_kn4th680000gn/T/ipykernel_9410/2342058334.py:19: FutureWarning: The default of observed=False is deprecated and will be changed to True in a future version of pandas. Pass observed=False to retain current behavior or observed=True to adopt the future default and silence this warning.\n",
      "  pd.concat(\n",
      "/var/folders/2x/rfhzgyjn2zq2wlzk_kn4th680000gn/T/ipykernel_9410/2342058334.py:2: FutureWarning: The default of observed=False is deprecated and will be changed to True in a future version of pandas. Pass observed=False to retain current behavior or observed=True to adopt the future default and silence this warning.\n",
      "  df = (token_table\n"
     ]
    },
    {
     "name": "stdout",
     "output_type": "stream",
     "text": [
      "7008\n",
      "7009\n",
      "7010\n",
      "7011\n"
     ]
    },
    {
     "name": "stderr",
     "output_type": "stream",
     "text": [
      "/var/folders/2x/rfhzgyjn2zq2wlzk_kn4th680000gn/T/ipykernel_9410/2342058334.py:9: FutureWarning: The default of observed=False is deprecated and will be changed to True in a future version of pandas. Pass observed=False to retain current behavior or observed=True to adopt the future default and silence this warning.\n",
      "  pd.concat(\n",
      "/var/folders/2x/rfhzgyjn2zq2wlzk_kn4th680000gn/T/ipykernel_9410/2342058334.py:19: FutureWarning: The default of observed=False is deprecated and will be changed to True in a future version of pandas. Pass observed=False to retain current behavior or observed=True to adopt the future default and silence this warning.\n",
      "  pd.concat(\n",
      "/var/folders/2x/rfhzgyjn2zq2wlzk_kn4th680000gn/T/ipykernel_9410/2342058334.py:2: FutureWarning: The default of observed=False is deprecated and will be changed to True in a future version of pandas. Pass observed=False to retain current behavior or observed=True to adopt the future default and silence this warning.\n",
      "  df = (token_table\n",
      "/var/folders/2x/rfhzgyjn2zq2wlzk_kn4th680000gn/T/ipykernel_9410/2342058334.py:9: FutureWarning: The default of observed=False is deprecated and will be changed to True in a future version of pandas. Pass observed=False to retain current behavior or observed=True to adopt the future default and silence this warning.\n",
      "  pd.concat(\n",
      "/var/folders/2x/rfhzgyjn2zq2wlzk_kn4th680000gn/T/ipykernel_9410/2342058334.py:19: FutureWarning: The default of observed=False is deprecated and will be changed to True in a future version of pandas. Pass observed=False to retain current behavior or observed=True to adopt the future default and silence this warning.\n",
      "  pd.concat(\n",
      "/var/folders/2x/rfhzgyjn2zq2wlzk_kn4th680000gn/T/ipykernel_9410/2342058334.py:2: FutureWarning: The default of observed=False is deprecated and will be changed to True in a future version of pandas. Pass observed=False to retain current behavior or observed=True to adopt the future default and silence this warning.\n",
      "  df = (token_table\n",
      "/var/folders/2x/rfhzgyjn2zq2wlzk_kn4th680000gn/T/ipykernel_9410/2342058334.py:9: FutureWarning: The default of observed=False is deprecated and will be changed to True in a future version of pandas. Pass observed=False to retain current behavior or observed=True to adopt the future default and silence this warning.\n",
      "  pd.concat(\n",
      "/var/folders/2x/rfhzgyjn2zq2wlzk_kn4th680000gn/T/ipykernel_9410/2342058334.py:19: FutureWarning: The default of observed=False is deprecated and will be changed to True in a future version of pandas. Pass observed=False to retain current behavior or observed=True to adopt the future default and silence this warning.\n",
      "  pd.concat(\n",
      "/var/folders/2x/rfhzgyjn2zq2wlzk_kn4th680000gn/T/ipykernel_9410/2342058334.py:2: FutureWarning: The default of observed=False is deprecated and will be changed to True in a future version of pandas. Pass observed=False to retain current behavior or observed=True to adopt the future default and silence this warning.\n",
      "  df = (token_table\n",
      "/var/folders/2x/rfhzgyjn2zq2wlzk_kn4th680000gn/T/ipykernel_9410/2342058334.py:9: FutureWarning: The default of observed=False is deprecated and will be changed to True in a future version of pandas. Pass observed=False to retain current behavior or observed=True to adopt the future default and silence this warning.\n",
      "  pd.concat(\n",
      "/var/folders/2x/rfhzgyjn2zq2wlzk_kn4th680000gn/T/ipykernel_9410/2342058334.py:19: FutureWarning: The default of observed=False is deprecated and will be changed to True in a future version of pandas. Pass observed=False to retain current behavior or observed=True to adopt the future default and silence this warning.\n",
      "  pd.concat(\n"
     ]
    },
    {
     "name": "stdout",
     "output_type": "stream",
     "text": [
      "7012\n",
      "7013\n",
      "7014\n",
      "7015\n"
     ]
    },
    {
     "name": "stderr",
     "output_type": "stream",
     "text": [
      "/var/folders/2x/rfhzgyjn2zq2wlzk_kn4th680000gn/T/ipykernel_9410/2342058334.py:2: FutureWarning: The default of observed=False is deprecated and will be changed to True in a future version of pandas. Pass observed=False to retain current behavior or observed=True to adopt the future default and silence this warning.\n",
      "  df = (token_table\n",
      "/var/folders/2x/rfhzgyjn2zq2wlzk_kn4th680000gn/T/ipykernel_9410/2342058334.py:9: FutureWarning: The default of observed=False is deprecated and will be changed to True in a future version of pandas. Pass observed=False to retain current behavior or observed=True to adopt the future default and silence this warning.\n",
      "  pd.concat(\n",
      "/var/folders/2x/rfhzgyjn2zq2wlzk_kn4th680000gn/T/ipykernel_9410/2342058334.py:19: FutureWarning: The default of observed=False is deprecated and will be changed to True in a future version of pandas. Pass observed=False to retain current behavior or observed=True to adopt the future default and silence this warning.\n",
      "  pd.concat(\n",
      "/var/folders/2x/rfhzgyjn2zq2wlzk_kn4th680000gn/T/ipykernel_9410/2342058334.py:2: FutureWarning: The default of observed=False is deprecated and will be changed to True in a future version of pandas. Pass observed=False to retain current behavior or observed=True to adopt the future default and silence this warning.\n",
      "  df = (token_table\n",
      "/var/folders/2x/rfhzgyjn2zq2wlzk_kn4th680000gn/T/ipykernel_9410/2342058334.py:9: FutureWarning: The default of observed=False is deprecated and will be changed to True in a future version of pandas. Pass observed=False to retain current behavior or observed=True to adopt the future default and silence this warning.\n",
      "  pd.concat(\n",
      "/var/folders/2x/rfhzgyjn2zq2wlzk_kn4th680000gn/T/ipykernel_9410/2342058334.py:19: FutureWarning: The default of observed=False is deprecated and will be changed to True in a future version of pandas. Pass observed=False to retain current behavior or observed=True to adopt the future default and silence this warning.\n",
      "  pd.concat(\n",
      "/var/folders/2x/rfhzgyjn2zq2wlzk_kn4th680000gn/T/ipykernel_9410/2342058334.py:2: FutureWarning: The default of observed=False is deprecated and will be changed to True in a future version of pandas. Pass observed=False to retain current behavior or observed=True to adopt the future default and silence this warning.\n",
      "  df = (token_table\n",
      "/var/folders/2x/rfhzgyjn2zq2wlzk_kn4th680000gn/T/ipykernel_9410/2342058334.py:9: FutureWarning: The default of observed=False is deprecated and will be changed to True in a future version of pandas. Pass observed=False to retain current behavior or observed=True to adopt the future default and silence this warning.\n",
      "  pd.concat(\n",
      "/var/folders/2x/rfhzgyjn2zq2wlzk_kn4th680000gn/T/ipykernel_9410/2342058334.py:19: FutureWarning: The default of observed=False is deprecated and will be changed to True in a future version of pandas. Pass observed=False to retain current behavior or observed=True to adopt the future default and silence this warning.\n",
      "  pd.concat(\n",
      "/var/folders/2x/rfhzgyjn2zq2wlzk_kn4th680000gn/T/ipykernel_9410/2342058334.py:2: FutureWarning: The default of observed=False is deprecated and will be changed to True in a future version of pandas. Pass observed=False to retain current behavior or observed=True to adopt the future default and silence this warning.\n",
      "  df = (token_table\n",
      "/var/folders/2x/rfhzgyjn2zq2wlzk_kn4th680000gn/T/ipykernel_9410/2342058334.py:9: FutureWarning: The default of observed=False is deprecated and will be changed to True in a future version of pandas. Pass observed=False to retain current behavior or observed=True to adopt the future default and silence this warning.\n",
      "  pd.concat(\n",
      "/var/folders/2x/rfhzgyjn2zq2wlzk_kn4th680000gn/T/ipykernel_9410/2342058334.py:19: FutureWarning: The default of observed=False is deprecated and will be changed to True in a future version of pandas. Pass observed=False to retain current behavior or observed=True to adopt the future default and silence this warning.\n",
      "  pd.concat(\n",
      "/var/folders/2x/rfhzgyjn2zq2wlzk_kn4th680000gn/T/ipykernel_9410/2342058334.py:2: FutureWarning: The default of observed=False is deprecated and will be changed to True in a future version of pandas. Pass observed=False to retain current behavior or observed=True to adopt the future default and silence this warning.\n",
      "  df = (token_table\n",
      "/var/folders/2x/rfhzgyjn2zq2wlzk_kn4th680000gn/T/ipykernel_9410/2342058334.py:9: FutureWarning: The default of observed=False is deprecated and will be changed to True in a future version of pandas. Pass observed=False to retain current behavior or observed=True to adopt the future default and silence this warning.\n",
      "  pd.concat(\n",
      "/var/folders/2x/rfhzgyjn2zq2wlzk_kn4th680000gn/T/ipykernel_9410/2342058334.py:19: FutureWarning: The default of observed=False is deprecated and will be changed to True in a future version of pandas. Pass observed=False to retain current behavior or observed=True to adopt the future default and silence this warning.\n",
      "  pd.concat(\n",
      "/var/folders/2x/rfhzgyjn2zq2wlzk_kn4th680000gn/T/ipykernel_9410/2342058334.py:2: FutureWarning: The default of observed=False is deprecated and will be changed to True in a future version of pandas. Pass observed=False to retain current behavior or observed=True to adopt the future default and silence this warning.\n",
      "  df = (token_table\n",
      "/var/folders/2x/rfhzgyjn2zq2wlzk_kn4th680000gn/T/ipykernel_9410/2342058334.py:9: FutureWarning: The default of observed=False is deprecated and will be changed to True in a future version of pandas. Pass observed=False to retain current behavior or observed=True to adopt the future default and silence this warning.\n",
      "  pd.concat(\n"
     ]
    },
    {
     "name": "stdout",
     "output_type": "stream",
     "text": [
      "7016\n",
      "7017\n",
      "7018\n"
     ]
    },
    {
     "name": "stderr",
     "output_type": "stream",
     "text": [
      "/var/folders/2x/rfhzgyjn2zq2wlzk_kn4th680000gn/T/ipykernel_9410/2342058334.py:19: FutureWarning: The default of observed=False is deprecated and will be changed to True in a future version of pandas. Pass observed=False to retain current behavior or observed=True to adopt the future default and silence this warning.\n",
      "  pd.concat(\n",
      "/var/folders/2x/rfhzgyjn2zq2wlzk_kn4th680000gn/T/ipykernel_9410/2342058334.py:2: FutureWarning: The default of observed=False is deprecated and will be changed to True in a future version of pandas. Pass observed=False to retain current behavior or observed=True to adopt the future default and silence this warning.\n",
      "  df = (token_table\n",
      "/var/folders/2x/rfhzgyjn2zq2wlzk_kn4th680000gn/T/ipykernel_9410/2342058334.py:9: FutureWarning: The default of observed=False is deprecated and will be changed to True in a future version of pandas. Pass observed=False to retain current behavior or observed=True to adopt the future default and silence this warning.\n",
      "  pd.concat(\n",
      "/var/folders/2x/rfhzgyjn2zq2wlzk_kn4th680000gn/T/ipykernel_9410/2342058334.py:19: FutureWarning: The default of observed=False is deprecated and will be changed to True in a future version of pandas. Pass observed=False to retain current behavior or observed=True to adopt the future default and silence this warning.\n",
      "  pd.concat(\n",
      "/var/folders/2x/rfhzgyjn2zq2wlzk_kn4th680000gn/T/ipykernel_9410/2342058334.py:2: FutureWarning: The default of observed=False is deprecated and will be changed to True in a future version of pandas. Pass observed=False to retain current behavior or observed=True to adopt the future default and silence this warning.\n",
      "  df = (token_table\n",
      "/var/folders/2x/rfhzgyjn2zq2wlzk_kn4th680000gn/T/ipykernel_9410/2342058334.py:9: FutureWarning: The default of observed=False is deprecated and will be changed to True in a future version of pandas. Pass observed=False to retain current behavior or observed=True to adopt the future default and silence this warning.\n",
      "  pd.concat(\n",
      "/var/folders/2x/rfhzgyjn2zq2wlzk_kn4th680000gn/T/ipykernel_9410/2342058334.py:19: FutureWarning: The default of observed=False is deprecated and will be changed to True in a future version of pandas. Pass observed=False to retain current behavior or observed=True to adopt the future default and silence this warning.\n",
      "  pd.concat(\n",
      "/var/folders/2x/rfhzgyjn2zq2wlzk_kn4th680000gn/T/ipykernel_9410/2342058334.py:2: FutureWarning: The default of observed=False is deprecated and will be changed to True in a future version of pandas. Pass observed=False to retain current behavior or observed=True to adopt the future default and silence this warning.\n",
      "  df = (token_table\n",
      "/var/folders/2x/rfhzgyjn2zq2wlzk_kn4th680000gn/T/ipykernel_9410/2342058334.py:9: FutureWarning: The default of observed=False is deprecated and will be changed to True in a future version of pandas. Pass observed=False to retain current behavior or observed=True to adopt the future default and silence this warning.\n",
      "  pd.concat(\n",
      "/var/folders/2x/rfhzgyjn2zq2wlzk_kn4th680000gn/T/ipykernel_9410/2342058334.py:19: FutureWarning: The default of observed=False is deprecated and will be changed to True in a future version of pandas. Pass observed=False to retain current behavior or observed=True to adopt the future default and silence this warning.\n",
      "  pd.concat(\n"
     ]
    },
    {
     "name": "stdout",
     "output_type": "stream",
     "text": [
      "7019\n",
      "7020\n",
      "7021\n"
     ]
    },
    {
     "name": "stderr",
     "output_type": "stream",
     "text": [
      "/var/folders/2x/rfhzgyjn2zq2wlzk_kn4th680000gn/T/ipykernel_9410/2342058334.py:2: FutureWarning: The default of observed=False is deprecated and will be changed to True in a future version of pandas. Pass observed=False to retain current behavior or observed=True to adopt the future default and silence this warning.\n",
      "  df = (token_table\n",
      "/var/folders/2x/rfhzgyjn2zq2wlzk_kn4th680000gn/T/ipykernel_9410/2342058334.py:9: FutureWarning: The default of observed=False is deprecated and will be changed to True in a future version of pandas. Pass observed=False to retain current behavior or observed=True to adopt the future default and silence this warning.\n",
      "  pd.concat(\n",
      "/var/folders/2x/rfhzgyjn2zq2wlzk_kn4th680000gn/T/ipykernel_9410/2342058334.py:19: FutureWarning: The default of observed=False is deprecated and will be changed to True in a future version of pandas. Pass observed=False to retain current behavior or observed=True to adopt the future default and silence this warning.\n",
      "  pd.concat(\n",
      "/var/folders/2x/rfhzgyjn2zq2wlzk_kn4th680000gn/T/ipykernel_9410/2342058334.py:2: FutureWarning: The default of observed=False is deprecated and will be changed to True in a future version of pandas. Pass observed=False to retain current behavior or observed=True to adopt the future default and silence this warning.\n",
      "  df = (token_table\n",
      "/var/folders/2x/rfhzgyjn2zq2wlzk_kn4th680000gn/T/ipykernel_9410/2342058334.py:9: FutureWarning: The default of observed=False is deprecated and will be changed to True in a future version of pandas. Pass observed=False to retain current behavior or observed=True to adopt the future default and silence this warning.\n",
      "  pd.concat(\n",
      "/var/folders/2x/rfhzgyjn2zq2wlzk_kn4th680000gn/T/ipykernel_9410/2342058334.py:19: FutureWarning: The default of observed=False is deprecated and will be changed to True in a future version of pandas. Pass observed=False to retain current behavior or observed=True to adopt the future default and silence this warning.\n",
      "  pd.concat(\n",
      "/var/folders/2x/rfhzgyjn2zq2wlzk_kn4th680000gn/T/ipykernel_9410/2342058334.py:2: FutureWarning: The default of observed=False is deprecated and will be changed to True in a future version of pandas. Pass observed=False to retain current behavior or observed=True to adopt the future default and silence this warning.\n",
      "  df = (token_table\n",
      "/var/folders/2x/rfhzgyjn2zq2wlzk_kn4th680000gn/T/ipykernel_9410/2342058334.py:9: FutureWarning: The default of observed=False is deprecated and will be changed to True in a future version of pandas. Pass observed=False to retain current behavior or observed=True to adopt the future default and silence this warning.\n",
      "  pd.concat(\n",
      "/var/folders/2x/rfhzgyjn2zq2wlzk_kn4th680000gn/T/ipykernel_9410/2342058334.py:19: FutureWarning: The default of observed=False is deprecated and will be changed to True in a future version of pandas. Pass observed=False to retain current behavior or observed=True to adopt the future default and silence this warning.\n",
      "  pd.concat(\n"
     ]
    },
    {
     "name": "stdout",
     "output_type": "stream",
     "text": [
      "7022\n",
      "7023\n",
      "7024\n"
     ]
    },
    {
     "name": "stderr",
     "output_type": "stream",
     "text": [
      "/var/folders/2x/rfhzgyjn2zq2wlzk_kn4th680000gn/T/ipykernel_9410/2342058334.py:2: FutureWarning: The default of observed=False is deprecated and will be changed to True in a future version of pandas. Pass observed=False to retain current behavior or observed=True to adopt the future default and silence this warning.\n",
      "  df = (token_table\n",
      "/var/folders/2x/rfhzgyjn2zq2wlzk_kn4th680000gn/T/ipykernel_9410/2342058334.py:9: FutureWarning: The default of observed=False is deprecated and will be changed to True in a future version of pandas. Pass observed=False to retain current behavior or observed=True to adopt the future default and silence this warning.\n",
      "  pd.concat(\n",
      "/var/folders/2x/rfhzgyjn2zq2wlzk_kn4th680000gn/T/ipykernel_9410/2342058334.py:19: FutureWarning: The default of observed=False is deprecated and will be changed to True in a future version of pandas. Pass observed=False to retain current behavior or observed=True to adopt the future default and silence this warning.\n",
      "  pd.concat(\n",
      "/var/folders/2x/rfhzgyjn2zq2wlzk_kn4th680000gn/T/ipykernel_9410/2342058334.py:2: FutureWarning: The default of observed=False is deprecated and will be changed to True in a future version of pandas. Pass observed=False to retain current behavior or observed=True to adopt the future default and silence this warning.\n",
      "  df = (token_table\n",
      "/var/folders/2x/rfhzgyjn2zq2wlzk_kn4th680000gn/T/ipykernel_9410/2342058334.py:9: FutureWarning: The default of observed=False is deprecated and will be changed to True in a future version of pandas. Pass observed=False to retain current behavior or observed=True to adopt the future default and silence this warning.\n",
      "  pd.concat(\n",
      "/var/folders/2x/rfhzgyjn2zq2wlzk_kn4th680000gn/T/ipykernel_9410/2342058334.py:19: FutureWarning: The default of observed=False is deprecated and will be changed to True in a future version of pandas. Pass observed=False to retain current behavior or observed=True to adopt the future default and silence this warning.\n",
      "  pd.concat(\n",
      "/var/folders/2x/rfhzgyjn2zq2wlzk_kn4th680000gn/T/ipykernel_9410/2342058334.py:2: FutureWarning: The default of observed=False is deprecated and will be changed to True in a future version of pandas. Pass observed=False to retain current behavior or observed=True to adopt the future default and silence this warning.\n",
      "  df = (token_table\n",
      "/var/folders/2x/rfhzgyjn2zq2wlzk_kn4th680000gn/T/ipykernel_9410/2342058334.py:9: FutureWarning: The default of observed=False is deprecated and will be changed to True in a future version of pandas. Pass observed=False to retain current behavior or observed=True to adopt the future default and silence this warning.\n",
      "  pd.concat(\n",
      "/var/folders/2x/rfhzgyjn2zq2wlzk_kn4th680000gn/T/ipykernel_9410/2342058334.py:19: FutureWarning: The default of observed=False is deprecated and will be changed to True in a future version of pandas. Pass observed=False to retain current behavior or observed=True to adopt the future default and silence this warning.\n",
      "  pd.concat(\n",
      "/var/folders/2x/rfhzgyjn2zq2wlzk_kn4th680000gn/T/ipykernel_9410/2342058334.py:2: FutureWarning: The default of observed=False is deprecated and will be changed to True in a future version of pandas. Pass observed=False to retain current behavior or observed=True to adopt the future default and silence this warning.\n",
      "  df = (token_table\n",
      "/var/folders/2x/rfhzgyjn2zq2wlzk_kn4th680000gn/T/ipykernel_9410/2342058334.py:9: FutureWarning: The default of observed=False is deprecated and will be changed to True in a future version of pandas. Pass observed=False to retain current behavior or observed=True to adopt the future default and silence this warning.\n",
      "  pd.concat(\n"
     ]
    },
    {
     "name": "stdout",
     "output_type": "stream",
     "text": [
      "7025\n",
      "7026\n",
      "7027\n",
      "7028\n"
     ]
    },
    {
     "name": "stderr",
     "output_type": "stream",
     "text": [
      "/var/folders/2x/rfhzgyjn2zq2wlzk_kn4th680000gn/T/ipykernel_9410/2342058334.py:19: FutureWarning: The default of observed=False is deprecated and will be changed to True in a future version of pandas. Pass observed=False to retain current behavior or observed=True to adopt the future default and silence this warning.\n",
      "  pd.concat(\n",
      "/var/folders/2x/rfhzgyjn2zq2wlzk_kn4th680000gn/T/ipykernel_9410/2342058334.py:2: FutureWarning: The default of observed=False is deprecated and will be changed to True in a future version of pandas. Pass observed=False to retain current behavior or observed=True to adopt the future default and silence this warning.\n",
      "  df = (token_table\n",
      "/var/folders/2x/rfhzgyjn2zq2wlzk_kn4th680000gn/T/ipykernel_9410/2342058334.py:9: FutureWarning: The default of observed=False is deprecated and will be changed to True in a future version of pandas. Pass observed=False to retain current behavior or observed=True to adopt the future default and silence this warning.\n",
      "  pd.concat(\n",
      "/var/folders/2x/rfhzgyjn2zq2wlzk_kn4th680000gn/T/ipykernel_9410/2342058334.py:19: FutureWarning: The default of observed=False is deprecated and will be changed to True in a future version of pandas. Pass observed=False to retain current behavior or observed=True to adopt the future default and silence this warning.\n",
      "  pd.concat(\n",
      "/var/folders/2x/rfhzgyjn2zq2wlzk_kn4th680000gn/T/ipykernel_9410/2342058334.py:2: FutureWarning: The default of observed=False is deprecated and will be changed to True in a future version of pandas. Pass observed=False to retain current behavior or observed=True to adopt the future default and silence this warning.\n",
      "  df = (token_table\n",
      "/var/folders/2x/rfhzgyjn2zq2wlzk_kn4th680000gn/T/ipykernel_9410/2342058334.py:9: FutureWarning: The default of observed=False is deprecated and will be changed to True in a future version of pandas. Pass observed=False to retain current behavior or observed=True to adopt the future default and silence this warning.\n",
      "  pd.concat(\n",
      "/var/folders/2x/rfhzgyjn2zq2wlzk_kn4th680000gn/T/ipykernel_9410/2342058334.py:19: FutureWarning: The default of observed=False is deprecated and will be changed to True in a future version of pandas. Pass observed=False to retain current behavior or observed=True to adopt the future default and silence this warning.\n",
      "  pd.concat(\n",
      "/var/folders/2x/rfhzgyjn2zq2wlzk_kn4th680000gn/T/ipykernel_9410/2342058334.py:2: FutureWarning: The default of observed=False is deprecated and will be changed to True in a future version of pandas. Pass observed=False to retain current behavior or observed=True to adopt the future default and silence this warning.\n",
      "  df = (token_table\n",
      "/var/folders/2x/rfhzgyjn2zq2wlzk_kn4th680000gn/T/ipykernel_9410/2342058334.py:9: FutureWarning: The default of observed=False is deprecated and will be changed to True in a future version of pandas. Pass observed=False to retain current behavior or observed=True to adopt the future default and silence this warning.\n",
      "  pd.concat(\n",
      "/var/folders/2x/rfhzgyjn2zq2wlzk_kn4th680000gn/T/ipykernel_9410/2342058334.py:19: FutureWarning: The default of observed=False is deprecated and will be changed to True in a future version of pandas. Pass observed=False to retain current behavior or observed=True to adopt the future default and silence this warning.\n",
      "  pd.concat(\n"
     ]
    },
    {
     "name": "stdout",
     "output_type": "stream",
     "text": [
      "7029\n",
      "7030\n",
      "7031\n",
      "7032\n"
     ]
    },
    {
     "name": "stderr",
     "output_type": "stream",
     "text": [
      "/var/folders/2x/rfhzgyjn2zq2wlzk_kn4th680000gn/T/ipykernel_9410/2342058334.py:2: FutureWarning: The default of observed=False is deprecated and will be changed to True in a future version of pandas. Pass observed=False to retain current behavior or observed=True to adopt the future default and silence this warning.\n",
      "  df = (token_table\n",
      "/var/folders/2x/rfhzgyjn2zq2wlzk_kn4th680000gn/T/ipykernel_9410/2342058334.py:9: FutureWarning: The default of observed=False is deprecated and will be changed to True in a future version of pandas. Pass observed=False to retain current behavior or observed=True to adopt the future default and silence this warning.\n",
      "  pd.concat(\n",
      "/var/folders/2x/rfhzgyjn2zq2wlzk_kn4th680000gn/T/ipykernel_9410/2342058334.py:19: FutureWarning: The default of observed=False is deprecated and will be changed to True in a future version of pandas. Pass observed=False to retain current behavior or observed=True to adopt the future default and silence this warning.\n",
      "  pd.concat(\n",
      "/var/folders/2x/rfhzgyjn2zq2wlzk_kn4th680000gn/T/ipykernel_9410/2342058334.py:2: FutureWarning: The default of observed=False is deprecated and will be changed to True in a future version of pandas. Pass observed=False to retain current behavior or observed=True to adopt the future default and silence this warning.\n",
      "  df = (token_table\n",
      "/var/folders/2x/rfhzgyjn2zq2wlzk_kn4th680000gn/T/ipykernel_9410/2342058334.py:9: FutureWarning: The default of observed=False is deprecated and will be changed to True in a future version of pandas. Pass observed=False to retain current behavior or observed=True to adopt the future default and silence this warning.\n",
      "  pd.concat(\n",
      "/var/folders/2x/rfhzgyjn2zq2wlzk_kn4th680000gn/T/ipykernel_9410/2342058334.py:19: FutureWarning: The default of observed=False is deprecated and will be changed to True in a future version of pandas. Pass observed=False to retain current behavior or observed=True to adopt the future default and silence this warning.\n",
      "  pd.concat(\n",
      "/var/folders/2x/rfhzgyjn2zq2wlzk_kn4th680000gn/T/ipykernel_9410/2342058334.py:2: FutureWarning: The default of observed=False is deprecated and will be changed to True in a future version of pandas. Pass observed=False to retain current behavior or observed=True to adopt the future default and silence this warning.\n",
      "  df = (token_table\n",
      "/var/folders/2x/rfhzgyjn2zq2wlzk_kn4th680000gn/T/ipykernel_9410/2342058334.py:9: FutureWarning: The default of observed=False is deprecated and will be changed to True in a future version of pandas. Pass observed=False to retain current behavior or observed=True to adopt the future default and silence this warning.\n",
      "  pd.concat(\n",
      "/var/folders/2x/rfhzgyjn2zq2wlzk_kn4th680000gn/T/ipykernel_9410/2342058334.py:19: FutureWarning: The default of observed=False is deprecated and will be changed to True in a future version of pandas. Pass observed=False to retain current behavior or observed=True to adopt the future default and silence this warning.\n",
      "  pd.concat(\n",
      "/var/folders/2x/rfhzgyjn2zq2wlzk_kn4th680000gn/T/ipykernel_9410/2342058334.py:2: FutureWarning: The default of observed=False is deprecated and will be changed to True in a future version of pandas. Pass observed=False to retain current behavior or observed=True to adopt the future default and silence this warning.\n",
      "  df = (token_table\n",
      "/var/folders/2x/rfhzgyjn2zq2wlzk_kn4th680000gn/T/ipykernel_9410/2342058334.py:9: FutureWarning: The default of observed=False is deprecated and will be changed to True in a future version of pandas. Pass observed=False to retain current behavior or observed=True to adopt the future default and silence this warning.\n",
      "  pd.concat(\n"
     ]
    },
    {
     "name": "stdout",
     "output_type": "stream",
     "text": [
      "7033\n",
      "7034\n",
      "7035\n",
      "7036\n"
     ]
    },
    {
     "name": "stderr",
     "output_type": "stream",
     "text": [
      "/var/folders/2x/rfhzgyjn2zq2wlzk_kn4th680000gn/T/ipykernel_9410/2342058334.py:19: FutureWarning: The default of observed=False is deprecated and will be changed to True in a future version of pandas. Pass observed=False to retain current behavior or observed=True to adopt the future default and silence this warning.\n",
      "  pd.concat(\n",
      "/var/folders/2x/rfhzgyjn2zq2wlzk_kn4th680000gn/T/ipykernel_9410/2342058334.py:2: FutureWarning: The default of observed=False is deprecated and will be changed to True in a future version of pandas. Pass observed=False to retain current behavior or observed=True to adopt the future default and silence this warning.\n",
      "  df = (token_table\n",
      "/var/folders/2x/rfhzgyjn2zq2wlzk_kn4th680000gn/T/ipykernel_9410/2342058334.py:9: FutureWarning: The default of observed=False is deprecated and will be changed to True in a future version of pandas. Pass observed=False to retain current behavior or observed=True to adopt the future default and silence this warning.\n",
      "  pd.concat(\n",
      "/var/folders/2x/rfhzgyjn2zq2wlzk_kn4th680000gn/T/ipykernel_9410/2342058334.py:19: FutureWarning: The default of observed=False is deprecated and will be changed to True in a future version of pandas. Pass observed=False to retain current behavior or observed=True to adopt the future default and silence this warning.\n",
      "  pd.concat(\n",
      "/var/folders/2x/rfhzgyjn2zq2wlzk_kn4th680000gn/T/ipykernel_9410/2342058334.py:2: FutureWarning: The default of observed=False is deprecated and will be changed to True in a future version of pandas. Pass observed=False to retain current behavior or observed=True to adopt the future default and silence this warning.\n",
      "  df = (token_table\n",
      "/var/folders/2x/rfhzgyjn2zq2wlzk_kn4th680000gn/T/ipykernel_9410/2342058334.py:9: FutureWarning: The default of observed=False is deprecated and will be changed to True in a future version of pandas. Pass observed=False to retain current behavior or observed=True to adopt the future default and silence this warning.\n",
      "  pd.concat(\n",
      "/var/folders/2x/rfhzgyjn2zq2wlzk_kn4th680000gn/T/ipykernel_9410/2342058334.py:19: FutureWarning: The default of observed=False is deprecated and will be changed to True in a future version of pandas. Pass observed=False to retain current behavior or observed=True to adopt the future default and silence this warning.\n",
      "  pd.concat(\n",
      "/var/folders/2x/rfhzgyjn2zq2wlzk_kn4th680000gn/T/ipykernel_9410/2342058334.py:2: FutureWarning: The default of observed=False is deprecated and will be changed to True in a future version of pandas. Pass observed=False to retain current behavior or observed=True to adopt the future default and silence this warning.\n",
      "  df = (token_table\n",
      "/var/folders/2x/rfhzgyjn2zq2wlzk_kn4th680000gn/T/ipykernel_9410/2342058334.py:9: FutureWarning: The default of observed=False is deprecated and will be changed to True in a future version of pandas. Pass observed=False to retain current behavior or observed=True to adopt the future default and silence this warning.\n",
      "  pd.concat(\n",
      "/var/folders/2x/rfhzgyjn2zq2wlzk_kn4th680000gn/T/ipykernel_9410/2342058334.py:19: FutureWarning: The default of observed=False is deprecated and will be changed to True in a future version of pandas. Pass observed=False to retain current behavior or observed=True to adopt the future default and silence this warning.\n",
      "  pd.concat(\n",
      "/var/folders/2x/rfhzgyjn2zq2wlzk_kn4th680000gn/T/ipykernel_9410/2342058334.py:2: FutureWarning: The default of observed=False is deprecated and will be changed to True in a future version of pandas. Pass observed=False to retain current behavior or observed=True to adopt the future default and silence this warning.\n",
      "  df = (token_table\n"
     ]
    },
    {
     "name": "stdout",
     "output_type": "stream",
     "text": [
      "7037\n",
      "7038\n",
      "7039\n",
      "7040\n"
     ]
    },
    {
     "name": "stderr",
     "output_type": "stream",
     "text": [
      "/var/folders/2x/rfhzgyjn2zq2wlzk_kn4th680000gn/T/ipykernel_9410/2342058334.py:9: FutureWarning: The default of observed=False is deprecated and will be changed to True in a future version of pandas. Pass observed=False to retain current behavior or observed=True to adopt the future default and silence this warning.\n",
      "  pd.concat(\n",
      "/var/folders/2x/rfhzgyjn2zq2wlzk_kn4th680000gn/T/ipykernel_9410/2342058334.py:19: FutureWarning: The default of observed=False is deprecated and will be changed to True in a future version of pandas. Pass observed=False to retain current behavior or observed=True to adopt the future default and silence this warning.\n",
      "  pd.concat(\n",
      "/var/folders/2x/rfhzgyjn2zq2wlzk_kn4th680000gn/T/ipykernel_9410/2342058334.py:2: FutureWarning: The default of observed=False is deprecated and will be changed to True in a future version of pandas. Pass observed=False to retain current behavior or observed=True to adopt the future default and silence this warning.\n",
      "  df = (token_table\n",
      "/var/folders/2x/rfhzgyjn2zq2wlzk_kn4th680000gn/T/ipykernel_9410/2342058334.py:9: FutureWarning: The default of observed=False is deprecated and will be changed to True in a future version of pandas. Pass observed=False to retain current behavior or observed=True to adopt the future default and silence this warning.\n",
      "  pd.concat(\n",
      "/var/folders/2x/rfhzgyjn2zq2wlzk_kn4th680000gn/T/ipykernel_9410/2342058334.py:19: FutureWarning: The default of observed=False is deprecated and will be changed to True in a future version of pandas. Pass observed=False to retain current behavior or observed=True to adopt the future default and silence this warning.\n",
      "  pd.concat(\n",
      "/var/folders/2x/rfhzgyjn2zq2wlzk_kn4th680000gn/T/ipykernel_9410/2342058334.py:2: FutureWarning: The default of observed=False is deprecated and will be changed to True in a future version of pandas. Pass observed=False to retain current behavior or observed=True to adopt the future default and silence this warning.\n",
      "  df = (token_table\n",
      "/var/folders/2x/rfhzgyjn2zq2wlzk_kn4th680000gn/T/ipykernel_9410/2342058334.py:9: FutureWarning: The default of observed=False is deprecated and will be changed to True in a future version of pandas. Pass observed=False to retain current behavior or observed=True to adopt the future default and silence this warning.\n",
      "  pd.concat(\n",
      "/var/folders/2x/rfhzgyjn2zq2wlzk_kn4th680000gn/T/ipykernel_9410/2342058334.py:19: FutureWarning: The default of observed=False is deprecated and will be changed to True in a future version of pandas. Pass observed=False to retain current behavior or observed=True to adopt the future default and silence this warning.\n",
      "  pd.concat(\n"
     ]
    },
    {
     "name": "stdout",
     "output_type": "stream",
     "text": [
      "7041\n",
      "7042\n",
      "7043\n"
     ]
    },
    {
     "name": "stderr",
     "output_type": "stream",
     "text": [
      "/var/folders/2x/rfhzgyjn2zq2wlzk_kn4th680000gn/T/ipykernel_9410/2342058334.py:2: FutureWarning: The default of observed=False is deprecated and will be changed to True in a future version of pandas. Pass observed=False to retain current behavior or observed=True to adopt the future default and silence this warning.\n",
      "  df = (token_table\n",
      "/var/folders/2x/rfhzgyjn2zq2wlzk_kn4th680000gn/T/ipykernel_9410/2342058334.py:9: FutureWarning: The default of observed=False is deprecated and will be changed to True in a future version of pandas. Pass observed=False to retain current behavior or observed=True to adopt the future default and silence this warning.\n",
      "  pd.concat(\n",
      "/var/folders/2x/rfhzgyjn2zq2wlzk_kn4th680000gn/T/ipykernel_9410/2342058334.py:19: FutureWarning: The default of observed=False is deprecated and will be changed to True in a future version of pandas. Pass observed=False to retain current behavior or observed=True to adopt the future default and silence this warning.\n",
      "  pd.concat(\n",
      "/var/folders/2x/rfhzgyjn2zq2wlzk_kn4th680000gn/T/ipykernel_9410/2342058334.py:2: FutureWarning: The default of observed=False is deprecated and will be changed to True in a future version of pandas. Pass observed=False to retain current behavior or observed=True to adopt the future default and silence this warning.\n",
      "  df = (token_table\n",
      "/var/folders/2x/rfhzgyjn2zq2wlzk_kn4th680000gn/T/ipykernel_9410/2342058334.py:9: FutureWarning: The default of observed=False is deprecated and will be changed to True in a future version of pandas. Pass observed=False to retain current behavior or observed=True to adopt the future default and silence this warning.\n",
      "  pd.concat(\n",
      "/var/folders/2x/rfhzgyjn2zq2wlzk_kn4th680000gn/T/ipykernel_9410/2342058334.py:19: FutureWarning: The default of observed=False is deprecated and will be changed to True in a future version of pandas. Pass observed=False to retain current behavior or observed=True to adopt the future default and silence this warning.\n",
      "  pd.concat(\n",
      "/var/folders/2x/rfhzgyjn2zq2wlzk_kn4th680000gn/T/ipykernel_9410/2342058334.py:2: FutureWarning: The default of observed=False is deprecated and will be changed to True in a future version of pandas. Pass observed=False to retain current behavior or observed=True to adopt the future default and silence this warning.\n",
      "  df = (token_table\n",
      "/var/folders/2x/rfhzgyjn2zq2wlzk_kn4th680000gn/T/ipykernel_9410/2342058334.py:9: FutureWarning: The default of observed=False is deprecated and will be changed to True in a future version of pandas. Pass observed=False to retain current behavior or observed=True to adopt the future default and silence this warning.\n",
      "  pd.concat(\n",
      "/var/folders/2x/rfhzgyjn2zq2wlzk_kn4th680000gn/T/ipykernel_9410/2342058334.py:19: FutureWarning: The default of observed=False is deprecated and will be changed to True in a future version of pandas. Pass observed=False to retain current behavior or observed=True to adopt the future default and silence this warning.\n",
      "  pd.concat(\n",
      "/var/folders/2x/rfhzgyjn2zq2wlzk_kn4th680000gn/T/ipykernel_9410/2342058334.py:2: FutureWarning: The default of observed=False is deprecated and will be changed to True in a future version of pandas. Pass observed=False to retain current behavior or observed=True to adopt the future default and silence this warning.\n",
      "  df = (token_table\n"
     ]
    },
    {
     "name": "stdout",
     "output_type": "stream",
     "text": [
      "7044\n",
      "7045\n",
      "7046\n",
      "7047\n"
     ]
    },
    {
     "name": "stderr",
     "output_type": "stream",
     "text": [
      "/var/folders/2x/rfhzgyjn2zq2wlzk_kn4th680000gn/T/ipykernel_9410/2342058334.py:9: FutureWarning: The default of observed=False is deprecated and will be changed to True in a future version of pandas. Pass observed=False to retain current behavior or observed=True to adopt the future default and silence this warning.\n",
      "  pd.concat(\n",
      "/var/folders/2x/rfhzgyjn2zq2wlzk_kn4th680000gn/T/ipykernel_9410/2342058334.py:19: FutureWarning: The default of observed=False is deprecated and will be changed to True in a future version of pandas. Pass observed=False to retain current behavior or observed=True to adopt the future default and silence this warning.\n",
      "  pd.concat(\n",
      "/var/folders/2x/rfhzgyjn2zq2wlzk_kn4th680000gn/T/ipykernel_9410/2342058334.py:2: FutureWarning: The default of observed=False is deprecated and will be changed to True in a future version of pandas. Pass observed=False to retain current behavior or observed=True to adopt the future default and silence this warning.\n",
      "  df = (token_table\n",
      "/var/folders/2x/rfhzgyjn2zq2wlzk_kn4th680000gn/T/ipykernel_9410/2342058334.py:9: FutureWarning: The default of observed=False is deprecated and will be changed to True in a future version of pandas. Pass observed=False to retain current behavior or observed=True to adopt the future default and silence this warning.\n",
      "  pd.concat(\n",
      "/var/folders/2x/rfhzgyjn2zq2wlzk_kn4th680000gn/T/ipykernel_9410/2342058334.py:19: FutureWarning: The default of observed=False is deprecated and will be changed to True in a future version of pandas. Pass observed=False to retain current behavior or observed=True to adopt the future default and silence this warning.\n",
      "  pd.concat(\n",
      "/var/folders/2x/rfhzgyjn2zq2wlzk_kn4th680000gn/T/ipykernel_9410/2342058334.py:2: FutureWarning: The default of observed=False is deprecated and will be changed to True in a future version of pandas. Pass observed=False to retain current behavior or observed=True to adopt the future default and silence this warning.\n",
      "  df = (token_table\n",
      "/var/folders/2x/rfhzgyjn2zq2wlzk_kn4th680000gn/T/ipykernel_9410/2342058334.py:9: FutureWarning: The default of observed=False is deprecated and will be changed to True in a future version of pandas. Pass observed=False to retain current behavior or observed=True to adopt the future default and silence this warning.\n",
      "  pd.concat(\n",
      "/var/folders/2x/rfhzgyjn2zq2wlzk_kn4th680000gn/T/ipykernel_9410/2342058334.py:19: FutureWarning: The default of observed=False is deprecated and will be changed to True in a future version of pandas. Pass observed=False to retain current behavior or observed=True to adopt the future default and silence this warning.\n",
      "  pd.concat(\n",
      "/var/folders/2x/rfhzgyjn2zq2wlzk_kn4th680000gn/T/ipykernel_9410/2342058334.py:2: FutureWarning: The default of observed=False is deprecated and will be changed to True in a future version of pandas. Pass observed=False to retain current behavior or observed=True to adopt the future default and silence this warning.\n",
      "  df = (token_table\n",
      "/var/folders/2x/rfhzgyjn2zq2wlzk_kn4th680000gn/T/ipykernel_9410/2342058334.py:9: FutureWarning: The default of observed=False is deprecated and will be changed to True in a future version of pandas. Pass observed=False to retain current behavior or observed=True to adopt the future default and silence this warning.\n",
      "  pd.concat(\n",
      "/var/folders/2x/rfhzgyjn2zq2wlzk_kn4th680000gn/T/ipykernel_9410/2342058334.py:19: FutureWarning: The default of observed=False is deprecated and will be changed to True in a future version of pandas. Pass observed=False to retain current behavior or observed=True to adopt the future default and silence this warning.\n",
      "  pd.concat(\n",
      "/var/folders/2x/rfhzgyjn2zq2wlzk_kn4th680000gn/T/ipykernel_9410/2342058334.py:2: FutureWarning: The default of observed=False is deprecated and will be changed to True in a future version of pandas. Pass observed=False to retain current behavior or observed=True to adopt the future default and silence this warning.\n",
      "  df = (token_table\n"
     ]
    },
    {
     "name": "stdout",
     "output_type": "stream",
     "text": [
      "7048\n",
      "7049\n",
      "7050\n",
      "7051\n"
     ]
    },
    {
     "name": "stderr",
     "output_type": "stream",
     "text": [
      "/var/folders/2x/rfhzgyjn2zq2wlzk_kn4th680000gn/T/ipykernel_9410/2342058334.py:9: FutureWarning: The default of observed=False is deprecated and will be changed to True in a future version of pandas. Pass observed=False to retain current behavior or observed=True to adopt the future default and silence this warning.\n",
      "  pd.concat(\n",
      "/var/folders/2x/rfhzgyjn2zq2wlzk_kn4th680000gn/T/ipykernel_9410/2342058334.py:19: FutureWarning: The default of observed=False is deprecated and will be changed to True in a future version of pandas. Pass observed=False to retain current behavior or observed=True to adopt the future default and silence this warning.\n",
      "  pd.concat(\n",
      "/var/folders/2x/rfhzgyjn2zq2wlzk_kn4th680000gn/T/ipykernel_9410/2342058334.py:2: FutureWarning: The default of observed=False is deprecated and will be changed to True in a future version of pandas. Pass observed=False to retain current behavior or observed=True to adopt the future default and silence this warning.\n",
      "  df = (token_table\n",
      "/var/folders/2x/rfhzgyjn2zq2wlzk_kn4th680000gn/T/ipykernel_9410/2342058334.py:9: FutureWarning: The default of observed=False is deprecated and will be changed to True in a future version of pandas. Pass observed=False to retain current behavior or observed=True to adopt the future default and silence this warning.\n",
      "  pd.concat(\n",
      "/var/folders/2x/rfhzgyjn2zq2wlzk_kn4th680000gn/T/ipykernel_9410/2342058334.py:19: FutureWarning: The default of observed=False is deprecated and will be changed to True in a future version of pandas. Pass observed=False to retain current behavior or observed=True to adopt the future default and silence this warning.\n",
      "  pd.concat(\n",
      "/var/folders/2x/rfhzgyjn2zq2wlzk_kn4th680000gn/T/ipykernel_9410/2342058334.py:2: FutureWarning: The default of observed=False is deprecated and will be changed to True in a future version of pandas. Pass observed=False to retain current behavior or observed=True to adopt the future default and silence this warning.\n",
      "  df = (token_table\n",
      "/var/folders/2x/rfhzgyjn2zq2wlzk_kn4th680000gn/T/ipykernel_9410/2342058334.py:9: FutureWarning: The default of observed=False is deprecated and will be changed to True in a future version of pandas. Pass observed=False to retain current behavior or observed=True to adopt the future default and silence this warning.\n",
      "  pd.concat(\n",
      "/var/folders/2x/rfhzgyjn2zq2wlzk_kn4th680000gn/T/ipykernel_9410/2342058334.py:19: FutureWarning: The default of observed=False is deprecated and will be changed to True in a future version of pandas. Pass observed=False to retain current behavior or observed=True to adopt the future default and silence this warning.\n",
      "  pd.concat(\n",
      "/var/folders/2x/rfhzgyjn2zq2wlzk_kn4th680000gn/T/ipykernel_9410/2342058334.py:2: FutureWarning: The default of observed=False is deprecated and will be changed to True in a future version of pandas. Pass observed=False to retain current behavior or observed=True to adopt the future default and silence this warning.\n",
      "  df = (token_table\n",
      "/var/folders/2x/rfhzgyjn2zq2wlzk_kn4th680000gn/T/ipykernel_9410/2342058334.py:9: FutureWarning: The default of observed=False is deprecated and will be changed to True in a future version of pandas. Pass observed=False to retain current behavior or observed=True to adopt the future default and silence this warning.\n",
      "  pd.concat(\n",
      "/var/folders/2x/rfhzgyjn2zq2wlzk_kn4th680000gn/T/ipykernel_9410/2342058334.py:19: FutureWarning: The default of observed=False is deprecated and will be changed to True in a future version of pandas. Pass observed=False to retain current behavior or observed=True to adopt the future default and silence this warning.\n",
      "  pd.concat(\n"
     ]
    },
    {
     "name": "stdout",
     "output_type": "stream",
     "text": [
      "7052\n",
      "7053\n",
      "7054\n",
      "7055\n"
     ]
    },
    {
     "name": "stderr",
     "output_type": "stream",
     "text": [
      "/var/folders/2x/rfhzgyjn2zq2wlzk_kn4th680000gn/T/ipykernel_9410/2342058334.py:2: FutureWarning: The default of observed=False is deprecated and will be changed to True in a future version of pandas. Pass observed=False to retain current behavior or observed=True to adopt the future default and silence this warning.\n",
      "  df = (token_table\n",
      "/var/folders/2x/rfhzgyjn2zq2wlzk_kn4th680000gn/T/ipykernel_9410/2342058334.py:9: FutureWarning: The default of observed=False is deprecated and will be changed to True in a future version of pandas. Pass observed=False to retain current behavior or observed=True to adopt the future default and silence this warning.\n",
      "  pd.concat(\n",
      "/var/folders/2x/rfhzgyjn2zq2wlzk_kn4th680000gn/T/ipykernel_9410/2342058334.py:19: FutureWarning: The default of observed=False is deprecated and will be changed to True in a future version of pandas. Pass observed=False to retain current behavior or observed=True to adopt the future default and silence this warning.\n",
      "  pd.concat(\n",
      "/var/folders/2x/rfhzgyjn2zq2wlzk_kn4th680000gn/T/ipykernel_9410/2342058334.py:2: FutureWarning: The default of observed=False is deprecated and will be changed to True in a future version of pandas. Pass observed=False to retain current behavior or observed=True to adopt the future default and silence this warning.\n",
      "  df = (token_table\n",
      "/var/folders/2x/rfhzgyjn2zq2wlzk_kn4th680000gn/T/ipykernel_9410/2342058334.py:9: FutureWarning: The default of observed=False is deprecated and will be changed to True in a future version of pandas. Pass observed=False to retain current behavior or observed=True to adopt the future default and silence this warning.\n",
      "  pd.concat(\n",
      "/var/folders/2x/rfhzgyjn2zq2wlzk_kn4th680000gn/T/ipykernel_9410/2342058334.py:19: FutureWarning: The default of observed=False is deprecated and will be changed to True in a future version of pandas. Pass observed=False to retain current behavior or observed=True to adopt the future default and silence this warning.\n",
      "  pd.concat(\n",
      "/var/folders/2x/rfhzgyjn2zq2wlzk_kn4th680000gn/T/ipykernel_9410/2342058334.py:2: FutureWarning: The default of observed=False is deprecated and will be changed to True in a future version of pandas. Pass observed=False to retain current behavior or observed=True to adopt the future default and silence this warning.\n",
      "  df = (token_table\n",
      "/var/folders/2x/rfhzgyjn2zq2wlzk_kn4th680000gn/T/ipykernel_9410/2342058334.py:9: FutureWarning: The default of observed=False is deprecated and will be changed to True in a future version of pandas. Pass observed=False to retain current behavior or observed=True to adopt the future default and silence this warning.\n",
      "  pd.concat(\n",
      "/var/folders/2x/rfhzgyjn2zq2wlzk_kn4th680000gn/T/ipykernel_9410/2342058334.py:19: FutureWarning: The default of observed=False is deprecated and will be changed to True in a future version of pandas. Pass observed=False to retain current behavior or observed=True to adopt the future default and silence this warning.\n",
      "  pd.concat(\n",
      "/var/folders/2x/rfhzgyjn2zq2wlzk_kn4th680000gn/T/ipykernel_9410/2342058334.py:2: FutureWarning: The default of observed=False is deprecated and will be changed to True in a future version of pandas. Pass observed=False to retain current behavior or observed=True to adopt the future default and silence this warning.\n",
      "  df = (token_table\n",
      "/var/folders/2x/rfhzgyjn2zq2wlzk_kn4th680000gn/T/ipykernel_9410/2342058334.py:9: FutureWarning: The default of observed=False is deprecated and will be changed to True in a future version of pandas. Pass observed=False to retain current behavior or observed=True to adopt the future default and silence this warning.\n",
      "  pd.concat(\n",
      "/var/folders/2x/rfhzgyjn2zq2wlzk_kn4th680000gn/T/ipykernel_9410/2342058334.py:19: FutureWarning: The default of observed=False is deprecated and will be changed to True in a future version of pandas. Pass observed=False to retain current behavior or observed=True to adopt the future default and silence this warning.\n",
      "  pd.concat(\n",
      "/var/folders/2x/rfhzgyjn2zq2wlzk_kn4th680000gn/T/ipykernel_9410/2342058334.py:2: FutureWarning: The default of observed=False is deprecated and will be changed to True in a future version of pandas. Pass observed=False to retain current behavior or observed=True to adopt the future default and silence this warning.\n",
      "  df = (token_table\n"
     ]
    },
    {
     "name": "stdout",
     "output_type": "stream",
     "text": [
      "7056\n",
      "7057\n",
      "7058\n",
      "7059\n"
     ]
    },
    {
     "name": "stderr",
     "output_type": "stream",
     "text": [
      "/var/folders/2x/rfhzgyjn2zq2wlzk_kn4th680000gn/T/ipykernel_9410/2342058334.py:9: FutureWarning: The default of observed=False is deprecated and will be changed to True in a future version of pandas. Pass observed=False to retain current behavior or observed=True to adopt the future default and silence this warning.\n",
      "  pd.concat(\n",
      "/var/folders/2x/rfhzgyjn2zq2wlzk_kn4th680000gn/T/ipykernel_9410/2342058334.py:19: FutureWarning: The default of observed=False is deprecated and will be changed to True in a future version of pandas. Pass observed=False to retain current behavior or observed=True to adopt the future default and silence this warning.\n",
      "  pd.concat(\n",
      "/var/folders/2x/rfhzgyjn2zq2wlzk_kn4th680000gn/T/ipykernel_9410/2342058334.py:2: FutureWarning: The default of observed=False is deprecated and will be changed to True in a future version of pandas. Pass observed=False to retain current behavior or observed=True to adopt the future default and silence this warning.\n",
      "  df = (token_table\n",
      "/var/folders/2x/rfhzgyjn2zq2wlzk_kn4th680000gn/T/ipykernel_9410/2342058334.py:9: FutureWarning: The default of observed=False is deprecated and will be changed to True in a future version of pandas. Pass observed=False to retain current behavior or observed=True to adopt the future default and silence this warning.\n",
      "  pd.concat(\n",
      "/var/folders/2x/rfhzgyjn2zq2wlzk_kn4th680000gn/T/ipykernel_9410/2342058334.py:19: FutureWarning: The default of observed=False is deprecated and will be changed to True in a future version of pandas. Pass observed=False to retain current behavior or observed=True to adopt the future default and silence this warning.\n",
      "  pd.concat(\n",
      "/var/folders/2x/rfhzgyjn2zq2wlzk_kn4th680000gn/T/ipykernel_9410/2342058334.py:2: FutureWarning: The default of observed=False is deprecated and will be changed to True in a future version of pandas. Pass observed=False to retain current behavior or observed=True to adopt the future default and silence this warning.\n",
      "  df = (token_table\n",
      "/var/folders/2x/rfhzgyjn2zq2wlzk_kn4th680000gn/T/ipykernel_9410/2342058334.py:9: FutureWarning: The default of observed=False is deprecated and will be changed to True in a future version of pandas. Pass observed=False to retain current behavior or observed=True to adopt the future default and silence this warning.\n",
      "  pd.concat(\n",
      "/var/folders/2x/rfhzgyjn2zq2wlzk_kn4th680000gn/T/ipykernel_9410/2342058334.py:19: FutureWarning: The default of observed=False is deprecated and will be changed to True in a future version of pandas. Pass observed=False to retain current behavior or observed=True to adopt the future default and silence this warning.\n",
      "  pd.concat(\n",
      "/var/folders/2x/rfhzgyjn2zq2wlzk_kn4th680000gn/T/ipykernel_9410/2342058334.py:2: FutureWarning: The default of observed=False is deprecated and will be changed to True in a future version of pandas. Pass observed=False to retain current behavior or observed=True to adopt the future default and silence this warning.\n",
      "  df = (token_table\n",
      "/var/folders/2x/rfhzgyjn2zq2wlzk_kn4th680000gn/T/ipykernel_9410/2342058334.py:9: FutureWarning: The default of observed=False is deprecated and will be changed to True in a future version of pandas. Pass observed=False to retain current behavior or observed=True to adopt the future default and silence this warning.\n",
      "  pd.concat(\n",
      "/var/folders/2x/rfhzgyjn2zq2wlzk_kn4th680000gn/T/ipykernel_9410/2342058334.py:19: FutureWarning: The default of observed=False is deprecated and will be changed to True in a future version of pandas. Pass observed=False to retain current behavior or observed=True to adopt the future default and silence this warning.\n",
      "  pd.concat(\n",
      "/var/folders/2x/rfhzgyjn2zq2wlzk_kn4th680000gn/T/ipykernel_9410/2342058334.py:2: FutureWarning: The default of observed=False is deprecated and will be changed to True in a future version of pandas. Pass observed=False to retain current behavior or observed=True to adopt the future default and silence this warning.\n",
      "  df = (token_table\n",
      "/var/folders/2x/rfhzgyjn2zq2wlzk_kn4th680000gn/T/ipykernel_9410/2342058334.py:9: FutureWarning: The default of observed=False is deprecated and will be changed to True in a future version of pandas. Pass observed=False to retain current behavior or observed=True to adopt the future default and silence this warning.\n",
      "  pd.concat(\n",
      "/var/folders/2x/rfhzgyjn2zq2wlzk_kn4th680000gn/T/ipykernel_9410/2342058334.py:19: FutureWarning: The default of observed=False is deprecated and will be changed to True in a future version of pandas. Pass observed=False to retain current behavior or observed=True to adopt the future default and silence this warning.\n",
      "  pd.concat(\n",
      "/var/folders/2x/rfhzgyjn2zq2wlzk_kn4th680000gn/T/ipykernel_9410/2342058334.py:2: FutureWarning: The default of observed=False is deprecated and will be changed to True in a future version of pandas. Pass observed=False to retain current behavior or observed=True to adopt the future default and silence this warning.\n",
      "  df = (token_table\n",
      "/var/folders/2x/rfhzgyjn2zq2wlzk_kn4th680000gn/T/ipykernel_9410/2342058334.py:9: FutureWarning: The default of observed=False is deprecated and will be changed to True in a future version of pandas. Pass observed=False to retain current behavior or observed=True to adopt the future default and silence this warning.\n",
      "  pd.concat(\n",
      "/var/folders/2x/rfhzgyjn2zq2wlzk_kn4th680000gn/T/ipykernel_9410/2342058334.py:19: FutureWarning: The default of observed=False is deprecated and will be changed to True in a future version of pandas. Pass observed=False to retain current behavior or observed=True to adopt the future default and silence this warning.\n",
      "  pd.concat(\n"
     ]
    },
    {
     "name": "stdout",
     "output_type": "stream",
     "text": [
      "7060\n",
      "7061\n",
      "7062\n"
     ]
    },
    {
     "name": "stderr",
     "output_type": "stream",
     "text": [
      "/var/folders/2x/rfhzgyjn2zq2wlzk_kn4th680000gn/T/ipykernel_9410/2342058334.py:2: FutureWarning: The default of observed=False is deprecated and will be changed to True in a future version of pandas. Pass observed=False to retain current behavior or observed=True to adopt the future default and silence this warning.\n",
      "  df = (token_table\n",
      "/var/folders/2x/rfhzgyjn2zq2wlzk_kn4th680000gn/T/ipykernel_9410/2342058334.py:9: FutureWarning: The default of observed=False is deprecated and will be changed to True in a future version of pandas. Pass observed=False to retain current behavior or observed=True to adopt the future default and silence this warning.\n",
      "  pd.concat(\n",
      "/var/folders/2x/rfhzgyjn2zq2wlzk_kn4th680000gn/T/ipykernel_9410/2342058334.py:19: FutureWarning: The default of observed=False is deprecated and will be changed to True in a future version of pandas. Pass observed=False to retain current behavior or observed=True to adopt the future default and silence this warning.\n",
      "  pd.concat(\n",
      "/var/folders/2x/rfhzgyjn2zq2wlzk_kn4th680000gn/T/ipykernel_9410/2342058334.py:2: FutureWarning: The default of observed=False is deprecated and will be changed to True in a future version of pandas. Pass observed=False to retain current behavior or observed=True to adopt the future default and silence this warning.\n",
      "  df = (token_table\n",
      "/var/folders/2x/rfhzgyjn2zq2wlzk_kn4th680000gn/T/ipykernel_9410/2342058334.py:9: FutureWarning: The default of observed=False is deprecated and will be changed to True in a future version of pandas. Pass observed=False to retain current behavior or observed=True to adopt the future default and silence this warning.\n",
      "  pd.concat(\n",
      "/var/folders/2x/rfhzgyjn2zq2wlzk_kn4th680000gn/T/ipykernel_9410/2342058334.py:19: FutureWarning: The default of observed=False is deprecated and will be changed to True in a future version of pandas. Pass observed=False to retain current behavior or observed=True to adopt the future default and silence this warning.\n",
      "  pd.concat(\n",
      "/var/folders/2x/rfhzgyjn2zq2wlzk_kn4th680000gn/T/ipykernel_9410/2342058334.py:2: FutureWarning: The default of observed=False is deprecated and will be changed to True in a future version of pandas. Pass observed=False to retain current behavior or observed=True to adopt the future default and silence this warning.\n",
      "  df = (token_table\n",
      "/var/folders/2x/rfhzgyjn2zq2wlzk_kn4th680000gn/T/ipykernel_9410/2342058334.py:9: FutureWarning: The default of observed=False is deprecated and will be changed to True in a future version of pandas. Pass observed=False to retain current behavior or observed=True to adopt the future default and silence this warning.\n",
      "  pd.concat(\n",
      "/var/folders/2x/rfhzgyjn2zq2wlzk_kn4th680000gn/T/ipykernel_9410/2342058334.py:19: FutureWarning: The default of observed=False is deprecated and will be changed to True in a future version of pandas. Pass observed=False to retain current behavior or observed=True to adopt the future default and silence this warning.\n",
      "  pd.concat(\n",
      "/var/folders/2x/rfhzgyjn2zq2wlzk_kn4th680000gn/T/ipykernel_9410/2342058334.py:2: FutureWarning: The default of observed=False is deprecated and will be changed to True in a future version of pandas. Pass observed=False to retain current behavior or observed=True to adopt the future default and silence this warning.\n",
      "  df = (token_table\n",
      "/var/folders/2x/rfhzgyjn2zq2wlzk_kn4th680000gn/T/ipykernel_9410/2342058334.py:9: FutureWarning: The default of observed=False is deprecated and will be changed to True in a future version of pandas. Pass observed=False to retain current behavior or observed=True to adopt the future default and silence this warning.\n",
      "  pd.concat(\n",
      "/var/folders/2x/rfhzgyjn2zq2wlzk_kn4th680000gn/T/ipykernel_9410/2342058334.py:19: FutureWarning: The default of observed=False is deprecated and will be changed to True in a future version of pandas. Pass observed=False to retain current behavior or observed=True to adopt the future default and silence this warning.\n",
      "  pd.concat(\n"
     ]
    },
    {
     "name": "stdout",
     "output_type": "stream",
     "text": [
      "7063\n",
      "7064\n",
      "7065\n",
      "7066\n"
     ]
    },
    {
     "name": "stderr",
     "output_type": "stream",
     "text": [
      "/var/folders/2x/rfhzgyjn2zq2wlzk_kn4th680000gn/T/ipykernel_9410/2342058334.py:2: FutureWarning: The default of observed=False is deprecated and will be changed to True in a future version of pandas. Pass observed=False to retain current behavior or observed=True to adopt the future default and silence this warning.\n",
      "  df = (token_table\n",
      "/var/folders/2x/rfhzgyjn2zq2wlzk_kn4th680000gn/T/ipykernel_9410/2342058334.py:9: FutureWarning: The default of observed=False is deprecated and will be changed to True in a future version of pandas. Pass observed=False to retain current behavior or observed=True to adopt the future default and silence this warning.\n",
      "  pd.concat(\n",
      "/var/folders/2x/rfhzgyjn2zq2wlzk_kn4th680000gn/T/ipykernel_9410/2342058334.py:19: FutureWarning: The default of observed=False is deprecated and will be changed to True in a future version of pandas. Pass observed=False to retain current behavior or observed=True to adopt the future default and silence this warning.\n",
      "  pd.concat(\n",
      "/var/folders/2x/rfhzgyjn2zq2wlzk_kn4th680000gn/T/ipykernel_9410/2342058334.py:2: FutureWarning: The default of observed=False is deprecated and will be changed to True in a future version of pandas. Pass observed=False to retain current behavior or observed=True to adopt the future default and silence this warning.\n",
      "  df = (token_table\n",
      "/var/folders/2x/rfhzgyjn2zq2wlzk_kn4th680000gn/T/ipykernel_9410/2342058334.py:9: FutureWarning: The default of observed=False is deprecated and will be changed to True in a future version of pandas. Pass observed=False to retain current behavior or observed=True to adopt the future default and silence this warning.\n",
      "  pd.concat(\n",
      "/var/folders/2x/rfhzgyjn2zq2wlzk_kn4th680000gn/T/ipykernel_9410/2342058334.py:19: FutureWarning: The default of observed=False is deprecated and will be changed to True in a future version of pandas. Pass observed=False to retain current behavior or observed=True to adopt the future default and silence this warning.\n",
      "  pd.concat(\n",
      "/var/folders/2x/rfhzgyjn2zq2wlzk_kn4th680000gn/T/ipykernel_9410/2342058334.py:2: FutureWarning: The default of observed=False is deprecated and will be changed to True in a future version of pandas. Pass observed=False to retain current behavior or observed=True to adopt the future default and silence this warning.\n",
      "  df = (token_table\n"
     ]
    },
    {
     "name": "stdout",
     "output_type": "stream",
     "text": [
      "7067\n",
      "7068\n"
     ]
    },
    {
     "name": "stderr",
     "output_type": "stream",
     "text": [
      "/var/folders/2x/rfhzgyjn2zq2wlzk_kn4th680000gn/T/ipykernel_9410/2342058334.py:9: FutureWarning: The default of observed=False is deprecated and will be changed to True in a future version of pandas. Pass observed=False to retain current behavior or observed=True to adopt the future default and silence this warning.\n",
      "  pd.concat(\n",
      "/var/folders/2x/rfhzgyjn2zq2wlzk_kn4th680000gn/T/ipykernel_9410/2342058334.py:19: FutureWarning: The default of observed=False is deprecated and will be changed to True in a future version of pandas. Pass observed=False to retain current behavior or observed=True to adopt the future default and silence this warning.\n",
      "  pd.concat(\n",
      "/var/folders/2x/rfhzgyjn2zq2wlzk_kn4th680000gn/T/ipykernel_9410/2342058334.py:2: FutureWarning: The default of observed=False is deprecated and will be changed to True in a future version of pandas. Pass observed=False to retain current behavior or observed=True to adopt the future default and silence this warning.\n",
      "  df = (token_table\n",
      "/var/folders/2x/rfhzgyjn2zq2wlzk_kn4th680000gn/T/ipykernel_9410/2342058334.py:9: FutureWarning: The default of observed=False is deprecated and will be changed to True in a future version of pandas. Pass observed=False to retain current behavior or observed=True to adopt the future default and silence this warning.\n",
      "  pd.concat(\n",
      "/var/folders/2x/rfhzgyjn2zq2wlzk_kn4th680000gn/T/ipykernel_9410/2342058334.py:19: FutureWarning: The default of observed=False is deprecated and will be changed to True in a future version of pandas. Pass observed=False to retain current behavior or observed=True to adopt the future default and silence this warning.\n",
      "  pd.concat(\n",
      "/var/folders/2x/rfhzgyjn2zq2wlzk_kn4th680000gn/T/ipykernel_9410/2342058334.py:2: FutureWarning: The default of observed=False is deprecated and will be changed to True in a future version of pandas. Pass observed=False to retain current behavior or observed=True to adopt the future default and silence this warning.\n",
      "  df = (token_table\n",
      "/var/folders/2x/rfhzgyjn2zq2wlzk_kn4th680000gn/T/ipykernel_9410/2342058334.py:9: FutureWarning: The default of observed=False is deprecated and will be changed to True in a future version of pandas. Pass observed=False to retain current behavior or observed=True to adopt the future default and silence this warning.\n",
      "  pd.concat(\n",
      "/var/folders/2x/rfhzgyjn2zq2wlzk_kn4th680000gn/T/ipykernel_9410/2342058334.py:19: FutureWarning: The default of observed=False is deprecated and will be changed to True in a future version of pandas. Pass observed=False to retain current behavior or observed=True to adopt the future default and silence this warning.\n",
      "  pd.concat(\n"
     ]
    },
    {
     "name": "stdout",
     "output_type": "stream",
     "text": [
      "7069\n",
      "7070\n",
      "7071\n"
     ]
    },
    {
     "name": "stderr",
     "output_type": "stream",
     "text": [
      "/var/folders/2x/rfhzgyjn2zq2wlzk_kn4th680000gn/T/ipykernel_9410/2342058334.py:2: FutureWarning: The default of observed=False is deprecated and will be changed to True in a future version of pandas. Pass observed=False to retain current behavior or observed=True to adopt the future default and silence this warning.\n",
      "  df = (token_table\n",
      "/var/folders/2x/rfhzgyjn2zq2wlzk_kn4th680000gn/T/ipykernel_9410/2342058334.py:9: FutureWarning: The default of observed=False is deprecated and will be changed to True in a future version of pandas. Pass observed=False to retain current behavior or observed=True to adopt the future default and silence this warning.\n",
      "  pd.concat(\n",
      "/var/folders/2x/rfhzgyjn2zq2wlzk_kn4th680000gn/T/ipykernel_9410/2342058334.py:19: FutureWarning: The default of observed=False is deprecated and will be changed to True in a future version of pandas. Pass observed=False to retain current behavior or observed=True to adopt the future default and silence this warning.\n",
      "  pd.concat(\n",
      "/var/folders/2x/rfhzgyjn2zq2wlzk_kn4th680000gn/T/ipykernel_9410/2342058334.py:2: FutureWarning: The default of observed=False is deprecated and will be changed to True in a future version of pandas. Pass observed=False to retain current behavior or observed=True to adopt the future default and silence this warning.\n",
      "  df = (token_table\n",
      "/var/folders/2x/rfhzgyjn2zq2wlzk_kn4th680000gn/T/ipykernel_9410/2342058334.py:9: FutureWarning: The default of observed=False is deprecated and will be changed to True in a future version of pandas. Pass observed=False to retain current behavior or observed=True to adopt the future default and silence this warning.\n",
      "  pd.concat(\n",
      "/var/folders/2x/rfhzgyjn2zq2wlzk_kn4th680000gn/T/ipykernel_9410/2342058334.py:19: FutureWarning: The default of observed=False is deprecated and will be changed to True in a future version of pandas. Pass observed=False to retain current behavior or observed=True to adopt the future default and silence this warning.\n",
      "  pd.concat(\n",
      "/var/folders/2x/rfhzgyjn2zq2wlzk_kn4th680000gn/T/ipykernel_9410/2342058334.py:2: FutureWarning: The default of observed=False is deprecated and will be changed to True in a future version of pandas. Pass observed=False to retain current behavior or observed=True to adopt the future default and silence this warning.\n",
      "  df = (token_table\n",
      "/var/folders/2x/rfhzgyjn2zq2wlzk_kn4th680000gn/T/ipykernel_9410/2342058334.py:9: FutureWarning: The default of observed=False is deprecated and will be changed to True in a future version of pandas. Pass observed=False to retain current behavior or observed=True to adopt the future default and silence this warning.\n",
      "  pd.concat(\n",
      "/var/folders/2x/rfhzgyjn2zq2wlzk_kn4th680000gn/T/ipykernel_9410/2342058334.py:19: FutureWarning: The default of observed=False is deprecated and will be changed to True in a future version of pandas. Pass observed=False to retain current behavior or observed=True to adopt the future default and silence this warning.\n",
      "  pd.concat(\n",
      "/var/folders/2x/rfhzgyjn2zq2wlzk_kn4th680000gn/T/ipykernel_9410/2342058334.py:2: FutureWarning: The default of observed=False is deprecated and will be changed to True in a future version of pandas. Pass observed=False to retain current behavior or observed=True to adopt the future default and silence this warning.\n",
      "  df = (token_table\n",
      "/var/folders/2x/rfhzgyjn2zq2wlzk_kn4th680000gn/T/ipykernel_9410/2342058334.py:9: FutureWarning: The default of observed=False is deprecated and will be changed to True in a future version of pandas. Pass observed=False to retain current behavior or observed=True to adopt the future default and silence this warning.\n",
      "  pd.concat(\n",
      "/var/folders/2x/rfhzgyjn2zq2wlzk_kn4th680000gn/T/ipykernel_9410/2342058334.py:19: FutureWarning: The default of observed=False is deprecated and will be changed to True in a future version of pandas. Pass observed=False to retain current behavior or observed=True to adopt the future default and silence this warning.\n",
      "  pd.concat(\n"
     ]
    },
    {
     "name": "stdout",
     "output_type": "stream",
     "text": [
      "7072\n",
      "7073\n",
      "7074\n",
      "7075\n"
     ]
    },
    {
     "name": "stderr",
     "output_type": "stream",
     "text": [
      "/var/folders/2x/rfhzgyjn2zq2wlzk_kn4th680000gn/T/ipykernel_9410/2342058334.py:2: FutureWarning: The default of observed=False is deprecated and will be changed to True in a future version of pandas. Pass observed=False to retain current behavior or observed=True to adopt the future default and silence this warning.\n",
      "  df = (token_table\n",
      "/var/folders/2x/rfhzgyjn2zq2wlzk_kn4th680000gn/T/ipykernel_9410/2342058334.py:9: FutureWarning: The default of observed=False is deprecated and will be changed to True in a future version of pandas. Pass observed=False to retain current behavior or observed=True to adopt the future default and silence this warning.\n",
      "  pd.concat(\n",
      "/var/folders/2x/rfhzgyjn2zq2wlzk_kn4th680000gn/T/ipykernel_9410/2342058334.py:19: FutureWarning: The default of observed=False is deprecated and will be changed to True in a future version of pandas. Pass observed=False to retain current behavior or observed=True to adopt the future default and silence this warning.\n",
      "  pd.concat(\n",
      "/var/folders/2x/rfhzgyjn2zq2wlzk_kn4th680000gn/T/ipykernel_9410/2342058334.py:2: FutureWarning: The default of observed=False is deprecated and will be changed to True in a future version of pandas. Pass observed=False to retain current behavior or observed=True to adopt the future default and silence this warning.\n",
      "  df = (token_table\n",
      "/var/folders/2x/rfhzgyjn2zq2wlzk_kn4th680000gn/T/ipykernel_9410/2342058334.py:9: FutureWarning: The default of observed=False is deprecated and will be changed to True in a future version of pandas. Pass observed=False to retain current behavior or observed=True to adopt the future default and silence this warning.\n",
      "  pd.concat(\n",
      "/var/folders/2x/rfhzgyjn2zq2wlzk_kn4th680000gn/T/ipykernel_9410/2342058334.py:19: FutureWarning: The default of observed=False is deprecated and will be changed to True in a future version of pandas. Pass observed=False to retain current behavior or observed=True to adopt the future default and silence this warning.\n",
      "  pd.concat(\n",
      "/var/folders/2x/rfhzgyjn2zq2wlzk_kn4th680000gn/T/ipykernel_9410/2342058334.py:2: FutureWarning: The default of observed=False is deprecated and will be changed to True in a future version of pandas. Pass observed=False to retain current behavior or observed=True to adopt the future default and silence this warning.\n",
      "  df = (token_table\n",
      "/var/folders/2x/rfhzgyjn2zq2wlzk_kn4th680000gn/T/ipykernel_9410/2342058334.py:9: FutureWarning: The default of observed=False is deprecated and will be changed to True in a future version of pandas. Pass observed=False to retain current behavior or observed=True to adopt the future default and silence this warning.\n",
      "  pd.concat(\n",
      "/var/folders/2x/rfhzgyjn2zq2wlzk_kn4th680000gn/T/ipykernel_9410/2342058334.py:19: FutureWarning: The default of observed=False is deprecated and will be changed to True in a future version of pandas. Pass observed=False to retain current behavior or observed=True to adopt the future default and silence this warning.\n",
      "  pd.concat(\n",
      "/var/folders/2x/rfhzgyjn2zq2wlzk_kn4th680000gn/T/ipykernel_9410/2342058334.py:2: FutureWarning: The default of observed=False is deprecated and will be changed to True in a future version of pandas. Pass observed=False to retain current behavior or observed=True to adopt the future default and silence this warning.\n",
      "  df = (token_table\n"
     ]
    },
    {
     "name": "stdout",
     "output_type": "stream",
     "text": [
      "7076\n",
      "7077\n",
      "7078\n",
      "7079\n"
     ]
    },
    {
     "name": "stderr",
     "output_type": "stream",
     "text": [
      "/var/folders/2x/rfhzgyjn2zq2wlzk_kn4th680000gn/T/ipykernel_9410/2342058334.py:9: FutureWarning: The default of observed=False is deprecated and will be changed to True in a future version of pandas. Pass observed=False to retain current behavior or observed=True to adopt the future default and silence this warning.\n",
      "  pd.concat(\n",
      "/var/folders/2x/rfhzgyjn2zq2wlzk_kn4th680000gn/T/ipykernel_9410/2342058334.py:19: FutureWarning: The default of observed=False is deprecated and will be changed to True in a future version of pandas. Pass observed=False to retain current behavior or observed=True to adopt the future default and silence this warning.\n",
      "  pd.concat(\n",
      "/var/folders/2x/rfhzgyjn2zq2wlzk_kn4th680000gn/T/ipykernel_9410/2342058334.py:2: FutureWarning: The default of observed=False is deprecated and will be changed to True in a future version of pandas. Pass observed=False to retain current behavior or observed=True to adopt the future default and silence this warning.\n",
      "  df = (token_table\n",
      "/var/folders/2x/rfhzgyjn2zq2wlzk_kn4th680000gn/T/ipykernel_9410/2342058334.py:9: FutureWarning: The default of observed=False is deprecated and will be changed to True in a future version of pandas. Pass observed=False to retain current behavior or observed=True to adopt the future default and silence this warning.\n",
      "  pd.concat(\n",
      "/var/folders/2x/rfhzgyjn2zq2wlzk_kn4th680000gn/T/ipykernel_9410/2342058334.py:19: FutureWarning: The default of observed=False is deprecated and will be changed to True in a future version of pandas. Pass observed=False to retain current behavior or observed=True to adopt the future default and silence this warning.\n",
      "  pd.concat(\n",
      "/var/folders/2x/rfhzgyjn2zq2wlzk_kn4th680000gn/T/ipykernel_9410/2342058334.py:2: FutureWarning: The default of observed=False is deprecated and will be changed to True in a future version of pandas. Pass observed=False to retain current behavior or observed=True to adopt the future default and silence this warning.\n",
      "  df = (token_table\n",
      "/var/folders/2x/rfhzgyjn2zq2wlzk_kn4th680000gn/T/ipykernel_9410/2342058334.py:9: FutureWarning: The default of observed=False is deprecated and will be changed to True in a future version of pandas. Pass observed=False to retain current behavior or observed=True to adopt the future default and silence this warning.\n",
      "  pd.concat(\n",
      "/var/folders/2x/rfhzgyjn2zq2wlzk_kn4th680000gn/T/ipykernel_9410/2342058334.py:19: FutureWarning: The default of observed=False is deprecated and will be changed to True in a future version of pandas. Pass observed=False to retain current behavior or observed=True to adopt the future default and silence this warning.\n",
      "  pd.concat(\n",
      "/var/folders/2x/rfhzgyjn2zq2wlzk_kn4th680000gn/T/ipykernel_9410/2342058334.py:2: FutureWarning: The default of observed=False is deprecated and will be changed to True in a future version of pandas. Pass observed=False to retain current behavior or observed=True to adopt the future default and silence this warning.\n",
      "  df = (token_table\n",
      "/var/folders/2x/rfhzgyjn2zq2wlzk_kn4th680000gn/T/ipykernel_9410/2342058334.py:9: FutureWarning: The default of observed=False is deprecated and will be changed to True in a future version of pandas. Pass observed=False to retain current behavior or observed=True to adopt the future default and silence this warning.\n",
      "  pd.concat(\n",
      "/var/folders/2x/rfhzgyjn2zq2wlzk_kn4th680000gn/T/ipykernel_9410/2342058334.py:19: FutureWarning: The default of observed=False is deprecated and will be changed to True in a future version of pandas. Pass observed=False to retain current behavior or observed=True to adopt the future default and silence this warning.\n",
      "  pd.concat(\n"
     ]
    },
    {
     "name": "stdout",
     "output_type": "stream",
     "text": [
      "7080\n",
      "7081\n",
      "7082\n",
      "7083\n"
     ]
    },
    {
     "name": "stderr",
     "output_type": "stream",
     "text": [
      "/var/folders/2x/rfhzgyjn2zq2wlzk_kn4th680000gn/T/ipykernel_9410/2342058334.py:2: FutureWarning: The default of observed=False is deprecated and will be changed to True in a future version of pandas. Pass observed=False to retain current behavior or observed=True to adopt the future default and silence this warning.\n",
      "  df = (token_table\n",
      "/var/folders/2x/rfhzgyjn2zq2wlzk_kn4th680000gn/T/ipykernel_9410/2342058334.py:9: FutureWarning: The default of observed=False is deprecated and will be changed to True in a future version of pandas. Pass observed=False to retain current behavior or observed=True to adopt the future default and silence this warning.\n",
      "  pd.concat(\n",
      "/var/folders/2x/rfhzgyjn2zq2wlzk_kn4th680000gn/T/ipykernel_9410/2342058334.py:19: FutureWarning: The default of observed=False is deprecated and will be changed to True in a future version of pandas. Pass observed=False to retain current behavior or observed=True to adopt the future default and silence this warning.\n",
      "  pd.concat(\n",
      "/var/folders/2x/rfhzgyjn2zq2wlzk_kn4th680000gn/T/ipykernel_9410/2342058334.py:2: FutureWarning: The default of observed=False is deprecated and will be changed to True in a future version of pandas. Pass observed=False to retain current behavior or observed=True to adopt the future default and silence this warning.\n",
      "  df = (token_table\n",
      "/var/folders/2x/rfhzgyjn2zq2wlzk_kn4th680000gn/T/ipykernel_9410/2342058334.py:9: FutureWarning: The default of observed=False is deprecated and will be changed to True in a future version of pandas. Pass observed=False to retain current behavior or observed=True to adopt the future default and silence this warning.\n",
      "  pd.concat(\n",
      "/var/folders/2x/rfhzgyjn2zq2wlzk_kn4th680000gn/T/ipykernel_9410/2342058334.py:19: FutureWarning: The default of observed=False is deprecated and will be changed to True in a future version of pandas. Pass observed=False to retain current behavior or observed=True to adopt the future default and silence this warning.\n",
      "  pd.concat(\n",
      "/var/folders/2x/rfhzgyjn2zq2wlzk_kn4th680000gn/T/ipykernel_9410/2342058334.py:2: FutureWarning: The default of observed=False is deprecated and will be changed to True in a future version of pandas. Pass observed=False to retain current behavior or observed=True to adopt the future default and silence this warning.\n",
      "  df = (token_table\n",
      "/var/folders/2x/rfhzgyjn2zq2wlzk_kn4th680000gn/T/ipykernel_9410/2342058334.py:9: FutureWarning: The default of observed=False is deprecated and will be changed to True in a future version of pandas. Pass observed=False to retain current behavior or observed=True to adopt the future default and silence this warning.\n",
      "  pd.concat(\n",
      "/var/folders/2x/rfhzgyjn2zq2wlzk_kn4th680000gn/T/ipykernel_9410/2342058334.py:19: FutureWarning: The default of observed=False is deprecated and will be changed to True in a future version of pandas. Pass observed=False to retain current behavior or observed=True to adopt the future default and silence this warning.\n",
      "  pd.concat(\n",
      "/var/folders/2x/rfhzgyjn2zq2wlzk_kn4th680000gn/T/ipykernel_9410/2342058334.py:2: FutureWarning: The default of observed=False is deprecated and will be changed to True in a future version of pandas. Pass observed=False to retain current behavior or observed=True to adopt the future default and silence this warning.\n",
      "  df = (token_table\n",
      "/var/folders/2x/rfhzgyjn2zq2wlzk_kn4th680000gn/T/ipykernel_9410/2342058334.py:9: FutureWarning: The default of observed=False is deprecated and will be changed to True in a future version of pandas. Pass observed=False to retain current behavior or observed=True to adopt the future default and silence this warning.\n",
      "  pd.concat(\n",
      "/var/folders/2x/rfhzgyjn2zq2wlzk_kn4th680000gn/T/ipykernel_9410/2342058334.py:19: FutureWarning: The default of observed=False is deprecated and will be changed to True in a future version of pandas. Pass observed=False to retain current behavior or observed=True to adopt the future default and silence this warning.\n",
      "  pd.concat(\n"
     ]
    },
    {
     "name": "stdout",
     "output_type": "stream",
     "text": [
      "7084\n",
      "7085\n",
      "7086\n",
      "7087\n"
     ]
    },
    {
     "name": "stderr",
     "output_type": "stream",
     "text": [
      "/var/folders/2x/rfhzgyjn2zq2wlzk_kn4th680000gn/T/ipykernel_9410/2342058334.py:2: FutureWarning: The default of observed=False is deprecated and will be changed to True in a future version of pandas. Pass observed=False to retain current behavior or observed=True to adopt the future default and silence this warning.\n",
      "  df = (token_table\n",
      "/var/folders/2x/rfhzgyjn2zq2wlzk_kn4th680000gn/T/ipykernel_9410/2342058334.py:9: FutureWarning: The default of observed=False is deprecated and will be changed to True in a future version of pandas. Pass observed=False to retain current behavior or observed=True to adopt the future default and silence this warning.\n",
      "  pd.concat(\n",
      "/var/folders/2x/rfhzgyjn2zq2wlzk_kn4th680000gn/T/ipykernel_9410/2342058334.py:19: FutureWarning: The default of observed=False is deprecated and will be changed to True in a future version of pandas. Pass observed=False to retain current behavior or observed=True to adopt the future default and silence this warning.\n",
      "  pd.concat(\n",
      "/var/folders/2x/rfhzgyjn2zq2wlzk_kn4th680000gn/T/ipykernel_9410/2342058334.py:2: FutureWarning: The default of observed=False is deprecated and will be changed to True in a future version of pandas. Pass observed=False to retain current behavior or observed=True to adopt the future default and silence this warning.\n",
      "  df = (token_table\n",
      "/var/folders/2x/rfhzgyjn2zq2wlzk_kn4th680000gn/T/ipykernel_9410/2342058334.py:9: FutureWarning: The default of observed=False is deprecated and will be changed to True in a future version of pandas. Pass observed=False to retain current behavior or observed=True to adopt the future default and silence this warning.\n",
      "  pd.concat(\n",
      "/var/folders/2x/rfhzgyjn2zq2wlzk_kn4th680000gn/T/ipykernel_9410/2342058334.py:19: FutureWarning: The default of observed=False is deprecated and will be changed to True in a future version of pandas. Pass observed=False to retain current behavior or observed=True to adopt the future default and silence this warning.\n",
      "  pd.concat(\n",
      "/var/folders/2x/rfhzgyjn2zq2wlzk_kn4th680000gn/T/ipykernel_9410/2342058334.py:2: FutureWarning: The default of observed=False is deprecated and will be changed to True in a future version of pandas. Pass observed=False to retain current behavior or observed=True to adopt the future default and silence this warning.\n",
      "  df = (token_table\n",
      "/var/folders/2x/rfhzgyjn2zq2wlzk_kn4th680000gn/T/ipykernel_9410/2342058334.py:9: FutureWarning: The default of observed=False is deprecated and will be changed to True in a future version of pandas. Pass observed=False to retain current behavior or observed=True to adopt the future default and silence this warning.\n",
      "  pd.concat(\n",
      "/var/folders/2x/rfhzgyjn2zq2wlzk_kn4th680000gn/T/ipykernel_9410/2342058334.py:19: FutureWarning: The default of observed=False is deprecated and will be changed to True in a future version of pandas. Pass observed=False to retain current behavior or observed=True to adopt the future default and silence this warning.\n",
      "  pd.concat(\n",
      "/var/folders/2x/rfhzgyjn2zq2wlzk_kn4th680000gn/T/ipykernel_9410/2342058334.py:2: FutureWarning: The default of observed=False is deprecated and will be changed to True in a future version of pandas. Pass observed=False to retain current behavior or observed=True to adopt the future default and silence this warning.\n",
      "  df = (token_table\n"
     ]
    },
    {
     "name": "stdout",
     "output_type": "stream",
     "text": [
      "7088\n",
      "7089\n",
      "7090\n",
      "7091\n"
     ]
    },
    {
     "name": "stderr",
     "output_type": "stream",
     "text": [
      "/var/folders/2x/rfhzgyjn2zq2wlzk_kn4th680000gn/T/ipykernel_9410/2342058334.py:9: FutureWarning: The default of observed=False is deprecated and will be changed to True in a future version of pandas. Pass observed=False to retain current behavior or observed=True to adopt the future default and silence this warning.\n",
      "  pd.concat(\n",
      "/var/folders/2x/rfhzgyjn2zq2wlzk_kn4th680000gn/T/ipykernel_9410/2342058334.py:19: FutureWarning: The default of observed=False is deprecated and will be changed to True in a future version of pandas. Pass observed=False to retain current behavior or observed=True to adopt the future default and silence this warning.\n",
      "  pd.concat(\n",
      "/var/folders/2x/rfhzgyjn2zq2wlzk_kn4th680000gn/T/ipykernel_9410/2342058334.py:2: FutureWarning: The default of observed=False is deprecated and will be changed to True in a future version of pandas. Pass observed=False to retain current behavior or observed=True to adopt the future default and silence this warning.\n",
      "  df = (token_table\n",
      "/var/folders/2x/rfhzgyjn2zq2wlzk_kn4th680000gn/T/ipykernel_9410/2342058334.py:9: FutureWarning: The default of observed=False is deprecated and will be changed to True in a future version of pandas. Pass observed=False to retain current behavior or observed=True to adopt the future default and silence this warning.\n",
      "  pd.concat(\n",
      "/var/folders/2x/rfhzgyjn2zq2wlzk_kn4th680000gn/T/ipykernel_9410/2342058334.py:19: FutureWarning: The default of observed=False is deprecated and will be changed to True in a future version of pandas. Pass observed=False to retain current behavior or observed=True to adopt the future default and silence this warning.\n",
      "  pd.concat(\n",
      "/var/folders/2x/rfhzgyjn2zq2wlzk_kn4th680000gn/T/ipykernel_9410/2342058334.py:2: FutureWarning: The default of observed=False is deprecated and will be changed to True in a future version of pandas. Pass observed=False to retain current behavior or observed=True to adopt the future default and silence this warning.\n",
      "  df = (token_table\n",
      "/var/folders/2x/rfhzgyjn2zq2wlzk_kn4th680000gn/T/ipykernel_9410/2342058334.py:9: FutureWarning: The default of observed=False is deprecated and will be changed to True in a future version of pandas. Pass observed=False to retain current behavior or observed=True to adopt the future default and silence this warning.\n",
      "  pd.concat(\n",
      "/var/folders/2x/rfhzgyjn2zq2wlzk_kn4th680000gn/T/ipykernel_9410/2342058334.py:19: FutureWarning: The default of observed=False is deprecated and will be changed to True in a future version of pandas. Pass observed=False to retain current behavior or observed=True to adopt the future default and silence this warning.\n",
      "  pd.concat(\n"
     ]
    },
    {
     "name": "stdout",
     "output_type": "stream",
     "text": [
      "7092\n",
      "7093\n",
      "7094\n"
     ]
    },
    {
     "name": "stderr",
     "output_type": "stream",
     "text": [
      "/var/folders/2x/rfhzgyjn2zq2wlzk_kn4th680000gn/T/ipykernel_9410/2342058334.py:2: FutureWarning: The default of observed=False is deprecated and will be changed to True in a future version of pandas. Pass observed=False to retain current behavior or observed=True to adopt the future default and silence this warning.\n",
      "  df = (token_table\n",
      "/var/folders/2x/rfhzgyjn2zq2wlzk_kn4th680000gn/T/ipykernel_9410/2342058334.py:9: FutureWarning: The default of observed=False is deprecated and will be changed to True in a future version of pandas. Pass observed=False to retain current behavior or observed=True to adopt the future default and silence this warning.\n",
      "  pd.concat(\n",
      "/var/folders/2x/rfhzgyjn2zq2wlzk_kn4th680000gn/T/ipykernel_9410/2342058334.py:19: FutureWarning: The default of observed=False is deprecated and will be changed to True in a future version of pandas. Pass observed=False to retain current behavior or observed=True to adopt the future default and silence this warning.\n",
      "  pd.concat(\n",
      "/var/folders/2x/rfhzgyjn2zq2wlzk_kn4th680000gn/T/ipykernel_9410/2342058334.py:2: FutureWarning: The default of observed=False is deprecated and will be changed to True in a future version of pandas. Pass observed=False to retain current behavior or observed=True to adopt the future default and silence this warning.\n",
      "  df = (token_table\n",
      "/var/folders/2x/rfhzgyjn2zq2wlzk_kn4th680000gn/T/ipykernel_9410/2342058334.py:9: FutureWarning: The default of observed=False is deprecated and will be changed to True in a future version of pandas. Pass observed=False to retain current behavior or observed=True to adopt the future default and silence this warning.\n",
      "  pd.concat(\n",
      "/var/folders/2x/rfhzgyjn2zq2wlzk_kn4th680000gn/T/ipykernel_9410/2342058334.py:19: FutureWarning: The default of observed=False is deprecated and will be changed to True in a future version of pandas. Pass observed=False to retain current behavior or observed=True to adopt the future default and silence this warning.\n",
      "  pd.concat(\n",
      "/var/folders/2x/rfhzgyjn2zq2wlzk_kn4th680000gn/T/ipykernel_9410/2342058334.py:2: FutureWarning: The default of observed=False is deprecated and will be changed to True in a future version of pandas. Pass observed=False to retain current behavior or observed=True to adopt the future default and silence this warning.\n",
      "  df = (token_table\n",
      "/var/folders/2x/rfhzgyjn2zq2wlzk_kn4th680000gn/T/ipykernel_9410/2342058334.py:9: FutureWarning: The default of observed=False is deprecated and will be changed to True in a future version of pandas. Pass observed=False to retain current behavior or observed=True to adopt the future default and silence this warning.\n",
      "  pd.concat(\n",
      "/var/folders/2x/rfhzgyjn2zq2wlzk_kn4th680000gn/T/ipykernel_9410/2342058334.py:19: FutureWarning: The default of observed=False is deprecated and will be changed to True in a future version of pandas. Pass observed=False to retain current behavior or observed=True to adopt the future default and silence this warning.\n",
      "  pd.concat(\n"
     ]
    },
    {
     "name": "stdout",
     "output_type": "stream",
     "text": [
      "7095\n",
      "7096\n",
      "7097\n"
     ]
    },
    {
     "name": "stderr",
     "output_type": "stream",
     "text": [
      "/var/folders/2x/rfhzgyjn2zq2wlzk_kn4th680000gn/T/ipykernel_9410/2342058334.py:2: FutureWarning: The default of observed=False is deprecated and will be changed to True in a future version of pandas. Pass observed=False to retain current behavior or observed=True to adopt the future default and silence this warning.\n",
      "  df = (token_table\n",
      "/var/folders/2x/rfhzgyjn2zq2wlzk_kn4th680000gn/T/ipykernel_9410/2342058334.py:9: FutureWarning: The default of observed=False is deprecated and will be changed to True in a future version of pandas. Pass observed=False to retain current behavior or observed=True to adopt the future default and silence this warning.\n",
      "  pd.concat(\n",
      "/var/folders/2x/rfhzgyjn2zq2wlzk_kn4th680000gn/T/ipykernel_9410/2342058334.py:19: FutureWarning: The default of observed=False is deprecated and will be changed to True in a future version of pandas. Pass observed=False to retain current behavior or observed=True to adopt the future default and silence this warning.\n",
      "  pd.concat(\n",
      "/var/folders/2x/rfhzgyjn2zq2wlzk_kn4th680000gn/T/ipykernel_9410/2342058334.py:2: FutureWarning: The default of observed=False is deprecated and will be changed to True in a future version of pandas. Pass observed=False to retain current behavior or observed=True to adopt the future default and silence this warning.\n",
      "  df = (token_table\n",
      "/var/folders/2x/rfhzgyjn2zq2wlzk_kn4th680000gn/T/ipykernel_9410/2342058334.py:9: FutureWarning: The default of observed=False is deprecated and will be changed to True in a future version of pandas. Pass observed=False to retain current behavior or observed=True to adopt the future default and silence this warning.\n",
      "  pd.concat(\n",
      "/var/folders/2x/rfhzgyjn2zq2wlzk_kn4th680000gn/T/ipykernel_9410/2342058334.py:19: FutureWarning: The default of observed=False is deprecated and will be changed to True in a future version of pandas. Pass observed=False to retain current behavior or observed=True to adopt the future default and silence this warning.\n",
      "  pd.concat(\n",
      "/var/folders/2x/rfhzgyjn2zq2wlzk_kn4th680000gn/T/ipykernel_9410/2342058334.py:2: FutureWarning: The default of observed=False is deprecated and will be changed to True in a future version of pandas. Pass observed=False to retain current behavior or observed=True to adopt the future default and silence this warning.\n",
      "  df = (token_table\n",
      "/var/folders/2x/rfhzgyjn2zq2wlzk_kn4th680000gn/T/ipykernel_9410/2342058334.py:9: FutureWarning: The default of observed=False is deprecated and will be changed to True in a future version of pandas. Pass observed=False to retain current behavior or observed=True to adopt the future default and silence this warning.\n",
      "  pd.concat(\n",
      "/var/folders/2x/rfhzgyjn2zq2wlzk_kn4th680000gn/T/ipykernel_9410/2342058334.py:19: FutureWarning: The default of observed=False is deprecated and will be changed to True in a future version of pandas. Pass observed=False to retain current behavior or observed=True to adopt the future default and silence this warning.\n",
      "  pd.concat(\n"
     ]
    },
    {
     "name": "stdout",
     "output_type": "stream",
     "text": [
      "7098\n",
      "7099\n",
      "7100\n"
     ]
    },
    {
     "name": "stderr",
     "output_type": "stream",
     "text": [
      "/var/folders/2x/rfhzgyjn2zq2wlzk_kn4th680000gn/T/ipykernel_9410/2342058334.py:2: FutureWarning: The default of observed=False is deprecated and will be changed to True in a future version of pandas. Pass observed=False to retain current behavior or observed=True to adopt the future default and silence this warning.\n",
      "  df = (token_table\n",
      "/var/folders/2x/rfhzgyjn2zq2wlzk_kn4th680000gn/T/ipykernel_9410/2342058334.py:9: FutureWarning: The default of observed=False is deprecated and will be changed to True in a future version of pandas. Pass observed=False to retain current behavior or observed=True to adopt the future default and silence this warning.\n",
      "  pd.concat(\n",
      "/var/folders/2x/rfhzgyjn2zq2wlzk_kn4th680000gn/T/ipykernel_9410/2342058334.py:19: FutureWarning: The default of observed=False is deprecated and will be changed to True in a future version of pandas. Pass observed=False to retain current behavior or observed=True to adopt the future default and silence this warning.\n",
      "  pd.concat(\n",
      "/var/folders/2x/rfhzgyjn2zq2wlzk_kn4th680000gn/T/ipykernel_9410/2342058334.py:2: FutureWarning: The default of observed=False is deprecated and will be changed to True in a future version of pandas. Pass observed=False to retain current behavior or observed=True to adopt the future default and silence this warning.\n",
      "  df = (token_table\n",
      "/var/folders/2x/rfhzgyjn2zq2wlzk_kn4th680000gn/T/ipykernel_9410/2342058334.py:9: FutureWarning: The default of observed=False is deprecated and will be changed to True in a future version of pandas. Pass observed=False to retain current behavior or observed=True to adopt the future default and silence this warning.\n",
      "  pd.concat(\n",
      "/var/folders/2x/rfhzgyjn2zq2wlzk_kn4th680000gn/T/ipykernel_9410/2342058334.py:19: FutureWarning: The default of observed=False is deprecated and will be changed to True in a future version of pandas. Pass observed=False to retain current behavior or observed=True to adopt the future default and silence this warning.\n",
      "  pd.concat(\n",
      "/var/folders/2x/rfhzgyjn2zq2wlzk_kn4th680000gn/T/ipykernel_9410/2342058334.py:2: FutureWarning: The default of observed=False is deprecated and will be changed to True in a future version of pandas. Pass observed=False to retain current behavior or observed=True to adopt the future default and silence this warning.\n",
      "  df = (token_table\n",
      "/var/folders/2x/rfhzgyjn2zq2wlzk_kn4th680000gn/T/ipykernel_9410/2342058334.py:9: FutureWarning: The default of observed=False is deprecated and will be changed to True in a future version of pandas. Pass observed=False to retain current behavior or observed=True to adopt the future default and silence this warning.\n",
      "  pd.concat(\n",
      "/var/folders/2x/rfhzgyjn2zq2wlzk_kn4th680000gn/T/ipykernel_9410/2342058334.py:19: FutureWarning: The default of observed=False is deprecated and will be changed to True in a future version of pandas. Pass observed=False to retain current behavior or observed=True to adopt the future default and silence this warning.\n",
      "  pd.concat(\n",
      "/var/folders/2x/rfhzgyjn2zq2wlzk_kn4th680000gn/T/ipykernel_9410/2342058334.py:2: FutureWarning: The default of observed=False is deprecated and will be changed to True in a future version of pandas. Pass observed=False to retain current behavior or observed=True to adopt the future default and silence this warning.\n",
      "  df = (token_table\n",
      "/var/folders/2x/rfhzgyjn2zq2wlzk_kn4th680000gn/T/ipykernel_9410/2342058334.py:9: FutureWarning: The default of observed=False is deprecated and will be changed to True in a future version of pandas. Pass observed=False to retain current behavior or observed=True to adopt the future default and silence this warning.\n",
      "  pd.concat(\n",
      "/var/folders/2x/rfhzgyjn2zq2wlzk_kn4th680000gn/T/ipykernel_9410/2342058334.py:19: FutureWarning: The default of observed=False is deprecated and will be changed to True in a future version of pandas. Pass observed=False to retain current behavior or observed=True to adopt the future default and silence this warning.\n",
      "  pd.concat(\n",
      "/var/folders/2x/rfhzgyjn2zq2wlzk_kn4th680000gn/T/ipykernel_9410/2342058334.py:2: FutureWarning: The default of observed=False is deprecated and will be changed to True in a future version of pandas. Pass observed=False to retain current behavior or observed=True to adopt the future default and silence this warning.\n",
      "  df = (token_table\n",
      "/var/folders/2x/rfhzgyjn2zq2wlzk_kn4th680000gn/T/ipykernel_9410/2342058334.py:9: FutureWarning: The default of observed=False is deprecated and will be changed to True in a future version of pandas. Pass observed=False to retain current behavior or observed=True to adopt the future default and silence this warning.\n",
      "  pd.concat(\n",
      "/var/folders/2x/rfhzgyjn2zq2wlzk_kn4th680000gn/T/ipykernel_9410/2342058334.py:19: FutureWarning: The default of observed=False is deprecated and will be changed to True in a future version of pandas. Pass observed=False to retain current behavior or observed=True to adopt the future default and silence this warning.\n",
      "  pd.concat(\n",
      "/var/folders/2x/rfhzgyjn2zq2wlzk_kn4th680000gn/T/ipykernel_9410/2342058334.py:2: FutureWarning: The default of observed=False is deprecated and will be changed to True in a future version of pandas. Pass observed=False to retain current behavior or observed=True to adopt the future default and silence this warning.\n",
      "  df = (token_table\n",
      "/var/folders/2x/rfhzgyjn2zq2wlzk_kn4th680000gn/T/ipykernel_9410/2342058334.py:9: FutureWarning: The default of observed=False is deprecated and will be changed to True in a future version of pandas. Pass observed=False to retain current behavior or observed=True to adopt the future default and silence this warning.\n",
      "  pd.concat(\n",
      "/var/folders/2x/rfhzgyjn2zq2wlzk_kn4th680000gn/T/ipykernel_9410/2342058334.py:19: FutureWarning: The default of observed=False is deprecated and will be changed to True in a future version of pandas. Pass observed=False to retain current behavior or observed=True to adopt the future default and silence this warning.\n",
      "  pd.concat(\n",
      "/var/folders/2x/rfhzgyjn2zq2wlzk_kn4th680000gn/T/ipykernel_9410/2342058334.py:2: FutureWarning: The default of observed=False is deprecated and will be changed to True in a future version of pandas. Pass observed=False to retain current behavior or observed=True to adopt the future default and silence this warning.\n",
      "  df = (token_table\n"
     ]
    },
    {
     "name": "stdout",
     "output_type": "stream",
     "text": [
      "7101\n",
      "7102\n",
      "7103\n",
      "7104\n"
     ]
    },
    {
     "name": "stderr",
     "output_type": "stream",
     "text": [
      "/var/folders/2x/rfhzgyjn2zq2wlzk_kn4th680000gn/T/ipykernel_9410/2342058334.py:9: FutureWarning: The default of observed=False is deprecated and will be changed to True in a future version of pandas. Pass observed=False to retain current behavior or observed=True to adopt the future default and silence this warning.\n",
      "  pd.concat(\n",
      "/var/folders/2x/rfhzgyjn2zq2wlzk_kn4th680000gn/T/ipykernel_9410/2342058334.py:19: FutureWarning: The default of observed=False is deprecated and will be changed to True in a future version of pandas. Pass observed=False to retain current behavior or observed=True to adopt the future default and silence this warning.\n",
      "  pd.concat(\n",
      "/var/folders/2x/rfhzgyjn2zq2wlzk_kn4th680000gn/T/ipykernel_9410/2342058334.py:2: FutureWarning: The default of observed=False is deprecated and will be changed to True in a future version of pandas. Pass observed=False to retain current behavior or observed=True to adopt the future default and silence this warning.\n",
      "  df = (token_table\n",
      "/var/folders/2x/rfhzgyjn2zq2wlzk_kn4th680000gn/T/ipykernel_9410/2342058334.py:9: FutureWarning: The default of observed=False is deprecated and will be changed to True in a future version of pandas. Pass observed=False to retain current behavior or observed=True to adopt the future default and silence this warning.\n",
      "  pd.concat(\n",
      "/var/folders/2x/rfhzgyjn2zq2wlzk_kn4th680000gn/T/ipykernel_9410/2342058334.py:19: FutureWarning: The default of observed=False is deprecated and will be changed to True in a future version of pandas. Pass observed=False to retain current behavior or observed=True to adopt the future default and silence this warning.\n",
      "  pd.concat(\n",
      "/var/folders/2x/rfhzgyjn2zq2wlzk_kn4th680000gn/T/ipykernel_9410/2342058334.py:2: FutureWarning: The default of observed=False is deprecated and will be changed to True in a future version of pandas. Pass observed=False to retain current behavior or observed=True to adopt the future default and silence this warning.\n",
      "  df = (token_table\n",
      "/var/folders/2x/rfhzgyjn2zq2wlzk_kn4th680000gn/T/ipykernel_9410/2342058334.py:9: FutureWarning: The default of observed=False is deprecated and will be changed to True in a future version of pandas. Pass observed=False to retain current behavior or observed=True to adopt the future default and silence this warning.\n",
      "  pd.concat(\n",
      "/var/folders/2x/rfhzgyjn2zq2wlzk_kn4th680000gn/T/ipykernel_9410/2342058334.py:19: FutureWarning: The default of observed=False is deprecated and will be changed to True in a future version of pandas. Pass observed=False to retain current behavior or observed=True to adopt the future default and silence this warning.\n",
      "  pd.concat(\n",
      "/var/folders/2x/rfhzgyjn2zq2wlzk_kn4th680000gn/T/ipykernel_9410/2342058334.py:2: FutureWarning: The default of observed=False is deprecated and will be changed to True in a future version of pandas. Pass observed=False to retain current behavior or observed=True to adopt the future default and silence this warning.\n",
      "  df = (token_table\n",
      "/var/folders/2x/rfhzgyjn2zq2wlzk_kn4th680000gn/T/ipykernel_9410/2342058334.py:9: FutureWarning: The default of observed=False is deprecated and will be changed to True in a future version of pandas. Pass observed=False to retain current behavior or observed=True to adopt the future default and silence this warning.\n",
      "  pd.concat(\n"
     ]
    },
    {
     "name": "stdout",
     "output_type": "stream",
     "text": [
      "7105\n",
      "7106\n",
      "7107\n",
      "7108\n"
     ]
    },
    {
     "name": "stderr",
     "output_type": "stream",
     "text": [
      "/var/folders/2x/rfhzgyjn2zq2wlzk_kn4th680000gn/T/ipykernel_9410/2342058334.py:19: FutureWarning: The default of observed=False is deprecated and will be changed to True in a future version of pandas. Pass observed=False to retain current behavior or observed=True to adopt the future default and silence this warning.\n",
      "  pd.concat(\n",
      "/var/folders/2x/rfhzgyjn2zq2wlzk_kn4th680000gn/T/ipykernel_9410/2342058334.py:2: FutureWarning: The default of observed=False is deprecated and will be changed to True in a future version of pandas. Pass observed=False to retain current behavior or observed=True to adopt the future default and silence this warning.\n",
      "  df = (token_table\n",
      "/var/folders/2x/rfhzgyjn2zq2wlzk_kn4th680000gn/T/ipykernel_9410/2342058334.py:9: FutureWarning: The default of observed=False is deprecated and will be changed to True in a future version of pandas. Pass observed=False to retain current behavior or observed=True to adopt the future default and silence this warning.\n",
      "  pd.concat(\n",
      "/var/folders/2x/rfhzgyjn2zq2wlzk_kn4th680000gn/T/ipykernel_9410/2342058334.py:19: FutureWarning: The default of observed=False is deprecated and will be changed to True in a future version of pandas. Pass observed=False to retain current behavior or observed=True to adopt the future default and silence this warning.\n",
      "  pd.concat(\n",
      "/var/folders/2x/rfhzgyjn2zq2wlzk_kn4th680000gn/T/ipykernel_9410/2342058334.py:2: FutureWarning: The default of observed=False is deprecated and will be changed to True in a future version of pandas. Pass observed=False to retain current behavior or observed=True to adopt the future default and silence this warning.\n",
      "  df = (token_table\n",
      "/var/folders/2x/rfhzgyjn2zq2wlzk_kn4th680000gn/T/ipykernel_9410/2342058334.py:9: FutureWarning: The default of observed=False is deprecated and will be changed to True in a future version of pandas. Pass observed=False to retain current behavior or observed=True to adopt the future default and silence this warning.\n",
      "  pd.concat(\n",
      "/var/folders/2x/rfhzgyjn2zq2wlzk_kn4th680000gn/T/ipykernel_9410/2342058334.py:19: FutureWarning: The default of observed=False is deprecated and will be changed to True in a future version of pandas. Pass observed=False to retain current behavior or observed=True to adopt the future default and silence this warning.\n",
      "  pd.concat(\n",
      "/var/folders/2x/rfhzgyjn2zq2wlzk_kn4th680000gn/T/ipykernel_9410/2342058334.py:2: FutureWarning: The default of observed=False is deprecated and will be changed to True in a future version of pandas. Pass observed=False to retain current behavior or observed=True to adopt the future default and silence this warning.\n",
      "  df = (token_table\n",
      "/var/folders/2x/rfhzgyjn2zq2wlzk_kn4th680000gn/T/ipykernel_9410/2342058334.py:9: FutureWarning: The default of observed=False is deprecated and will be changed to True in a future version of pandas. Pass observed=False to retain current behavior or observed=True to adopt the future default and silence this warning.\n",
      "  pd.concat(\n",
      "/var/folders/2x/rfhzgyjn2zq2wlzk_kn4th680000gn/T/ipykernel_9410/2342058334.py:19: FutureWarning: The default of observed=False is deprecated and will be changed to True in a future version of pandas. Pass observed=False to retain current behavior or observed=True to adopt the future default and silence this warning.\n",
      "  pd.concat(\n"
     ]
    },
    {
     "name": "stdout",
     "output_type": "stream",
     "text": [
      "7109\n",
      "7110\n",
      "7111\n"
     ]
    },
    {
     "name": "stderr",
     "output_type": "stream",
     "text": [
      "/var/folders/2x/rfhzgyjn2zq2wlzk_kn4th680000gn/T/ipykernel_9410/2342058334.py:2: FutureWarning: The default of observed=False is deprecated and will be changed to True in a future version of pandas. Pass observed=False to retain current behavior or observed=True to adopt the future default and silence this warning.\n",
      "  df = (token_table\n",
      "/var/folders/2x/rfhzgyjn2zq2wlzk_kn4th680000gn/T/ipykernel_9410/2342058334.py:9: FutureWarning: The default of observed=False is deprecated and will be changed to True in a future version of pandas. Pass observed=False to retain current behavior or observed=True to adopt the future default and silence this warning.\n",
      "  pd.concat(\n",
      "/var/folders/2x/rfhzgyjn2zq2wlzk_kn4th680000gn/T/ipykernel_9410/2342058334.py:19: FutureWarning: The default of observed=False is deprecated and will be changed to True in a future version of pandas. Pass observed=False to retain current behavior or observed=True to adopt the future default and silence this warning.\n",
      "  pd.concat(\n",
      "/var/folders/2x/rfhzgyjn2zq2wlzk_kn4th680000gn/T/ipykernel_9410/2342058334.py:2: FutureWarning: The default of observed=False is deprecated and will be changed to True in a future version of pandas. Pass observed=False to retain current behavior or observed=True to adopt the future default and silence this warning.\n",
      "  df = (token_table\n",
      "/var/folders/2x/rfhzgyjn2zq2wlzk_kn4th680000gn/T/ipykernel_9410/2342058334.py:9: FutureWarning: The default of observed=False is deprecated and will be changed to True in a future version of pandas. Pass observed=False to retain current behavior or observed=True to adopt the future default and silence this warning.\n",
      "  pd.concat(\n",
      "/var/folders/2x/rfhzgyjn2zq2wlzk_kn4th680000gn/T/ipykernel_9410/2342058334.py:19: FutureWarning: The default of observed=False is deprecated and will be changed to True in a future version of pandas. Pass observed=False to retain current behavior or observed=True to adopt the future default and silence this warning.\n",
      "  pd.concat(\n",
      "/var/folders/2x/rfhzgyjn2zq2wlzk_kn4th680000gn/T/ipykernel_9410/2342058334.py:2: FutureWarning: The default of observed=False is deprecated and will be changed to True in a future version of pandas. Pass observed=False to retain current behavior or observed=True to adopt the future default and silence this warning.\n",
      "  df = (token_table\n",
      "/var/folders/2x/rfhzgyjn2zq2wlzk_kn4th680000gn/T/ipykernel_9410/2342058334.py:9: FutureWarning: The default of observed=False is deprecated and will be changed to True in a future version of pandas. Pass observed=False to retain current behavior or observed=True to adopt the future default and silence this warning.\n",
      "  pd.concat(\n",
      "/var/folders/2x/rfhzgyjn2zq2wlzk_kn4th680000gn/T/ipykernel_9410/2342058334.py:19: FutureWarning: The default of observed=False is deprecated and will be changed to True in a future version of pandas. Pass observed=False to retain current behavior or observed=True to adopt the future default and silence this warning.\n",
      "  pd.concat(\n",
      "/var/folders/2x/rfhzgyjn2zq2wlzk_kn4th680000gn/T/ipykernel_9410/2342058334.py:2: FutureWarning: The default of observed=False is deprecated and will be changed to True in a future version of pandas. Pass observed=False to retain current behavior or observed=True to adopt the future default and silence this warning.\n",
      "  df = (token_table\n"
     ]
    },
    {
     "name": "stdout",
     "output_type": "stream",
     "text": [
      "7112\n",
      "7113\n",
      "7114\n",
      "7115\n"
     ]
    },
    {
     "name": "stderr",
     "output_type": "stream",
     "text": [
      "/var/folders/2x/rfhzgyjn2zq2wlzk_kn4th680000gn/T/ipykernel_9410/2342058334.py:9: FutureWarning: The default of observed=False is deprecated and will be changed to True in a future version of pandas. Pass observed=False to retain current behavior or observed=True to adopt the future default and silence this warning.\n",
      "  pd.concat(\n",
      "/var/folders/2x/rfhzgyjn2zq2wlzk_kn4th680000gn/T/ipykernel_9410/2342058334.py:19: FutureWarning: The default of observed=False is deprecated and will be changed to True in a future version of pandas. Pass observed=False to retain current behavior or observed=True to adopt the future default and silence this warning.\n",
      "  pd.concat(\n",
      "/var/folders/2x/rfhzgyjn2zq2wlzk_kn4th680000gn/T/ipykernel_9410/2342058334.py:2: FutureWarning: The default of observed=False is deprecated and will be changed to True in a future version of pandas. Pass observed=False to retain current behavior or observed=True to adopt the future default and silence this warning.\n",
      "  df = (token_table\n",
      "/var/folders/2x/rfhzgyjn2zq2wlzk_kn4th680000gn/T/ipykernel_9410/2342058334.py:9: FutureWarning: The default of observed=False is deprecated and will be changed to True in a future version of pandas. Pass observed=False to retain current behavior or observed=True to adopt the future default and silence this warning.\n",
      "  pd.concat(\n",
      "/var/folders/2x/rfhzgyjn2zq2wlzk_kn4th680000gn/T/ipykernel_9410/2342058334.py:19: FutureWarning: The default of observed=False is deprecated and will be changed to True in a future version of pandas. Pass observed=False to retain current behavior or observed=True to adopt the future default and silence this warning.\n",
      "  pd.concat(\n",
      "/var/folders/2x/rfhzgyjn2zq2wlzk_kn4th680000gn/T/ipykernel_9410/2342058334.py:2: FutureWarning: The default of observed=False is deprecated and will be changed to True in a future version of pandas. Pass observed=False to retain current behavior or observed=True to adopt the future default and silence this warning.\n",
      "  df = (token_table\n",
      "/var/folders/2x/rfhzgyjn2zq2wlzk_kn4th680000gn/T/ipykernel_9410/2342058334.py:9: FutureWarning: The default of observed=False is deprecated and will be changed to True in a future version of pandas. Pass observed=False to retain current behavior or observed=True to adopt the future default and silence this warning.\n",
      "  pd.concat(\n",
      "/var/folders/2x/rfhzgyjn2zq2wlzk_kn4th680000gn/T/ipykernel_9410/2342058334.py:19: FutureWarning: The default of observed=False is deprecated and will be changed to True in a future version of pandas. Pass observed=False to retain current behavior or observed=True to adopt the future default and silence this warning.\n",
      "  pd.concat(\n",
      "/var/folders/2x/rfhzgyjn2zq2wlzk_kn4th680000gn/T/ipykernel_9410/2342058334.py:2: FutureWarning: The default of observed=False is deprecated and will be changed to True in a future version of pandas. Pass observed=False to retain current behavior or observed=True to adopt the future default and silence this warning.\n",
      "  df = (token_table\n",
      "/var/folders/2x/rfhzgyjn2zq2wlzk_kn4th680000gn/T/ipykernel_9410/2342058334.py:9: FutureWarning: The default of observed=False is deprecated and will be changed to True in a future version of pandas. Pass observed=False to retain current behavior or observed=True to adopt the future default and silence this warning.\n",
      "  pd.concat(\n",
      "/var/folders/2x/rfhzgyjn2zq2wlzk_kn4th680000gn/T/ipykernel_9410/2342058334.py:19: FutureWarning: The default of observed=False is deprecated and will be changed to True in a future version of pandas. Pass observed=False to retain current behavior or observed=True to adopt the future default and silence this warning.\n",
      "  pd.concat(\n"
     ]
    },
    {
     "name": "stdout",
     "output_type": "stream",
     "text": [
      "7116\n",
      "7117\n",
      "7118\n",
      "7119\n"
     ]
    },
    {
     "name": "stderr",
     "output_type": "stream",
     "text": [
      "/var/folders/2x/rfhzgyjn2zq2wlzk_kn4th680000gn/T/ipykernel_9410/2342058334.py:2: FutureWarning: The default of observed=False is deprecated and will be changed to True in a future version of pandas. Pass observed=False to retain current behavior or observed=True to adopt the future default and silence this warning.\n",
      "  df = (token_table\n",
      "/var/folders/2x/rfhzgyjn2zq2wlzk_kn4th680000gn/T/ipykernel_9410/2342058334.py:9: FutureWarning: The default of observed=False is deprecated and will be changed to True in a future version of pandas. Pass observed=False to retain current behavior or observed=True to adopt the future default and silence this warning.\n",
      "  pd.concat(\n",
      "/var/folders/2x/rfhzgyjn2zq2wlzk_kn4th680000gn/T/ipykernel_9410/2342058334.py:19: FutureWarning: The default of observed=False is deprecated and will be changed to True in a future version of pandas. Pass observed=False to retain current behavior or observed=True to adopt the future default and silence this warning.\n",
      "  pd.concat(\n",
      "/var/folders/2x/rfhzgyjn2zq2wlzk_kn4th680000gn/T/ipykernel_9410/2342058334.py:2: FutureWarning: The default of observed=False is deprecated and will be changed to True in a future version of pandas. Pass observed=False to retain current behavior or observed=True to adopt the future default and silence this warning.\n",
      "  df = (token_table\n",
      "/var/folders/2x/rfhzgyjn2zq2wlzk_kn4th680000gn/T/ipykernel_9410/2342058334.py:9: FutureWarning: The default of observed=False is deprecated and will be changed to True in a future version of pandas. Pass observed=False to retain current behavior or observed=True to adopt the future default and silence this warning.\n",
      "  pd.concat(\n",
      "/var/folders/2x/rfhzgyjn2zq2wlzk_kn4th680000gn/T/ipykernel_9410/2342058334.py:19: FutureWarning: The default of observed=False is deprecated and will be changed to True in a future version of pandas. Pass observed=False to retain current behavior or observed=True to adopt the future default and silence this warning.\n",
      "  pd.concat(\n",
      "/var/folders/2x/rfhzgyjn2zq2wlzk_kn4th680000gn/T/ipykernel_9410/2342058334.py:2: FutureWarning: The default of observed=False is deprecated and will be changed to True in a future version of pandas. Pass observed=False to retain current behavior or observed=True to adopt the future default and silence this warning.\n",
      "  df = (token_table\n",
      "/var/folders/2x/rfhzgyjn2zq2wlzk_kn4th680000gn/T/ipykernel_9410/2342058334.py:9: FutureWarning: The default of observed=False is deprecated and will be changed to True in a future version of pandas. Pass observed=False to retain current behavior or observed=True to adopt the future default and silence this warning.\n",
      "  pd.concat(\n",
      "/var/folders/2x/rfhzgyjn2zq2wlzk_kn4th680000gn/T/ipykernel_9410/2342058334.py:19: FutureWarning: The default of observed=False is deprecated and will be changed to True in a future version of pandas. Pass observed=False to retain current behavior or observed=True to adopt the future default and silence this warning.\n",
      "  pd.concat(\n"
     ]
    },
    {
     "name": "stdout",
     "output_type": "stream",
     "text": [
      "7120\n",
      "7121\n"
     ]
    },
    {
     "name": "stderr",
     "output_type": "stream",
     "text": [
      "/var/folders/2x/rfhzgyjn2zq2wlzk_kn4th680000gn/T/ipykernel_9410/2342058334.py:2: FutureWarning: The default of observed=False is deprecated and will be changed to True in a future version of pandas. Pass observed=False to retain current behavior or observed=True to adopt the future default and silence this warning.\n",
      "  df = (token_table\n",
      "/var/folders/2x/rfhzgyjn2zq2wlzk_kn4th680000gn/T/ipykernel_9410/2342058334.py:9: FutureWarning: The default of observed=False is deprecated and will be changed to True in a future version of pandas. Pass observed=False to retain current behavior or observed=True to adopt the future default and silence this warning.\n",
      "  pd.concat(\n",
      "/var/folders/2x/rfhzgyjn2zq2wlzk_kn4th680000gn/T/ipykernel_9410/2342058334.py:19: FutureWarning: The default of observed=False is deprecated and will be changed to True in a future version of pandas. Pass observed=False to retain current behavior or observed=True to adopt the future default and silence this warning.\n",
      "  pd.concat(\n",
      "/var/folders/2x/rfhzgyjn2zq2wlzk_kn4th680000gn/T/ipykernel_9410/2342058334.py:2: FutureWarning: The default of observed=False is deprecated and will be changed to True in a future version of pandas. Pass observed=False to retain current behavior or observed=True to adopt the future default and silence this warning.\n",
      "  df = (token_table\n",
      "/var/folders/2x/rfhzgyjn2zq2wlzk_kn4th680000gn/T/ipykernel_9410/2342058334.py:9: FutureWarning: The default of observed=False is deprecated and will be changed to True in a future version of pandas. Pass observed=False to retain current behavior or observed=True to adopt the future default and silence this warning.\n",
      "  pd.concat(\n",
      "/var/folders/2x/rfhzgyjn2zq2wlzk_kn4th680000gn/T/ipykernel_9410/2342058334.py:19: FutureWarning: The default of observed=False is deprecated and will be changed to True in a future version of pandas. Pass observed=False to retain current behavior or observed=True to adopt the future default and silence this warning.\n",
      "  pd.concat(\n",
      "/var/folders/2x/rfhzgyjn2zq2wlzk_kn4th680000gn/T/ipykernel_9410/2342058334.py:2: FutureWarning: The default of observed=False is deprecated and will be changed to True in a future version of pandas. Pass observed=False to retain current behavior or observed=True to adopt the future default and silence this warning.\n",
      "  df = (token_table\n",
      "/var/folders/2x/rfhzgyjn2zq2wlzk_kn4th680000gn/T/ipykernel_9410/2342058334.py:9: FutureWarning: The default of observed=False is deprecated and will be changed to True in a future version of pandas. Pass observed=False to retain current behavior or observed=True to adopt the future default and silence this warning.\n",
      "  pd.concat(\n",
      "/var/folders/2x/rfhzgyjn2zq2wlzk_kn4th680000gn/T/ipykernel_9410/2342058334.py:19: FutureWarning: The default of observed=False is deprecated and will be changed to True in a future version of pandas. Pass observed=False to retain current behavior or observed=True to adopt the future default and silence this warning.\n",
      "  pd.concat(\n",
      "/var/folders/2x/rfhzgyjn2zq2wlzk_kn4th680000gn/T/ipykernel_9410/2342058334.py:2: FutureWarning: The default of observed=False is deprecated and will be changed to True in a future version of pandas. Pass observed=False to retain current behavior or observed=True to adopt the future default and silence this warning.\n",
      "  df = (token_table\n"
     ]
    },
    {
     "name": "stdout",
     "output_type": "stream",
     "text": [
      "7122\n",
      "7123\n",
      "7124\n",
      "7125\n"
     ]
    },
    {
     "name": "stderr",
     "output_type": "stream",
     "text": [
      "/var/folders/2x/rfhzgyjn2zq2wlzk_kn4th680000gn/T/ipykernel_9410/2342058334.py:9: FutureWarning: The default of observed=False is deprecated and will be changed to True in a future version of pandas. Pass observed=False to retain current behavior or observed=True to adopt the future default and silence this warning.\n",
      "  pd.concat(\n",
      "/var/folders/2x/rfhzgyjn2zq2wlzk_kn4th680000gn/T/ipykernel_9410/2342058334.py:19: FutureWarning: The default of observed=False is deprecated and will be changed to True in a future version of pandas. Pass observed=False to retain current behavior or observed=True to adopt the future default and silence this warning.\n",
      "  pd.concat(\n",
      "/var/folders/2x/rfhzgyjn2zq2wlzk_kn4th680000gn/T/ipykernel_9410/2342058334.py:2: FutureWarning: The default of observed=False is deprecated and will be changed to True in a future version of pandas. Pass observed=False to retain current behavior or observed=True to adopt the future default and silence this warning.\n",
      "  df = (token_table\n",
      "/var/folders/2x/rfhzgyjn2zq2wlzk_kn4th680000gn/T/ipykernel_9410/2342058334.py:9: FutureWarning: The default of observed=False is deprecated and will be changed to True in a future version of pandas. Pass observed=False to retain current behavior or observed=True to adopt the future default and silence this warning.\n",
      "  pd.concat(\n",
      "/var/folders/2x/rfhzgyjn2zq2wlzk_kn4th680000gn/T/ipykernel_9410/2342058334.py:19: FutureWarning: The default of observed=False is deprecated and will be changed to True in a future version of pandas. Pass observed=False to retain current behavior or observed=True to adopt the future default and silence this warning.\n",
      "  pd.concat(\n",
      "/var/folders/2x/rfhzgyjn2zq2wlzk_kn4th680000gn/T/ipykernel_9410/2342058334.py:2: FutureWarning: The default of observed=False is deprecated and will be changed to True in a future version of pandas. Pass observed=False to retain current behavior or observed=True to adopt the future default and silence this warning.\n",
      "  df = (token_table\n",
      "/var/folders/2x/rfhzgyjn2zq2wlzk_kn4th680000gn/T/ipykernel_9410/2342058334.py:9: FutureWarning: The default of observed=False is deprecated and will be changed to True in a future version of pandas. Pass observed=False to retain current behavior or observed=True to adopt the future default and silence this warning.\n",
      "  pd.concat(\n",
      "/var/folders/2x/rfhzgyjn2zq2wlzk_kn4th680000gn/T/ipykernel_9410/2342058334.py:19: FutureWarning: The default of observed=False is deprecated and will be changed to True in a future version of pandas. Pass observed=False to retain current behavior or observed=True to adopt the future default and silence this warning.\n",
      "  pd.concat(\n",
      "/var/folders/2x/rfhzgyjn2zq2wlzk_kn4th680000gn/T/ipykernel_9410/2342058334.py:2: FutureWarning: The default of observed=False is deprecated and will be changed to True in a future version of pandas. Pass observed=False to retain current behavior or observed=True to adopt the future default and silence this warning.\n",
      "  df = (token_table\n",
      "/var/folders/2x/rfhzgyjn2zq2wlzk_kn4th680000gn/T/ipykernel_9410/2342058334.py:9: FutureWarning: The default of observed=False is deprecated and will be changed to True in a future version of pandas. Pass observed=False to retain current behavior or observed=True to adopt the future default and silence this warning.\n",
      "  pd.concat(\n",
      "/var/folders/2x/rfhzgyjn2zq2wlzk_kn4th680000gn/T/ipykernel_9410/2342058334.py:19: FutureWarning: The default of observed=False is deprecated and will be changed to True in a future version of pandas. Pass observed=False to retain current behavior or observed=True to adopt the future default and silence this warning.\n",
      "  pd.concat(\n",
      "/var/folders/2x/rfhzgyjn2zq2wlzk_kn4th680000gn/T/ipykernel_9410/2342058334.py:2: FutureWarning: The default of observed=False is deprecated and will be changed to True in a future version of pandas. Pass observed=False to retain current behavior or observed=True to adopt the future default and silence this warning.\n",
      "  df = (token_table\n",
      "/var/folders/2x/rfhzgyjn2zq2wlzk_kn4th680000gn/T/ipykernel_9410/2342058334.py:9: FutureWarning: The default of observed=False is deprecated and will be changed to True in a future version of pandas. Pass observed=False to retain current behavior or observed=True to adopt the future default and silence this warning.\n",
      "  pd.concat(\n",
      "/var/folders/2x/rfhzgyjn2zq2wlzk_kn4th680000gn/T/ipykernel_9410/2342058334.py:19: FutureWarning: The default of observed=False is deprecated and will be changed to True in a future version of pandas. Pass observed=False to retain current behavior or observed=True to adopt the future default and silence this warning.\n",
      "  pd.concat(\n"
     ]
    },
    {
     "name": "stdout",
     "output_type": "stream",
     "text": [
      "7126\n",
      "7127\n",
      "7128\n",
      "7129\n",
      "7130\n"
     ]
    },
    {
     "name": "stderr",
     "output_type": "stream",
     "text": [
      "/var/folders/2x/rfhzgyjn2zq2wlzk_kn4th680000gn/T/ipykernel_9410/2342058334.py:2: FutureWarning: The default of observed=False is deprecated and will be changed to True in a future version of pandas. Pass observed=False to retain current behavior or observed=True to adopt the future default and silence this warning.\n",
      "  df = (token_table\n",
      "/var/folders/2x/rfhzgyjn2zq2wlzk_kn4th680000gn/T/ipykernel_9410/2342058334.py:9: FutureWarning: The default of observed=False is deprecated and will be changed to True in a future version of pandas. Pass observed=False to retain current behavior or observed=True to adopt the future default and silence this warning.\n",
      "  pd.concat(\n",
      "/var/folders/2x/rfhzgyjn2zq2wlzk_kn4th680000gn/T/ipykernel_9410/2342058334.py:19: FutureWarning: The default of observed=False is deprecated and will be changed to True in a future version of pandas. Pass observed=False to retain current behavior or observed=True to adopt the future default and silence this warning.\n",
      "  pd.concat(\n",
      "/var/folders/2x/rfhzgyjn2zq2wlzk_kn4th680000gn/T/ipykernel_9410/2342058334.py:2: FutureWarning: The default of observed=False is deprecated and will be changed to True in a future version of pandas. Pass observed=False to retain current behavior or observed=True to adopt the future default and silence this warning.\n",
      "  df = (token_table\n",
      "/var/folders/2x/rfhzgyjn2zq2wlzk_kn4th680000gn/T/ipykernel_9410/2342058334.py:9: FutureWarning: The default of observed=False is deprecated and will be changed to True in a future version of pandas. Pass observed=False to retain current behavior or observed=True to adopt the future default and silence this warning.\n",
      "  pd.concat(\n",
      "/var/folders/2x/rfhzgyjn2zq2wlzk_kn4th680000gn/T/ipykernel_9410/2342058334.py:19: FutureWarning: The default of observed=False is deprecated and will be changed to True in a future version of pandas. Pass observed=False to retain current behavior or observed=True to adopt the future default and silence this warning.\n",
      "  pd.concat(\n",
      "/var/folders/2x/rfhzgyjn2zq2wlzk_kn4th680000gn/T/ipykernel_9410/2342058334.py:2: FutureWarning: The default of observed=False is deprecated and will be changed to True in a future version of pandas. Pass observed=False to retain current behavior or observed=True to adopt the future default and silence this warning.\n",
      "  df = (token_table\n",
      "/var/folders/2x/rfhzgyjn2zq2wlzk_kn4th680000gn/T/ipykernel_9410/2342058334.py:9: FutureWarning: The default of observed=False is deprecated and will be changed to True in a future version of pandas. Pass observed=False to retain current behavior or observed=True to adopt the future default and silence this warning.\n",
      "  pd.concat(\n"
     ]
    },
    {
     "name": "stdout",
     "output_type": "stream",
     "text": [
      "7131\n",
      "7132\n"
     ]
    },
    {
     "name": "stderr",
     "output_type": "stream",
     "text": [
      "/var/folders/2x/rfhzgyjn2zq2wlzk_kn4th680000gn/T/ipykernel_9410/2342058334.py:19: FutureWarning: The default of observed=False is deprecated and will be changed to True in a future version of pandas. Pass observed=False to retain current behavior or observed=True to adopt the future default and silence this warning.\n",
      "  pd.concat(\n",
      "/var/folders/2x/rfhzgyjn2zq2wlzk_kn4th680000gn/T/ipykernel_9410/2342058334.py:2: FutureWarning: The default of observed=False is deprecated and will be changed to True in a future version of pandas. Pass observed=False to retain current behavior or observed=True to adopt the future default and silence this warning.\n",
      "  df = (token_table\n",
      "/var/folders/2x/rfhzgyjn2zq2wlzk_kn4th680000gn/T/ipykernel_9410/2342058334.py:9: FutureWarning: The default of observed=False is deprecated and will be changed to True in a future version of pandas. Pass observed=False to retain current behavior or observed=True to adopt the future default and silence this warning.\n",
      "  pd.concat(\n",
      "/var/folders/2x/rfhzgyjn2zq2wlzk_kn4th680000gn/T/ipykernel_9410/2342058334.py:19: FutureWarning: The default of observed=False is deprecated and will be changed to True in a future version of pandas. Pass observed=False to retain current behavior or observed=True to adopt the future default and silence this warning.\n",
      "  pd.concat(\n",
      "/var/folders/2x/rfhzgyjn2zq2wlzk_kn4th680000gn/T/ipykernel_9410/2342058334.py:2: FutureWarning: The default of observed=False is deprecated and will be changed to True in a future version of pandas. Pass observed=False to retain current behavior or observed=True to adopt the future default and silence this warning.\n",
      "  df = (token_table\n",
      "/var/folders/2x/rfhzgyjn2zq2wlzk_kn4th680000gn/T/ipykernel_9410/2342058334.py:9: FutureWarning: The default of observed=False is deprecated and will be changed to True in a future version of pandas. Pass observed=False to retain current behavior or observed=True to adopt the future default and silence this warning.\n",
      "  pd.concat(\n",
      "/var/folders/2x/rfhzgyjn2zq2wlzk_kn4th680000gn/T/ipykernel_9410/2342058334.py:19: FutureWarning: The default of observed=False is deprecated and will be changed to True in a future version of pandas. Pass observed=False to retain current behavior or observed=True to adopt the future default and silence this warning.\n",
      "  pd.concat(\n",
      "/var/folders/2x/rfhzgyjn2zq2wlzk_kn4th680000gn/T/ipykernel_9410/2342058334.py:2: FutureWarning: The default of observed=False is deprecated and will be changed to True in a future version of pandas. Pass observed=False to retain current behavior or observed=True to adopt the future default and silence this warning.\n",
      "  df = (token_table\n",
      "/var/folders/2x/rfhzgyjn2zq2wlzk_kn4th680000gn/T/ipykernel_9410/2342058334.py:9: FutureWarning: The default of observed=False is deprecated and will be changed to True in a future version of pandas. Pass observed=False to retain current behavior or observed=True to adopt the future default and silence this warning.\n",
      "  pd.concat(\n"
     ]
    },
    {
     "name": "stdout",
     "output_type": "stream",
     "text": [
      "7133\n",
      "7134\n",
      "7135\n",
      "7136\n"
     ]
    },
    {
     "name": "stderr",
     "output_type": "stream",
     "text": [
      "/var/folders/2x/rfhzgyjn2zq2wlzk_kn4th680000gn/T/ipykernel_9410/2342058334.py:19: FutureWarning: The default of observed=False is deprecated and will be changed to True in a future version of pandas. Pass observed=False to retain current behavior or observed=True to adopt the future default and silence this warning.\n",
      "  pd.concat(\n",
      "/var/folders/2x/rfhzgyjn2zq2wlzk_kn4th680000gn/T/ipykernel_9410/2342058334.py:2: FutureWarning: The default of observed=False is deprecated and will be changed to True in a future version of pandas. Pass observed=False to retain current behavior or observed=True to adopt the future default and silence this warning.\n",
      "  df = (token_table\n",
      "/var/folders/2x/rfhzgyjn2zq2wlzk_kn4th680000gn/T/ipykernel_9410/2342058334.py:9: FutureWarning: The default of observed=False is deprecated and will be changed to True in a future version of pandas. Pass observed=False to retain current behavior or observed=True to adopt the future default and silence this warning.\n",
      "  pd.concat(\n",
      "/var/folders/2x/rfhzgyjn2zq2wlzk_kn4th680000gn/T/ipykernel_9410/2342058334.py:19: FutureWarning: The default of observed=False is deprecated and will be changed to True in a future version of pandas. Pass observed=False to retain current behavior or observed=True to adopt the future default and silence this warning.\n",
      "  pd.concat(\n",
      "/var/folders/2x/rfhzgyjn2zq2wlzk_kn4th680000gn/T/ipykernel_9410/2342058334.py:2: FutureWarning: The default of observed=False is deprecated and will be changed to True in a future version of pandas. Pass observed=False to retain current behavior or observed=True to adopt the future default and silence this warning.\n",
      "  df = (token_table\n",
      "/var/folders/2x/rfhzgyjn2zq2wlzk_kn4th680000gn/T/ipykernel_9410/2342058334.py:9: FutureWarning: The default of observed=False is deprecated and will be changed to True in a future version of pandas. Pass observed=False to retain current behavior or observed=True to adopt the future default and silence this warning.\n",
      "  pd.concat(\n",
      "/var/folders/2x/rfhzgyjn2zq2wlzk_kn4th680000gn/T/ipykernel_9410/2342058334.py:19: FutureWarning: The default of observed=False is deprecated and will be changed to True in a future version of pandas. Pass observed=False to retain current behavior or observed=True to adopt the future default and silence this warning.\n",
      "  pd.concat(\n",
      "/var/folders/2x/rfhzgyjn2zq2wlzk_kn4th680000gn/T/ipykernel_9410/2342058334.py:2: FutureWarning: The default of observed=False is deprecated and will be changed to True in a future version of pandas. Pass observed=False to retain current behavior or observed=True to adopt the future default and silence this warning.\n",
      "  df = (token_table\n",
      "/var/folders/2x/rfhzgyjn2zq2wlzk_kn4th680000gn/T/ipykernel_9410/2342058334.py:9: FutureWarning: The default of observed=False is deprecated and will be changed to True in a future version of pandas. Pass observed=False to retain current behavior or observed=True to adopt the future default and silence this warning.\n",
      "  pd.concat(\n",
      "/var/folders/2x/rfhzgyjn2zq2wlzk_kn4th680000gn/T/ipykernel_9410/2342058334.py:19: FutureWarning: The default of observed=False is deprecated and will be changed to True in a future version of pandas. Pass observed=False to retain current behavior or observed=True to adopt the future default and silence this warning.\n",
      "  pd.concat(\n",
      "/var/folders/2x/rfhzgyjn2zq2wlzk_kn4th680000gn/T/ipykernel_9410/2342058334.py:2: FutureWarning: The default of observed=False is deprecated and will be changed to True in a future version of pandas. Pass observed=False to retain current behavior or observed=True to adopt the future default and silence this warning.\n",
      "  df = (token_table\n",
      "/var/folders/2x/rfhzgyjn2zq2wlzk_kn4th680000gn/T/ipykernel_9410/2342058334.py:9: FutureWarning: The default of observed=False is deprecated and will be changed to True in a future version of pandas. Pass observed=False to retain current behavior or observed=True to adopt the future default and silence this warning.\n",
      "  pd.concat(\n",
      "/var/folders/2x/rfhzgyjn2zq2wlzk_kn4th680000gn/T/ipykernel_9410/2342058334.py:19: FutureWarning: The default of observed=False is deprecated and will be changed to True in a future version of pandas. Pass observed=False to retain current behavior or observed=True to adopt the future default and silence this warning.\n",
      "  pd.concat(\n"
     ]
    },
    {
     "name": "stdout",
     "output_type": "stream",
     "text": [
      "7137\n",
      "7138\n",
      "7139\n",
      "7140\n",
      "7141\n"
     ]
    },
    {
     "name": "stderr",
     "output_type": "stream",
     "text": [
      "/var/folders/2x/rfhzgyjn2zq2wlzk_kn4th680000gn/T/ipykernel_9410/2342058334.py:2: FutureWarning: The default of observed=False is deprecated and will be changed to True in a future version of pandas. Pass observed=False to retain current behavior or observed=True to adopt the future default and silence this warning.\n",
      "  df = (token_table\n",
      "/var/folders/2x/rfhzgyjn2zq2wlzk_kn4th680000gn/T/ipykernel_9410/2342058334.py:9: FutureWarning: The default of observed=False is deprecated and will be changed to True in a future version of pandas. Pass observed=False to retain current behavior or observed=True to adopt the future default and silence this warning.\n",
      "  pd.concat(\n",
      "/var/folders/2x/rfhzgyjn2zq2wlzk_kn4th680000gn/T/ipykernel_9410/2342058334.py:19: FutureWarning: The default of observed=False is deprecated and will be changed to True in a future version of pandas. Pass observed=False to retain current behavior or observed=True to adopt the future default and silence this warning.\n",
      "  pd.concat(\n",
      "/var/folders/2x/rfhzgyjn2zq2wlzk_kn4th680000gn/T/ipykernel_9410/2342058334.py:2: FutureWarning: The default of observed=False is deprecated and will be changed to True in a future version of pandas. Pass observed=False to retain current behavior or observed=True to adopt the future default and silence this warning.\n",
      "  df = (token_table\n",
      "/var/folders/2x/rfhzgyjn2zq2wlzk_kn4th680000gn/T/ipykernel_9410/2342058334.py:9: FutureWarning: The default of observed=False is deprecated and will be changed to True in a future version of pandas. Pass observed=False to retain current behavior or observed=True to adopt the future default and silence this warning.\n",
      "  pd.concat(\n",
      "/var/folders/2x/rfhzgyjn2zq2wlzk_kn4th680000gn/T/ipykernel_9410/2342058334.py:19: FutureWarning: The default of observed=False is deprecated and will be changed to True in a future version of pandas. Pass observed=False to retain current behavior or observed=True to adopt the future default and silence this warning.\n",
      "  pd.concat(\n",
      "/var/folders/2x/rfhzgyjn2zq2wlzk_kn4th680000gn/T/ipykernel_9410/2342058334.py:2: FutureWarning: The default of observed=False is deprecated and will be changed to True in a future version of pandas. Pass observed=False to retain current behavior or observed=True to adopt the future default and silence this warning.\n",
      "  df = (token_table\n",
      "/var/folders/2x/rfhzgyjn2zq2wlzk_kn4th680000gn/T/ipykernel_9410/2342058334.py:9: FutureWarning: The default of observed=False is deprecated and will be changed to True in a future version of pandas. Pass observed=False to retain current behavior or observed=True to adopt the future default and silence this warning.\n",
      "  pd.concat(\n",
      "/var/folders/2x/rfhzgyjn2zq2wlzk_kn4th680000gn/T/ipykernel_9410/2342058334.py:19: FutureWarning: The default of observed=False is deprecated and will be changed to True in a future version of pandas. Pass observed=False to retain current behavior or observed=True to adopt the future default and silence this warning.\n",
      "  pd.concat(\n",
      "/var/folders/2x/rfhzgyjn2zq2wlzk_kn4th680000gn/T/ipykernel_9410/2342058334.py:2: FutureWarning: The default of observed=False is deprecated and will be changed to True in a future version of pandas. Pass observed=False to retain current behavior or observed=True to adopt the future default and silence this warning.\n",
      "  df = (token_table\n"
     ]
    },
    {
     "name": "stdout",
     "output_type": "stream",
     "text": [
      "7142\n",
      "7143\n",
      "7144\n",
      "7145\n"
     ]
    },
    {
     "name": "stderr",
     "output_type": "stream",
     "text": [
      "/var/folders/2x/rfhzgyjn2zq2wlzk_kn4th680000gn/T/ipykernel_9410/2342058334.py:9: FutureWarning: The default of observed=False is deprecated and will be changed to True in a future version of pandas. Pass observed=False to retain current behavior or observed=True to adopt the future default and silence this warning.\n",
      "  pd.concat(\n",
      "/var/folders/2x/rfhzgyjn2zq2wlzk_kn4th680000gn/T/ipykernel_9410/2342058334.py:19: FutureWarning: The default of observed=False is deprecated and will be changed to True in a future version of pandas. Pass observed=False to retain current behavior or observed=True to adopt the future default and silence this warning.\n",
      "  pd.concat(\n",
      "/var/folders/2x/rfhzgyjn2zq2wlzk_kn4th680000gn/T/ipykernel_9410/2342058334.py:2: FutureWarning: The default of observed=False is deprecated and will be changed to True in a future version of pandas. Pass observed=False to retain current behavior or observed=True to adopt the future default and silence this warning.\n",
      "  df = (token_table\n",
      "/var/folders/2x/rfhzgyjn2zq2wlzk_kn4th680000gn/T/ipykernel_9410/2342058334.py:9: FutureWarning: The default of observed=False is deprecated and will be changed to True in a future version of pandas. Pass observed=False to retain current behavior or observed=True to adopt the future default and silence this warning.\n",
      "  pd.concat(\n",
      "/var/folders/2x/rfhzgyjn2zq2wlzk_kn4th680000gn/T/ipykernel_9410/2342058334.py:19: FutureWarning: The default of observed=False is deprecated and will be changed to True in a future version of pandas. Pass observed=False to retain current behavior or observed=True to adopt the future default and silence this warning.\n",
      "  pd.concat(\n",
      "/var/folders/2x/rfhzgyjn2zq2wlzk_kn4th680000gn/T/ipykernel_9410/2342058334.py:2: FutureWarning: The default of observed=False is deprecated and will be changed to True in a future version of pandas. Pass observed=False to retain current behavior or observed=True to adopt the future default and silence this warning.\n",
      "  df = (token_table\n",
      "/var/folders/2x/rfhzgyjn2zq2wlzk_kn4th680000gn/T/ipykernel_9410/2342058334.py:9: FutureWarning: The default of observed=False is deprecated and will be changed to True in a future version of pandas. Pass observed=False to retain current behavior or observed=True to adopt the future default and silence this warning.\n",
      "  pd.concat(\n",
      "/var/folders/2x/rfhzgyjn2zq2wlzk_kn4th680000gn/T/ipykernel_9410/2342058334.py:19: FutureWarning: The default of observed=False is deprecated and will be changed to True in a future version of pandas. Pass observed=False to retain current behavior or observed=True to adopt the future default and silence this warning.\n",
      "  pd.concat(\n",
      "/var/folders/2x/rfhzgyjn2zq2wlzk_kn4th680000gn/T/ipykernel_9410/2342058334.py:2: FutureWarning: The default of observed=False is deprecated and will be changed to True in a future version of pandas. Pass observed=False to retain current behavior or observed=True to adopt the future default and silence this warning.\n",
      "  df = (token_table\n",
      "/var/folders/2x/rfhzgyjn2zq2wlzk_kn4th680000gn/T/ipykernel_9410/2342058334.py:9: FutureWarning: The default of observed=False is deprecated and will be changed to True in a future version of pandas. Pass observed=False to retain current behavior or observed=True to adopt the future default and silence this warning.\n",
      "  pd.concat(\n",
      "/var/folders/2x/rfhzgyjn2zq2wlzk_kn4th680000gn/T/ipykernel_9410/2342058334.py:19: FutureWarning: The default of observed=False is deprecated and will be changed to True in a future version of pandas. Pass observed=False to retain current behavior or observed=True to adopt the future default and silence this warning.\n",
      "  pd.concat(\n"
     ]
    },
    {
     "name": "stdout",
     "output_type": "stream",
     "text": [
      "7146\n",
      "7147\n",
      "7148\n",
      "7149\n",
      "7150\n"
     ]
    },
    {
     "name": "stderr",
     "output_type": "stream",
     "text": [
      "/var/folders/2x/rfhzgyjn2zq2wlzk_kn4th680000gn/T/ipykernel_9410/2342058334.py:2: FutureWarning: The default of observed=False is deprecated and will be changed to True in a future version of pandas. Pass observed=False to retain current behavior or observed=True to adopt the future default and silence this warning.\n",
      "  df = (token_table\n",
      "/var/folders/2x/rfhzgyjn2zq2wlzk_kn4th680000gn/T/ipykernel_9410/2342058334.py:9: FutureWarning: The default of observed=False is deprecated and will be changed to True in a future version of pandas. Pass observed=False to retain current behavior or observed=True to adopt the future default and silence this warning.\n",
      "  pd.concat(\n",
      "/var/folders/2x/rfhzgyjn2zq2wlzk_kn4th680000gn/T/ipykernel_9410/2342058334.py:19: FutureWarning: The default of observed=False is deprecated and will be changed to True in a future version of pandas. Pass observed=False to retain current behavior or observed=True to adopt the future default and silence this warning.\n",
      "  pd.concat(\n",
      "/var/folders/2x/rfhzgyjn2zq2wlzk_kn4th680000gn/T/ipykernel_9410/2342058334.py:2: FutureWarning: The default of observed=False is deprecated and will be changed to True in a future version of pandas. Pass observed=False to retain current behavior or observed=True to adopt the future default and silence this warning.\n",
      "  df = (token_table\n",
      "/var/folders/2x/rfhzgyjn2zq2wlzk_kn4th680000gn/T/ipykernel_9410/2342058334.py:9: FutureWarning: The default of observed=False is deprecated and will be changed to True in a future version of pandas. Pass observed=False to retain current behavior or observed=True to adopt the future default and silence this warning.\n",
      "  pd.concat(\n",
      "/var/folders/2x/rfhzgyjn2zq2wlzk_kn4th680000gn/T/ipykernel_9410/2342058334.py:19: FutureWarning: The default of observed=False is deprecated and will be changed to True in a future version of pandas. Pass observed=False to retain current behavior or observed=True to adopt the future default and silence this warning.\n",
      "  pd.concat(\n",
      "/var/folders/2x/rfhzgyjn2zq2wlzk_kn4th680000gn/T/ipykernel_9410/2342058334.py:2: FutureWarning: The default of observed=False is deprecated and will be changed to True in a future version of pandas. Pass observed=False to retain current behavior or observed=True to adopt the future default and silence this warning.\n",
      "  df = (token_table\n",
      "/var/folders/2x/rfhzgyjn2zq2wlzk_kn4th680000gn/T/ipykernel_9410/2342058334.py:9: FutureWarning: The default of observed=False is deprecated and will be changed to True in a future version of pandas. Pass observed=False to retain current behavior or observed=True to adopt the future default and silence this warning.\n",
      "  pd.concat(\n",
      "/var/folders/2x/rfhzgyjn2zq2wlzk_kn4th680000gn/T/ipykernel_9410/2342058334.py:19: FutureWarning: The default of observed=False is deprecated and will be changed to True in a future version of pandas. Pass observed=False to retain current behavior or observed=True to adopt the future default and silence this warning.\n",
      "  pd.concat(\n",
      "/var/folders/2x/rfhzgyjn2zq2wlzk_kn4th680000gn/T/ipykernel_9410/2342058334.py:2: FutureWarning: The default of observed=False is deprecated and will be changed to True in a future version of pandas. Pass observed=False to retain current behavior or observed=True to adopt the future default and silence this warning.\n",
      "  df = (token_table\n",
      "/var/folders/2x/rfhzgyjn2zq2wlzk_kn4th680000gn/T/ipykernel_9410/2342058334.py:9: FutureWarning: The default of observed=False is deprecated and will be changed to True in a future version of pandas. Pass observed=False to retain current behavior or observed=True to adopt the future default and silence this warning.\n",
      "  pd.concat(\n",
      "/var/folders/2x/rfhzgyjn2zq2wlzk_kn4th680000gn/T/ipykernel_9410/2342058334.py:19: FutureWarning: The default of observed=False is deprecated and will be changed to True in a future version of pandas. Pass observed=False to retain current behavior or observed=True to adopt the future default and silence this warning.\n",
      "  pd.concat(\n",
      "/var/folders/2x/rfhzgyjn2zq2wlzk_kn4th680000gn/T/ipykernel_9410/2342058334.py:2: FutureWarning: The default of observed=False is deprecated and will be changed to True in a future version of pandas. Pass observed=False to retain current behavior or observed=True to adopt the future default and silence this warning.\n",
      "  df = (token_table\n",
      "/var/folders/2x/rfhzgyjn2zq2wlzk_kn4th680000gn/T/ipykernel_9410/2342058334.py:9: FutureWarning: The default of observed=False is deprecated and will be changed to True in a future version of pandas. Pass observed=False to retain current behavior or observed=True to adopt the future default and silence this warning.\n",
      "  pd.concat(\n",
      "/var/folders/2x/rfhzgyjn2zq2wlzk_kn4th680000gn/T/ipykernel_9410/2342058334.py:19: FutureWarning: The default of observed=False is deprecated and will be changed to True in a future version of pandas. Pass observed=False to retain current behavior or observed=True to adopt the future default and silence this warning.\n",
      "  pd.concat(\n",
      "/var/folders/2x/rfhzgyjn2zq2wlzk_kn4th680000gn/T/ipykernel_9410/2342058334.py:2: FutureWarning: The default of observed=False is deprecated and will be changed to True in a future version of pandas. Pass observed=False to retain current behavior or observed=True to adopt the future default and silence this warning.\n",
      "  df = (token_table\n",
      "/var/folders/2x/rfhzgyjn2zq2wlzk_kn4th680000gn/T/ipykernel_9410/2342058334.py:9: FutureWarning: The default of observed=False is deprecated and will be changed to True in a future version of pandas. Pass observed=False to retain current behavior or observed=True to adopt the future default and silence this warning.\n",
      "  pd.concat(\n",
      "/var/folders/2x/rfhzgyjn2zq2wlzk_kn4th680000gn/T/ipykernel_9410/2342058334.py:19: FutureWarning: The default of observed=False is deprecated and will be changed to True in a future version of pandas. Pass observed=False to retain current behavior or observed=True to adopt the future default and silence this warning.\n",
      "  pd.concat(\n",
      "/var/folders/2x/rfhzgyjn2zq2wlzk_kn4th680000gn/T/ipykernel_9410/2342058334.py:2: FutureWarning: The default of observed=False is deprecated and will be changed to True in a future version of pandas. Pass observed=False to retain current behavior or observed=True to adopt the future default and silence this warning.\n",
      "  df = (token_table\n",
      "/var/folders/2x/rfhzgyjn2zq2wlzk_kn4th680000gn/T/ipykernel_9410/2342058334.py:9: FutureWarning: The default of observed=False is deprecated and will be changed to True in a future version of pandas. Pass observed=False to retain current behavior or observed=True to adopt the future default and silence this warning.\n",
      "  pd.concat(\n",
      "/var/folders/2x/rfhzgyjn2zq2wlzk_kn4th680000gn/T/ipykernel_9410/2342058334.py:19: FutureWarning: The default of observed=False is deprecated and will be changed to True in a future version of pandas. Pass observed=False to retain current behavior or observed=True to adopt the future default and silence this warning.\n",
      "  pd.concat(\n",
      "/var/folders/2x/rfhzgyjn2zq2wlzk_kn4th680000gn/T/ipykernel_9410/2342058334.py:2: FutureWarning: The default of observed=False is deprecated and will be changed to True in a future version of pandas. Pass observed=False to retain current behavior or observed=True to adopt the future default and silence this warning.\n",
      "  df = (token_table\n"
     ]
    },
    {
     "name": "stdout",
     "output_type": "stream",
     "text": [
      "7151\n",
      "7152\n",
      "7153\n",
      "7154\n"
     ]
    },
    {
     "name": "stderr",
     "output_type": "stream",
     "text": [
      "/var/folders/2x/rfhzgyjn2zq2wlzk_kn4th680000gn/T/ipykernel_9410/2342058334.py:9: FutureWarning: The default of observed=False is deprecated and will be changed to True in a future version of pandas. Pass observed=False to retain current behavior or observed=True to adopt the future default and silence this warning.\n",
      "  pd.concat(\n",
      "/var/folders/2x/rfhzgyjn2zq2wlzk_kn4th680000gn/T/ipykernel_9410/2342058334.py:19: FutureWarning: The default of observed=False is deprecated and will be changed to True in a future version of pandas. Pass observed=False to retain current behavior or observed=True to adopt the future default and silence this warning.\n",
      "  pd.concat(\n",
      "/var/folders/2x/rfhzgyjn2zq2wlzk_kn4th680000gn/T/ipykernel_9410/2342058334.py:2: FutureWarning: The default of observed=False is deprecated and will be changed to True in a future version of pandas. Pass observed=False to retain current behavior or observed=True to adopt the future default and silence this warning.\n",
      "  df = (token_table\n",
      "/var/folders/2x/rfhzgyjn2zq2wlzk_kn4th680000gn/T/ipykernel_9410/2342058334.py:9: FutureWarning: The default of observed=False is deprecated and will be changed to True in a future version of pandas. Pass observed=False to retain current behavior or observed=True to adopt the future default and silence this warning.\n",
      "  pd.concat(\n",
      "/var/folders/2x/rfhzgyjn2zq2wlzk_kn4th680000gn/T/ipykernel_9410/2342058334.py:19: FutureWarning: The default of observed=False is deprecated and will be changed to True in a future version of pandas. Pass observed=False to retain current behavior or observed=True to adopt the future default and silence this warning.\n",
      "  pd.concat(\n",
      "/var/folders/2x/rfhzgyjn2zq2wlzk_kn4th680000gn/T/ipykernel_9410/2342058334.py:2: FutureWarning: The default of observed=False is deprecated and will be changed to True in a future version of pandas. Pass observed=False to retain current behavior or observed=True to adopt the future default and silence this warning.\n",
      "  df = (token_table\n",
      "/var/folders/2x/rfhzgyjn2zq2wlzk_kn4th680000gn/T/ipykernel_9410/2342058334.py:9: FutureWarning: The default of observed=False is deprecated and will be changed to True in a future version of pandas. Pass observed=False to retain current behavior or observed=True to adopt the future default and silence this warning.\n",
      "  pd.concat(\n",
      "/var/folders/2x/rfhzgyjn2zq2wlzk_kn4th680000gn/T/ipykernel_9410/2342058334.py:19: FutureWarning: The default of observed=False is deprecated and will be changed to True in a future version of pandas. Pass observed=False to retain current behavior or observed=True to adopt the future default and silence this warning.\n",
      "  pd.concat(\n",
      "/var/folders/2x/rfhzgyjn2zq2wlzk_kn4th680000gn/T/ipykernel_9410/2342058334.py:2: FutureWarning: The default of observed=False is deprecated and will be changed to True in a future version of pandas. Pass observed=False to retain current behavior or observed=True to adopt the future default and silence this warning.\n",
      "  df = (token_table\n",
      "/var/folders/2x/rfhzgyjn2zq2wlzk_kn4th680000gn/T/ipykernel_9410/2342058334.py:9: FutureWarning: The default of observed=False is deprecated and will be changed to True in a future version of pandas. Pass observed=False to retain current behavior or observed=True to adopt the future default and silence this warning.\n",
      "  pd.concat(\n",
      "/var/folders/2x/rfhzgyjn2zq2wlzk_kn4th680000gn/T/ipykernel_9410/2342058334.py:19: FutureWarning: The default of observed=False is deprecated and will be changed to True in a future version of pandas. Pass observed=False to retain current behavior or observed=True to adopt the future default and silence this warning.\n",
      "  pd.concat(\n",
      "/var/folders/2x/rfhzgyjn2zq2wlzk_kn4th680000gn/T/ipykernel_9410/2342058334.py:2: FutureWarning: The default of observed=False is deprecated and will be changed to True in a future version of pandas. Pass observed=False to retain current behavior or observed=True to adopt the future default and silence this warning.\n",
      "  df = (token_table\n"
     ]
    },
    {
     "name": "stdout",
     "output_type": "stream",
     "text": [
      "7155\n",
      "7156\n",
      "7157\n",
      "7158\n"
     ]
    },
    {
     "name": "stderr",
     "output_type": "stream",
     "text": [
      "/var/folders/2x/rfhzgyjn2zq2wlzk_kn4th680000gn/T/ipykernel_9410/2342058334.py:9: FutureWarning: The default of observed=False is deprecated and will be changed to True in a future version of pandas. Pass observed=False to retain current behavior or observed=True to adopt the future default and silence this warning.\n",
      "  pd.concat(\n",
      "/var/folders/2x/rfhzgyjn2zq2wlzk_kn4th680000gn/T/ipykernel_9410/2342058334.py:19: FutureWarning: The default of observed=False is deprecated and will be changed to True in a future version of pandas. Pass observed=False to retain current behavior or observed=True to adopt the future default and silence this warning.\n",
      "  pd.concat(\n",
      "/var/folders/2x/rfhzgyjn2zq2wlzk_kn4th680000gn/T/ipykernel_9410/2342058334.py:2: FutureWarning: The default of observed=False is deprecated and will be changed to True in a future version of pandas. Pass observed=False to retain current behavior or observed=True to adopt the future default and silence this warning.\n",
      "  df = (token_table\n",
      "/var/folders/2x/rfhzgyjn2zq2wlzk_kn4th680000gn/T/ipykernel_9410/2342058334.py:9: FutureWarning: The default of observed=False is deprecated and will be changed to True in a future version of pandas. Pass observed=False to retain current behavior or observed=True to adopt the future default and silence this warning.\n",
      "  pd.concat(\n",
      "/var/folders/2x/rfhzgyjn2zq2wlzk_kn4th680000gn/T/ipykernel_9410/2342058334.py:19: FutureWarning: The default of observed=False is deprecated and will be changed to True in a future version of pandas. Pass observed=False to retain current behavior or observed=True to adopt the future default and silence this warning.\n",
      "  pd.concat(\n",
      "/var/folders/2x/rfhzgyjn2zq2wlzk_kn4th680000gn/T/ipykernel_9410/2342058334.py:2: FutureWarning: The default of observed=False is deprecated and will be changed to True in a future version of pandas. Pass observed=False to retain current behavior or observed=True to adopt the future default and silence this warning.\n",
      "  df = (token_table\n"
     ]
    },
    {
     "name": "stdout",
     "output_type": "stream",
     "text": [
      "7159\n",
      "7160\n"
     ]
    },
    {
     "name": "stderr",
     "output_type": "stream",
     "text": [
      "/var/folders/2x/rfhzgyjn2zq2wlzk_kn4th680000gn/T/ipykernel_9410/2342058334.py:9: FutureWarning: The default of observed=False is deprecated and will be changed to True in a future version of pandas. Pass observed=False to retain current behavior or observed=True to adopt the future default and silence this warning.\n",
      "  pd.concat(\n",
      "/var/folders/2x/rfhzgyjn2zq2wlzk_kn4th680000gn/T/ipykernel_9410/2342058334.py:19: FutureWarning: The default of observed=False is deprecated and will be changed to True in a future version of pandas. Pass observed=False to retain current behavior or observed=True to adopt the future default and silence this warning.\n",
      "  pd.concat(\n",
      "/var/folders/2x/rfhzgyjn2zq2wlzk_kn4th680000gn/T/ipykernel_9410/2342058334.py:2: FutureWarning: The default of observed=False is deprecated and will be changed to True in a future version of pandas. Pass observed=False to retain current behavior or observed=True to adopt the future default and silence this warning.\n",
      "  df = (token_table\n",
      "/var/folders/2x/rfhzgyjn2zq2wlzk_kn4th680000gn/T/ipykernel_9410/2342058334.py:9: FutureWarning: The default of observed=False is deprecated and will be changed to True in a future version of pandas. Pass observed=False to retain current behavior or observed=True to adopt the future default and silence this warning.\n",
      "  pd.concat(\n",
      "/var/folders/2x/rfhzgyjn2zq2wlzk_kn4th680000gn/T/ipykernel_9410/2342058334.py:19: FutureWarning: The default of observed=False is deprecated and will be changed to True in a future version of pandas. Pass observed=False to retain current behavior or observed=True to adopt the future default and silence this warning.\n",
      "  pd.concat(\n",
      "/var/folders/2x/rfhzgyjn2zq2wlzk_kn4th680000gn/T/ipykernel_9410/2342058334.py:2: FutureWarning: The default of observed=False is deprecated and will be changed to True in a future version of pandas. Pass observed=False to retain current behavior or observed=True to adopt the future default and silence this warning.\n",
      "  df = (token_table\n",
      "/var/folders/2x/rfhzgyjn2zq2wlzk_kn4th680000gn/T/ipykernel_9410/2342058334.py:9: FutureWarning: The default of observed=False is deprecated and will be changed to True in a future version of pandas. Pass observed=False to retain current behavior or observed=True to adopt the future default and silence this warning.\n",
      "  pd.concat(\n",
      "/var/folders/2x/rfhzgyjn2zq2wlzk_kn4th680000gn/T/ipykernel_9410/2342058334.py:19: FutureWarning: The default of observed=False is deprecated and will be changed to True in a future version of pandas. Pass observed=False to retain current behavior or observed=True to adopt the future default and silence this warning.\n",
      "  pd.concat(\n"
     ]
    },
    {
     "name": "stdout",
     "output_type": "stream",
     "text": [
      "7161\n",
      "7162\n",
      "7163\n"
     ]
    },
    {
     "name": "stderr",
     "output_type": "stream",
     "text": [
      "/var/folders/2x/rfhzgyjn2zq2wlzk_kn4th680000gn/T/ipykernel_9410/2342058334.py:2: FutureWarning: The default of observed=False is deprecated and will be changed to True in a future version of pandas. Pass observed=False to retain current behavior or observed=True to adopt the future default and silence this warning.\n",
      "  df = (token_table\n",
      "/var/folders/2x/rfhzgyjn2zq2wlzk_kn4th680000gn/T/ipykernel_9410/2342058334.py:9: FutureWarning: The default of observed=False is deprecated and will be changed to True in a future version of pandas. Pass observed=False to retain current behavior or observed=True to adopt the future default and silence this warning.\n",
      "  pd.concat(\n",
      "/var/folders/2x/rfhzgyjn2zq2wlzk_kn4th680000gn/T/ipykernel_9410/2342058334.py:19: FutureWarning: The default of observed=False is deprecated and will be changed to True in a future version of pandas. Pass observed=False to retain current behavior or observed=True to adopt the future default and silence this warning.\n",
      "  pd.concat(\n",
      "/var/folders/2x/rfhzgyjn2zq2wlzk_kn4th680000gn/T/ipykernel_9410/2342058334.py:2: FutureWarning: The default of observed=False is deprecated and will be changed to True in a future version of pandas. Pass observed=False to retain current behavior or observed=True to adopt the future default and silence this warning.\n",
      "  df = (token_table\n",
      "/var/folders/2x/rfhzgyjn2zq2wlzk_kn4th680000gn/T/ipykernel_9410/2342058334.py:9: FutureWarning: The default of observed=False is deprecated and will be changed to True in a future version of pandas. Pass observed=False to retain current behavior or observed=True to adopt the future default and silence this warning.\n",
      "  pd.concat(\n",
      "/var/folders/2x/rfhzgyjn2zq2wlzk_kn4th680000gn/T/ipykernel_9410/2342058334.py:19: FutureWarning: The default of observed=False is deprecated and will be changed to True in a future version of pandas. Pass observed=False to retain current behavior or observed=True to adopt the future default and silence this warning.\n",
      "  pd.concat(\n",
      "/var/folders/2x/rfhzgyjn2zq2wlzk_kn4th680000gn/T/ipykernel_9410/2342058334.py:2: FutureWarning: The default of observed=False is deprecated and will be changed to True in a future version of pandas. Pass observed=False to retain current behavior or observed=True to adopt the future default and silence this warning.\n",
      "  df = (token_table\n",
      "/var/folders/2x/rfhzgyjn2zq2wlzk_kn4th680000gn/T/ipykernel_9410/2342058334.py:9: FutureWarning: The default of observed=False is deprecated and will be changed to True in a future version of pandas. Pass observed=False to retain current behavior or observed=True to adopt the future default and silence this warning.\n",
      "  pd.concat(\n",
      "/var/folders/2x/rfhzgyjn2zq2wlzk_kn4th680000gn/T/ipykernel_9410/2342058334.py:19: FutureWarning: The default of observed=False is deprecated and will be changed to True in a future version of pandas. Pass observed=False to retain current behavior or observed=True to adopt the future default and silence this warning.\n",
      "  pd.concat(\n",
      "/var/folders/2x/rfhzgyjn2zq2wlzk_kn4th680000gn/T/ipykernel_9410/2342058334.py:2: FutureWarning: The default of observed=False is deprecated and will be changed to True in a future version of pandas. Pass observed=False to retain current behavior or observed=True to adopt the future default and silence this warning.\n",
      "  df = (token_table\n"
     ]
    },
    {
     "name": "stdout",
     "output_type": "stream",
     "text": [
      "7164\n",
      "7165\n",
      "7166\n",
      "7167\n"
     ]
    },
    {
     "name": "stderr",
     "output_type": "stream",
     "text": [
      "/var/folders/2x/rfhzgyjn2zq2wlzk_kn4th680000gn/T/ipykernel_9410/2342058334.py:9: FutureWarning: The default of observed=False is deprecated and will be changed to True in a future version of pandas. Pass observed=False to retain current behavior or observed=True to adopt the future default and silence this warning.\n",
      "  pd.concat(\n",
      "/var/folders/2x/rfhzgyjn2zq2wlzk_kn4th680000gn/T/ipykernel_9410/2342058334.py:19: FutureWarning: The default of observed=False is deprecated and will be changed to True in a future version of pandas. Pass observed=False to retain current behavior or observed=True to adopt the future default and silence this warning.\n",
      "  pd.concat(\n",
      "/var/folders/2x/rfhzgyjn2zq2wlzk_kn4th680000gn/T/ipykernel_9410/2342058334.py:2: FutureWarning: The default of observed=False is deprecated and will be changed to True in a future version of pandas. Pass observed=False to retain current behavior or observed=True to adopt the future default and silence this warning.\n",
      "  df = (token_table\n",
      "/var/folders/2x/rfhzgyjn2zq2wlzk_kn4th680000gn/T/ipykernel_9410/2342058334.py:9: FutureWarning: The default of observed=False is deprecated and will be changed to True in a future version of pandas. Pass observed=False to retain current behavior or observed=True to adopt the future default and silence this warning.\n",
      "  pd.concat(\n",
      "/var/folders/2x/rfhzgyjn2zq2wlzk_kn4th680000gn/T/ipykernel_9410/2342058334.py:19: FutureWarning: The default of observed=False is deprecated and will be changed to True in a future version of pandas. Pass observed=False to retain current behavior or observed=True to adopt the future default and silence this warning.\n",
      "  pd.concat(\n",
      "/var/folders/2x/rfhzgyjn2zq2wlzk_kn4th680000gn/T/ipykernel_9410/2342058334.py:2: FutureWarning: The default of observed=False is deprecated and will be changed to True in a future version of pandas. Pass observed=False to retain current behavior or observed=True to adopt the future default and silence this warning.\n",
      "  df = (token_table\n",
      "/var/folders/2x/rfhzgyjn2zq2wlzk_kn4th680000gn/T/ipykernel_9410/2342058334.py:9: FutureWarning: The default of observed=False is deprecated and will be changed to True in a future version of pandas. Pass observed=False to retain current behavior or observed=True to adopt the future default and silence this warning.\n",
      "  pd.concat(\n",
      "/var/folders/2x/rfhzgyjn2zq2wlzk_kn4th680000gn/T/ipykernel_9410/2342058334.py:19: FutureWarning: The default of observed=False is deprecated and will be changed to True in a future version of pandas. Pass observed=False to retain current behavior or observed=True to adopt the future default and silence this warning.\n",
      "  pd.concat(\n",
      "/var/folders/2x/rfhzgyjn2zq2wlzk_kn4th680000gn/T/ipykernel_9410/2342058334.py:2: FutureWarning: The default of observed=False is deprecated and will be changed to True in a future version of pandas. Pass observed=False to retain current behavior or observed=True to adopt the future default and silence this warning.\n",
      "  df = (token_table\n"
     ]
    },
    {
     "name": "stdout",
     "output_type": "stream",
     "text": [
      "7168\n",
      "7169\n",
      "7170\n"
     ]
    },
    {
     "name": "stderr",
     "output_type": "stream",
     "text": [
      "/var/folders/2x/rfhzgyjn2zq2wlzk_kn4th680000gn/T/ipykernel_9410/2342058334.py:9: FutureWarning: The default of observed=False is deprecated and will be changed to True in a future version of pandas. Pass observed=False to retain current behavior or observed=True to adopt the future default and silence this warning.\n",
      "  pd.concat(\n",
      "/var/folders/2x/rfhzgyjn2zq2wlzk_kn4th680000gn/T/ipykernel_9410/2342058334.py:19: FutureWarning: The default of observed=False is deprecated and will be changed to True in a future version of pandas. Pass observed=False to retain current behavior or observed=True to adopt the future default and silence this warning.\n",
      "  pd.concat(\n",
      "/var/folders/2x/rfhzgyjn2zq2wlzk_kn4th680000gn/T/ipykernel_9410/2342058334.py:2: FutureWarning: The default of observed=False is deprecated and will be changed to True in a future version of pandas. Pass observed=False to retain current behavior or observed=True to adopt the future default and silence this warning.\n",
      "  df = (token_table\n",
      "/var/folders/2x/rfhzgyjn2zq2wlzk_kn4th680000gn/T/ipykernel_9410/2342058334.py:9: FutureWarning: The default of observed=False is deprecated and will be changed to True in a future version of pandas. Pass observed=False to retain current behavior or observed=True to adopt the future default and silence this warning.\n",
      "  pd.concat(\n",
      "/var/folders/2x/rfhzgyjn2zq2wlzk_kn4th680000gn/T/ipykernel_9410/2342058334.py:19: FutureWarning: The default of observed=False is deprecated and will be changed to True in a future version of pandas. Pass observed=False to retain current behavior or observed=True to adopt the future default and silence this warning.\n",
      "  pd.concat(\n",
      "/var/folders/2x/rfhzgyjn2zq2wlzk_kn4th680000gn/T/ipykernel_9410/2342058334.py:2: FutureWarning: The default of observed=False is deprecated and will be changed to True in a future version of pandas. Pass observed=False to retain current behavior or observed=True to adopt the future default and silence this warning.\n",
      "  df = (token_table\n",
      "/var/folders/2x/rfhzgyjn2zq2wlzk_kn4th680000gn/T/ipykernel_9410/2342058334.py:9: FutureWarning: The default of observed=False is deprecated and will be changed to True in a future version of pandas. Pass observed=False to retain current behavior or observed=True to adopt the future default and silence this warning.\n",
      "  pd.concat(\n",
      "/var/folders/2x/rfhzgyjn2zq2wlzk_kn4th680000gn/T/ipykernel_9410/2342058334.py:19: FutureWarning: The default of observed=False is deprecated and will be changed to True in a future version of pandas. Pass observed=False to retain current behavior or observed=True to adopt the future default and silence this warning.\n",
      "  pd.concat(\n"
     ]
    },
    {
     "name": "stdout",
     "output_type": "stream",
     "text": [
      "7171\n",
      "7172\n",
      "7173\n"
     ]
    },
    {
     "name": "stderr",
     "output_type": "stream",
     "text": [
      "/var/folders/2x/rfhzgyjn2zq2wlzk_kn4th680000gn/T/ipykernel_9410/2342058334.py:2: FutureWarning: The default of observed=False is deprecated and will be changed to True in a future version of pandas. Pass observed=False to retain current behavior or observed=True to adopt the future default and silence this warning.\n",
      "  df = (token_table\n",
      "/var/folders/2x/rfhzgyjn2zq2wlzk_kn4th680000gn/T/ipykernel_9410/2342058334.py:9: FutureWarning: The default of observed=False is deprecated and will be changed to True in a future version of pandas. Pass observed=False to retain current behavior or observed=True to adopt the future default and silence this warning.\n",
      "  pd.concat(\n",
      "/var/folders/2x/rfhzgyjn2zq2wlzk_kn4th680000gn/T/ipykernel_9410/2342058334.py:19: FutureWarning: The default of observed=False is deprecated and will be changed to True in a future version of pandas. Pass observed=False to retain current behavior or observed=True to adopt the future default and silence this warning.\n",
      "  pd.concat(\n",
      "/var/folders/2x/rfhzgyjn2zq2wlzk_kn4th680000gn/T/ipykernel_9410/2342058334.py:2: FutureWarning: The default of observed=False is deprecated and will be changed to True in a future version of pandas. Pass observed=False to retain current behavior or observed=True to adopt the future default and silence this warning.\n",
      "  df = (token_table\n",
      "/var/folders/2x/rfhzgyjn2zq2wlzk_kn4th680000gn/T/ipykernel_9410/2342058334.py:9: FutureWarning: The default of observed=False is deprecated and will be changed to True in a future version of pandas. Pass observed=False to retain current behavior or observed=True to adopt the future default and silence this warning.\n",
      "  pd.concat(\n",
      "/var/folders/2x/rfhzgyjn2zq2wlzk_kn4th680000gn/T/ipykernel_9410/2342058334.py:19: FutureWarning: The default of observed=False is deprecated and will be changed to True in a future version of pandas. Pass observed=False to retain current behavior or observed=True to adopt the future default and silence this warning.\n",
      "  pd.concat(\n",
      "/var/folders/2x/rfhzgyjn2zq2wlzk_kn4th680000gn/T/ipykernel_9410/2342058334.py:2: FutureWarning: The default of observed=False is deprecated and will be changed to True in a future version of pandas. Pass observed=False to retain current behavior or observed=True to adopt the future default and silence this warning.\n",
      "  df = (token_table\n",
      "/var/folders/2x/rfhzgyjn2zq2wlzk_kn4th680000gn/T/ipykernel_9410/2342058334.py:9: FutureWarning: The default of observed=False is deprecated and will be changed to True in a future version of pandas. Pass observed=False to retain current behavior or observed=True to adopt the future default and silence this warning.\n",
      "  pd.concat(\n",
      "/var/folders/2x/rfhzgyjn2zq2wlzk_kn4th680000gn/T/ipykernel_9410/2342058334.py:19: FutureWarning: The default of observed=False is deprecated and will be changed to True in a future version of pandas. Pass observed=False to retain current behavior or observed=True to adopt the future default and silence this warning.\n",
      "  pd.concat(\n",
      "/var/folders/2x/rfhzgyjn2zq2wlzk_kn4th680000gn/T/ipykernel_9410/2342058334.py:2: FutureWarning: The default of observed=False is deprecated and will be changed to True in a future version of pandas. Pass observed=False to retain current behavior or observed=True to adopt the future default and silence this warning.\n",
      "  df = (token_table\n",
      "/var/folders/2x/rfhzgyjn2zq2wlzk_kn4th680000gn/T/ipykernel_9410/2342058334.py:9: FutureWarning: The default of observed=False is deprecated and will be changed to True in a future version of pandas. Pass observed=False to retain current behavior or observed=True to adopt the future default and silence this warning.\n",
      "  pd.concat(\n",
      "/var/folders/2x/rfhzgyjn2zq2wlzk_kn4th680000gn/T/ipykernel_9410/2342058334.py:19: FutureWarning: The default of observed=False is deprecated and will be changed to True in a future version of pandas. Pass observed=False to retain current behavior or observed=True to adopt the future default and silence this warning.\n",
      "  pd.concat(\n",
      "/var/folders/2x/rfhzgyjn2zq2wlzk_kn4th680000gn/T/ipykernel_9410/2342058334.py:2: FutureWarning: The default of observed=False is deprecated and will be changed to True in a future version of pandas. Pass observed=False to retain current behavior or observed=True to adopt the future default and silence this warning.\n",
      "  df = (token_table\n",
      "/var/folders/2x/rfhzgyjn2zq2wlzk_kn4th680000gn/T/ipykernel_9410/2342058334.py:9: FutureWarning: The default of observed=False is deprecated and will be changed to True in a future version of pandas. Pass observed=False to retain current behavior or observed=True to adopt the future default and silence this warning.\n",
      "  pd.concat(\n",
      "/var/folders/2x/rfhzgyjn2zq2wlzk_kn4th680000gn/T/ipykernel_9410/2342058334.py:19: FutureWarning: The default of observed=False is deprecated and will be changed to True in a future version of pandas. Pass observed=False to retain current behavior or observed=True to adopt the future default and silence this warning.\n",
      "  pd.concat(\n"
     ]
    },
    {
     "name": "stdout",
     "output_type": "stream",
     "text": [
      "7174\n",
      "7175\n",
      "7176\n"
     ]
    },
    {
     "name": "stderr",
     "output_type": "stream",
     "text": [
      "/var/folders/2x/rfhzgyjn2zq2wlzk_kn4th680000gn/T/ipykernel_9410/2342058334.py:2: FutureWarning: The default of observed=False is deprecated and will be changed to True in a future version of pandas. Pass observed=False to retain current behavior or observed=True to adopt the future default and silence this warning.\n",
      "  df = (token_table\n",
      "/var/folders/2x/rfhzgyjn2zq2wlzk_kn4th680000gn/T/ipykernel_9410/2342058334.py:9: FutureWarning: The default of observed=False is deprecated and will be changed to True in a future version of pandas. Pass observed=False to retain current behavior or observed=True to adopt the future default and silence this warning.\n",
      "  pd.concat(\n",
      "/var/folders/2x/rfhzgyjn2zq2wlzk_kn4th680000gn/T/ipykernel_9410/2342058334.py:19: FutureWarning: The default of observed=False is deprecated and will be changed to True in a future version of pandas. Pass observed=False to retain current behavior or observed=True to adopt the future default and silence this warning.\n",
      "  pd.concat(\n",
      "/var/folders/2x/rfhzgyjn2zq2wlzk_kn4th680000gn/T/ipykernel_9410/2342058334.py:2: FutureWarning: The default of observed=False is deprecated and will be changed to True in a future version of pandas. Pass observed=False to retain current behavior or observed=True to adopt the future default and silence this warning.\n",
      "  df = (token_table\n",
      "/var/folders/2x/rfhzgyjn2zq2wlzk_kn4th680000gn/T/ipykernel_9410/2342058334.py:9: FutureWarning: The default of observed=False is deprecated and will be changed to True in a future version of pandas. Pass observed=False to retain current behavior or observed=True to adopt the future default and silence this warning.\n",
      "  pd.concat(\n",
      "/var/folders/2x/rfhzgyjn2zq2wlzk_kn4th680000gn/T/ipykernel_9410/2342058334.py:19: FutureWarning: The default of observed=False is deprecated and will be changed to True in a future version of pandas. Pass observed=False to retain current behavior or observed=True to adopt the future default and silence this warning.\n",
      "  pd.concat(\n",
      "/var/folders/2x/rfhzgyjn2zq2wlzk_kn4th680000gn/T/ipykernel_9410/2342058334.py:2: FutureWarning: The default of observed=False is deprecated and will be changed to True in a future version of pandas. Pass observed=False to retain current behavior or observed=True to adopt the future default and silence this warning.\n",
      "  df = (token_table\n",
      "/var/folders/2x/rfhzgyjn2zq2wlzk_kn4th680000gn/T/ipykernel_9410/2342058334.py:9: FutureWarning: The default of observed=False is deprecated and will be changed to True in a future version of pandas. Pass observed=False to retain current behavior or observed=True to adopt the future default and silence this warning.\n",
      "  pd.concat(\n",
      "/var/folders/2x/rfhzgyjn2zq2wlzk_kn4th680000gn/T/ipykernel_9410/2342058334.py:19: FutureWarning: The default of observed=False is deprecated and will be changed to True in a future version of pandas. Pass observed=False to retain current behavior or observed=True to adopt the future default and silence this warning.\n",
      "  pd.concat(\n",
      "/var/folders/2x/rfhzgyjn2zq2wlzk_kn4th680000gn/T/ipykernel_9410/2342058334.py:2: FutureWarning: The default of observed=False is deprecated and will be changed to True in a future version of pandas. Pass observed=False to retain current behavior or observed=True to adopt the future default and silence this warning.\n",
      "  df = (token_table\n",
      "/var/folders/2x/rfhzgyjn2zq2wlzk_kn4th680000gn/T/ipykernel_9410/2342058334.py:9: FutureWarning: The default of observed=False is deprecated and will be changed to True in a future version of pandas. Pass observed=False to retain current behavior or observed=True to adopt the future default and silence this warning.\n",
      "  pd.concat(\n",
      "/var/folders/2x/rfhzgyjn2zq2wlzk_kn4th680000gn/T/ipykernel_9410/2342058334.py:19: FutureWarning: The default of observed=False is deprecated and will be changed to True in a future version of pandas. Pass observed=False to retain current behavior or observed=True to adopt the future default and silence this warning.\n",
      "  pd.concat(\n"
     ]
    },
    {
     "name": "stdout",
     "output_type": "stream",
     "text": [
      "7177\n",
      "7178\n",
      "7179\n",
      "7180\n"
     ]
    },
    {
     "name": "stderr",
     "output_type": "stream",
     "text": [
      "/var/folders/2x/rfhzgyjn2zq2wlzk_kn4th680000gn/T/ipykernel_9410/2342058334.py:2: FutureWarning: The default of observed=False is deprecated and will be changed to True in a future version of pandas. Pass observed=False to retain current behavior or observed=True to adopt the future default and silence this warning.\n",
      "  df = (token_table\n",
      "/var/folders/2x/rfhzgyjn2zq2wlzk_kn4th680000gn/T/ipykernel_9410/2342058334.py:9: FutureWarning: The default of observed=False is deprecated and will be changed to True in a future version of pandas. Pass observed=False to retain current behavior or observed=True to adopt the future default and silence this warning.\n",
      "  pd.concat(\n",
      "/var/folders/2x/rfhzgyjn2zq2wlzk_kn4th680000gn/T/ipykernel_9410/2342058334.py:19: FutureWarning: The default of observed=False is deprecated and will be changed to True in a future version of pandas. Pass observed=False to retain current behavior or observed=True to adopt the future default and silence this warning.\n",
      "  pd.concat(\n",
      "/var/folders/2x/rfhzgyjn2zq2wlzk_kn4th680000gn/T/ipykernel_9410/2342058334.py:2: FutureWarning: The default of observed=False is deprecated and will be changed to True in a future version of pandas. Pass observed=False to retain current behavior or observed=True to adopt the future default and silence this warning.\n",
      "  df = (token_table\n",
      "/var/folders/2x/rfhzgyjn2zq2wlzk_kn4th680000gn/T/ipykernel_9410/2342058334.py:9: FutureWarning: The default of observed=False is deprecated and will be changed to True in a future version of pandas. Pass observed=False to retain current behavior or observed=True to adopt the future default and silence this warning.\n",
      "  pd.concat(\n",
      "/var/folders/2x/rfhzgyjn2zq2wlzk_kn4th680000gn/T/ipykernel_9410/2342058334.py:19: FutureWarning: The default of observed=False is deprecated and will be changed to True in a future version of pandas. Pass observed=False to retain current behavior or observed=True to adopt the future default and silence this warning.\n",
      "  pd.concat(\n",
      "/var/folders/2x/rfhzgyjn2zq2wlzk_kn4th680000gn/T/ipykernel_9410/2342058334.py:2: FutureWarning: The default of observed=False is deprecated and will be changed to True in a future version of pandas. Pass observed=False to retain current behavior or observed=True to adopt the future default and silence this warning.\n",
      "  df = (token_table\n",
      "/var/folders/2x/rfhzgyjn2zq2wlzk_kn4th680000gn/T/ipykernel_9410/2342058334.py:9: FutureWarning: The default of observed=False is deprecated and will be changed to True in a future version of pandas. Pass observed=False to retain current behavior or observed=True to adopt the future default and silence this warning.\n",
      "  pd.concat(\n",
      "/var/folders/2x/rfhzgyjn2zq2wlzk_kn4th680000gn/T/ipykernel_9410/2342058334.py:19: FutureWarning: The default of observed=False is deprecated and will be changed to True in a future version of pandas. Pass observed=False to retain current behavior or observed=True to adopt the future default and silence this warning.\n",
      "  pd.concat(\n"
     ]
    },
    {
     "name": "stdout",
     "output_type": "stream",
     "text": [
      "7181\n",
      "7182\n",
      "7183\n",
      "7184\n"
     ]
    },
    {
     "name": "stderr",
     "output_type": "stream",
     "text": [
      "/var/folders/2x/rfhzgyjn2zq2wlzk_kn4th680000gn/T/ipykernel_9410/2342058334.py:2: FutureWarning: The default of observed=False is deprecated and will be changed to True in a future version of pandas. Pass observed=False to retain current behavior or observed=True to adopt the future default and silence this warning.\n",
      "  df = (token_table\n",
      "/var/folders/2x/rfhzgyjn2zq2wlzk_kn4th680000gn/T/ipykernel_9410/2342058334.py:9: FutureWarning: The default of observed=False is deprecated and will be changed to True in a future version of pandas. Pass observed=False to retain current behavior or observed=True to adopt the future default and silence this warning.\n",
      "  pd.concat(\n",
      "/var/folders/2x/rfhzgyjn2zq2wlzk_kn4th680000gn/T/ipykernel_9410/2342058334.py:19: FutureWarning: The default of observed=False is deprecated and will be changed to True in a future version of pandas. Pass observed=False to retain current behavior or observed=True to adopt the future default and silence this warning.\n",
      "  pd.concat(\n",
      "/var/folders/2x/rfhzgyjn2zq2wlzk_kn4th680000gn/T/ipykernel_9410/2342058334.py:2: FutureWarning: The default of observed=False is deprecated and will be changed to True in a future version of pandas. Pass observed=False to retain current behavior or observed=True to adopt the future default and silence this warning.\n",
      "  df = (token_table\n",
      "/var/folders/2x/rfhzgyjn2zq2wlzk_kn4th680000gn/T/ipykernel_9410/2342058334.py:9: FutureWarning: The default of observed=False is deprecated and will be changed to True in a future version of pandas. Pass observed=False to retain current behavior or observed=True to adopt the future default and silence this warning.\n",
      "  pd.concat(\n",
      "/var/folders/2x/rfhzgyjn2zq2wlzk_kn4th680000gn/T/ipykernel_9410/2342058334.py:19: FutureWarning: The default of observed=False is deprecated and will be changed to True in a future version of pandas. Pass observed=False to retain current behavior or observed=True to adopt the future default and silence this warning.\n",
      "  pd.concat(\n",
      "/var/folders/2x/rfhzgyjn2zq2wlzk_kn4th680000gn/T/ipykernel_9410/2342058334.py:2: FutureWarning: The default of observed=False is deprecated and will be changed to True in a future version of pandas. Pass observed=False to retain current behavior or observed=True to adopt the future default and silence this warning.\n",
      "  df = (token_table\n",
      "/var/folders/2x/rfhzgyjn2zq2wlzk_kn4th680000gn/T/ipykernel_9410/2342058334.py:9: FutureWarning: The default of observed=False is deprecated and will be changed to True in a future version of pandas. Pass observed=False to retain current behavior or observed=True to adopt the future default and silence this warning.\n",
      "  pd.concat(\n",
      "/var/folders/2x/rfhzgyjn2zq2wlzk_kn4th680000gn/T/ipykernel_9410/2342058334.py:19: FutureWarning: The default of observed=False is deprecated and will be changed to True in a future version of pandas. Pass observed=False to retain current behavior or observed=True to adopt the future default and silence this warning.\n",
      "  pd.concat(\n",
      "/var/folders/2x/rfhzgyjn2zq2wlzk_kn4th680000gn/T/ipykernel_9410/2342058334.py:2: FutureWarning: The default of observed=False is deprecated and will be changed to True in a future version of pandas. Pass observed=False to retain current behavior or observed=True to adopt the future default and silence this warning.\n",
      "  df = (token_table\n",
      "/var/folders/2x/rfhzgyjn2zq2wlzk_kn4th680000gn/T/ipykernel_9410/2342058334.py:9: FutureWarning: The default of observed=False is deprecated and will be changed to True in a future version of pandas. Pass observed=False to retain current behavior or observed=True to adopt the future default and silence this warning.\n",
      "  pd.concat(\n",
      "/var/folders/2x/rfhzgyjn2zq2wlzk_kn4th680000gn/T/ipykernel_9410/2342058334.py:19: FutureWarning: The default of observed=False is deprecated and will be changed to True in a future version of pandas. Pass observed=False to retain current behavior or observed=True to adopt the future default and silence this warning.\n",
      "  pd.concat(\n"
     ]
    },
    {
     "name": "stdout",
     "output_type": "stream",
     "text": [
      "7185\n",
      "7186\n",
      "7187\n",
      "7188\n"
     ]
    },
    {
     "name": "stderr",
     "output_type": "stream",
     "text": [
      "/var/folders/2x/rfhzgyjn2zq2wlzk_kn4th680000gn/T/ipykernel_9410/2342058334.py:2: FutureWarning: The default of observed=False is deprecated and will be changed to True in a future version of pandas. Pass observed=False to retain current behavior or observed=True to adopt the future default and silence this warning.\n",
      "  df = (token_table\n",
      "/var/folders/2x/rfhzgyjn2zq2wlzk_kn4th680000gn/T/ipykernel_9410/2342058334.py:9: FutureWarning: The default of observed=False is deprecated and will be changed to True in a future version of pandas. Pass observed=False to retain current behavior or observed=True to adopt the future default and silence this warning.\n",
      "  pd.concat(\n",
      "/var/folders/2x/rfhzgyjn2zq2wlzk_kn4th680000gn/T/ipykernel_9410/2342058334.py:19: FutureWarning: The default of observed=False is deprecated and will be changed to True in a future version of pandas. Pass observed=False to retain current behavior or observed=True to adopt the future default and silence this warning.\n",
      "  pd.concat(\n",
      "/var/folders/2x/rfhzgyjn2zq2wlzk_kn4th680000gn/T/ipykernel_9410/2342058334.py:2: FutureWarning: The default of observed=False is deprecated and will be changed to True in a future version of pandas. Pass observed=False to retain current behavior or observed=True to adopt the future default and silence this warning.\n",
      "  df = (token_table\n",
      "/var/folders/2x/rfhzgyjn2zq2wlzk_kn4th680000gn/T/ipykernel_9410/2342058334.py:9: FutureWarning: The default of observed=False is deprecated and will be changed to True in a future version of pandas. Pass observed=False to retain current behavior or observed=True to adopt the future default and silence this warning.\n",
      "  pd.concat(\n",
      "/var/folders/2x/rfhzgyjn2zq2wlzk_kn4th680000gn/T/ipykernel_9410/2342058334.py:19: FutureWarning: The default of observed=False is deprecated and will be changed to True in a future version of pandas. Pass observed=False to retain current behavior or observed=True to adopt the future default and silence this warning.\n",
      "  pd.concat(\n",
      "/var/folders/2x/rfhzgyjn2zq2wlzk_kn4th680000gn/T/ipykernel_9410/2342058334.py:2: FutureWarning: The default of observed=False is deprecated and will be changed to True in a future version of pandas. Pass observed=False to retain current behavior or observed=True to adopt the future default and silence this warning.\n",
      "  df = (token_table\n",
      "/var/folders/2x/rfhzgyjn2zq2wlzk_kn4th680000gn/T/ipykernel_9410/2342058334.py:9: FutureWarning: The default of observed=False is deprecated and will be changed to True in a future version of pandas. Pass observed=False to retain current behavior or observed=True to adopt the future default and silence this warning.\n",
      "  pd.concat(\n",
      "/var/folders/2x/rfhzgyjn2zq2wlzk_kn4th680000gn/T/ipykernel_9410/2342058334.py:19: FutureWarning: The default of observed=False is deprecated and will be changed to True in a future version of pandas. Pass observed=False to retain current behavior or observed=True to adopt the future default and silence this warning.\n",
      "  pd.concat(\n"
     ]
    },
    {
     "name": "stdout",
     "output_type": "stream",
     "text": [
      "7189\n",
      "7190\n",
      "7191\n"
     ]
    },
    {
     "name": "stderr",
     "output_type": "stream",
     "text": [
      "/var/folders/2x/rfhzgyjn2zq2wlzk_kn4th680000gn/T/ipykernel_9410/2342058334.py:2: FutureWarning: The default of observed=False is deprecated and will be changed to True in a future version of pandas. Pass observed=False to retain current behavior or observed=True to adopt the future default and silence this warning.\n",
      "  df = (token_table\n",
      "/var/folders/2x/rfhzgyjn2zq2wlzk_kn4th680000gn/T/ipykernel_9410/2342058334.py:9: FutureWarning: The default of observed=False is deprecated and will be changed to True in a future version of pandas. Pass observed=False to retain current behavior or observed=True to adopt the future default and silence this warning.\n",
      "  pd.concat(\n",
      "/var/folders/2x/rfhzgyjn2zq2wlzk_kn4th680000gn/T/ipykernel_9410/2342058334.py:19: FutureWarning: The default of observed=False is deprecated and will be changed to True in a future version of pandas. Pass observed=False to retain current behavior or observed=True to adopt the future default and silence this warning.\n",
      "  pd.concat(\n",
      "/var/folders/2x/rfhzgyjn2zq2wlzk_kn4th680000gn/T/ipykernel_9410/2342058334.py:2: FutureWarning: The default of observed=False is deprecated and will be changed to True in a future version of pandas. Pass observed=False to retain current behavior or observed=True to adopt the future default and silence this warning.\n",
      "  df = (token_table\n",
      "/var/folders/2x/rfhzgyjn2zq2wlzk_kn4th680000gn/T/ipykernel_9410/2342058334.py:9: FutureWarning: The default of observed=False is deprecated and will be changed to True in a future version of pandas. Pass observed=False to retain current behavior or observed=True to adopt the future default and silence this warning.\n",
      "  pd.concat(\n",
      "/var/folders/2x/rfhzgyjn2zq2wlzk_kn4th680000gn/T/ipykernel_9410/2342058334.py:19: FutureWarning: The default of observed=False is deprecated and will be changed to True in a future version of pandas. Pass observed=False to retain current behavior or observed=True to adopt the future default and silence this warning.\n",
      "  pd.concat(\n",
      "/var/folders/2x/rfhzgyjn2zq2wlzk_kn4th680000gn/T/ipykernel_9410/2342058334.py:2: FutureWarning: The default of observed=False is deprecated and will be changed to True in a future version of pandas. Pass observed=False to retain current behavior or observed=True to adopt the future default and silence this warning.\n",
      "  df = (token_table\n",
      "/var/folders/2x/rfhzgyjn2zq2wlzk_kn4th680000gn/T/ipykernel_9410/2342058334.py:9: FutureWarning: The default of observed=False is deprecated and will be changed to True in a future version of pandas. Pass observed=False to retain current behavior or observed=True to adopt the future default and silence this warning.\n",
      "  pd.concat(\n",
      "/var/folders/2x/rfhzgyjn2zq2wlzk_kn4th680000gn/T/ipykernel_9410/2342058334.py:19: FutureWarning: The default of observed=False is deprecated and will be changed to True in a future version of pandas. Pass observed=False to retain current behavior or observed=True to adopt the future default and silence this warning.\n",
      "  pd.concat(\n"
     ]
    },
    {
     "name": "stdout",
     "output_type": "stream",
     "text": [
      "7192\n",
      "7193\n",
      "7194\n",
      "7195\n"
     ]
    },
    {
     "name": "stderr",
     "output_type": "stream",
     "text": [
      "/var/folders/2x/rfhzgyjn2zq2wlzk_kn4th680000gn/T/ipykernel_9410/2342058334.py:2: FutureWarning: The default of observed=False is deprecated and will be changed to True in a future version of pandas. Pass observed=False to retain current behavior or observed=True to adopt the future default and silence this warning.\n",
      "  df = (token_table\n",
      "/var/folders/2x/rfhzgyjn2zq2wlzk_kn4th680000gn/T/ipykernel_9410/2342058334.py:9: FutureWarning: The default of observed=False is deprecated and will be changed to True in a future version of pandas. Pass observed=False to retain current behavior or observed=True to adopt the future default and silence this warning.\n",
      "  pd.concat(\n",
      "/var/folders/2x/rfhzgyjn2zq2wlzk_kn4th680000gn/T/ipykernel_9410/2342058334.py:19: FutureWarning: The default of observed=False is deprecated and will be changed to True in a future version of pandas. Pass observed=False to retain current behavior or observed=True to adopt the future default and silence this warning.\n",
      "  pd.concat(\n",
      "/var/folders/2x/rfhzgyjn2zq2wlzk_kn4th680000gn/T/ipykernel_9410/2342058334.py:2: FutureWarning: The default of observed=False is deprecated and will be changed to True in a future version of pandas. Pass observed=False to retain current behavior or observed=True to adopt the future default and silence this warning.\n",
      "  df = (token_table\n",
      "/var/folders/2x/rfhzgyjn2zq2wlzk_kn4th680000gn/T/ipykernel_9410/2342058334.py:9: FutureWarning: The default of observed=False is deprecated and will be changed to True in a future version of pandas. Pass observed=False to retain current behavior or observed=True to adopt the future default and silence this warning.\n",
      "  pd.concat(\n",
      "/var/folders/2x/rfhzgyjn2zq2wlzk_kn4th680000gn/T/ipykernel_9410/2342058334.py:19: FutureWarning: The default of observed=False is deprecated and will be changed to True in a future version of pandas. Pass observed=False to retain current behavior or observed=True to adopt the future default and silence this warning.\n",
      "  pd.concat(\n",
      "/var/folders/2x/rfhzgyjn2zq2wlzk_kn4th680000gn/T/ipykernel_9410/2342058334.py:2: FutureWarning: The default of observed=False is deprecated and will be changed to True in a future version of pandas. Pass observed=False to retain current behavior or observed=True to adopt the future default and silence this warning.\n",
      "  df = (token_table\n",
      "/var/folders/2x/rfhzgyjn2zq2wlzk_kn4th680000gn/T/ipykernel_9410/2342058334.py:9: FutureWarning: The default of observed=False is deprecated and will be changed to True in a future version of pandas. Pass observed=False to retain current behavior or observed=True to adopt the future default and silence this warning.\n",
      "  pd.concat(\n",
      "/var/folders/2x/rfhzgyjn2zq2wlzk_kn4th680000gn/T/ipykernel_9410/2342058334.py:19: FutureWarning: The default of observed=False is deprecated and will be changed to True in a future version of pandas. Pass observed=False to retain current behavior or observed=True to adopt the future default and silence this warning.\n",
      "  pd.concat(\n"
     ]
    }
   ],
   "source": [
    "tables = []\n",
    "for label, group in df.groupby('speech'):\n",
    "    print(label)\n",
    "    token_table = group.explode(['tokens', 'elided']).rename(columns={'tokens':'token'})\n",
    "    fulltext = ' '.join(group.perseus_text)\n",
    "    token_table['token'] = [tok for tok in nlp(fulltext)]\n",
    "    token_table['lemma'] = [tok.lemma_ for tok in token_table.token]\n",
    "    context = getContext(token_table)\n",
    "    reps = pd.merge(token_table, context, how='left', on='line_id')[['lemma', 'context']]\n",
    "    reps['lemma'] = reps['lemma'].str.lower()\n",
    "    token_table['reps'] = reps.apply(lambda row: row['context'].count(row['lemma']), axis=1).values\n",
    "\n",
    "    tables.append(token_table)"
   ]
  },
  {
   "cell_type": "code",
   "execution_count": 9,
   "id": "4c298419-27d3-4636-a302-84a11fa22fd9",
   "metadata": {},
   "outputs": [],
   "source": [
    "token_table = pd.concat(tables)\n",
    "\n",
    "token_table['upos'] = [tok.pos_ for tok in token_table.token]\n",
    "token_table['morph'] = [tok.morph.to_dict() for tok in token_table.token]\n",
    "token_table['mood'] = [morph.get('Mood') for morph in token_table.morph]\n",
    "token_table['tense'] = [morph.get('Tense') for morph in token_table.morph]\n",
    "token_table['voice'] = [morph.get('Voice') for morph in token_table.morph]\n",
    "token_table['person'] = [morph.get('Person') for morph in token_table.morph]\n",
    "token_table['number'] = [morph.get('Number') for morph in token_table.morph]\n",
    "token_table['case'] = [morph.get('Case') for morph in token_table.morph]\n",
    "token_table['gender'] = [morph.get('Gender') for morph in token_table.morph]\n",
    "token_table = token_table.drop(columns=['morph', 'perseus_text', 'pc_text', 'pc_bounds'])\n",
    "token_table = token_table.loc[token_table.upos != 'PUNCT']\n",
    "token_table.to_csv(os.path.join('data', 'vf_tokens.csv'), index=False)"
   ]
  },
  {
   "cell_type": "code",
   "execution_count": null,
   "id": "8ef6f341-07e5-406b-aba8-d4681e38402c",
   "metadata": {},
   "outputs": [],
   "source": []
  }
 ],
 "metadata": {
  "kernelspec": {
   "display_name": "Python 3 (ipykernel)",
   "language": "python",
   "name": "python3"
  },
  "language_info": {
   "codemirror_mode": {
    "name": "ipython",
    "version": 3
   },
   "file_extension": ".py",
   "mimetype": "text/x-python",
   "name": "python",
   "nbconvert_exporter": "python",
   "pygments_lexer": "ipython3",
   "version": "3.10.15"
  }
 },
 "nbformat": 4,
 "nbformat_minor": 5
}
