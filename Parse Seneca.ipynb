{
 "cells": [
  {
   "cell_type": "markdown",
   "id": "a907d1ce-6998-4f36-a18a-87b9b7ece212",
   "metadata": {},
   "source": [
    "## Preliminaries\n",
    "### Import statements"
   ]
  },
  {
   "cell_type": "code",
   "execution_count": 1,
   "id": "97d5bed7-0dc6-4818-85a3-c31e555d58dc",
   "metadata": {},
   "outputs": [],
   "source": [
    "import pandas as pd\n",
    "import spacy\n",
    "import os\n",
    "import re"
   ]
  },
  {
   "cell_type": "markdown",
   "id": "8c995019-3497-4aac-a02e-bf184e9c6cb8",
   "metadata": {},
   "source": [
    "### Files to parse"
   ]
  },
  {
   "cell_type": "code",
   "execution_count": 2,
   "id": "469056a4-f120-4a22-ad12-1ef7d6c13cc2",
   "metadata": {},
   "outputs": [],
   "source": [
    "seneca_files = [\n",
    "    'Sen_Agamemnon.csv',\t\n",
    "    'Sen_Hercules_Oetaeus.csv',\n",
    "    'Sen_Hercules_furens.csv',\t\n",
    "    'Sen_Medea.csv',\t\t\n",
    "    'Sen_Oedipus.csv',\t\t\n",
    "    'Sen_Phaedra.csv',\t\t\n",
    "    'Sen_Phoenissae.csv',\t\n",
    "    'Sen_Thyestes.csv',\t\n",
    "    'Sen_Troades.csv',\n",
    "]"
   ]
  },
  {
   "cell_type": "markdown",
   "id": "d8a59e46-2ceb-48ce-a832-6ac48742f6de",
   "metadata": {},
   "source": [
    "### Load spaCy model"
   ]
  },
  {
   "cell_type": "code",
   "execution_count": 3,
   "id": "8e9e5d13-b23c-4a8d-b96c-96ed02f6100b",
   "metadata": {},
   "outputs": [],
   "source": [
    "nlp = spacy.load('la_core_web_lg')"
   ]
  },
  {
   "cell_type": "markdown",
   "id": "0b156017-97d0-4fcc-9f91-6926aa907102",
   "metadata": {},
   "source": [
    "## Parse the texts\n",
    "\n",
    "### Load and parse the texts\n",
    "\n",
    "The CSV files in `data/` contain line-by-line alignments of Perseus' text and ground-truth scansion from [Fedchin, Burns, Chaudhuri, and Dexter (2022) \"Senecan Trimeter and Humanist Tragedy\"](https://github.com/QuantitativeCriticismLab/AJP-2022-Senecan-Trimeter). Here, we load the files, parse the text with spaCy, and create a Pandas DataFrame with one row per token."
   ]
  },
  {
   "cell_type": "code",
   "execution_count": 4,
   "id": "94e41dba-a916-4fdf-b5c9-17eb5513653e",
   "metadata": {},
   "outputs": [
    {
     "name": "stdout",
     "output_type": "stream",
     "text": [
      "data/seneca/Sen_Agamemnon.csv\n",
      "data/seneca/Sen_Hercules_Oetaeus.csv\n",
      "data/seneca/Sen_Hercules_furens.csv\n",
      "data/seneca/Sen_Medea.csv\n",
      "data/seneca/Sen_Oedipus.csv\n",
      "data/seneca/Sen_Phaedra.csv\n",
      "data/seneca/Sen_Phoenissae.csv\n",
      "data/seneca/Sen_Thyestes.csv\n",
      "data/seneca/Sen_Troades.csv\n"
     ]
    }
   ],
   "source": [
    "tables = []\n",
    "offset = 100000\n",
    "\n",
    "for file in seneca_files:\n",
    "    path = os.path.join('data', 'seneca', file)\n",
    "    print(path)\n",
    "    df = pd.read_csv(path)\n",
    "    df = df.loc[~df.elision.isna()]\n",
    "    df = df.loc[~df.speech.isna()]\n",
    "    df.perseus_n = df.perseus_n.str.replace(r'[\\[\\]\\']', '', regex=True)\n",
    "    df.speaker = df.speaker.str.replace(r'[\\[\\]\\'#]', '', regex=True)\n",
    "    df.elision = df.elision.astype(int)\n",
    "    df.speech = df.speech.astype(int) + offset\n",
    "    df.anceps_n = df.anceps_n.astype(int)\n",
    "    df['tokens'] = df.perseus_text.apply(lambda s: [tok for tok in nlp(s)])\n",
    "    df['file'] = file[:-4]\n",
    "    df['line_id'] = df['file'] + ':' + df['perseus_n']\n",
    "    tables.append(df)\n",
    "    offset += 10000\n",
    "\n",
    "df = pd.concat(tables)\n",
    "df['line_id'] = pd.Categorical(df['line_id'], categories=pd.unique(df['line_id']), ordered=True)"
   ]
  },
  {
   "cell_type": "markdown",
   "id": "f7a273b5-6b3f-4520-89af-abadb4ab1b56",
   "metadata": {},
   "source": [
    "### Helper function to extract elisions from the scansion"
   ]
  },
  {
   "cell_type": "code",
   "execution_count": 5,
   "id": "8fef68f1-1ee5-4d91-b4dc-40021fd314f1",
   "metadata": {},
   "outputs": [],
   "source": [
    "def normalize(s):\n",
    "    return re.sub(r'[^a-z]', '', s.lower()).replace('jv', 'iu')\n",
    "\n",
    "def getElided(df):\n",
    "    '''extract elided tokens from a line-array table'''\n",
    "    rows = []\n",
    "    row_count = 0\n",
    "\n",
    "    for row in df.itertuples():\n",
    "        elided = [False] * len(row.tokens)\n",
    "        row_count += 1\n",
    "        \n",
    "        if '(' in row.anceps_text:\n",
    "            anceps = row.anceps_text.split()\n",
    "            no_punct = [tok for tok in row.tokens if tok.pos_ != 'PUNCT']\n",
    "            \n",
    "            if len(no_punct) == len(anceps):\n",
    "                for anc, tok in zip(anceps, no_punct):\n",
    "                    if '(' in anc:\n",
    "                        idx = row.tokens.index(tok)\n",
    "                        elided[idx] = True\n",
    "            else:\n",
    "                for anc in anceps:\n",
    "                    if '(' in anc:\n",
    "                        normalized_anc = normalize(anc)\n",
    "                        normalized_toks = [normalize(tok.text) for tok in row.tokens]\n",
    "                        count = normalized_toks.count(normalized_anc)\n",
    "                        if count == 1:\n",
    "                            idx = normalized_toks.index(normalized_anc)\n",
    "                        elif anc.endswith('qv(e)') and normalized_toks.count('que') == 1:\n",
    "                            idx = normalized_toks.index('que')\n",
    "                        else:\n",
    "                            print(f'[{row_count}]\\t' + ' '.join([f'{i}.{tok.text}' for i, tok in enumerate(row.tokens)]))\n",
    "                            idx = int(input(f'Which is {anc}? '))\n",
    "                        elided[idx] = True\n",
    "        rows.append(elided)\n",
    "    return rows"
   ]
  },
  {
   "cell_type": "markdown",
   "id": "91b918f1-04bf-42ad-996e-843a9f6ca4d1",
   "metadata": {},
   "source": [
    "### Calculate elisions"
   ]
  },
  {
   "cell_type": "code",
   "execution_count": 7,
   "id": "3e3f9897-5ed4-46e5-8f78-e135fbe1df37",
   "metadata": {},
   "outputs": [
    {
     "name": "stdout",
     "output_type": "stream",
     "text": [
      "[65]\t0.te 1.cum 2.ipsa 3.nunc 4.evolve 5.femineos 6.dolos 7.,\n"
     ]
    },
    {
     "name": "stdin",
     "output_type": "stream",
     "text": [
      "Which is te*c(u)m?  1\n"
     ]
    },
    {
     "name": "stdout",
     "output_type": "stream",
     "text": [
      "[170]\t0.iacens 1.que 2.vultu 3.languido 4.optutus 5.stupet 6.?\n"
     ]
    },
    {
     "name": "stdin",
     "output_type": "stream",
     "text": [
      "Which is la_ngvi^d(o)?  3\n"
     ]
    },
    {
     "name": "stdout",
     "output_type": "stream",
     "text": [
      "[225]\t0.Exilia 1.mihi 2.sunt 3.haud 4.nova 5., 6.assuevi 7.malis 8..\n"
     ]
    },
    {
     "name": "stdin",
     "output_type": "stream",
     "text": [
      "Which is no^u(a)?  4\n"
     ]
    },
    {
     "name": "stdout",
     "output_type": "stream",
     "text": [
      "[256]\t0.iam 1.que 2.ense 3.fessum 4.miles 5.exonerat 6.latus 7.,\n"
     ]
    },
    {
     "name": "stdin",
     "output_type": "stream",
     "text": [
      "Which is ia*mqu(e)?  1\n"
     ]
    },
    {
     "name": "stdout",
     "output_type": "stream",
     "text": [
      "[531]\t0.textos 1.amictus 2.— 3.horreo 4.atque 5.animo 6.tremo 7.:\n"
     ]
    },
    {
     "name": "stdin",
     "output_type": "stream",
     "text": [
      "Which is a_tqv(e)?  4\n"
     ]
    },
    {
     "name": "stdout",
     "output_type": "stream",
     "text": [
      "[696]\t0.haud 1.dum 2.astra 3.merui 4., 5.Siculus 6.Hesperium 7.latus\n"
     ]
    },
    {
     "name": "stdin",
     "output_type": "stream",
     "text": [
      "Which is h[au]dd(u)m?  1\n"
     ]
    },
    {
     "name": "stdout",
     "output_type": "stream",
     "text": [
      "[803]\t0.Graiorum 1.in 2.istos 3.terra 4.consurget 5.lares\n"
     ]
    },
    {
     "name": "stdin",
     "output_type": "stream",
     "text": [
      "Which is to_t(a)?  0\n"
     ]
    },
    {
     "name": "stdout",
     "output_type": "stream",
     "text": [
      "[909]\t0.intendat 1.arcus 2.me 3.que 4.natum 5.que 6.opprimat 7.?\n"
     ]
    },
    {
     "name": "stdin",
     "output_type": "stream",
     "text": [
      "Which is na_tu*mqv(e)?  5\n"
     ]
    },
    {
     "name": "stdout",
     "output_type": "stream",
     "text": [
      "[1016]\t0.cape 1.hunc 2.triumphum 3.solus 4.et 5.vince 6.Herculem 7..\n"
     ]
    },
    {
     "name": "stdin",
     "output_type": "stream",
     "text": [
      "Which is e_vi*nc(e)?  5\n"
     ]
    },
    {
     "name": "stdout",
     "output_type": "stream",
     "text": [
      "[1049]\t0.flammis 1.que 2.Nessus 3.sanguinem 4.ostendi 5.arcuit 6.:\n"
     ]
    },
    {
     "name": "stdin",
     "output_type": "stream",
     "text": [
      "Which is sa_ngvi^n(e)m?  3\n"
     ]
    },
    {
     "name": "stdout",
     "output_type": "stream",
     "text": [
      "[1386]\t0.totum 1.que 2.lentus 3.sanguinem 4.avexit 5.vapor 6.,\n"
     ]
    },
    {
     "name": "stdin",
     "output_type": "stream",
     "text": [
      "Which is sa_ngvi^n(e)m?  3\n"
     ]
    },
    {
     "name": "stdout",
     "output_type": "stream",
     "text": [
      "[1474]\t0.te 1.deprecantem 2.. 3.nunc 4.milli 5.irata 6.† 7.pater\n"
     ]
    },
    {
     "name": "stdin",
     "output_type": "stream",
     "text": [
      "Which is mi^h(i)?  4\n"
     ]
    },
    {
     "name": "stdout",
     "output_type": "stream",
     "text": [
      "[1604]\t0.Habet 1., 2.peractum 3.est 4., 5.fata 6.se 7.nostra 8.explicant 9.;\n"
     ]
    },
    {
     "name": "stdin",
     "output_type": "stream",
     "text": [
      "Which is be*n(e)?  2\n"
     ]
    },
    {
     "name": "stdout",
     "output_type": "stream",
     "text": [
      "[1684]\t0.† 1.victrice 2.felix 3., 4.iuvenis 5., 6.has 7.numquam 8.irritas\n"
     ]
    },
    {
     "name": "stdin",
     "output_type": "stream",
     "text": [
      "Which is nu*mqv(a)m?  7\n"
     ]
    },
    {
     "name": "stdout",
     "output_type": "stream",
     "text": [
      "[1787]\t0.crinem 1.que 2.iactans 3.squalidum 4.Alcmene 5.gemit 6..\n"
     ]
    },
    {
     "name": "stdin",
     "output_type": "stream",
     "text": [
      "Which is sqva_li^d(u)m?  3\n"
     ]
    },
    {
     "name": "stdout",
     "output_type": "stream",
     "text": [
      "[1796]\t0.rediturus 1.ibas 2.— 3.quando 4.ab 5.inferna 6.Styge\n"
     ]
    },
    {
     "name": "stdin",
     "output_type": "stream",
     "text": [
      "Which is qva_nd(o)?  3\n"
     ]
    },
    {
     "name": "stdout",
     "output_type": "stream",
     "text": [
      "[1955]\t0.minor 1.que 2.labor 3.est 4.Herculi 5.iussa 6.exequi 7.,\n"
     ]
    },
    {
     "name": "stdin",
     "output_type": "stream",
     "text": [
      "Which is ju*ss(a)?  5\n"
     ]
    },
    {
     "name": "stdout",
     "output_type": "stream",
     "text": [
      "[2011]\t0.suum 1.que 2.lambens 3.sanguinem 4.Impietas 5.ferox\n"
     ]
    },
    {
     "name": "stdin",
     "output_type": "stream",
     "text": [
      "Which is sa_ngvi^n(e)m?  3\n"
     ]
    },
    {
     "name": "stdout",
     "output_type": "stream",
     "text": [
      "[2124]\t0.erumpe 1.rerum 2.terminos 3.te 4.cum 5.efferens 6.,\n"
     ]
    },
    {
     "name": "stdin",
     "output_type": "stream",
     "text": [
      "Which is te*c(u)m?  4\n"
     ]
    },
    {
     "name": "stdout",
     "output_type": "stream",
     "text": [
      "[2383]\t0.regno 1.capaci 2.te 3.que 4.quam 5.amotam 6.inrita\n"
     ]
    },
    {
     "name": "stdin",
     "output_type": "stream",
     "text": [
      "Which is to*t(o)?  5\n"
     ]
    },
    {
     "name": "stdout",
     "output_type": "stream",
     "text": [
      "[2562]\t0.Arabes 1.que 2.odoris 3.quicquid 4.arboribus 5.legunt\n"
     ]
    },
    {
     "name": "stdin",
     "output_type": "stream",
     "text": [
      "Which is a^ra^be_squ(e)?  1\n"
     ]
    },
    {
     "name": "stdout",
     "output_type": "stream",
     "text": [
      "[2664]\t0.vel 1.stipitem 2.istuc 3.caede 4.nostrorum 5.inlitum\n"
     ]
    },
    {
     "name": "stdin",
     "output_type": "stream",
     "text": [
      "Which is i_st(u)m?  1\n"
     ]
    },
    {
     "name": "stdout",
     "output_type": "stream",
     "text": [
      "[2664]\t0.vel 1.stipitem 2.istuc 3.caede 4.nostrorum 5.inlitum\n"
     ]
    },
    {
     "name": "stdin",
     "output_type": "stream",
     "text": [
      "Which is mo_nstro*r(u)m?  4\n"
     ]
    },
    {
     "name": "stdout",
     "output_type": "stream",
     "text": [
      "[2799]\t0.morer 1.que 2.nihil 3.est 4.: 5.cuncta 6.iam 7.amisi 8.bona 9.,\n"
     ]
    },
    {
     "name": "stdin",
     "output_type": "stream",
     "text": [
      "Which is j(a)m?  6\n"
     ]
    },
    {
     "name": "stdout",
     "output_type": "stream",
     "text": [
      "[2896]\t0.similes 1.que 2.matri 3., 4.parta 5.iam 6., 7.parta 8.ultio 9.est 10.:\n"
     ]
    },
    {
     "name": "stdin",
     "output_type": "stream",
     "text": [
      "Which is pa*rt(a)?  4\n"
     ]
    },
    {
     "name": "stdout",
     "output_type": "stream",
     "text": [
      "[2978]\t0.monstrum 1.que 2.saevum 3.horribile 4.iamdudum 5.avehe 6..\n"
     ]
    },
    {
     "name": "stdin",
     "output_type": "stream",
     "text": [
      "Which is ja_mdu*d(u)m?  4\n"
     ]
    },
    {
     "name": "stdout",
     "output_type": "stream",
     "text": [
      "[3050]\t0.te 1.cum 2.aufer 3.herbas 4., 5.libera 6.cives 7.metu 8.,\n"
     ]
    },
    {
     "name": "stdin",
     "output_type": "stream",
     "text": [
      "Which is te*c(u)m?  1\n"
     ]
    },
    {
     "name": "stdout",
     "output_type": "stream",
     "text": [
      "[3096]\t0.Siculum 1.que 2.sorbens 3.quaeve 4.anhelantem 5.premens\n"
     ]
    },
    {
     "name": "stdin",
     "output_type": "stream",
     "text": [
      "Which is qv[ae]u(e)?  3\n"
     ]
    },
    {
     "name": "stdout",
     "output_type": "stream",
     "text": [
      "[3106]\t0.sermone 1.potuit 2.— 3.hoc 4.quoque 5.extimuit 6.ferox 7.;\n"
     ]
    },
    {
     "name": "stdin",
     "output_type": "stream",
     "text": [
      "Which is qvo^qv(e)?  4\n"
     ]
    },
    {
     "name": "stdout",
     "output_type": "stream",
     "text": [
      "[3173]\t0.is 1.fecit 2.— 3.omnes 4.coniugem 5.infamem 6.arguant 7.,\n"
     ]
    },
    {
     "name": "stdin",
     "output_type": "stream",
     "text": [
      "Which is co_nju^g(e)m?  4\n"
     ]
    },
    {
     "name": "stdout",
     "output_type": "stream",
     "text": [
      "[3241]\t0.trifidam 1.que 2.linguam 3.exertat 4.et 5.quaerit 6.quibus\n"
     ]
    },
    {
     "name": "stdin",
     "output_type": "stream",
     "text": [
      "Which is li_ngv(a)m?  2\n"
     ]
    },
    {
     "name": "stdout",
     "output_type": "stream",
     "text": [
      "[3336]\t0.incumbe 1.in 2.iras 3.te 4.que 5.languentem 6.excita\n"
     ]
    },
    {
     "name": "stdin",
     "output_type": "stream",
     "text": [
      "Which is la_ngve*nt(e)m?  5\n"
     ]
    },
    {
     "name": "stdout",
     "output_type": "stream",
     "text": [
      "[3362]\t0.mater 1.que 2.tota 3.coniuge 4.expulsa 5.redit 6.,\n"
     ]
    },
    {
     "name": "stdin",
     "output_type": "stream",
     "text": [
      "Which is co_nju^g(e)?  3\n"
     ]
    },
    {
     "name": "stdout",
     "output_type": "stream",
     "text": [
      "[3409]\t0.tuum 1.quoque 2.ipsa 3.corpus 4.hinc 5.me 6.cum 7.aveham 8..\n"
     ]
    },
    {
     "name": "stdin",
     "output_type": "stream",
     "text": [
      "Which is qvo^qv(e)?  1\n"
     ]
    },
    {
     "name": "stdout",
     "output_type": "stream",
     "text": [
      "[3409]\t0.tuum 1.quoque 2.ipsa 3.corpus 4.hinc 5.me 6.cum 7.aveham 8..\n"
     ]
    },
    {
     "name": "stdin",
     "output_type": "stream",
     "text": [
      "Which is me*c(u)m?  6\n"
     ]
    },
    {
     "name": "stdout",
     "output_type": "stream",
     "text": [
      "[3529]\t0.tabifica 1.caeli 2.vitia 3.quae 4.te 5.cum 6.invehis\n"
     ]
    },
    {
     "name": "stdin",
     "output_type": "stream",
     "text": [
      "Which is te*c(u)m?  5\n"
     ]
    },
    {
     "name": "stdout",
     "output_type": "stream",
     "text": [
      "[3530]\t0.infaustus 1.hospes 2., 3.profuge 4.iamdudum 5.ocius 6.â\n"
     ]
    },
    {
     "name": "stdin",
     "output_type": "stream",
     "text": [
      "Which is ja_mdu*d(u)m?  4\n"
     ]
    },
    {
     "name": "stdout",
     "output_type": "stream",
     "text": [
      "[3826]\t0.et 1.me 2.cum 3.Erinyn 4.pronubam 5.thalami 6.traham 7.,\n"
     ]
    },
    {
     "name": "stdin",
     "output_type": "stream",
     "text": [
      "Which is me_c(u)m?  2\n"
     ]
    },
    {
     "name": "stdout",
     "output_type": "stream",
     "text": [
      "[4034]\t0.me 1.cum 2.ite 3., 4.me 5.cum 6., 7.ducibus 8.his 9.uti 10.libet 11..\n"
     ]
    },
    {
     "name": "stdin",
     "output_type": "stream",
     "text": [
      "Which is me*c(u)m?  1\n"
     ]
    },
    {
     "name": "stdout",
     "output_type": "stream",
     "text": [
      "[4461]\t0.libet 1.loqui 2.piget 3.que 4.. 5.Quodnam 6.istud 7.malum 8.est 9.?\n"
     ]
    },
    {
     "name": "stdin",
     "output_type": "stream",
     "text": [
      "Which is qvo_dn(a)m?  7\n"
     ]
    },
    {
     "name": "stdout",
     "output_type": "stream",
     "text": [
      "[4962]\t0.sed 1.flecte 2.mentem 3.pectus 4.antiquum 5.ad 6.voca\n"
     ]
    },
    {
     "name": "stdin",
     "output_type": "stream",
     "text": [
      "Which is a_nti*qv(u)m?  4\n"
     ]
    },
    {
     "name": "stdout",
     "output_type": "stream",
     "text": [
      "[5377]\t0.reclinis 1.hasta 2.est 3., 4.arma 5.defixa 6.incubant 7..\n"
     ]
    },
    {
     "name": "stdin",
     "output_type": "stream",
     "text": [
      "Which is de_fi*x(ae)?  5\n"
     ]
    },
    {
     "name": "stdout",
     "output_type": "stream",
     "text": [
      "[5686]\t0.regnum 1.que 2.furto 3.: 4.specimen 5.antiquum 6.imperi\n"
     ]
    },
    {
     "name": "stdin",
     "output_type": "stream",
     "text": [
      "Which is a_nti*qv(u)m?  5\n"
     ]
    },
    {
     "name": "stdout",
     "output_type": "stream",
     "text": [
      "[5777]\t0.miseris 1.que 2.summum 3.ac 4.maxime 5.exulibus 6.bonum 7.,\n"
     ]
    },
    {
     "name": "stdin",
     "output_type": "stream",
     "text": [
      "Which is ma_xi^m(u)m?  4\n"
     ]
    },
    {
     "name": "stdout",
     "output_type": "stream",
     "text": [
      "[6017]\t0.spirant 1.que 2.venae 3.cor 4.que 5.adhuc 6.pavidum 7.salit 8.;\n"
     ]
    },
    {
     "name": "stdin",
     "output_type": "stream",
     "text": [
      "Which is co_rqv(e)?  4\n"
     ]
    },
    {
     "name": "stdout",
     "output_type": "stream",
     "text": [
      "[6035]\t0.non 1.rectus 2.exit 3.se 4.que 5.in 6.excelsum 7.levat 8.:\n"
     ]
    },
    {
     "name": "stdin",
     "output_type": "stream",
     "text": [
      "Which is se_qu(e)?  4\n"
     ]
    },
    {
     "name": "stdout",
     "output_type": "stream",
     "text": [
      "[6459]\t0.adhuc 1.rogare 2.— 3.tempus 4.aeramnae 5.addidit 6.,\n"
     ]
    },
    {
     "name": "stdin",
     "output_type": "stream",
     "text": [
      "Which is [ae]ru*mn(ae)?  4\n"
     ]
    },
    {
     "name": "stdout",
     "output_type": "stream",
     "text": [
      "[6468]\t0.certe 1.aequa 2.mors 3.est 4.— 5.turbat 6.atque 7.agitat 8.Phrygas\n"
     ]
    },
    {
     "name": "stdin",
     "output_type": "stream",
     "text": [
      "Which is a_tqv(e)?  6\n"
     ]
    },
    {
     "name": "stdout",
     "output_type": "stream",
     "text": [
      "[6483]\t0.similis 1.que 2.maesto 3., 4.squalida 5.obtectus 6.coma 7..\n"
     ]
    },
    {
     "name": "stdin",
     "output_type": "stream",
     "text": [
      "Which is sqva_li^d(a)?  4\n"
     ]
    },
    {
     "name": "stdout",
     "output_type": "stream",
     "text": [
      "[6565]\t0.rerum 1.aestimator 2.: 3.si 4.tamen 5.te 6.cum 7.exigas 8.,\n"
     ]
    },
    {
     "name": "stdin",
     "output_type": "stream",
     "text": [
      "Which is te*c(u)m?  6\n"
     ]
    }
   ],
   "source": [
    "df['elided'] = getElided(df)"
   ]
  },
  {
   "cell_type": "markdown",
   "id": "17fe7784-34da-435b-b235-259f511ad955",
   "metadata": {},
   "source": [
    "### Write output"
   ]
  },
  {
   "cell_type": "code",
   "execution_count": 8,
   "id": "cc90c115-0844-42fd-b279-3b1a5f0ef452",
   "metadata": {},
   "outputs": [
    {
     "data": {
      "text/html": [
       "<div>\n",
       "<style scoped>\n",
       "    .dataframe tbody tr th:only-of-type {\n",
       "        vertical-align: middle;\n",
       "    }\n",
       "\n",
       "    .dataframe tbody tr th {\n",
       "        vertical-align: top;\n",
       "    }\n",
       "\n",
       "    .dataframe thead th {\n",
       "        text-align: right;\n",
       "    }\n",
       "</style>\n",
       "<table border=\"1\" class=\"dataframe\">\n",
       "  <thead>\n",
       "    <tr style=\"text-align: right;\">\n",
       "      <th></th>\n",
       "      <th>perseus_n</th>\n",
       "      <th>perseus_text</th>\n",
       "      <th>comp</th>\n",
       "      <th>anceps_n</th>\n",
       "      <th>anceps_text</th>\n",
       "      <th>speaker</th>\n",
       "      <th>elision</th>\n",
       "      <th>speech</th>\n",
       "      <th>tokens</th>\n",
       "      <th>file</th>\n",
       "      <th>line_id</th>\n",
       "      <th>elided</th>\n",
       "    </tr>\n",
       "  </thead>\n",
       "  <tbody>\n",
       "    <tr>\n",
       "      <th>0</th>\n",
       "      <td>1</td>\n",
       "      <td>Opaca linquens Ditis inferni loca</td>\n",
       "      <td>0.900000</td>\n",
       "      <td>0</td>\n",
       "      <td>o*pa_ca^ li_nqve*ns di_ti^s i_nfe*rni_ lo^ca*</td>\n",
       "      <td>thyestis</td>\n",
       "      <td>0</td>\n",
       "      <td>100001</td>\n",
       "      <td>[Opaca, linquens, Ditis, inferni, loca]</td>\n",
       "      <td>Sen_Agamemnon</td>\n",
       "      <td>Sen_Agamemnon:1</td>\n",
       "      <td>[False, False, False, False, False]</td>\n",
       "    </tr>\n",
       "    <tr>\n",
       "      <th>1</th>\n",
       "      <td>2</td>\n",
       "      <td>adsum profundo Tartari emissus specu,</td>\n",
       "      <td>1.000000</td>\n",
       "      <td>1</td>\n",
       "      <td>a*dsu_m pro^fu_ndo* ta_rta^r(i) e_mi*ssu_s sp...</td>\n",
       "      <td>thyestis</td>\n",
       "      <td>1</td>\n",
       "      <td>100001</td>\n",
       "      <td>[adsum, profundo, Tartari, emissus, specu, ,]</td>\n",
       "      <td>Sen_Agamemnon</td>\n",
       "      <td>Sen_Agamemnon:2</td>\n",
       "      <td>[False, False, True, False, False, False]</td>\n",
       "    </tr>\n",
       "    <tr>\n",
       "      <th>2</th>\n",
       "      <td>3</td>\n",
       "      <td>incertus utras oderim sedes magis:</td>\n",
       "      <td>1.000000</td>\n",
       "      <td>2</td>\n",
       "      <td>i*nce_rtu^s u_tra*s o_de^ri_m se*de_s ma^gi*s</td>\n",
       "      <td>thyestis</td>\n",
       "      <td>0</td>\n",
       "      <td>100001</td>\n",
       "      <td>[incertus, utras, oderim, sedes, magis, :]</td>\n",
       "      <td>Sen_Agamemnon</td>\n",
       "      <td>Sen_Agamemnon:3</td>\n",
       "      <td>[False, False, False, False, False, False]</td>\n",
       "    </tr>\n",
       "    <tr>\n",
       "      <th>3</th>\n",
       "      <td>4</td>\n",
       "      <td>fugio Thyestes inferos, superos fugo.</td>\n",
       "      <td>1.000000</td>\n",
       "      <td>3</td>\n",
       "      <td>fu^gi^o_ thy^e_ste*s i_nfe^ro_s su^pe^ro_s fu...</td>\n",
       "      <td>thyestis</td>\n",
       "      <td>0</td>\n",
       "      <td>100001</td>\n",
       "      <td>[fugio, Thyestes, inferos, ,, superos, fugo, .]</td>\n",
       "      <td>Sen_Agamemnon</td>\n",
       "      <td>Sen_Agamemnon:4</td>\n",
       "      <td>[False, False, False, False, False, False, False]</td>\n",
       "    </tr>\n",
       "    <tr>\n",
       "      <th>4</th>\n",
       "      <td>5</td>\n",
       "      <td>en horret animus et pavor membra excutit:</td>\n",
       "      <td>1.000000</td>\n",
       "      <td>4</td>\n",
       "      <td>e*n ho_rre^t a^ni^mu*s e_t pa^vo_r me*mbr(a) ...</td>\n",
       "      <td>thyestis</td>\n",
       "      <td>1</td>\n",
       "      <td>100001</td>\n",
       "      <td>[en, horret, animus, et, pavor, membra, excuti...</td>\n",
       "      <td>Sen_Agamemnon</td>\n",
       "      <td>Sen_Agamemnon:5</td>\n",
       "      <td>[False, False, False, False, False, True, Fals...</td>\n",
       "    </tr>\n",
       "    <tr>\n",
       "      <th>...</th>\n",
       "      <td>...</td>\n",
       "      <td>...</td>\n",
       "      <td>...</td>\n",
       "      <td>...</td>\n",
       "      <td>...</td>\n",
       "      <td>...</td>\n",
       "      <td>...</td>\n",
       "      <td>...</td>\n",
       "      <td>...</td>\n",
       "      <td>...</td>\n",
       "      <td>...</td>\n",
       "      <td>...</td>\n",
       "    </tr>\n",
       "    <tr>\n",
       "      <th>1172</th>\n",
       "      <td>1173</td>\n",
       "      <td>ubique properas, saeva: me solam times</td>\n",
       "      <td>0.909091</td>\n",
       "      <td>912</td>\n",
       "      <td>u*bi_qve^ pro^pe^ra*s s[ae]va^ me_ so*la_m ti...</td>\n",
       "      <td>hecuba</td>\n",
       "      <td>0</td>\n",
       "      <td>180051</td>\n",
       "      <td>[ubique, properas, ,, saeva, :, me, solam, times]</td>\n",
       "      <td>Sen_Troades</td>\n",
       "      <td>Sen_Troades:1173</td>\n",
       "      <td>[False, False, False, False, False, False, Fal...</td>\n",
       "    </tr>\n",
       "    <tr>\n",
       "      <th>1173</th>\n",
       "      <td>1174</td>\n",
       "      <td>vitasque, gladios inter ac tela et faces</td>\n",
       "      <td>0.916667</td>\n",
       "      <td>913</td>\n",
       "      <td>vi*ta_sqve^ gla^di^o*s i_nte^r a_c te*l(a) e_...</td>\n",
       "      <td>hecuba</td>\n",
       "      <td>1</td>\n",
       "      <td>180051</td>\n",
       "      <td>[vitas, que, ,, gladios, inter, ac, tela, et, ...</td>\n",
       "      <td>Sen_Troades</td>\n",
       "      <td>Sen_Troades:1174</td>\n",
       "      <td>[False, False, False, False, False, False, Tru...</td>\n",
       "    </tr>\n",
       "    <tr>\n",
       "      <th>1174</th>\n",
       "      <td>1175</td>\n",
       "      <td>quaesita tota nocte, cupientem fugis. ,</td>\n",
       "      <td>0.937500</td>\n",
       "      <td>914</td>\n",
       "      <td>qv[ae]si_ta^ to_ta* no_cte^ cu^pi^e*nte_m fu^...</td>\n",
       "      <td>hecuba</td>\n",
       "      <td>0</td>\n",
       "      <td>180051</td>\n",
       "      <td>[quaesita, tota, nocte, ,, cupientem, fugis, ....</td>\n",
       "      <td>Sen_Troades</td>\n",
       "      <td>Sen_Troades:1175</td>\n",
       "      <td>[False, False, False, False, False, False, Fal...</td>\n",
       "    </tr>\n",
       "    <tr>\n",
       "      <th>1175</th>\n",
       "      <td>1176</td>\n",
       "      <td>non hostis aut ruina, non ignis meos</td>\n",
       "      <td>1.000000</td>\n",
       "      <td>915</td>\n",
       "      <td>no*n ho_sti^s [au]t ru*i_na^ no_n i*gni_s me^o*s</td>\n",
       "      <td>hecuba</td>\n",
       "      <td>0</td>\n",
       "      <td>180051</td>\n",
       "      <td>[non, hostis, aut, ruina, ,, non, ignis, meos]</td>\n",
       "      <td>Sen_Troades</td>\n",
       "      <td>Sen_Troades:1176</td>\n",
       "      <td>[False, False, False, False, False, False, Fal...</td>\n",
       "    </tr>\n",
       "    <tr>\n",
       "      <th>1176</th>\n",
       "      <td>1177</td>\n",
       "      <td>absumpsit artus: quam prope a Priamo steti.</td>\n",
       "      <td>0.921053</td>\n",
       "      <td>916</td>\n",
       "      <td>a*bsu_mpsi^t a_rtu*s qva_m pro^p(e) a_ pri^a^...</td>\n",
       "      <td>hecuba</td>\n",
       "      <td>1</td>\n",
       "      <td>180051</td>\n",
       "      <td>[absumpsit, artus, :, quam, prope, a, Priamo, ...</td>\n",
       "      <td>Sen_Troades</td>\n",
       "      <td>Sen_Troades:1177</td>\n",
       "      <td>[False, False, False, False, True, False, Fals...</td>\n",
       "    </tr>\n",
       "  </tbody>\n",
       "</table>\n",
       "<p>7020 rows × 12 columns</p>\n",
       "</div>"
      ],
      "text/plain": [
       "     perseus_n                                 perseus_text      comp  \\\n",
       "0            1            Opaca linquens Ditis inferni loca  0.900000   \n",
       "1            2        adsum profundo Tartari emissus specu,  1.000000   \n",
       "2            3           incertus utras oderim sedes magis:  1.000000   \n",
       "3            4        fugio Thyestes inferos, superos fugo.  1.000000   \n",
       "4            5    en horret animus et pavor membra excutit:  1.000000   \n",
       "...        ...                                          ...       ...   \n",
       "1172      1173       ubique properas, saeva: me solam times  0.909091   \n",
       "1173      1174     vitasque, gladios inter ac tela et faces  0.916667   \n",
       "1174      1175      quaesita tota nocte, cupientem fugis. ,  0.937500   \n",
       "1175      1176         non hostis aut ruina, non ignis meos  1.000000   \n",
       "1176      1177  absumpsit artus: quam prope a Priamo steti.  0.921053   \n",
       "\n",
       "      anceps_n                                        anceps_text   speaker  \\\n",
       "0            0      o*pa_ca^ li_nqve*ns di_ti^s i_nfe*rni_ lo^ca*  thyestis   \n",
       "1            1   a*dsu_m pro^fu_ndo* ta_rta^r(i) e_mi*ssu_s sp...  thyestis   \n",
       "2            2      i*nce_rtu^s u_tra*s o_de^ri_m se*de_s ma^gi*s  thyestis   \n",
       "3            3   fu^gi^o_ thy^e_ste*s i_nfe^ro_s su^pe^ro_s fu...  thyestis   \n",
       "4            4   e*n ho_rre^t a^ni^mu*s e_t pa^vo_r me*mbr(a) ...  thyestis   \n",
       "...        ...                                                ...       ...   \n",
       "1172       912   u*bi_qve^ pro^pe^ra*s s[ae]va^ me_ so*la_m ti...    hecuba   \n",
       "1173       913   vi*ta_sqve^ gla^di^o*s i_nte^r a_c te*l(a) e_...    hecuba   \n",
       "1174       914   qv[ae]si_ta^ to_ta* no_cte^ cu^pi^e*nte_m fu^...    hecuba   \n",
       "1175       915   no*n ho_sti^s [au]t ru*i_na^ no_n i*gni_s me^o*s    hecuba   \n",
       "1176       916   a*bsu_mpsi^t a_rtu*s qva_m pro^p(e) a_ pri^a^...    hecuba   \n",
       "\n",
       "      elision  speech                                             tokens  \\\n",
       "0           0  100001            [Opaca, linquens, Ditis, inferni, loca]   \n",
       "1           1  100001      [adsum, profundo, Tartari, emissus, specu, ,]   \n",
       "2           0  100001         [incertus, utras, oderim, sedes, magis, :]   \n",
       "3           0  100001    [fugio, Thyestes, inferos, ,, superos, fugo, .]   \n",
       "4           1  100001  [en, horret, animus, et, pavor, membra, excuti...   \n",
       "...       ...     ...                                                ...   \n",
       "1172        0  180051  [ubique, properas, ,, saeva, :, me, solam, times]   \n",
       "1173        1  180051  [vitas, que, ,, gladios, inter, ac, tela, et, ...   \n",
       "1174        0  180051  [quaesita, tota, nocte, ,, cupientem, fugis, ....   \n",
       "1175        0  180051     [non, hostis, aut, ruina, ,, non, ignis, meos]   \n",
       "1176        1  180051  [absumpsit, artus, :, quam, prope, a, Priamo, ...   \n",
       "\n",
       "               file           line_id  \\\n",
       "0     Sen_Agamemnon   Sen_Agamemnon:1   \n",
       "1     Sen_Agamemnon   Sen_Agamemnon:2   \n",
       "2     Sen_Agamemnon   Sen_Agamemnon:3   \n",
       "3     Sen_Agamemnon   Sen_Agamemnon:4   \n",
       "4     Sen_Agamemnon   Sen_Agamemnon:5   \n",
       "...             ...               ...   \n",
       "1172    Sen_Troades  Sen_Troades:1173   \n",
       "1173    Sen_Troades  Sen_Troades:1174   \n",
       "1174    Sen_Troades  Sen_Troades:1175   \n",
       "1175    Sen_Troades  Sen_Troades:1176   \n",
       "1176    Sen_Troades  Sen_Troades:1177   \n",
       "\n",
       "                                                 elided  \n",
       "0                   [False, False, False, False, False]  \n",
       "1             [False, False, True, False, False, False]  \n",
       "2            [False, False, False, False, False, False]  \n",
       "3     [False, False, False, False, False, False, False]  \n",
       "4     [False, False, False, False, False, True, Fals...  \n",
       "...                                                 ...  \n",
       "1172  [False, False, False, False, False, False, Fal...  \n",
       "1173  [False, False, False, False, False, False, Tru...  \n",
       "1174  [False, False, False, False, False, False, Fal...  \n",
       "1175  [False, False, False, False, False, False, Fal...  \n",
       "1176  [False, False, False, False, True, False, Fals...  \n",
       "\n",
       "[7020 rows x 12 columns]"
      ]
     },
     "execution_count": 8,
     "metadata": {},
     "output_type": "execute_result"
    }
   ],
   "source": [
    "df.to_csv(os.path.join('data','seneca_scanned.csv'), index=False)\n",
    "df"
   ]
  },
  {
   "cell_type": "markdown",
   "id": "5867bca4-37f5-4c4d-91bd-96f5094dc9e7",
   "metadata": {},
   "source": [
    "### Custom function to define local window for repetitions\n",
    "\n",
    "We treat the words before and after as a \"context\"; if the present word is also found among them, then it's counted as a repetition."
   ]
  },
  {
   "cell_type": "code",
   "execution_count": 9,
   "id": "24f2f7a1-907c-49cc-b84d-62b1db074816",
   "metadata": {},
   "outputs": [],
   "source": [
    "def getContext(token_table):\n",
    "    df = (token_table\n",
    "        .assign(lemma = token_table.lemma.str.lower())\n",
    "        .groupby('line_id', as_index = False)\n",
    "        .agg(line_id = ('line_id', 'first'), lemmas = ('lemma', list))\n",
    "    )\n",
    "\n",
    "    r_context = (\n",
    "        pd.concat(\n",
    "            pd.DataFrame(dict(\n",
    "                line_id = df.iloc[:-i].line_id.values,\n",
    "                lemmas = df.iloc[i:].lemmas.values,\n",
    "            )) for i in range(1, 3))\n",
    "        .groupby('line_id', as_index=False)\n",
    "        .agg(r_context=('lemmas', lambda lems: sum(lems, [])))\n",
    "    )\n",
    "\n",
    "    l_context = (\n",
    "        pd.concat(\n",
    "            pd.DataFrame(dict(\n",
    "                line_id = df.iloc[i:].line_id.values,\n",
    "                lemmas = df.iloc[:-i].lemmas.values,\n",
    "            )) for i in range(1, 3))\n",
    "        .groupby('line_id', as_index=False)\n",
    "        .agg(l_context=('lemmas', lambda lems: sum(lems, [])))\n",
    "    )\n",
    "\n",
    "    context = pd.merge(l_context, r_context, how='outer', on='line_id')\n",
    "    context = pd.merge(df, context, on='line_id')\n",
    "    context['context'] = context['l_context'] + context['lemmas'] + context['r_context']\n",
    "    context = context.drop(columns=['l_context', 'lemmas', 'r_context'])\n",
    "\n",
    "    return context"
   ]
  },
  {
   "cell_type": "code",
   "execution_count": 12,
   "id": "2aa03718-9ab0-47e3-adcd-95604dd9eacb",
   "metadata": {},
   "outputs": [
    {
     "name": "stdout",
     "output_type": "stream",
     "text": [
      "100001\n"
     ]
    },
    {
     "name": "stderr",
     "output_type": "stream",
     "text": [
      "/var/folders/2x/rfhzgyjn2zq2wlzk_kn4th680000gn/T/ipykernel_9315/2342058334.py:2: FutureWarning: The default of observed=False is deprecated and will be changed to True in a future version of pandas. Pass observed=False to retain current behavior or observed=True to adopt the future default and silence this warning.\n",
      "  df = (token_table\n",
      "/var/folders/2x/rfhzgyjn2zq2wlzk_kn4th680000gn/T/ipykernel_9315/2342058334.py:9: FutureWarning: The default of observed=False is deprecated and will be changed to True in a future version of pandas. Pass observed=False to retain current behavior or observed=True to adopt the future default and silence this warning.\n",
      "  pd.concat(\n",
      "/var/folders/2x/rfhzgyjn2zq2wlzk_kn4th680000gn/T/ipykernel_9315/2342058334.py:19: FutureWarning: The default of observed=False is deprecated and will be changed to True in a future version of pandas. Pass observed=False to retain current behavior or observed=True to adopt the future default and silence this warning.\n",
      "  pd.concat(\n",
      "/var/folders/2x/rfhzgyjn2zq2wlzk_kn4th680000gn/T/ipykernel_9315/2342058334.py:2: FutureWarning: The default of observed=False is deprecated and will be changed to True in a future version of pandas. Pass observed=False to retain current behavior or observed=True to adopt the future default and silence this warning.\n",
      "  df = (token_table\n"
     ]
    },
    {
     "name": "stdout",
     "output_type": "stream",
     "text": [
      "100002\n",
      "100003\n"
     ]
    },
    {
     "name": "stderr",
     "output_type": "stream",
     "text": [
      "/var/folders/2x/rfhzgyjn2zq2wlzk_kn4th680000gn/T/ipykernel_9315/2342058334.py:9: FutureWarning: The default of observed=False is deprecated and will be changed to True in a future version of pandas. Pass observed=False to retain current behavior or observed=True to adopt the future default and silence this warning.\n",
      "  pd.concat(\n",
      "/var/folders/2x/rfhzgyjn2zq2wlzk_kn4th680000gn/T/ipykernel_9315/2342058334.py:19: FutureWarning: The default of observed=False is deprecated and will be changed to True in a future version of pandas. Pass observed=False to retain current behavior or observed=True to adopt the future default and silence this warning.\n",
      "  pd.concat(\n",
      "/var/folders/2x/rfhzgyjn2zq2wlzk_kn4th680000gn/T/ipykernel_9315/2342058334.py:2: FutureWarning: The default of observed=False is deprecated and will be changed to True in a future version of pandas. Pass observed=False to retain current behavior or observed=True to adopt the future default and silence this warning.\n",
      "  df = (token_table\n",
      "/var/folders/2x/rfhzgyjn2zq2wlzk_kn4th680000gn/T/ipykernel_9315/2342058334.py:9: FutureWarning: The default of observed=False is deprecated and will be changed to True in a future version of pandas. Pass observed=False to retain current behavior or observed=True to adopt the future default and silence this warning.\n",
      "  pd.concat(\n",
      "/var/folders/2x/rfhzgyjn2zq2wlzk_kn4th680000gn/T/ipykernel_9315/2342058334.py:19: FutureWarning: The default of observed=False is deprecated and will be changed to True in a future version of pandas. Pass observed=False to retain current behavior or observed=True to adopt the future default and silence this warning.\n",
      "  pd.concat(\n"
     ]
    },
    {
     "name": "stdout",
     "output_type": "stream",
     "text": [
      "100004\n",
      "100005\n"
     ]
    },
    {
     "name": "stderr",
     "output_type": "stream",
     "text": [
      "/var/folders/2x/rfhzgyjn2zq2wlzk_kn4th680000gn/T/ipykernel_9315/2342058334.py:2: FutureWarning: The default of observed=False is deprecated and will be changed to True in a future version of pandas. Pass observed=False to retain current behavior or observed=True to adopt the future default and silence this warning.\n",
      "  df = (token_table\n",
      "/var/folders/2x/rfhzgyjn2zq2wlzk_kn4th680000gn/T/ipykernel_9315/2342058334.py:9: FutureWarning: The default of observed=False is deprecated and will be changed to True in a future version of pandas. Pass observed=False to retain current behavior or observed=True to adopt the future default and silence this warning.\n",
      "  pd.concat(\n",
      "/var/folders/2x/rfhzgyjn2zq2wlzk_kn4th680000gn/T/ipykernel_9315/2342058334.py:19: FutureWarning: The default of observed=False is deprecated and will be changed to True in a future version of pandas. Pass observed=False to retain current behavior or observed=True to adopt the future default and silence this warning.\n",
      "  pd.concat(\n",
      "/var/folders/2x/rfhzgyjn2zq2wlzk_kn4th680000gn/T/ipykernel_9315/2342058334.py:2: FutureWarning: The default of observed=False is deprecated and will be changed to True in a future version of pandas. Pass observed=False to retain current behavior or observed=True to adopt the future default and silence this warning.\n",
      "  df = (token_table\n",
      "/var/folders/2x/rfhzgyjn2zq2wlzk_kn4th680000gn/T/ipykernel_9315/2342058334.py:9: FutureWarning: The default of observed=False is deprecated and will be changed to True in a future version of pandas. Pass observed=False to retain current behavior or observed=True to adopt the future default and silence this warning.\n",
      "  pd.concat(\n",
      "/var/folders/2x/rfhzgyjn2zq2wlzk_kn4th680000gn/T/ipykernel_9315/2342058334.py:19: FutureWarning: The default of observed=False is deprecated and will be changed to True in a future version of pandas. Pass observed=False to retain current behavior or observed=True to adopt the future default and silence this warning.\n",
      "  pd.concat(\n",
      "/var/folders/2x/rfhzgyjn2zq2wlzk_kn4th680000gn/T/ipykernel_9315/2342058334.py:2: FutureWarning: The default of observed=False is deprecated and will be changed to True in a future version of pandas. Pass observed=False to retain current behavior or observed=True to adopt the future default and silence this warning.\n",
      "  df = (token_table\n"
     ]
    },
    {
     "name": "stdout",
     "output_type": "stream",
     "text": [
      "100006\n",
      "100007\n"
     ]
    },
    {
     "name": "stderr",
     "output_type": "stream",
     "text": [
      "/var/folders/2x/rfhzgyjn2zq2wlzk_kn4th680000gn/T/ipykernel_9315/2342058334.py:9: FutureWarning: The default of observed=False is deprecated and will be changed to True in a future version of pandas. Pass observed=False to retain current behavior or observed=True to adopt the future default and silence this warning.\n",
      "  pd.concat(\n",
      "/var/folders/2x/rfhzgyjn2zq2wlzk_kn4th680000gn/T/ipykernel_9315/2342058334.py:19: FutureWarning: The default of observed=False is deprecated and will be changed to True in a future version of pandas. Pass observed=False to retain current behavior or observed=True to adopt the future default and silence this warning.\n",
      "  pd.concat(\n",
      "/var/folders/2x/rfhzgyjn2zq2wlzk_kn4th680000gn/T/ipykernel_9315/2342058334.py:2: FutureWarning: The default of observed=False is deprecated and will be changed to True in a future version of pandas. Pass observed=False to retain current behavior or observed=True to adopt the future default and silence this warning.\n",
      "  df = (token_table\n",
      "/var/folders/2x/rfhzgyjn2zq2wlzk_kn4th680000gn/T/ipykernel_9315/2342058334.py:9: FutureWarning: The default of observed=False is deprecated and will be changed to True in a future version of pandas. Pass observed=False to retain current behavior or observed=True to adopt the future default and silence this warning.\n",
      "  pd.concat(\n",
      "/var/folders/2x/rfhzgyjn2zq2wlzk_kn4th680000gn/T/ipykernel_9315/2342058334.py:19: FutureWarning: The default of observed=False is deprecated and will be changed to True in a future version of pandas. Pass observed=False to retain current behavior or observed=True to adopt the future default and silence this warning.\n",
      "  pd.concat(\n",
      "/var/folders/2x/rfhzgyjn2zq2wlzk_kn4th680000gn/T/ipykernel_9315/2342058334.py:2: FutureWarning: The default of observed=False is deprecated and will be changed to True in a future version of pandas. Pass observed=False to retain current behavior or observed=True to adopt the future default and silence this warning.\n",
      "  df = (token_table\n",
      "/var/folders/2x/rfhzgyjn2zq2wlzk_kn4th680000gn/T/ipykernel_9315/2342058334.py:9: FutureWarning: The default of observed=False is deprecated and will be changed to True in a future version of pandas. Pass observed=False to retain current behavior or observed=True to adopt the future default and silence this warning.\n",
      "  pd.concat(\n",
      "/var/folders/2x/rfhzgyjn2zq2wlzk_kn4th680000gn/T/ipykernel_9315/2342058334.py:19: FutureWarning: The default of observed=False is deprecated and will be changed to True in a future version of pandas. Pass observed=False to retain current behavior or observed=True to adopt the future default and silence this warning.\n",
      "  pd.concat(\n"
     ]
    },
    {
     "name": "stdout",
     "output_type": "stream",
     "text": [
      "100008\n",
      "100009\n"
     ]
    },
    {
     "name": "stderr",
     "output_type": "stream",
     "text": [
      "/var/folders/2x/rfhzgyjn2zq2wlzk_kn4th680000gn/T/ipykernel_9315/2342058334.py:2: FutureWarning: The default of observed=False is deprecated and will be changed to True in a future version of pandas. Pass observed=False to retain current behavior or observed=True to adopt the future default and silence this warning.\n",
      "  df = (token_table\n",
      "/var/folders/2x/rfhzgyjn2zq2wlzk_kn4th680000gn/T/ipykernel_9315/2342058334.py:9: FutureWarning: The default of observed=False is deprecated and will be changed to True in a future version of pandas. Pass observed=False to retain current behavior or observed=True to adopt the future default and silence this warning.\n",
      "  pd.concat(\n",
      "/var/folders/2x/rfhzgyjn2zq2wlzk_kn4th680000gn/T/ipykernel_9315/2342058334.py:19: FutureWarning: The default of observed=False is deprecated and will be changed to True in a future version of pandas. Pass observed=False to retain current behavior or observed=True to adopt the future default and silence this warning.\n",
      "  pd.concat(\n",
      "/var/folders/2x/rfhzgyjn2zq2wlzk_kn4th680000gn/T/ipykernel_9315/2342058334.py:2: FutureWarning: The default of observed=False is deprecated and will be changed to True in a future version of pandas. Pass observed=False to retain current behavior or observed=True to adopt the future default and silence this warning.\n",
      "  df = (token_table\n",
      "/var/folders/2x/rfhzgyjn2zq2wlzk_kn4th680000gn/T/ipykernel_9315/2342058334.py:9: FutureWarning: The default of observed=False is deprecated and will be changed to True in a future version of pandas. Pass observed=False to retain current behavior or observed=True to adopt the future default and silence this warning.\n",
      "  pd.concat(\n"
     ]
    },
    {
     "name": "stdout",
     "output_type": "stream",
     "text": [
      "100010\n",
      "100011\n"
     ]
    },
    {
     "name": "stderr",
     "output_type": "stream",
     "text": [
      "/var/folders/2x/rfhzgyjn2zq2wlzk_kn4th680000gn/T/ipykernel_9315/2342058334.py:19: FutureWarning: The default of observed=False is deprecated and will be changed to True in a future version of pandas. Pass observed=False to retain current behavior or observed=True to adopt the future default and silence this warning.\n",
      "  pd.concat(\n",
      "/var/folders/2x/rfhzgyjn2zq2wlzk_kn4th680000gn/T/ipykernel_9315/2342058334.py:2: FutureWarning: The default of observed=False is deprecated and will be changed to True in a future version of pandas. Pass observed=False to retain current behavior or observed=True to adopt the future default and silence this warning.\n",
      "  df = (token_table\n",
      "/var/folders/2x/rfhzgyjn2zq2wlzk_kn4th680000gn/T/ipykernel_9315/2342058334.py:9: FutureWarning: The default of observed=False is deprecated and will be changed to True in a future version of pandas. Pass observed=False to retain current behavior or observed=True to adopt the future default and silence this warning.\n",
      "  pd.concat(\n",
      "/var/folders/2x/rfhzgyjn2zq2wlzk_kn4th680000gn/T/ipykernel_9315/2342058334.py:19: FutureWarning: The default of observed=False is deprecated and will be changed to True in a future version of pandas. Pass observed=False to retain current behavior or observed=True to adopt the future default and silence this warning.\n",
      "  pd.concat(\n"
     ]
    },
    {
     "name": "stdout",
     "output_type": "stream",
     "text": [
      "100012\n",
      "100013\n"
     ]
    },
    {
     "name": "stderr",
     "output_type": "stream",
     "text": [
      "/var/folders/2x/rfhzgyjn2zq2wlzk_kn4th680000gn/T/ipykernel_9315/2342058334.py:2: FutureWarning: The default of observed=False is deprecated and will be changed to True in a future version of pandas. Pass observed=False to retain current behavior or observed=True to adopt the future default and silence this warning.\n",
      "  df = (token_table\n",
      "/var/folders/2x/rfhzgyjn2zq2wlzk_kn4th680000gn/T/ipykernel_9315/2342058334.py:9: FutureWarning: The default of observed=False is deprecated and will be changed to True in a future version of pandas. Pass observed=False to retain current behavior or observed=True to adopt the future default and silence this warning.\n",
      "  pd.concat(\n",
      "/var/folders/2x/rfhzgyjn2zq2wlzk_kn4th680000gn/T/ipykernel_9315/2342058334.py:19: FutureWarning: The default of observed=False is deprecated and will be changed to True in a future version of pandas. Pass observed=False to retain current behavior or observed=True to adopt the future default and silence this warning.\n",
      "  pd.concat(\n",
      "/var/folders/2x/rfhzgyjn2zq2wlzk_kn4th680000gn/T/ipykernel_9315/2342058334.py:2: FutureWarning: The default of observed=False is deprecated and will be changed to True in a future version of pandas. Pass observed=False to retain current behavior or observed=True to adopt the future default and silence this warning.\n",
      "  df = (token_table\n",
      "/var/folders/2x/rfhzgyjn2zq2wlzk_kn4th680000gn/T/ipykernel_9315/2342058334.py:9: FutureWarning: The default of observed=False is deprecated and will be changed to True in a future version of pandas. Pass observed=False to retain current behavior or observed=True to adopt the future default and silence this warning.\n",
      "  pd.concat(\n",
      "/var/folders/2x/rfhzgyjn2zq2wlzk_kn4th680000gn/T/ipykernel_9315/2342058334.py:19: FutureWarning: The default of observed=False is deprecated and will be changed to True in a future version of pandas. Pass observed=False to retain current behavior or observed=True to adopt the future default and silence this warning.\n",
      "  pd.concat(\n",
      "/var/folders/2x/rfhzgyjn2zq2wlzk_kn4th680000gn/T/ipykernel_9315/2342058334.py:2: FutureWarning: The default of observed=False is deprecated and will be changed to True in a future version of pandas. Pass observed=False to retain current behavior or observed=True to adopt the future default and silence this warning.\n",
      "  df = (token_table\n",
      "/var/folders/2x/rfhzgyjn2zq2wlzk_kn4th680000gn/T/ipykernel_9315/2342058334.py:9: FutureWarning: The default of observed=False is deprecated and will be changed to True in a future version of pandas. Pass observed=False to retain current behavior or observed=True to adopt the future default and silence this warning.\n",
      "  pd.concat(\n"
     ]
    },
    {
     "name": "stdout",
     "output_type": "stream",
     "text": [
      "100014\n",
      "100015\n"
     ]
    },
    {
     "name": "stderr",
     "output_type": "stream",
     "text": [
      "/var/folders/2x/rfhzgyjn2zq2wlzk_kn4th680000gn/T/ipykernel_9315/2342058334.py:19: FutureWarning: The default of observed=False is deprecated and will be changed to True in a future version of pandas. Pass observed=False to retain current behavior or observed=True to adopt the future default and silence this warning.\n",
      "  pd.concat(\n",
      "/var/folders/2x/rfhzgyjn2zq2wlzk_kn4th680000gn/T/ipykernel_9315/2342058334.py:2: FutureWarning: The default of observed=False is deprecated and will be changed to True in a future version of pandas. Pass observed=False to retain current behavior or observed=True to adopt the future default and silence this warning.\n",
      "  df = (token_table\n",
      "/var/folders/2x/rfhzgyjn2zq2wlzk_kn4th680000gn/T/ipykernel_9315/2342058334.py:9: FutureWarning: The default of observed=False is deprecated and will be changed to True in a future version of pandas. Pass observed=False to retain current behavior or observed=True to adopt the future default and silence this warning.\n",
      "  pd.concat(\n",
      "/var/folders/2x/rfhzgyjn2zq2wlzk_kn4th680000gn/T/ipykernel_9315/2342058334.py:19: FutureWarning: The default of observed=False is deprecated and will be changed to True in a future version of pandas. Pass observed=False to retain current behavior or observed=True to adopt the future default and silence this warning.\n",
      "  pd.concat(\n",
      "/var/folders/2x/rfhzgyjn2zq2wlzk_kn4th680000gn/T/ipykernel_9315/2342058334.py:2: FutureWarning: The default of observed=False is deprecated and will be changed to True in a future version of pandas. Pass observed=False to retain current behavior or observed=True to adopt the future default and silence this warning.\n",
      "  df = (token_table\n"
     ]
    },
    {
     "name": "stdout",
     "output_type": "stream",
     "text": [
      "100016\n",
      "100017\n"
     ]
    },
    {
     "name": "stderr",
     "output_type": "stream",
     "text": [
      "/var/folders/2x/rfhzgyjn2zq2wlzk_kn4th680000gn/T/ipykernel_9315/2342058334.py:9: FutureWarning: The default of observed=False is deprecated and will be changed to True in a future version of pandas. Pass observed=False to retain current behavior or observed=True to adopt the future default and silence this warning.\n",
      "  pd.concat(\n",
      "/var/folders/2x/rfhzgyjn2zq2wlzk_kn4th680000gn/T/ipykernel_9315/2342058334.py:19: FutureWarning: The default of observed=False is deprecated and will be changed to True in a future version of pandas. Pass observed=False to retain current behavior or observed=True to adopt the future default and silence this warning.\n",
      "  pd.concat(\n",
      "/var/folders/2x/rfhzgyjn2zq2wlzk_kn4th680000gn/T/ipykernel_9315/2342058334.py:2: FutureWarning: The default of observed=False is deprecated and will be changed to True in a future version of pandas. Pass observed=False to retain current behavior or observed=True to adopt the future default and silence this warning.\n",
      "  df = (token_table\n",
      "/var/folders/2x/rfhzgyjn2zq2wlzk_kn4th680000gn/T/ipykernel_9315/2342058334.py:9: FutureWarning: The default of observed=False is deprecated and will be changed to True in a future version of pandas. Pass observed=False to retain current behavior or observed=True to adopt the future default and silence this warning.\n",
      "  pd.concat(\n",
      "/var/folders/2x/rfhzgyjn2zq2wlzk_kn4th680000gn/T/ipykernel_9315/2342058334.py:19: FutureWarning: The default of observed=False is deprecated and will be changed to True in a future version of pandas. Pass observed=False to retain current behavior or observed=True to adopt the future default and silence this warning.\n",
      "  pd.concat(\n",
      "/var/folders/2x/rfhzgyjn2zq2wlzk_kn4th680000gn/T/ipykernel_9315/2342058334.py:2: FutureWarning: The default of observed=False is deprecated and will be changed to True in a future version of pandas. Pass observed=False to retain current behavior or observed=True to adopt the future default and silence this warning.\n",
      "  df = (token_table\n",
      "/var/folders/2x/rfhzgyjn2zq2wlzk_kn4th680000gn/T/ipykernel_9315/2342058334.py:9: FutureWarning: The default of observed=False is deprecated and will be changed to True in a future version of pandas. Pass observed=False to retain current behavior or observed=True to adopt the future default and silence this warning.\n",
      "  pd.concat(\n",
      "/var/folders/2x/rfhzgyjn2zq2wlzk_kn4th680000gn/T/ipykernel_9315/2342058334.py:19: FutureWarning: The default of observed=False is deprecated and will be changed to True in a future version of pandas. Pass observed=False to retain current behavior or observed=True to adopt the future default and silence this warning.\n",
      "  pd.concat(\n"
     ]
    },
    {
     "name": "stdout",
     "output_type": "stream",
     "text": [
      "100018\n",
      "100019\n"
     ]
    },
    {
     "name": "stderr",
     "output_type": "stream",
     "text": [
      "/var/folders/2x/rfhzgyjn2zq2wlzk_kn4th680000gn/T/ipykernel_9315/2342058334.py:2: FutureWarning: The default of observed=False is deprecated and will be changed to True in a future version of pandas. Pass observed=False to retain current behavior or observed=True to adopt the future default and silence this warning.\n",
      "  df = (token_table\n",
      "/var/folders/2x/rfhzgyjn2zq2wlzk_kn4th680000gn/T/ipykernel_9315/2342058334.py:9: FutureWarning: The default of observed=False is deprecated and will be changed to True in a future version of pandas. Pass observed=False to retain current behavior or observed=True to adopt the future default and silence this warning.\n",
      "  pd.concat(\n",
      "/var/folders/2x/rfhzgyjn2zq2wlzk_kn4th680000gn/T/ipykernel_9315/2342058334.py:19: FutureWarning: The default of observed=False is deprecated and will be changed to True in a future version of pandas. Pass observed=False to retain current behavior or observed=True to adopt the future default and silence this warning.\n",
      "  pd.concat(\n",
      "/var/folders/2x/rfhzgyjn2zq2wlzk_kn4th680000gn/T/ipykernel_9315/2342058334.py:2: FutureWarning: The default of observed=False is deprecated and will be changed to True in a future version of pandas. Pass observed=False to retain current behavior or observed=True to adopt the future default and silence this warning.\n",
      "  df = (token_table\n"
     ]
    },
    {
     "name": "stdout",
     "output_type": "stream",
     "text": [
      "100020\n",
      "100021\n"
     ]
    },
    {
     "name": "stderr",
     "output_type": "stream",
     "text": [
      "/var/folders/2x/rfhzgyjn2zq2wlzk_kn4th680000gn/T/ipykernel_9315/2342058334.py:9: FutureWarning: The default of observed=False is deprecated and will be changed to True in a future version of pandas. Pass observed=False to retain current behavior or observed=True to adopt the future default and silence this warning.\n",
      "  pd.concat(\n",
      "/var/folders/2x/rfhzgyjn2zq2wlzk_kn4th680000gn/T/ipykernel_9315/2342058334.py:19: FutureWarning: The default of observed=False is deprecated and will be changed to True in a future version of pandas. Pass observed=False to retain current behavior or observed=True to adopt the future default and silence this warning.\n",
      "  pd.concat(\n",
      "/var/folders/2x/rfhzgyjn2zq2wlzk_kn4th680000gn/T/ipykernel_9315/2342058334.py:2: FutureWarning: The default of observed=False is deprecated and will be changed to True in a future version of pandas. Pass observed=False to retain current behavior or observed=True to adopt the future default and silence this warning.\n",
      "  df = (token_table\n",
      "/var/folders/2x/rfhzgyjn2zq2wlzk_kn4th680000gn/T/ipykernel_9315/2342058334.py:9: FutureWarning: The default of observed=False is deprecated and will be changed to True in a future version of pandas. Pass observed=False to retain current behavior or observed=True to adopt the future default and silence this warning.\n",
      "  pd.concat(\n",
      "/var/folders/2x/rfhzgyjn2zq2wlzk_kn4th680000gn/T/ipykernel_9315/2342058334.py:19: FutureWarning: The default of observed=False is deprecated and will be changed to True in a future version of pandas. Pass observed=False to retain current behavior or observed=True to adopt the future default and silence this warning.\n",
      "  pd.concat(\n",
      "/var/folders/2x/rfhzgyjn2zq2wlzk_kn4th680000gn/T/ipykernel_9315/2342058334.py:2: FutureWarning: The default of observed=False is deprecated and will be changed to True in a future version of pandas. Pass observed=False to retain current behavior or observed=True to adopt the future default and silence this warning.\n",
      "  df = (token_table\n",
      "/var/folders/2x/rfhzgyjn2zq2wlzk_kn4th680000gn/T/ipykernel_9315/2342058334.py:9: FutureWarning: The default of observed=False is deprecated and will be changed to True in a future version of pandas. Pass observed=False to retain current behavior or observed=True to adopt the future default and silence this warning.\n",
      "  pd.concat(\n"
     ]
    },
    {
     "name": "stdout",
     "output_type": "stream",
     "text": [
      "100022\n"
     ]
    },
    {
     "name": "stderr",
     "output_type": "stream",
     "text": [
      "/var/folders/2x/rfhzgyjn2zq2wlzk_kn4th680000gn/T/ipykernel_9315/2342058334.py:19: FutureWarning: The default of observed=False is deprecated and will be changed to True in a future version of pandas. Pass observed=False to retain current behavior or observed=True to adopt the future default and silence this warning.\n",
      "  pd.concat(\n",
      "/var/folders/2x/rfhzgyjn2zq2wlzk_kn4th680000gn/T/ipykernel_9315/2342058334.py:2: FutureWarning: The default of observed=False is deprecated and will be changed to True in a future version of pandas. Pass observed=False to retain current behavior or observed=True to adopt the future default and silence this warning.\n",
      "  df = (token_table\n",
      "/var/folders/2x/rfhzgyjn2zq2wlzk_kn4th680000gn/T/ipykernel_9315/2342058334.py:9: FutureWarning: The default of observed=False is deprecated and will be changed to True in a future version of pandas. Pass observed=False to retain current behavior or observed=True to adopt the future default and silence this warning.\n",
      "  pd.concat(\n",
      "/var/folders/2x/rfhzgyjn2zq2wlzk_kn4th680000gn/T/ipykernel_9315/2342058334.py:19: FutureWarning: The default of observed=False is deprecated and will be changed to True in a future version of pandas. Pass observed=False to retain current behavior or observed=True to adopt the future default and silence this warning.\n",
      "  pd.concat(\n"
     ]
    },
    {
     "name": "stdout",
     "output_type": "stream",
     "text": [
      "100023\n",
      "100024\n"
     ]
    },
    {
     "name": "stderr",
     "output_type": "stream",
     "text": [
      "/var/folders/2x/rfhzgyjn2zq2wlzk_kn4th680000gn/T/ipykernel_9315/2342058334.py:2: FutureWarning: The default of observed=False is deprecated and will be changed to True in a future version of pandas. Pass observed=False to retain current behavior or observed=True to adopt the future default and silence this warning.\n",
      "  df = (token_table\n",
      "/var/folders/2x/rfhzgyjn2zq2wlzk_kn4th680000gn/T/ipykernel_9315/2342058334.py:9: FutureWarning: The default of observed=False is deprecated and will be changed to True in a future version of pandas. Pass observed=False to retain current behavior or observed=True to adopt the future default and silence this warning.\n",
      "  pd.concat(\n",
      "/var/folders/2x/rfhzgyjn2zq2wlzk_kn4th680000gn/T/ipykernel_9315/2342058334.py:19: FutureWarning: The default of observed=False is deprecated and will be changed to True in a future version of pandas. Pass observed=False to retain current behavior or observed=True to adopt the future default and silence this warning.\n",
      "  pd.concat(\n",
      "/var/folders/2x/rfhzgyjn2zq2wlzk_kn4th680000gn/T/ipykernel_9315/2342058334.py:2: FutureWarning: The default of observed=False is deprecated and will be changed to True in a future version of pandas. Pass observed=False to retain current behavior or observed=True to adopt the future default and silence this warning.\n",
      "  df = (token_table\n",
      "/var/folders/2x/rfhzgyjn2zq2wlzk_kn4th680000gn/T/ipykernel_9315/2342058334.py:9: FutureWarning: The default of observed=False is deprecated and will be changed to True in a future version of pandas. Pass observed=False to retain current behavior or observed=True to adopt the future default and silence this warning.\n",
      "  pd.concat(\n"
     ]
    },
    {
     "name": "stdout",
     "output_type": "stream",
     "text": [
      "100025\n",
      "100026\n"
     ]
    },
    {
     "name": "stderr",
     "output_type": "stream",
     "text": [
      "/var/folders/2x/rfhzgyjn2zq2wlzk_kn4th680000gn/T/ipykernel_9315/2342058334.py:19: FutureWarning: The default of observed=False is deprecated and will be changed to True in a future version of pandas. Pass observed=False to retain current behavior or observed=True to adopt the future default and silence this warning.\n",
      "  pd.concat(\n",
      "/var/folders/2x/rfhzgyjn2zq2wlzk_kn4th680000gn/T/ipykernel_9315/2342058334.py:2: FutureWarning: The default of observed=False is deprecated and will be changed to True in a future version of pandas. Pass observed=False to retain current behavior or observed=True to adopt the future default and silence this warning.\n",
      "  df = (token_table\n",
      "/var/folders/2x/rfhzgyjn2zq2wlzk_kn4th680000gn/T/ipykernel_9315/2342058334.py:9: FutureWarning: The default of observed=False is deprecated and will be changed to True in a future version of pandas. Pass observed=False to retain current behavior or observed=True to adopt the future default and silence this warning.\n",
      "  pd.concat(\n",
      "/var/folders/2x/rfhzgyjn2zq2wlzk_kn4th680000gn/T/ipykernel_9315/2342058334.py:19: FutureWarning: The default of observed=False is deprecated and will be changed to True in a future version of pandas. Pass observed=False to retain current behavior or observed=True to adopt the future default and silence this warning.\n",
      "  pd.concat(\n",
      "/var/folders/2x/rfhzgyjn2zq2wlzk_kn4th680000gn/T/ipykernel_9315/2342058334.py:2: FutureWarning: The default of observed=False is deprecated and will be changed to True in a future version of pandas. Pass observed=False to retain current behavior or observed=True to adopt the future default and silence this warning.\n",
      "  df = (token_table\n",
      "/var/folders/2x/rfhzgyjn2zq2wlzk_kn4th680000gn/T/ipykernel_9315/2342058334.py:9: FutureWarning: The default of observed=False is deprecated and will be changed to True in a future version of pandas. Pass observed=False to retain current behavior or observed=True to adopt the future default and silence this warning.\n",
      "  pd.concat(\n",
      "/var/folders/2x/rfhzgyjn2zq2wlzk_kn4th680000gn/T/ipykernel_9315/2342058334.py:19: FutureWarning: The default of observed=False is deprecated and will be changed to True in a future version of pandas. Pass observed=False to retain current behavior or observed=True to adopt the future default and silence this warning.\n",
      "  pd.concat(\n",
      "/var/folders/2x/rfhzgyjn2zq2wlzk_kn4th680000gn/T/ipykernel_9315/2342058334.py:2: FutureWarning: The default of observed=False is deprecated and will be changed to True in a future version of pandas. Pass observed=False to retain current behavior or observed=True to adopt the future default and silence this warning.\n",
      "  df = (token_table\n"
     ]
    },
    {
     "name": "stdout",
     "output_type": "stream",
     "text": [
      "100027\n",
      "100028\n"
     ]
    },
    {
     "name": "stderr",
     "output_type": "stream",
     "text": [
      "/var/folders/2x/rfhzgyjn2zq2wlzk_kn4th680000gn/T/ipykernel_9315/2342058334.py:9: FutureWarning: The default of observed=False is deprecated and will be changed to True in a future version of pandas. Pass observed=False to retain current behavior or observed=True to adopt the future default and silence this warning.\n",
      "  pd.concat(\n",
      "/var/folders/2x/rfhzgyjn2zq2wlzk_kn4th680000gn/T/ipykernel_9315/2342058334.py:19: FutureWarning: The default of observed=False is deprecated and will be changed to True in a future version of pandas. Pass observed=False to retain current behavior or observed=True to adopt the future default and silence this warning.\n",
      "  pd.concat(\n",
      "/var/folders/2x/rfhzgyjn2zq2wlzk_kn4th680000gn/T/ipykernel_9315/2342058334.py:2: FutureWarning: The default of observed=False is deprecated and will be changed to True in a future version of pandas. Pass observed=False to retain current behavior or observed=True to adopt the future default and silence this warning.\n",
      "  df = (token_table\n",
      "/var/folders/2x/rfhzgyjn2zq2wlzk_kn4th680000gn/T/ipykernel_9315/2342058334.py:9: FutureWarning: The default of observed=False is deprecated and will be changed to True in a future version of pandas. Pass observed=False to retain current behavior or observed=True to adopt the future default and silence this warning.\n",
      "  pd.concat(\n"
     ]
    },
    {
     "name": "stdout",
     "output_type": "stream",
     "text": [
      "100029\n",
      "100030\n"
     ]
    },
    {
     "name": "stderr",
     "output_type": "stream",
     "text": [
      "/var/folders/2x/rfhzgyjn2zq2wlzk_kn4th680000gn/T/ipykernel_9315/2342058334.py:19: FutureWarning: The default of observed=False is deprecated and will be changed to True in a future version of pandas. Pass observed=False to retain current behavior or observed=True to adopt the future default and silence this warning.\n",
      "  pd.concat(\n",
      "/var/folders/2x/rfhzgyjn2zq2wlzk_kn4th680000gn/T/ipykernel_9315/2342058334.py:2: FutureWarning: The default of observed=False is deprecated and will be changed to True in a future version of pandas. Pass observed=False to retain current behavior or observed=True to adopt the future default and silence this warning.\n",
      "  df = (token_table\n",
      "/var/folders/2x/rfhzgyjn2zq2wlzk_kn4th680000gn/T/ipykernel_9315/2342058334.py:9: FutureWarning: The default of observed=False is deprecated and will be changed to True in a future version of pandas. Pass observed=False to retain current behavior or observed=True to adopt the future default and silence this warning.\n",
      "  pd.concat(\n",
      "/var/folders/2x/rfhzgyjn2zq2wlzk_kn4th680000gn/T/ipykernel_9315/2342058334.py:19: FutureWarning: The default of observed=False is deprecated and will be changed to True in a future version of pandas. Pass observed=False to retain current behavior or observed=True to adopt the future default and silence this warning.\n",
      "  pd.concat(\n",
      "/var/folders/2x/rfhzgyjn2zq2wlzk_kn4th680000gn/T/ipykernel_9315/2342058334.py:2: FutureWarning: The default of observed=False is deprecated and will be changed to True in a future version of pandas. Pass observed=False to retain current behavior or observed=True to adopt the future default and silence this warning.\n",
      "  df = (token_table\n",
      "/var/folders/2x/rfhzgyjn2zq2wlzk_kn4th680000gn/T/ipykernel_9315/2342058334.py:9: FutureWarning: The default of observed=False is deprecated and will be changed to True in a future version of pandas. Pass observed=False to retain current behavior or observed=True to adopt the future default and silence this warning.\n",
      "  pd.concat(\n",
      "/var/folders/2x/rfhzgyjn2zq2wlzk_kn4th680000gn/T/ipykernel_9315/2342058334.py:19: FutureWarning: The default of observed=False is deprecated and will be changed to True in a future version of pandas. Pass observed=False to retain current behavior or observed=True to adopt the future default and silence this warning.\n",
      "  pd.concat(\n"
     ]
    },
    {
     "name": "stdout",
     "output_type": "stream",
     "text": [
      "100031\n",
      "100032\n"
     ]
    },
    {
     "name": "stderr",
     "output_type": "stream",
     "text": [
      "/var/folders/2x/rfhzgyjn2zq2wlzk_kn4th680000gn/T/ipykernel_9315/2342058334.py:2: FutureWarning: The default of observed=False is deprecated and will be changed to True in a future version of pandas. Pass observed=False to retain current behavior or observed=True to adopt the future default and silence this warning.\n",
      "  df = (token_table\n",
      "/var/folders/2x/rfhzgyjn2zq2wlzk_kn4th680000gn/T/ipykernel_9315/2342058334.py:9: FutureWarning: The default of observed=False is deprecated and will be changed to True in a future version of pandas. Pass observed=False to retain current behavior or observed=True to adopt the future default and silence this warning.\n",
      "  pd.concat(\n",
      "/var/folders/2x/rfhzgyjn2zq2wlzk_kn4th680000gn/T/ipykernel_9315/2342058334.py:19: FutureWarning: The default of observed=False is deprecated and will be changed to True in a future version of pandas. Pass observed=False to retain current behavior or observed=True to adopt the future default and silence this warning.\n",
      "  pd.concat(\n"
     ]
    },
    {
     "name": "stdout",
     "output_type": "stream",
     "text": [
      "100033\n",
      "100034\n"
     ]
    },
    {
     "name": "stderr",
     "output_type": "stream",
     "text": [
      "/var/folders/2x/rfhzgyjn2zq2wlzk_kn4th680000gn/T/ipykernel_9315/2342058334.py:2: FutureWarning: The default of observed=False is deprecated and will be changed to True in a future version of pandas. Pass observed=False to retain current behavior or observed=True to adopt the future default and silence this warning.\n",
      "  df = (token_table\n",
      "/var/folders/2x/rfhzgyjn2zq2wlzk_kn4th680000gn/T/ipykernel_9315/2342058334.py:9: FutureWarning: The default of observed=False is deprecated and will be changed to True in a future version of pandas. Pass observed=False to retain current behavior or observed=True to adopt the future default and silence this warning.\n",
      "  pd.concat(\n",
      "/var/folders/2x/rfhzgyjn2zq2wlzk_kn4th680000gn/T/ipykernel_9315/2342058334.py:19: FutureWarning: The default of observed=False is deprecated and will be changed to True in a future version of pandas. Pass observed=False to retain current behavior or observed=True to adopt the future default and silence this warning.\n",
      "  pd.concat(\n",
      "/var/folders/2x/rfhzgyjn2zq2wlzk_kn4th680000gn/T/ipykernel_9315/2342058334.py:2: FutureWarning: The default of observed=False is deprecated and will be changed to True in a future version of pandas. Pass observed=False to retain current behavior or observed=True to adopt the future default and silence this warning.\n",
      "  df = (token_table\n",
      "/var/folders/2x/rfhzgyjn2zq2wlzk_kn4th680000gn/T/ipykernel_9315/2342058334.py:9: FutureWarning: The default of observed=False is deprecated and will be changed to True in a future version of pandas. Pass observed=False to retain current behavior or observed=True to adopt the future default and silence this warning.\n",
      "  pd.concat(\n",
      "/var/folders/2x/rfhzgyjn2zq2wlzk_kn4th680000gn/T/ipykernel_9315/2342058334.py:19: FutureWarning: The default of observed=False is deprecated and will be changed to True in a future version of pandas. Pass observed=False to retain current behavior or observed=True to adopt the future default and silence this warning.\n",
      "  pd.concat(\n",
      "/var/folders/2x/rfhzgyjn2zq2wlzk_kn4th680000gn/T/ipykernel_9315/2342058334.py:2: FutureWarning: The default of observed=False is deprecated and will be changed to True in a future version of pandas. Pass observed=False to retain current behavior or observed=True to adopt the future default and silence this warning.\n",
      "  df = (token_table\n",
      "/var/folders/2x/rfhzgyjn2zq2wlzk_kn4th680000gn/T/ipykernel_9315/2342058334.py:9: FutureWarning: The default of observed=False is deprecated and will be changed to True in a future version of pandas. Pass observed=False to retain current behavior or observed=True to adopt the future default and silence this warning.\n",
      "  pd.concat(\n",
      "/var/folders/2x/rfhzgyjn2zq2wlzk_kn4th680000gn/T/ipykernel_9315/2342058334.py:19: FutureWarning: The default of observed=False is deprecated and will be changed to True in a future version of pandas. Pass observed=False to retain current behavior or observed=True to adopt the future default and silence this warning.\n",
      "  pd.concat(\n"
     ]
    },
    {
     "name": "stdout",
     "output_type": "stream",
     "text": [
      "100035\n",
      "100036\n"
     ]
    },
    {
     "name": "stderr",
     "output_type": "stream",
     "text": [
      "/var/folders/2x/rfhzgyjn2zq2wlzk_kn4th680000gn/T/ipykernel_9315/2342058334.py:2: FutureWarning: The default of observed=False is deprecated and will be changed to True in a future version of pandas. Pass observed=False to retain current behavior or observed=True to adopt the future default and silence this warning.\n",
      "  df = (token_table\n",
      "/var/folders/2x/rfhzgyjn2zq2wlzk_kn4th680000gn/T/ipykernel_9315/2342058334.py:9: FutureWarning: The default of observed=False is deprecated and will be changed to True in a future version of pandas. Pass observed=False to retain current behavior or observed=True to adopt the future default and silence this warning.\n",
      "  pd.concat(\n",
      "/var/folders/2x/rfhzgyjn2zq2wlzk_kn4th680000gn/T/ipykernel_9315/2342058334.py:19: FutureWarning: The default of observed=False is deprecated and will be changed to True in a future version of pandas. Pass observed=False to retain current behavior or observed=True to adopt the future default and silence this warning.\n",
      "  pd.concat(\n",
      "/var/folders/2x/rfhzgyjn2zq2wlzk_kn4th680000gn/T/ipykernel_9315/2342058334.py:2: FutureWarning: The default of observed=False is deprecated and will be changed to True in a future version of pandas. Pass observed=False to retain current behavior or observed=True to adopt the future default and silence this warning.\n",
      "  df = (token_table\n",
      "/var/folders/2x/rfhzgyjn2zq2wlzk_kn4th680000gn/T/ipykernel_9315/2342058334.py:9: FutureWarning: The default of observed=False is deprecated and will be changed to True in a future version of pandas. Pass observed=False to retain current behavior or observed=True to adopt the future default and silence this warning.\n",
      "  pd.concat(\n"
     ]
    },
    {
     "name": "stdout",
     "output_type": "stream",
     "text": [
      "100037\n",
      "100038\n"
     ]
    },
    {
     "name": "stderr",
     "output_type": "stream",
     "text": [
      "/var/folders/2x/rfhzgyjn2zq2wlzk_kn4th680000gn/T/ipykernel_9315/2342058334.py:19: FutureWarning: The default of observed=False is deprecated and will be changed to True in a future version of pandas. Pass observed=False to retain current behavior or observed=True to adopt the future default and silence this warning.\n",
      "  pd.concat(\n",
      "/var/folders/2x/rfhzgyjn2zq2wlzk_kn4th680000gn/T/ipykernel_9315/2342058334.py:2: FutureWarning: The default of observed=False is deprecated and will be changed to True in a future version of pandas. Pass observed=False to retain current behavior or observed=True to adopt the future default and silence this warning.\n",
      "  df = (token_table\n",
      "/var/folders/2x/rfhzgyjn2zq2wlzk_kn4th680000gn/T/ipykernel_9315/2342058334.py:9: FutureWarning: The default of observed=False is deprecated and will be changed to True in a future version of pandas. Pass observed=False to retain current behavior or observed=True to adopt the future default and silence this warning.\n",
      "  pd.concat(\n",
      "/var/folders/2x/rfhzgyjn2zq2wlzk_kn4th680000gn/T/ipykernel_9315/2342058334.py:19: FutureWarning: The default of observed=False is deprecated and will be changed to True in a future version of pandas. Pass observed=False to retain current behavior or observed=True to adopt the future default and silence this warning.\n",
      "  pd.concat(\n"
     ]
    },
    {
     "name": "stdout",
     "output_type": "stream",
     "text": [
      "110001\n"
     ]
    },
    {
     "name": "stderr",
     "output_type": "stream",
     "text": [
      "/var/folders/2x/rfhzgyjn2zq2wlzk_kn4th680000gn/T/ipykernel_9315/2342058334.py:2: FutureWarning: The default of observed=False is deprecated and will be changed to True in a future version of pandas. Pass observed=False to retain current behavior or observed=True to adopt the future default and silence this warning.\n",
      "  df = (token_table\n",
      "/var/folders/2x/rfhzgyjn2zq2wlzk_kn4th680000gn/T/ipykernel_9315/2342058334.py:9: FutureWarning: The default of observed=False is deprecated and will be changed to True in a future version of pandas. Pass observed=False to retain current behavior or observed=True to adopt the future default and silence this warning.\n",
      "  pd.concat(\n",
      "/var/folders/2x/rfhzgyjn2zq2wlzk_kn4th680000gn/T/ipykernel_9315/2342058334.py:19: FutureWarning: The default of observed=False is deprecated and will be changed to True in a future version of pandas. Pass observed=False to retain current behavior or observed=True to adopt the future default and silence this warning.\n",
      "  pd.concat(\n",
      "/var/folders/2x/rfhzgyjn2zq2wlzk_kn4th680000gn/T/ipykernel_9315/2342058334.py:2: FutureWarning: The default of observed=False is deprecated and will be changed to True in a future version of pandas. Pass observed=False to retain current behavior or observed=True to adopt the future default and silence this warning.\n",
      "  df = (token_table\n"
     ]
    },
    {
     "name": "stdout",
     "output_type": "stream",
     "text": [
      "110002\n",
      "110003\n"
     ]
    },
    {
     "name": "stderr",
     "output_type": "stream",
     "text": [
      "/var/folders/2x/rfhzgyjn2zq2wlzk_kn4th680000gn/T/ipykernel_9315/2342058334.py:9: FutureWarning: The default of observed=False is deprecated and will be changed to True in a future version of pandas. Pass observed=False to retain current behavior or observed=True to adopt the future default and silence this warning.\n",
      "  pd.concat(\n",
      "/var/folders/2x/rfhzgyjn2zq2wlzk_kn4th680000gn/T/ipykernel_9315/2342058334.py:19: FutureWarning: The default of observed=False is deprecated and will be changed to True in a future version of pandas. Pass observed=False to retain current behavior or observed=True to adopt the future default and silence this warning.\n",
      "  pd.concat(\n",
      "/var/folders/2x/rfhzgyjn2zq2wlzk_kn4th680000gn/T/ipykernel_9315/2342058334.py:2: FutureWarning: The default of observed=False is deprecated and will be changed to True in a future version of pandas. Pass observed=False to retain current behavior or observed=True to adopt the future default and silence this warning.\n",
      "  df = (token_table\n",
      "/var/folders/2x/rfhzgyjn2zq2wlzk_kn4th680000gn/T/ipykernel_9315/2342058334.py:9: FutureWarning: The default of observed=False is deprecated and will be changed to True in a future version of pandas. Pass observed=False to retain current behavior or observed=True to adopt the future default and silence this warning.\n",
      "  pd.concat(\n",
      "/var/folders/2x/rfhzgyjn2zq2wlzk_kn4th680000gn/T/ipykernel_9315/2342058334.py:19: FutureWarning: The default of observed=False is deprecated and will be changed to True in a future version of pandas. Pass observed=False to retain current behavior or observed=True to adopt the future default and silence this warning.\n",
      "  pd.concat(\n",
      "/var/folders/2x/rfhzgyjn2zq2wlzk_kn4th680000gn/T/ipykernel_9315/2342058334.py:2: FutureWarning: The default of observed=False is deprecated and will be changed to True in a future version of pandas. Pass observed=False to retain current behavior or observed=True to adopt the future default and silence this warning.\n",
      "  df = (token_table\n",
      "/var/folders/2x/rfhzgyjn2zq2wlzk_kn4th680000gn/T/ipykernel_9315/2342058334.py:9: FutureWarning: The default of observed=False is deprecated and will be changed to True in a future version of pandas. Pass observed=False to retain current behavior or observed=True to adopt the future default and silence this warning.\n",
      "  pd.concat(\n"
     ]
    },
    {
     "name": "stdout",
     "output_type": "stream",
     "text": [
      "110004\n",
      "110005\n"
     ]
    },
    {
     "name": "stderr",
     "output_type": "stream",
     "text": [
      "/var/folders/2x/rfhzgyjn2zq2wlzk_kn4th680000gn/T/ipykernel_9315/2342058334.py:19: FutureWarning: The default of observed=False is deprecated and will be changed to True in a future version of pandas. Pass observed=False to retain current behavior or observed=True to adopt the future default and silence this warning.\n",
      "  pd.concat(\n",
      "/var/folders/2x/rfhzgyjn2zq2wlzk_kn4th680000gn/T/ipykernel_9315/2342058334.py:2: FutureWarning: The default of observed=False is deprecated and will be changed to True in a future version of pandas. Pass observed=False to retain current behavior or observed=True to adopt the future default and silence this warning.\n",
      "  df = (token_table\n",
      "/var/folders/2x/rfhzgyjn2zq2wlzk_kn4th680000gn/T/ipykernel_9315/2342058334.py:9: FutureWarning: The default of observed=False is deprecated and will be changed to True in a future version of pandas. Pass observed=False to retain current behavior or observed=True to adopt the future default and silence this warning.\n",
      "  pd.concat(\n",
      "/var/folders/2x/rfhzgyjn2zq2wlzk_kn4th680000gn/T/ipykernel_9315/2342058334.py:19: FutureWarning: The default of observed=False is deprecated and will be changed to True in a future version of pandas. Pass observed=False to retain current behavior or observed=True to adopt the future default and silence this warning.\n",
      "  pd.concat(\n"
     ]
    },
    {
     "name": "stdout",
     "output_type": "stream",
     "text": [
      "110006\n"
     ]
    },
    {
     "name": "stderr",
     "output_type": "stream",
     "text": [
      "/var/folders/2x/rfhzgyjn2zq2wlzk_kn4th680000gn/T/ipykernel_9315/2342058334.py:2: FutureWarning: The default of observed=False is deprecated and will be changed to True in a future version of pandas. Pass observed=False to retain current behavior or observed=True to adopt the future default and silence this warning.\n",
      "  df = (token_table\n",
      "/var/folders/2x/rfhzgyjn2zq2wlzk_kn4th680000gn/T/ipykernel_9315/2342058334.py:9: FutureWarning: The default of observed=False is deprecated and will be changed to True in a future version of pandas. Pass observed=False to retain current behavior or observed=True to adopt the future default and silence this warning.\n",
      "  pd.concat(\n",
      "/var/folders/2x/rfhzgyjn2zq2wlzk_kn4th680000gn/T/ipykernel_9315/2342058334.py:19: FutureWarning: The default of observed=False is deprecated and will be changed to True in a future version of pandas. Pass observed=False to retain current behavior or observed=True to adopt the future default and silence this warning.\n",
      "  pd.concat(\n",
      "/var/folders/2x/rfhzgyjn2zq2wlzk_kn4th680000gn/T/ipykernel_9315/2342058334.py:2: FutureWarning: The default of observed=False is deprecated and will be changed to True in a future version of pandas. Pass observed=False to retain current behavior or observed=True to adopt the future default and silence this warning.\n",
      "  df = (token_table\n"
     ]
    },
    {
     "name": "stdout",
     "output_type": "stream",
     "text": [
      "110007\n",
      "110008\n"
     ]
    },
    {
     "name": "stderr",
     "output_type": "stream",
     "text": [
      "/var/folders/2x/rfhzgyjn2zq2wlzk_kn4th680000gn/T/ipykernel_9315/2342058334.py:9: FutureWarning: The default of observed=False is deprecated and will be changed to True in a future version of pandas. Pass observed=False to retain current behavior or observed=True to adopt the future default and silence this warning.\n",
      "  pd.concat(\n",
      "/var/folders/2x/rfhzgyjn2zq2wlzk_kn4th680000gn/T/ipykernel_9315/2342058334.py:19: FutureWarning: The default of observed=False is deprecated and will be changed to True in a future version of pandas. Pass observed=False to retain current behavior or observed=True to adopt the future default and silence this warning.\n",
      "  pd.concat(\n",
      "/var/folders/2x/rfhzgyjn2zq2wlzk_kn4th680000gn/T/ipykernel_9315/2342058334.py:2: FutureWarning: The default of observed=False is deprecated and will be changed to True in a future version of pandas. Pass observed=False to retain current behavior or observed=True to adopt the future default and silence this warning.\n",
      "  df = (token_table\n",
      "/var/folders/2x/rfhzgyjn2zq2wlzk_kn4th680000gn/T/ipykernel_9315/2342058334.py:9: FutureWarning: The default of observed=False is deprecated and will be changed to True in a future version of pandas. Pass observed=False to retain current behavior or observed=True to adopt the future default and silence this warning.\n",
      "  pd.concat(\n",
      "/var/folders/2x/rfhzgyjn2zq2wlzk_kn4th680000gn/T/ipykernel_9315/2342058334.py:19: FutureWarning: The default of observed=False is deprecated and will be changed to True in a future version of pandas. Pass observed=False to retain current behavior or observed=True to adopt the future default and silence this warning.\n",
      "  pd.concat(\n"
     ]
    },
    {
     "name": "stdout",
     "output_type": "stream",
     "text": [
      "110009\n",
      "110010\n"
     ]
    },
    {
     "name": "stderr",
     "output_type": "stream",
     "text": [
      "/var/folders/2x/rfhzgyjn2zq2wlzk_kn4th680000gn/T/ipykernel_9315/2342058334.py:2: FutureWarning: The default of observed=False is deprecated and will be changed to True in a future version of pandas. Pass observed=False to retain current behavior or observed=True to adopt the future default and silence this warning.\n",
      "  df = (token_table\n",
      "/var/folders/2x/rfhzgyjn2zq2wlzk_kn4th680000gn/T/ipykernel_9315/2342058334.py:9: FutureWarning: The default of observed=False is deprecated and will be changed to True in a future version of pandas. Pass observed=False to retain current behavior or observed=True to adopt the future default and silence this warning.\n",
      "  pd.concat(\n",
      "/var/folders/2x/rfhzgyjn2zq2wlzk_kn4th680000gn/T/ipykernel_9315/2342058334.py:19: FutureWarning: The default of observed=False is deprecated and will be changed to True in a future version of pandas. Pass observed=False to retain current behavior or observed=True to adopt the future default and silence this warning.\n",
      "  pd.concat(\n",
      "/var/folders/2x/rfhzgyjn2zq2wlzk_kn4th680000gn/T/ipykernel_9315/2342058334.py:2: FutureWarning: The default of observed=False is deprecated and will be changed to True in a future version of pandas. Pass observed=False to retain current behavior or observed=True to adopt the future default and silence this warning.\n",
      "  df = (token_table\n",
      "/var/folders/2x/rfhzgyjn2zq2wlzk_kn4th680000gn/T/ipykernel_9315/2342058334.py:9: FutureWarning: The default of observed=False is deprecated and will be changed to True in a future version of pandas. Pass observed=False to retain current behavior or observed=True to adopt the future default and silence this warning.\n",
      "  pd.concat(\n",
      "/var/folders/2x/rfhzgyjn2zq2wlzk_kn4th680000gn/T/ipykernel_9315/2342058334.py:19: FutureWarning: The default of observed=False is deprecated and will be changed to True in a future version of pandas. Pass observed=False to retain current behavior or observed=True to adopt the future default and silence this warning.\n",
      "  pd.concat(\n",
      "/var/folders/2x/rfhzgyjn2zq2wlzk_kn4th680000gn/T/ipykernel_9315/2342058334.py:2: FutureWarning: The default of observed=False is deprecated and will be changed to True in a future version of pandas. Pass observed=False to retain current behavior or observed=True to adopt the future default and silence this warning.\n",
      "  df = (token_table\n"
     ]
    },
    {
     "name": "stdout",
     "output_type": "stream",
     "text": [
      "110011\n",
      "110012\n"
     ]
    },
    {
     "name": "stderr",
     "output_type": "stream",
     "text": [
      "/var/folders/2x/rfhzgyjn2zq2wlzk_kn4th680000gn/T/ipykernel_9315/2342058334.py:9: FutureWarning: The default of observed=False is deprecated and will be changed to True in a future version of pandas. Pass observed=False to retain current behavior or observed=True to adopt the future default and silence this warning.\n",
      "  pd.concat(\n",
      "/var/folders/2x/rfhzgyjn2zq2wlzk_kn4th680000gn/T/ipykernel_9315/2342058334.py:19: FutureWarning: The default of observed=False is deprecated and will be changed to True in a future version of pandas. Pass observed=False to retain current behavior or observed=True to adopt the future default and silence this warning.\n",
      "  pd.concat(\n",
      "/var/folders/2x/rfhzgyjn2zq2wlzk_kn4th680000gn/T/ipykernel_9315/2342058334.py:2: FutureWarning: The default of observed=False is deprecated and will be changed to True in a future version of pandas. Pass observed=False to retain current behavior or observed=True to adopt the future default and silence this warning.\n",
      "  df = (token_table\n",
      "/var/folders/2x/rfhzgyjn2zq2wlzk_kn4th680000gn/T/ipykernel_9315/2342058334.py:9: FutureWarning: The default of observed=False is deprecated and will be changed to True in a future version of pandas. Pass observed=False to retain current behavior or observed=True to adopt the future default and silence this warning.\n",
      "  pd.concat(\n",
      "/var/folders/2x/rfhzgyjn2zq2wlzk_kn4th680000gn/T/ipykernel_9315/2342058334.py:19: FutureWarning: The default of observed=False is deprecated and will be changed to True in a future version of pandas. Pass observed=False to retain current behavior or observed=True to adopt the future default and silence this warning.\n",
      "  pd.concat(\n"
     ]
    },
    {
     "name": "stdout",
     "output_type": "stream",
     "text": [
      "110013\n",
      "110014\n"
     ]
    },
    {
     "name": "stderr",
     "output_type": "stream",
     "text": [
      "/var/folders/2x/rfhzgyjn2zq2wlzk_kn4th680000gn/T/ipykernel_9315/2342058334.py:2: FutureWarning: The default of observed=False is deprecated and will be changed to True in a future version of pandas. Pass observed=False to retain current behavior or observed=True to adopt the future default and silence this warning.\n",
      "  df = (token_table\n",
      "/var/folders/2x/rfhzgyjn2zq2wlzk_kn4th680000gn/T/ipykernel_9315/2342058334.py:9: FutureWarning: The default of observed=False is deprecated and will be changed to True in a future version of pandas. Pass observed=False to retain current behavior or observed=True to adopt the future default and silence this warning.\n",
      "  pd.concat(\n",
      "/var/folders/2x/rfhzgyjn2zq2wlzk_kn4th680000gn/T/ipykernel_9315/2342058334.py:19: FutureWarning: The default of observed=False is deprecated and will be changed to True in a future version of pandas. Pass observed=False to retain current behavior or observed=True to adopt the future default and silence this warning.\n",
      "  pd.concat(\n",
      "/var/folders/2x/rfhzgyjn2zq2wlzk_kn4th680000gn/T/ipykernel_9315/2342058334.py:2: FutureWarning: The default of observed=False is deprecated and will be changed to True in a future version of pandas. Pass observed=False to retain current behavior or observed=True to adopt the future default and silence this warning.\n",
      "  df = (token_table\n",
      "/var/folders/2x/rfhzgyjn2zq2wlzk_kn4th680000gn/T/ipykernel_9315/2342058334.py:9: FutureWarning: The default of observed=False is deprecated and will be changed to True in a future version of pandas. Pass observed=False to retain current behavior or observed=True to adopt the future default and silence this warning.\n",
      "  pd.concat(\n",
      "/var/folders/2x/rfhzgyjn2zq2wlzk_kn4th680000gn/T/ipykernel_9315/2342058334.py:19: FutureWarning: The default of observed=False is deprecated and will be changed to True in a future version of pandas. Pass observed=False to retain current behavior or observed=True to adopt the future default and silence this warning.\n",
      "  pd.concat(\n",
      "/var/folders/2x/rfhzgyjn2zq2wlzk_kn4th680000gn/T/ipykernel_9315/2342058334.py:2: FutureWarning: The default of observed=False is deprecated and will be changed to True in a future version of pandas. Pass observed=False to retain current behavior or observed=True to adopt the future default and silence this warning.\n",
      "  df = (token_table\n"
     ]
    },
    {
     "name": "stdout",
     "output_type": "stream",
     "text": [
      "110015\n"
     ]
    },
    {
     "name": "stderr",
     "output_type": "stream",
     "text": [
      "/var/folders/2x/rfhzgyjn2zq2wlzk_kn4th680000gn/T/ipykernel_9315/2342058334.py:9: FutureWarning: The default of observed=False is deprecated and will be changed to True in a future version of pandas. Pass observed=False to retain current behavior or observed=True to adopt the future default and silence this warning.\n",
      "  pd.concat(\n",
      "/var/folders/2x/rfhzgyjn2zq2wlzk_kn4th680000gn/T/ipykernel_9315/2342058334.py:19: FutureWarning: The default of observed=False is deprecated and will be changed to True in a future version of pandas. Pass observed=False to retain current behavior or observed=True to adopt the future default and silence this warning.\n",
      "  pd.concat(\n",
      "/var/folders/2x/rfhzgyjn2zq2wlzk_kn4th680000gn/T/ipykernel_9315/2342058334.py:2: FutureWarning: The default of observed=False is deprecated and will be changed to True in a future version of pandas. Pass observed=False to retain current behavior or observed=True to adopt the future default and silence this warning.\n",
      "  df = (token_table\n"
     ]
    },
    {
     "name": "stdout",
     "output_type": "stream",
     "text": [
      "110016\n"
     ]
    },
    {
     "name": "stderr",
     "output_type": "stream",
     "text": [
      "/var/folders/2x/rfhzgyjn2zq2wlzk_kn4th680000gn/T/ipykernel_9315/2342058334.py:9: FutureWarning: The default of observed=False is deprecated and will be changed to True in a future version of pandas. Pass observed=False to retain current behavior or observed=True to adopt the future default and silence this warning.\n",
      "  pd.concat(\n",
      "/var/folders/2x/rfhzgyjn2zq2wlzk_kn4th680000gn/T/ipykernel_9315/2342058334.py:19: FutureWarning: The default of observed=False is deprecated and will be changed to True in a future version of pandas. Pass observed=False to retain current behavior or observed=True to adopt the future default and silence this warning.\n",
      "  pd.concat(\n",
      "/var/folders/2x/rfhzgyjn2zq2wlzk_kn4th680000gn/T/ipykernel_9315/2342058334.py:2: FutureWarning: The default of observed=False is deprecated and will be changed to True in a future version of pandas. Pass observed=False to retain current behavior or observed=True to adopt the future default and silence this warning.\n",
      "  df = (token_table\n",
      "/var/folders/2x/rfhzgyjn2zq2wlzk_kn4th680000gn/T/ipykernel_9315/2342058334.py:9: FutureWarning: The default of observed=False is deprecated and will be changed to True in a future version of pandas. Pass observed=False to retain current behavior or observed=True to adopt the future default and silence this warning.\n",
      "  pd.concat(\n",
      "/var/folders/2x/rfhzgyjn2zq2wlzk_kn4th680000gn/T/ipykernel_9315/2342058334.py:19: FutureWarning: The default of observed=False is deprecated and will be changed to True in a future version of pandas. Pass observed=False to retain current behavior or observed=True to adopt the future default and silence this warning.\n",
      "  pd.concat(\n"
     ]
    },
    {
     "name": "stdout",
     "output_type": "stream",
     "text": [
      "110017\n",
      "110018\n"
     ]
    },
    {
     "name": "stderr",
     "output_type": "stream",
     "text": [
      "/var/folders/2x/rfhzgyjn2zq2wlzk_kn4th680000gn/T/ipykernel_9315/2342058334.py:2: FutureWarning: The default of observed=False is deprecated and will be changed to True in a future version of pandas. Pass observed=False to retain current behavior or observed=True to adopt the future default and silence this warning.\n",
      "  df = (token_table\n",
      "/var/folders/2x/rfhzgyjn2zq2wlzk_kn4th680000gn/T/ipykernel_9315/2342058334.py:9: FutureWarning: The default of observed=False is deprecated and will be changed to True in a future version of pandas. Pass observed=False to retain current behavior or observed=True to adopt the future default and silence this warning.\n",
      "  pd.concat(\n",
      "/var/folders/2x/rfhzgyjn2zq2wlzk_kn4th680000gn/T/ipykernel_9315/2342058334.py:19: FutureWarning: The default of observed=False is deprecated and will be changed to True in a future version of pandas. Pass observed=False to retain current behavior or observed=True to adopt the future default and silence this warning.\n",
      "  pd.concat(\n",
      "/var/folders/2x/rfhzgyjn2zq2wlzk_kn4th680000gn/T/ipykernel_9315/2342058334.py:2: FutureWarning: The default of observed=False is deprecated and will be changed to True in a future version of pandas. Pass observed=False to retain current behavior or observed=True to adopt the future default and silence this warning.\n",
      "  df = (token_table\n",
      "/var/folders/2x/rfhzgyjn2zq2wlzk_kn4th680000gn/T/ipykernel_9315/2342058334.py:9: FutureWarning: The default of observed=False is deprecated and will be changed to True in a future version of pandas. Pass observed=False to retain current behavior or observed=True to adopt the future default and silence this warning.\n",
      "  pd.concat(\n"
     ]
    },
    {
     "name": "stdout",
     "output_type": "stream",
     "text": [
      "110019\n",
      "110020\n"
     ]
    },
    {
     "name": "stderr",
     "output_type": "stream",
     "text": [
      "/var/folders/2x/rfhzgyjn2zq2wlzk_kn4th680000gn/T/ipykernel_9315/2342058334.py:19: FutureWarning: The default of observed=False is deprecated and will be changed to True in a future version of pandas. Pass observed=False to retain current behavior or observed=True to adopt the future default and silence this warning.\n",
      "  pd.concat(\n",
      "/var/folders/2x/rfhzgyjn2zq2wlzk_kn4th680000gn/T/ipykernel_9315/2342058334.py:2: FutureWarning: The default of observed=False is deprecated and will be changed to True in a future version of pandas. Pass observed=False to retain current behavior or observed=True to adopt the future default and silence this warning.\n",
      "  df = (token_table\n",
      "/var/folders/2x/rfhzgyjn2zq2wlzk_kn4th680000gn/T/ipykernel_9315/2342058334.py:9: FutureWarning: The default of observed=False is deprecated and will be changed to True in a future version of pandas. Pass observed=False to retain current behavior or observed=True to adopt the future default and silence this warning.\n",
      "  pd.concat(\n",
      "/var/folders/2x/rfhzgyjn2zq2wlzk_kn4th680000gn/T/ipykernel_9315/2342058334.py:19: FutureWarning: The default of observed=False is deprecated and will be changed to True in a future version of pandas. Pass observed=False to retain current behavior or observed=True to adopt the future default and silence this warning.\n",
      "  pd.concat(\n"
     ]
    },
    {
     "name": "stdout",
     "output_type": "stream",
     "text": [
      "110021\n",
      "110022\n"
     ]
    },
    {
     "name": "stderr",
     "output_type": "stream",
     "text": [
      "/var/folders/2x/rfhzgyjn2zq2wlzk_kn4th680000gn/T/ipykernel_9315/2342058334.py:2: FutureWarning: The default of observed=False is deprecated and will be changed to True in a future version of pandas. Pass observed=False to retain current behavior or observed=True to adopt the future default and silence this warning.\n",
      "  df = (token_table\n",
      "/var/folders/2x/rfhzgyjn2zq2wlzk_kn4th680000gn/T/ipykernel_9315/2342058334.py:9: FutureWarning: The default of observed=False is deprecated and will be changed to True in a future version of pandas. Pass observed=False to retain current behavior or observed=True to adopt the future default and silence this warning.\n",
      "  pd.concat(\n",
      "/var/folders/2x/rfhzgyjn2zq2wlzk_kn4th680000gn/T/ipykernel_9315/2342058334.py:19: FutureWarning: The default of observed=False is deprecated and will be changed to True in a future version of pandas. Pass observed=False to retain current behavior or observed=True to adopt the future default and silence this warning.\n",
      "  pd.concat(\n",
      "/var/folders/2x/rfhzgyjn2zq2wlzk_kn4th680000gn/T/ipykernel_9315/2342058334.py:2: FutureWarning: The default of observed=False is deprecated and will be changed to True in a future version of pandas. Pass observed=False to retain current behavior or observed=True to adopt the future default and silence this warning.\n",
      "  df = (token_table\n",
      "/var/folders/2x/rfhzgyjn2zq2wlzk_kn4th680000gn/T/ipykernel_9315/2342058334.py:9: FutureWarning: The default of observed=False is deprecated and will be changed to True in a future version of pandas. Pass observed=False to retain current behavior or observed=True to adopt the future default and silence this warning.\n",
      "  pd.concat(\n",
      "/var/folders/2x/rfhzgyjn2zq2wlzk_kn4th680000gn/T/ipykernel_9315/2342058334.py:19: FutureWarning: The default of observed=False is deprecated and will be changed to True in a future version of pandas. Pass observed=False to retain current behavior or observed=True to adopt the future default and silence this warning.\n",
      "  pd.concat(\n",
      "/var/folders/2x/rfhzgyjn2zq2wlzk_kn4th680000gn/T/ipykernel_9315/2342058334.py:2: FutureWarning: The default of observed=False is deprecated and will be changed to True in a future version of pandas. Pass observed=False to retain current behavior or observed=True to adopt the future default and silence this warning.\n",
      "  df = (token_table\n",
      "/var/folders/2x/rfhzgyjn2zq2wlzk_kn4th680000gn/T/ipykernel_9315/2342058334.py:9: FutureWarning: The default of observed=False is deprecated and will be changed to True in a future version of pandas. Pass observed=False to retain current behavior or observed=True to adopt the future default and silence this warning.\n",
      "  pd.concat(\n",
      "/var/folders/2x/rfhzgyjn2zq2wlzk_kn4th680000gn/T/ipykernel_9315/2342058334.py:19: FutureWarning: The default of observed=False is deprecated and will be changed to True in a future version of pandas. Pass observed=False to retain current behavior or observed=True to adopt the future default and silence this warning.\n",
      "  pd.concat(\n"
     ]
    },
    {
     "name": "stdout",
     "output_type": "stream",
     "text": [
      "110023\n",
      "110024\n"
     ]
    },
    {
     "name": "stderr",
     "output_type": "stream",
     "text": [
      "/var/folders/2x/rfhzgyjn2zq2wlzk_kn4th680000gn/T/ipykernel_9315/2342058334.py:2: FutureWarning: The default of observed=False is deprecated and will be changed to True in a future version of pandas. Pass observed=False to retain current behavior or observed=True to adopt the future default and silence this warning.\n",
      "  df = (token_table\n",
      "/var/folders/2x/rfhzgyjn2zq2wlzk_kn4th680000gn/T/ipykernel_9315/2342058334.py:9: FutureWarning: The default of observed=False is deprecated and will be changed to True in a future version of pandas. Pass observed=False to retain current behavior or observed=True to adopt the future default and silence this warning.\n",
      "  pd.concat(\n",
      "/var/folders/2x/rfhzgyjn2zq2wlzk_kn4th680000gn/T/ipykernel_9315/2342058334.py:19: FutureWarning: The default of observed=False is deprecated and will be changed to True in a future version of pandas. Pass observed=False to retain current behavior or observed=True to adopt the future default and silence this warning.\n",
      "  pd.concat(\n",
      "/var/folders/2x/rfhzgyjn2zq2wlzk_kn4th680000gn/T/ipykernel_9315/2342058334.py:2: FutureWarning: The default of observed=False is deprecated and will be changed to True in a future version of pandas. Pass observed=False to retain current behavior or observed=True to adopt the future default and silence this warning.\n",
      "  df = (token_table\n"
     ]
    },
    {
     "name": "stdout",
     "output_type": "stream",
     "text": [
      "110025\n"
     ]
    },
    {
     "name": "stderr",
     "output_type": "stream",
     "text": [
      "/var/folders/2x/rfhzgyjn2zq2wlzk_kn4th680000gn/T/ipykernel_9315/2342058334.py:9: FutureWarning: The default of observed=False is deprecated and will be changed to True in a future version of pandas. Pass observed=False to retain current behavior or observed=True to adopt the future default and silence this warning.\n",
      "  pd.concat(\n",
      "/var/folders/2x/rfhzgyjn2zq2wlzk_kn4th680000gn/T/ipykernel_9315/2342058334.py:19: FutureWarning: The default of observed=False is deprecated and will be changed to True in a future version of pandas. Pass observed=False to retain current behavior or observed=True to adopt the future default and silence this warning.\n",
      "  pd.concat(\n"
     ]
    },
    {
     "name": "stdout",
     "output_type": "stream",
     "text": [
      "110026\n"
     ]
    },
    {
     "name": "stderr",
     "output_type": "stream",
     "text": [
      "/var/folders/2x/rfhzgyjn2zq2wlzk_kn4th680000gn/T/ipykernel_9315/2342058334.py:2: FutureWarning: The default of observed=False is deprecated and will be changed to True in a future version of pandas. Pass observed=False to retain current behavior or observed=True to adopt the future default and silence this warning.\n",
      "  df = (token_table\n",
      "/var/folders/2x/rfhzgyjn2zq2wlzk_kn4th680000gn/T/ipykernel_9315/2342058334.py:9: FutureWarning: The default of observed=False is deprecated and will be changed to True in a future version of pandas. Pass observed=False to retain current behavior or observed=True to adopt the future default and silence this warning.\n",
      "  pd.concat(\n",
      "/var/folders/2x/rfhzgyjn2zq2wlzk_kn4th680000gn/T/ipykernel_9315/2342058334.py:19: FutureWarning: The default of observed=False is deprecated and will be changed to True in a future version of pandas. Pass observed=False to retain current behavior or observed=True to adopt the future default and silence this warning.\n",
      "  pd.concat(\n",
      "/var/folders/2x/rfhzgyjn2zq2wlzk_kn4th680000gn/T/ipykernel_9315/2342058334.py:2: FutureWarning: The default of observed=False is deprecated and will be changed to True in a future version of pandas. Pass observed=False to retain current behavior or observed=True to adopt the future default and silence this warning.\n",
      "  df = (token_table\n",
      "/var/folders/2x/rfhzgyjn2zq2wlzk_kn4th680000gn/T/ipykernel_9315/2342058334.py:9: FutureWarning: The default of observed=False is deprecated and will be changed to True in a future version of pandas. Pass observed=False to retain current behavior or observed=True to adopt the future default and silence this warning.\n",
      "  pd.concat(\n"
     ]
    },
    {
     "name": "stdout",
     "output_type": "stream",
     "text": [
      "110027\n",
      "110028\n"
     ]
    },
    {
     "name": "stderr",
     "output_type": "stream",
     "text": [
      "/var/folders/2x/rfhzgyjn2zq2wlzk_kn4th680000gn/T/ipykernel_9315/2342058334.py:19: FutureWarning: The default of observed=False is deprecated and will be changed to True in a future version of pandas. Pass observed=False to retain current behavior or observed=True to adopt the future default and silence this warning.\n",
      "  pd.concat(\n",
      "/var/folders/2x/rfhzgyjn2zq2wlzk_kn4th680000gn/T/ipykernel_9315/2342058334.py:2: FutureWarning: The default of observed=False is deprecated and will be changed to True in a future version of pandas. Pass observed=False to retain current behavior or observed=True to adopt the future default and silence this warning.\n",
      "  df = (token_table\n",
      "/var/folders/2x/rfhzgyjn2zq2wlzk_kn4th680000gn/T/ipykernel_9315/2342058334.py:9: FutureWarning: The default of observed=False is deprecated and will be changed to True in a future version of pandas. Pass observed=False to retain current behavior or observed=True to adopt the future default and silence this warning.\n",
      "  pd.concat(\n",
      "/var/folders/2x/rfhzgyjn2zq2wlzk_kn4th680000gn/T/ipykernel_9315/2342058334.py:19: FutureWarning: The default of observed=False is deprecated and will be changed to True in a future version of pandas. Pass observed=False to retain current behavior or observed=True to adopt the future default and silence this warning.\n",
      "  pd.concat(\n",
      "/var/folders/2x/rfhzgyjn2zq2wlzk_kn4th680000gn/T/ipykernel_9315/2342058334.py:2: FutureWarning: The default of observed=False is deprecated and will be changed to True in a future version of pandas. Pass observed=False to retain current behavior or observed=True to adopt the future default and silence this warning.\n",
      "  df = (token_table\n"
     ]
    },
    {
     "name": "stdout",
     "output_type": "stream",
     "text": [
      "110029\n",
      "110030\n"
     ]
    },
    {
     "name": "stderr",
     "output_type": "stream",
     "text": [
      "/var/folders/2x/rfhzgyjn2zq2wlzk_kn4th680000gn/T/ipykernel_9315/2342058334.py:9: FutureWarning: The default of observed=False is deprecated and will be changed to True in a future version of pandas. Pass observed=False to retain current behavior or observed=True to adopt the future default and silence this warning.\n",
      "  pd.concat(\n",
      "/var/folders/2x/rfhzgyjn2zq2wlzk_kn4th680000gn/T/ipykernel_9315/2342058334.py:19: FutureWarning: The default of observed=False is deprecated and will be changed to True in a future version of pandas. Pass observed=False to retain current behavior or observed=True to adopt the future default and silence this warning.\n",
      "  pd.concat(\n",
      "/var/folders/2x/rfhzgyjn2zq2wlzk_kn4th680000gn/T/ipykernel_9315/2342058334.py:2: FutureWarning: The default of observed=False is deprecated and will be changed to True in a future version of pandas. Pass observed=False to retain current behavior or observed=True to adopt the future default and silence this warning.\n",
      "  df = (token_table\n",
      "/var/folders/2x/rfhzgyjn2zq2wlzk_kn4th680000gn/T/ipykernel_9315/2342058334.py:9: FutureWarning: The default of observed=False is deprecated and will be changed to True in a future version of pandas. Pass observed=False to retain current behavior or observed=True to adopt the future default and silence this warning.\n",
      "  pd.concat(\n",
      "/var/folders/2x/rfhzgyjn2zq2wlzk_kn4th680000gn/T/ipykernel_9315/2342058334.py:19: FutureWarning: The default of observed=False is deprecated and will be changed to True in a future version of pandas. Pass observed=False to retain current behavior or observed=True to adopt the future default and silence this warning.\n",
      "  pd.concat(\n",
      "/var/folders/2x/rfhzgyjn2zq2wlzk_kn4th680000gn/T/ipykernel_9315/2342058334.py:2: FutureWarning: The default of observed=False is deprecated and will be changed to True in a future version of pandas. Pass observed=False to retain current behavior or observed=True to adopt the future default and silence this warning.\n",
      "  df = (token_table\n"
     ]
    },
    {
     "name": "stdout",
     "output_type": "stream",
     "text": [
      "110031\n"
     ]
    },
    {
     "name": "stderr",
     "output_type": "stream",
     "text": [
      "/var/folders/2x/rfhzgyjn2zq2wlzk_kn4th680000gn/T/ipykernel_9315/2342058334.py:9: FutureWarning: The default of observed=False is deprecated and will be changed to True in a future version of pandas. Pass observed=False to retain current behavior or observed=True to adopt the future default and silence this warning.\n",
      "  pd.concat(\n",
      "/var/folders/2x/rfhzgyjn2zq2wlzk_kn4th680000gn/T/ipykernel_9315/2342058334.py:19: FutureWarning: The default of observed=False is deprecated and will be changed to True in a future version of pandas. Pass observed=False to retain current behavior or observed=True to adopt the future default and silence this warning.\n",
      "  pd.concat(\n",
      "/var/folders/2x/rfhzgyjn2zq2wlzk_kn4th680000gn/T/ipykernel_9315/2342058334.py:2: FutureWarning: The default of observed=False is deprecated and will be changed to True in a future version of pandas. Pass observed=False to retain current behavior or observed=True to adopt the future default and silence this warning.\n",
      "  df = (token_table\n",
      "/var/folders/2x/rfhzgyjn2zq2wlzk_kn4th680000gn/T/ipykernel_9315/2342058334.py:9: FutureWarning: The default of observed=False is deprecated and will be changed to True in a future version of pandas. Pass observed=False to retain current behavior or observed=True to adopt the future default and silence this warning.\n",
      "  pd.concat(\n"
     ]
    },
    {
     "name": "stdout",
     "output_type": "stream",
     "text": [
      "110032\n",
      "110033\n"
     ]
    },
    {
     "name": "stderr",
     "output_type": "stream",
     "text": [
      "/var/folders/2x/rfhzgyjn2zq2wlzk_kn4th680000gn/T/ipykernel_9315/2342058334.py:19: FutureWarning: The default of observed=False is deprecated and will be changed to True in a future version of pandas. Pass observed=False to retain current behavior or observed=True to adopt the future default and silence this warning.\n",
      "  pd.concat(\n",
      "/var/folders/2x/rfhzgyjn2zq2wlzk_kn4th680000gn/T/ipykernel_9315/2342058334.py:2: FutureWarning: The default of observed=False is deprecated and will be changed to True in a future version of pandas. Pass observed=False to retain current behavior or observed=True to adopt the future default and silence this warning.\n",
      "  df = (token_table\n",
      "/var/folders/2x/rfhzgyjn2zq2wlzk_kn4th680000gn/T/ipykernel_9315/2342058334.py:9: FutureWarning: The default of observed=False is deprecated and will be changed to True in a future version of pandas. Pass observed=False to retain current behavior or observed=True to adopt the future default and silence this warning.\n",
      "  pd.concat(\n",
      "/var/folders/2x/rfhzgyjn2zq2wlzk_kn4th680000gn/T/ipykernel_9315/2342058334.py:19: FutureWarning: The default of observed=False is deprecated and will be changed to True in a future version of pandas. Pass observed=False to retain current behavior or observed=True to adopt the future default and silence this warning.\n",
      "  pd.concat(\n"
     ]
    },
    {
     "name": "stdout",
     "output_type": "stream",
     "text": [
      "110034\n"
     ]
    },
    {
     "name": "stderr",
     "output_type": "stream",
     "text": [
      "/var/folders/2x/rfhzgyjn2zq2wlzk_kn4th680000gn/T/ipykernel_9315/2342058334.py:2: FutureWarning: The default of observed=False is deprecated and will be changed to True in a future version of pandas. Pass observed=False to retain current behavior or observed=True to adopt the future default and silence this warning.\n",
      "  df = (token_table\n",
      "/var/folders/2x/rfhzgyjn2zq2wlzk_kn4th680000gn/T/ipykernel_9315/2342058334.py:9: FutureWarning: The default of observed=False is deprecated and will be changed to True in a future version of pandas. Pass observed=False to retain current behavior or observed=True to adopt the future default and silence this warning.\n",
      "  pd.concat(\n",
      "/var/folders/2x/rfhzgyjn2zq2wlzk_kn4th680000gn/T/ipykernel_9315/2342058334.py:19: FutureWarning: The default of observed=False is deprecated and will be changed to True in a future version of pandas. Pass observed=False to retain current behavior or observed=True to adopt the future default and silence this warning.\n",
      "  pd.concat(\n"
     ]
    },
    {
     "name": "stdout",
     "output_type": "stream",
     "text": [
      "110035\n"
     ]
    },
    {
     "name": "stderr",
     "output_type": "stream",
     "text": [
      "/var/folders/2x/rfhzgyjn2zq2wlzk_kn4th680000gn/T/ipykernel_9315/2342058334.py:2: FutureWarning: The default of observed=False is deprecated and will be changed to True in a future version of pandas. Pass observed=False to retain current behavior or observed=True to adopt the future default and silence this warning.\n",
      "  df = (token_table\n",
      "/var/folders/2x/rfhzgyjn2zq2wlzk_kn4th680000gn/T/ipykernel_9315/2342058334.py:9: FutureWarning: The default of observed=False is deprecated and will be changed to True in a future version of pandas. Pass observed=False to retain current behavior or observed=True to adopt the future default and silence this warning.\n",
      "  pd.concat(\n",
      "/var/folders/2x/rfhzgyjn2zq2wlzk_kn4th680000gn/T/ipykernel_9315/2342058334.py:19: FutureWarning: The default of observed=False is deprecated and will be changed to True in a future version of pandas. Pass observed=False to retain current behavior or observed=True to adopt the future default and silence this warning.\n",
      "  pd.concat(\n"
     ]
    },
    {
     "name": "stdout",
     "output_type": "stream",
     "text": [
      "110036\n"
     ]
    },
    {
     "name": "stderr",
     "output_type": "stream",
     "text": [
      "/var/folders/2x/rfhzgyjn2zq2wlzk_kn4th680000gn/T/ipykernel_9315/2342058334.py:2: FutureWarning: The default of observed=False is deprecated and will be changed to True in a future version of pandas. Pass observed=False to retain current behavior or observed=True to adopt the future default and silence this warning.\n",
      "  df = (token_table\n",
      "/var/folders/2x/rfhzgyjn2zq2wlzk_kn4th680000gn/T/ipykernel_9315/2342058334.py:9: FutureWarning: The default of observed=False is deprecated and will be changed to True in a future version of pandas. Pass observed=False to retain current behavior or observed=True to adopt the future default and silence this warning.\n",
      "  pd.concat(\n",
      "/var/folders/2x/rfhzgyjn2zq2wlzk_kn4th680000gn/T/ipykernel_9315/2342058334.py:19: FutureWarning: The default of observed=False is deprecated and will be changed to True in a future version of pandas. Pass observed=False to retain current behavior or observed=True to adopt the future default and silence this warning.\n",
      "  pd.concat(\n",
      "/var/folders/2x/rfhzgyjn2zq2wlzk_kn4th680000gn/T/ipykernel_9315/2342058334.py:2: FutureWarning: The default of observed=False is deprecated and will be changed to True in a future version of pandas. Pass observed=False to retain current behavior or observed=True to adopt the future default and silence this warning.\n",
      "  df = (token_table\n",
      "/var/folders/2x/rfhzgyjn2zq2wlzk_kn4th680000gn/T/ipykernel_9315/2342058334.py:9: FutureWarning: The default of observed=False is deprecated and will be changed to True in a future version of pandas. Pass observed=False to retain current behavior or observed=True to adopt the future default and silence this warning.\n",
      "  pd.concat(\n"
     ]
    },
    {
     "name": "stdout",
     "output_type": "stream",
     "text": [
      "110037\n",
      "110038\n"
     ]
    },
    {
     "name": "stderr",
     "output_type": "stream",
     "text": [
      "/var/folders/2x/rfhzgyjn2zq2wlzk_kn4th680000gn/T/ipykernel_9315/2342058334.py:19: FutureWarning: The default of observed=False is deprecated and will be changed to True in a future version of pandas. Pass observed=False to retain current behavior or observed=True to adopt the future default and silence this warning.\n",
      "  pd.concat(\n",
      "/var/folders/2x/rfhzgyjn2zq2wlzk_kn4th680000gn/T/ipykernel_9315/2342058334.py:2: FutureWarning: The default of observed=False is deprecated and will be changed to True in a future version of pandas. Pass observed=False to retain current behavior or observed=True to adopt the future default and silence this warning.\n",
      "  df = (token_table\n",
      "/var/folders/2x/rfhzgyjn2zq2wlzk_kn4th680000gn/T/ipykernel_9315/2342058334.py:9: FutureWarning: The default of observed=False is deprecated and will be changed to True in a future version of pandas. Pass observed=False to retain current behavior or observed=True to adopt the future default and silence this warning.\n",
      "  pd.concat(\n",
      "/var/folders/2x/rfhzgyjn2zq2wlzk_kn4th680000gn/T/ipykernel_9315/2342058334.py:19: FutureWarning: The default of observed=False is deprecated and will be changed to True in a future version of pandas. Pass observed=False to retain current behavior or observed=True to adopt the future default and silence this warning.\n",
      "  pd.concat(\n"
     ]
    },
    {
     "name": "stdout",
     "output_type": "stream",
     "text": [
      "110039\n",
      "110040\n"
     ]
    },
    {
     "name": "stderr",
     "output_type": "stream",
     "text": [
      "/var/folders/2x/rfhzgyjn2zq2wlzk_kn4th680000gn/T/ipykernel_9315/2342058334.py:2: FutureWarning: The default of observed=False is deprecated and will be changed to True in a future version of pandas. Pass observed=False to retain current behavior or observed=True to adopt the future default and silence this warning.\n",
      "  df = (token_table\n",
      "/var/folders/2x/rfhzgyjn2zq2wlzk_kn4th680000gn/T/ipykernel_9315/2342058334.py:9: FutureWarning: The default of observed=False is deprecated and will be changed to True in a future version of pandas. Pass observed=False to retain current behavior or observed=True to adopt the future default and silence this warning.\n",
      "  pd.concat(\n",
      "/var/folders/2x/rfhzgyjn2zq2wlzk_kn4th680000gn/T/ipykernel_9315/2342058334.py:19: FutureWarning: The default of observed=False is deprecated and will be changed to True in a future version of pandas. Pass observed=False to retain current behavior or observed=True to adopt the future default and silence this warning.\n",
      "  pd.concat(\n",
      "/var/folders/2x/rfhzgyjn2zq2wlzk_kn4th680000gn/T/ipykernel_9315/2342058334.py:2: FutureWarning: The default of observed=False is deprecated and will be changed to True in a future version of pandas. Pass observed=False to retain current behavior or observed=True to adopt the future default and silence this warning.\n",
      "  df = (token_table\n",
      "/var/folders/2x/rfhzgyjn2zq2wlzk_kn4th680000gn/T/ipykernel_9315/2342058334.py:9: FutureWarning: The default of observed=False is deprecated and will be changed to True in a future version of pandas. Pass observed=False to retain current behavior or observed=True to adopt the future default and silence this warning.\n",
      "  pd.concat(\n",
      "/var/folders/2x/rfhzgyjn2zq2wlzk_kn4th680000gn/T/ipykernel_9315/2342058334.py:19: FutureWarning: The default of observed=False is deprecated and will be changed to True in a future version of pandas. Pass observed=False to retain current behavior or observed=True to adopt the future default and silence this warning.\n",
      "  pd.concat(\n",
      "/var/folders/2x/rfhzgyjn2zq2wlzk_kn4th680000gn/T/ipykernel_9315/2342058334.py:2: FutureWarning: The default of observed=False is deprecated and will be changed to True in a future version of pandas. Pass observed=False to retain current behavior or observed=True to adopt the future default and silence this warning.\n",
      "  df = (token_table\n",
      "/var/folders/2x/rfhzgyjn2zq2wlzk_kn4th680000gn/T/ipykernel_9315/2342058334.py:9: FutureWarning: The default of observed=False is deprecated and will be changed to True in a future version of pandas. Pass observed=False to retain current behavior or observed=True to adopt the future default and silence this warning.\n",
      "  pd.concat(\n",
      "/var/folders/2x/rfhzgyjn2zq2wlzk_kn4th680000gn/T/ipykernel_9315/2342058334.py:19: FutureWarning: The default of observed=False is deprecated and will be changed to True in a future version of pandas. Pass observed=False to retain current behavior or observed=True to adopt the future default and silence this warning.\n",
      "  pd.concat(\n"
     ]
    },
    {
     "name": "stdout",
     "output_type": "stream",
     "text": [
      "110041\n",
      "110042\n"
     ]
    },
    {
     "name": "stderr",
     "output_type": "stream",
     "text": [
      "/var/folders/2x/rfhzgyjn2zq2wlzk_kn4th680000gn/T/ipykernel_9315/2342058334.py:2: FutureWarning: The default of observed=False is deprecated and will be changed to True in a future version of pandas. Pass observed=False to retain current behavior or observed=True to adopt the future default and silence this warning.\n",
      "  df = (token_table\n",
      "/var/folders/2x/rfhzgyjn2zq2wlzk_kn4th680000gn/T/ipykernel_9315/2342058334.py:9: FutureWarning: The default of observed=False is deprecated and will be changed to True in a future version of pandas. Pass observed=False to retain current behavior or observed=True to adopt the future default and silence this warning.\n",
      "  pd.concat(\n",
      "/var/folders/2x/rfhzgyjn2zq2wlzk_kn4th680000gn/T/ipykernel_9315/2342058334.py:19: FutureWarning: The default of observed=False is deprecated and will be changed to True in a future version of pandas. Pass observed=False to retain current behavior or observed=True to adopt the future default and silence this warning.\n",
      "  pd.concat(\n",
      "/var/folders/2x/rfhzgyjn2zq2wlzk_kn4th680000gn/T/ipykernel_9315/2342058334.py:2: FutureWarning: The default of observed=False is deprecated and will be changed to True in a future version of pandas. Pass observed=False to retain current behavior or observed=True to adopt the future default and silence this warning.\n",
      "  df = (token_table\n",
      "/var/folders/2x/rfhzgyjn2zq2wlzk_kn4th680000gn/T/ipykernel_9315/2342058334.py:9: FutureWarning: The default of observed=False is deprecated and will be changed to True in a future version of pandas. Pass observed=False to retain current behavior or observed=True to adopt the future default and silence this warning.\n",
      "  pd.concat(\n"
     ]
    },
    {
     "name": "stdout",
     "output_type": "stream",
     "text": [
      "110043\n",
      "110044\n"
     ]
    },
    {
     "name": "stderr",
     "output_type": "stream",
     "text": [
      "/var/folders/2x/rfhzgyjn2zq2wlzk_kn4th680000gn/T/ipykernel_9315/2342058334.py:19: FutureWarning: The default of observed=False is deprecated and will be changed to True in a future version of pandas. Pass observed=False to retain current behavior or observed=True to adopt the future default and silence this warning.\n",
      "  pd.concat(\n",
      "/var/folders/2x/rfhzgyjn2zq2wlzk_kn4th680000gn/T/ipykernel_9315/2342058334.py:2: FutureWarning: The default of observed=False is deprecated and will be changed to True in a future version of pandas. Pass observed=False to retain current behavior or observed=True to adopt the future default and silence this warning.\n",
      "  df = (token_table\n",
      "/var/folders/2x/rfhzgyjn2zq2wlzk_kn4th680000gn/T/ipykernel_9315/2342058334.py:9: FutureWarning: The default of observed=False is deprecated and will be changed to True in a future version of pandas. Pass observed=False to retain current behavior or observed=True to adopt the future default and silence this warning.\n",
      "  pd.concat(\n",
      "/var/folders/2x/rfhzgyjn2zq2wlzk_kn4th680000gn/T/ipykernel_9315/2342058334.py:19: FutureWarning: The default of observed=False is deprecated and will be changed to True in a future version of pandas. Pass observed=False to retain current behavior or observed=True to adopt the future default and silence this warning.\n",
      "  pd.concat(\n"
     ]
    },
    {
     "name": "stdout",
     "output_type": "stream",
     "text": [
      "110045\n"
     ]
    },
    {
     "name": "stderr",
     "output_type": "stream",
     "text": [
      "/var/folders/2x/rfhzgyjn2zq2wlzk_kn4th680000gn/T/ipykernel_9315/2342058334.py:2: FutureWarning: The default of observed=False is deprecated and will be changed to True in a future version of pandas. Pass observed=False to retain current behavior or observed=True to adopt the future default and silence this warning.\n",
      "  df = (token_table\n",
      "/var/folders/2x/rfhzgyjn2zq2wlzk_kn4th680000gn/T/ipykernel_9315/2342058334.py:9: FutureWarning: The default of observed=False is deprecated and will be changed to True in a future version of pandas. Pass observed=False to retain current behavior or observed=True to adopt the future default and silence this warning.\n",
      "  pd.concat(\n",
      "/var/folders/2x/rfhzgyjn2zq2wlzk_kn4th680000gn/T/ipykernel_9315/2342058334.py:19: FutureWarning: The default of observed=False is deprecated and will be changed to True in a future version of pandas. Pass observed=False to retain current behavior or observed=True to adopt the future default and silence this warning.\n",
      "  pd.concat(\n"
     ]
    },
    {
     "name": "stdout",
     "output_type": "stream",
     "text": [
      "110046\n"
     ]
    },
    {
     "name": "stderr",
     "output_type": "stream",
     "text": [
      "/var/folders/2x/rfhzgyjn2zq2wlzk_kn4th680000gn/T/ipykernel_9315/2342058334.py:2: FutureWarning: The default of observed=False is deprecated and will be changed to True in a future version of pandas. Pass observed=False to retain current behavior or observed=True to adopt the future default and silence this warning.\n",
      "  df = (token_table\n",
      "/var/folders/2x/rfhzgyjn2zq2wlzk_kn4th680000gn/T/ipykernel_9315/2342058334.py:9: FutureWarning: The default of observed=False is deprecated and will be changed to True in a future version of pandas. Pass observed=False to retain current behavior or observed=True to adopt the future default and silence this warning.\n",
      "  pd.concat(\n",
      "/var/folders/2x/rfhzgyjn2zq2wlzk_kn4th680000gn/T/ipykernel_9315/2342058334.py:19: FutureWarning: The default of observed=False is deprecated and will be changed to True in a future version of pandas. Pass observed=False to retain current behavior or observed=True to adopt the future default and silence this warning.\n",
      "  pd.concat(\n"
     ]
    },
    {
     "name": "stdout",
     "output_type": "stream",
     "text": [
      "110047\n"
     ]
    },
    {
     "name": "stderr",
     "output_type": "stream",
     "text": [
      "/var/folders/2x/rfhzgyjn2zq2wlzk_kn4th680000gn/T/ipykernel_9315/2342058334.py:2: FutureWarning: The default of observed=False is deprecated and will be changed to True in a future version of pandas. Pass observed=False to retain current behavior or observed=True to adopt the future default and silence this warning.\n",
      "  df = (token_table\n",
      "/var/folders/2x/rfhzgyjn2zq2wlzk_kn4th680000gn/T/ipykernel_9315/2342058334.py:9: FutureWarning: The default of observed=False is deprecated and will be changed to True in a future version of pandas. Pass observed=False to retain current behavior or observed=True to adopt the future default and silence this warning.\n",
      "  pd.concat(\n",
      "/var/folders/2x/rfhzgyjn2zq2wlzk_kn4th680000gn/T/ipykernel_9315/2342058334.py:19: FutureWarning: The default of observed=False is deprecated and will be changed to True in a future version of pandas. Pass observed=False to retain current behavior or observed=True to adopt the future default and silence this warning.\n",
      "  pd.concat(\n"
     ]
    },
    {
     "name": "stdout",
     "output_type": "stream",
     "text": [
      "110048\n"
     ]
    },
    {
     "name": "stderr",
     "output_type": "stream",
     "text": [
      "/var/folders/2x/rfhzgyjn2zq2wlzk_kn4th680000gn/T/ipykernel_9315/2342058334.py:2: FutureWarning: The default of observed=False is deprecated and will be changed to True in a future version of pandas. Pass observed=False to retain current behavior or observed=True to adopt the future default and silence this warning.\n",
      "  df = (token_table\n",
      "/var/folders/2x/rfhzgyjn2zq2wlzk_kn4th680000gn/T/ipykernel_9315/2342058334.py:9: FutureWarning: The default of observed=False is deprecated and will be changed to True in a future version of pandas. Pass observed=False to retain current behavior or observed=True to adopt the future default and silence this warning.\n",
      "  pd.concat(\n",
      "/var/folders/2x/rfhzgyjn2zq2wlzk_kn4th680000gn/T/ipykernel_9315/2342058334.py:19: FutureWarning: The default of observed=False is deprecated and will be changed to True in a future version of pandas. Pass observed=False to retain current behavior or observed=True to adopt the future default and silence this warning.\n",
      "  pd.concat(\n",
      "/var/folders/2x/rfhzgyjn2zq2wlzk_kn4th680000gn/T/ipykernel_9315/2342058334.py:2: FutureWarning: The default of observed=False is deprecated and will be changed to True in a future version of pandas. Pass observed=False to retain current behavior or observed=True to adopt the future default and silence this warning.\n",
      "  df = (token_table\n"
     ]
    },
    {
     "name": "stdout",
     "output_type": "stream",
     "text": [
      "110049\n",
      "110050\n"
     ]
    },
    {
     "name": "stderr",
     "output_type": "stream",
     "text": [
      "/var/folders/2x/rfhzgyjn2zq2wlzk_kn4th680000gn/T/ipykernel_9315/2342058334.py:9: FutureWarning: The default of observed=False is deprecated and will be changed to True in a future version of pandas. Pass observed=False to retain current behavior or observed=True to adopt the future default and silence this warning.\n",
      "  pd.concat(\n",
      "/var/folders/2x/rfhzgyjn2zq2wlzk_kn4th680000gn/T/ipykernel_9315/2342058334.py:19: FutureWarning: The default of observed=False is deprecated and will be changed to True in a future version of pandas. Pass observed=False to retain current behavior or observed=True to adopt the future default and silence this warning.\n",
      "  pd.concat(\n",
      "/var/folders/2x/rfhzgyjn2zq2wlzk_kn4th680000gn/T/ipykernel_9315/2342058334.py:2: FutureWarning: The default of observed=False is deprecated and will be changed to True in a future version of pandas. Pass observed=False to retain current behavior or observed=True to adopt the future default and silence this warning.\n",
      "  df = (token_table\n",
      "/var/folders/2x/rfhzgyjn2zq2wlzk_kn4th680000gn/T/ipykernel_9315/2342058334.py:9: FutureWarning: The default of observed=False is deprecated and will be changed to True in a future version of pandas. Pass observed=False to retain current behavior or observed=True to adopt the future default and silence this warning.\n",
      "  pd.concat(\n",
      "/var/folders/2x/rfhzgyjn2zq2wlzk_kn4th680000gn/T/ipykernel_9315/2342058334.py:19: FutureWarning: The default of observed=False is deprecated and will be changed to True in a future version of pandas. Pass observed=False to retain current behavior or observed=True to adopt the future default and silence this warning.\n",
      "  pd.concat(\n",
      "/var/folders/2x/rfhzgyjn2zq2wlzk_kn4th680000gn/T/ipykernel_9315/2342058334.py:2: FutureWarning: The default of observed=False is deprecated and will be changed to True in a future version of pandas. Pass observed=False to retain current behavior or observed=True to adopt the future default and silence this warning.\n",
      "  df = (token_table\n",
      "/var/folders/2x/rfhzgyjn2zq2wlzk_kn4th680000gn/T/ipykernel_9315/2342058334.py:9: FutureWarning: The default of observed=False is deprecated and will be changed to True in a future version of pandas. Pass observed=False to retain current behavior or observed=True to adopt the future default and silence this warning.\n",
      "  pd.concat(\n",
      "/var/folders/2x/rfhzgyjn2zq2wlzk_kn4th680000gn/T/ipykernel_9315/2342058334.py:19: FutureWarning: The default of observed=False is deprecated and will be changed to True in a future version of pandas. Pass observed=False to retain current behavior or observed=True to adopt the future default and silence this warning.\n",
      "  pd.concat(\n"
     ]
    },
    {
     "name": "stdout",
     "output_type": "stream",
     "text": [
      "110051\n",
      "110052\n"
     ]
    },
    {
     "name": "stderr",
     "output_type": "stream",
     "text": [
      "/var/folders/2x/rfhzgyjn2zq2wlzk_kn4th680000gn/T/ipykernel_9315/2342058334.py:2: FutureWarning: The default of observed=False is deprecated and will be changed to True in a future version of pandas. Pass observed=False to retain current behavior or observed=True to adopt the future default and silence this warning.\n",
      "  df = (token_table\n",
      "/var/folders/2x/rfhzgyjn2zq2wlzk_kn4th680000gn/T/ipykernel_9315/2342058334.py:9: FutureWarning: The default of observed=False is deprecated and will be changed to True in a future version of pandas. Pass observed=False to retain current behavior or observed=True to adopt the future default and silence this warning.\n",
      "  pd.concat(\n",
      "/var/folders/2x/rfhzgyjn2zq2wlzk_kn4th680000gn/T/ipykernel_9315/2342058334.py:19: FutureWarning: The default of observed=False is deprecated and will be changed to True in a future version of pandas. Pass observed=False to retain current behavior or observed=True to adopt the future default and silence this warning.\n",
      "  pd.concat(\n",
      "/var/folders/2x/rfhzgyjn2zq2wlzk_kn4th680000gn/T/ipykernel_9315/2342058334.py:2: FutureWarning: The default of observed=False is deprecated and will be changed to True in a future version of pandas. Pass observed=False to retain current behavior or observed=True to adopt the future default and silence this warning.\n",
      "  df = (token_table\n",
      "/var/folders/2x/rfhzgyjn2zq2wlzk_kn4th680000gn/T/ipykernel_9315/2342058334.py:9: FutureWarning: The default of observed=False is deprecated and will be changed to True in a future version of pandas. Pass observed=False to retain current behavior or observed=True to adopt the future default and silence this warning.\n",
      "  pd.concat(\n"
     ]
    },
    {
     "name": "stdout",
     "output_type": "stream",
     "text": [
      "110053\n",
      "120001\n"
     ]
    },
    {
     "name": "stderr",
     "output_type": "stream",
     "text": [
      "/var/folders/2x/rfhzgyjn2zq2wlzk_kn4th680000gn/T/ipykernel_9315/2342058334.py:19: FutureWarning: The default of observed=False is deprecated and will be changed to True in a future version of pandas. Pass observed=False to retain current behavior or observed=True to adopt the future default and silence this warning.\n",
      "  pd.concat(\n",
      "/var/folders/2x/rfhzgyjn2zq2wlzk_kn4th680000gn/T/ipykernel_9315/2342058334.py:2: FutureWarning: The default of observed=False is deprecated and will be changed to True in a future version of pandas. Pass observed=False to retain current behavior or observed=True to adopt the future default and silence this warning.\n",
      "  df = (token_table\n",
      "/var/folders/2x/rfhzgyjn2zq2wlzk_kn4th680000gn/T/ipykernel_9315/2342058334.py:9: FutureWarning: The default of observed=False is deprecated and will be changed to True in a future version of pandas. Pass observed=False to retain current behavior or observed=True to adopt the future default and silence this warning.\n",
      "  pd.concat(\n",
      "/var/folders/2x/rfhzgyjn2zq2wlzk_kn4th680000gn/T/ipykernel_9315/2342058334.py:19: FutureWarning: The default of observed=False is deprecated and will be changed to True in a future version of pandas. Pass observed=False to retain current behavior or observed=True to adopt the future default and silence this warning.\n",
      "  pd.concat(\n"
     ]
    },
    {
     "name": "stdout",
     "output_type": "stream",
     "text": [
      "120002\n"
     ]
    },
    {
     "name": "stderr",
     "output_type": "stream",
     "text": [
      "/var/folders/2x/rfhzgyjn2zq2wlzk_kn4th680000gn/T/ipykernel_9315/2342058334.py:2: FutureWarning: The default of observed=False is deprecated and will be changed to True in a future version of pandas. Pass observed=False to retain current behavior or observed=True to adopt the future default and silence this warning.\n",
      "  df = (token_table\n",
      "/var/folders/2x/rfhzgyjn2zq2wlzk_kn4th680000gn/T/ipykernel_9315/2342058334.py:9: FutureWarning: The default of observed=False is deprecated and will be changed to True in a future version of pandas. Pass observed=False to retain current behavior or observed=True to adopt the future default and silence this warning.\n",
      "  pd.concat(\n",
      "/var/folders/2x/rfhzgyjn2zq2wlzk_kn4th680000gn/T/ipykernel_9315/2342058334.py:19: FutureWarning: The default of observed=False is deprecated and will be changed to True in a future version of pandas. Pass observed=False to retain current behavior or observed=True to adopt the future default and silence this warning.\n",
      "  pd.concat(\n",
      "/var/folders/2x/rfhzgyjn2zq2wlzk_kn4th680000gn/T/ipykernel_9315/2342058334.py:2: FutureWarning: The default of observed=False is deprecated and will be changed to True in a future version of pandas. Pass observed=False to retain current behavior or observed=True to adopt the future default and silence this warning.\n",
      "  df = (token_table\n"
     ]
    },
    {
     "name": "stdout",
     "output_type": "stream",
     "text": [
      "120003\n",
      "120004\n"
     ]
    },
    {
     "name": "stderr",
     "output_type": "stream",
     "text": [
      "/var/folders/2x/rfhzgyjn2zq2wlzk_kn4th680000gn/T/ipykernel_9315/2342058334.py:9: FutureWarning: The default of observed=False is deprecated and will be changed to True in a future version of pandas. Pass observed=False to retain current behavior or observed=True to adopt the future default and silence this warning.\n",
      "  pd.concat(\n",
      "/var/folders/2x/rfhzgyjn2zq2wlzk_kn4th680000gn/T/ipykernel_9315/2342058334.py:19: FutureWarning: The default of observed=False is deprecated and will be changed to True in a future version of pandas. Pass observed=False to retain current behavior or observed=True to adopt the future default and silence this warning.\n",
      "  pd.concat(\n",
      "/var/folders/2x/rfhzgyjn2zq2wlzk_kn4th680000gn/T/ipykernel_9315/2342058334.py:2: FutureWarning: The default of observed=False is deprecated and will be changed to True in a future version of pandas. Pass observed=False to retain current behavior or observed=True to adopt the future default and silence this warning.\n",
      "  df = (token_table\n",
      "/var/folders/2x/rfhzgyjn2zq2wlzk_kn4th680000gn/T/ipykernel_9315/2342058334.py:9: FutureWarning: The default of observed=False is deprecated and will be changed to True in a future version of pandas. Pass observed=False to retain current behavior or observed=True to adopt the future default and silence this warning.\n",
      "  pd.concat(\n",
      "/var/folders/2x/rfhzgyjn2zq2wlzk_kn4th680000gn/T/ipykernel_9315/2342058334.py:19: FutureWarning: The default of observed=False is deprecated and will be changed to True in a future version of pandas. Pass observed=False to retain current behavior or observed=True to adopt the future default and silence this warning.\n",
      "  pd.concat(\n"
     ]
    },
    {
     "name": "stdout",
     "output_type": "stream",
     "text": [
      "120005\n",
      "120006\n"
     ]
    },
    {
     "name": "stderr",
     "output_type": "stream",
     "text": [
      "/var/folders/2x/rfhzgyjn2zq2wlzk_kn4th680000gn/T/ipykernel_9315/2342058334.py:2: FutureWarning: The default of observed=False is deprecated and will be changed to True in a future version of pandas. Pass observed=False to retain current behavior or observed=True to adopt the future default and silence this warning.\n",
      "  df = (token_table\n",
      "/var/folders/2x/rfhzgyjn2zq2wlzk_kn4th680000gn/T/ipykernel_9315/2342058334.py:9: FutureWarning: The default of observed=False is deprecated and will be changed to True in a future version of pandas. Pass observed=False to retain current behavior or observed=True to adopt the future default and silence this warning.\n",
      "  pd.concat(\n",
      "/var/folders/2x/rfhzgyjn2zq2wlzk_kn4th680000gn/T/ipykernel_9315/2342058334.py:19: FutureWarning: The default of observed=False is deprecated and will be changed to True in a future version of pandas. Pass observed=False to retain current behavior or observed=True to adopt the future default and silence this warning.\n",
      "  pd.concat(\n",
      "/var/folders/2x/rfhzgyjn2zq2wlzk_kn4th680000gn/T/ipykernel_9315/2342058334.py:2: FutureWarning: The default of observed=False is deprecated and will be changed to True in a future version of pandas. Pass observed=False to retain current behavior or observed=True to adopt the future default and silence this warning.\n",
      "  df = (token_table\n",
      "/var/folders/2x/rfhzgyjn2zq2wlzk_kn4th680000gn/T/ipykernel_9315/2342058334.py:9: FutureWarning: The default of observed=False is deprecated and will be changed to True in a future version of pandas. Pass observed=False to retain current behavior or observed=True to adopt the future default and silence this warning.\n",
      "  pd.concat(\n",
      "/var/folders/2x/rfhzgyjn2zq2wlzk_kn4th680000gn/T/ipykernel_9315/2342058334.py:19: FutureWarning: The default of observed=False is deprecated and will be changed to True in a future version of pandas. Pass observed=False to retain current behavior or observed=True to adopt the future default and silence this warning.\n",
      "  pd.concat(\n",
      "/var/folders/2x/rfhzgyjn2zq2wlzk_kn4th680000gn/T/ipykernel_9315/2342058334.py:2: FutureWarning: The default of observed=False is deprecated and will be changed to True in a future version of pandas. Pass observed=False to retain current behavior or observed=True to adopt the future default and silence this warning.\n",
      "  df = (token_table\n",
      "/var/folders/2x/rfhzgyjn2zq2wlzk_kn4th680000gn/T/ipykernel_9315/2342058334.py:9: FutureWarning: The default of observed=False is deprecated and will be changed to True in a future version of pandas. Pass observed=False to retain current behavior or observed=True to adopt the future default and silence this warning.\n",
      "  pd.concat(\n"
     ]
    },
    {
     "name": "stdout",
     "output_type": "stream",
     "text": [
      "120007\n",
      "120008\n"
     ]
    },
    {
     "name": "stderr",
     "output_type": "stream",
     "text": [
      "/var/folders/2x/rfhzgyjn2zq2wlzk_kn4th680000gn/T/ipykernel_9315/2342058334.py:19: FutureWarning: The default of observed=False is deprecated and will be changed to True in a future version of pandas. Pass observed=False to retain current behavior or observed=True to adopt the future default and silence this warning.\n",
      "  pd.concat(\n",
      "/var/folders/2x/rfhzgyjn2zq2wlzk_kn4th680000gn/T/ipykernel_9315/2342058334.py:2: FutureWarning: The default of observed=False is deprecated and will be changed to True in a future version of pandas. Pass observed=False to retain current behavior or observed=True to adopt the future default and silence this warning.\n",
      "  df = (token_table\n",
      "/var/folders/2x/rfhzgyjn2zq2wlzk_kn4th680000gn/T/ipykernel_9315/2342058334.py:9: FutureWarning: The default of observed=False is deprecated and will be changed to True in a future version of pandas. Pass observed=False to retain current behavior or observed=True to adopt the future default and silence this warning.\n",
      "  pd.concat(\n",
      "/var/folders/2x/rfhzgyjn2zq2wlzk_kn4th680000gn/T/ipykernel_9315/2342058334.py:19: FutureWarning: The default of observed=False is deprecated and will be changed to True in a future version of pandas. Pass observed=False to retain current behavior or observed=True to adopt the future default and silence this warning.\n",
      "  pd.concat(\n"
     ]
    },
    {
     "name": "stdout",
     "output_type": "stream",
     "text": [
      "120009\n",
      "120010\n"
     ]
    },
    {
     "name": "stderr",
     "output_type": "stream",
     "text": [
      "/var/folders/2x/rfhzgyjn2zq2wlzk_kn4th680000gn/T/ipykernel_9315/2342058334.py:2: FutureWarning: The default of observed=False is deprecated and will be changed to True in a future version of pandas. Pass observed=False to retain current behavior or observed=True to adopt the future default and silence this warning.\n",
      "  df = (token_table\n",
      "/var/folders/2x/rfhzgyjn2zq2wlzk_kn4th680000gn/T/ipykernel_9315/2342058334.py:9: FutureWarning: The default of observed=False is deprecated and will be changed to True in a future version of pandas. Pass observed=False to retain current behavior or observed=True to adopt the future default and silence this warning.\n",
      "  pd.concat(\n",
      "/var/folders/2x/rfhzgyjn2zq2wlzk_kn4th680000gn/T/ipykernel_9315/2342058334.py:19: FutureWarning: The default of observed=False is deprecated and will be changed to True in a future version of pandas. Pass observed=False to retain current behavior or observed=True to adopt the future default and silence this warning.\n",
      "  pd.concat(\n",
      "/var/folders/2x/rfhzgyjn2zq2wlzk_kn4th680000gn/T/ipykernel_9315/2342058334.py:2: FutureWarning: The default of observed=False is deprecated and will be changed to True in a future version of pandas. Pass observed=False to retain current behavior or observed=True to adopt the future default and silence this warning.\n",
      "  df = (token_table\n",
      "/var/folders/2x/rfhzgyjn2zq2wlzk_kn4th680000gn/T/ipykernel_9315/2342058334.py:9: FutureWarning: The default of observed=False is deprecated and will be changed to True in a future version of pandas. Pass observed=False to retain current behavior or observed=True to adopt the future default and silence this warning.\n",
      "  pd.concat(\n",
      "/var/folders/2x/rfhzgyjn2zq2wlzk_kn4th680000gn/T/ipykernel_9315/2342058334.py:19: FutureWarning: The default of observed=False is deprecated and will be changed to True in a future version of pandas. Pass observed=False to retain current behavior or observed=True to adopt the future default and silence this warning.\n",
      "  pd.concat(\n",
      "/var/folders/2x/rfhzgyjn2zq2wlzk_kn4th680000gn/T/ipykernel_9315/2342058334.py:2: FutureWarning: The default of observed=False is deprecated and will be changed to True in a future version of pandas. Pass observed=False to retain current behavior or observed=True to adopt the future default and silence this warning.\n",
      "  df = (token_table\n",
      "/var/folders/2x/rfhzgyjn2zq2wlzk_kn4th680000gn/T/ipykernel_9315/2342058334.py:9: FutureWarning: The default of observed=False is deprecated and will be changed to True in a future version of pandas. Pass observed=False to retain current behavior or observed=True to adopt the future default and silence this warning.\n",
      "  pd.concat(\n",
      "/var/folders/2x/rfhzgyjn2zq2wlzk_kn4th680000gn/T/ipykernel_9315/2342058334.py:19: FutureWarning: The default of observed=False is deprecated and will be changed to True in a future version of pandas. Pass observed=False to retain current behavior or observed=True to adopt the future default and silence this warning.\n",
      "  pd.concat(\n"
     ]
    },
    {
     "name": "stdout",
     "output_type": "stream",
     "text": [
      "120011\n",
      "120012\n"
     ]
    },
    {
     "name": "stderr",
     "output_type": "stream",
     "text": [
      "/var/folders/2x/rfhzgyjn2zq2wlzk_kn4th680000gn/T/ipykernel_9315/2342058334.py:2: FutureWarning: The default of observed=False is deprecated and will be changed to True in a future version of pandas. Pass observed=False to retain current behavior or observed=True to adopt the future default and silence this warning.\n",
      "  df = (token_table\n",
      "/var/folders/2x/rfhzgyjn2zq2wlzk_kn4th680000gn/T/ipykernel_9315/2342058334.py:9: FutureWarning: The default of observed=False is deprecated and will be changed to True in a future version of pandas. Pass observed=False to retain current behavior or observed=True to adopt the future default and silence this warning.\n",
      "  pd.concat(\n",
      "/var/folders/2x/rfhzgyjn2zq2wlzk_kn4th680000gn/T/ipykernel_9315/2342058334.py:19: FutureWarning: The default of observed=False is deprecated and will be changed to True in a future version of pandas. Pass observed=False to retain current behavior or observed=True to adopt the future default and silence this warning.\n",
      "  pd.concat(\n",
      "/var/folders/2x/rfhzgyjn2zq2wlzk_kn4th680000gn/T/ipykernel_9315/2342058334.py:2: FutureWarning: The default of observed=False is deprecated and will be changed to True in a future version of pandas. Pass observed=False to retain current behavior or observed=True to adopt the future default and silence this warning.\n",
      "  df = (token_table\n",
      "/var/folders/2x/rfhzgyjn2zq2wlzk_kn4th680000gn/T/ipykernel_9315/2342058334.py:9: FutureWarning: The default of observed=False is deprecated and will be changed to True in a future version of pandas. Pass observed=False to retain current behavior or observed=True to adopt the future default and silence this warning.\n",
      "  pd.concat(\n"
     ]
    },
    {
     "name": "stdout",
     "output_type": "stream",
     "text": [
      "120013\n",
      "120014\n"
     ]
    },
    {
     "name": "stderr",
     "output_type": "stream",
     "text": [
      "/var/folders/2x/rfhzgyjn2zq2wlzk_kn4th680000gn/T/ipykernel_9315/2342058334.py:19: FutureWarning: The default of observed=False is deprecated and will be changed to True in a future version of pandas. Pass observed=False to retain current behavior or observed=True to adopt the future default and silence this warning.\n",
      "  pd.concat(\n",
      "/var/folders/2x/rfhzgyjn2zq2wlzk_kn4th680000gn/T/ipykernel_9315/2342058334.py:2: FutureWarning: The default of observed=False is deprecated and will be changed to True in a future version of pandas. Pass observed=False to retain current behavior or observed=True to adopt the future default and silence this warning.\n",
      "  df = (token_table\n",
      "/var/folders/2x/rfhzgyjn2zq2wlzk_kn4th680000gn/T/ipykernel_9315/2342058334.py:9: FutureWarning: The default of observed=False is deprecated and will be changed to True in a future version of pandas. Pass observed=False to retain current behavior or observed=True to adopt the future default and silence this warning.\n",
      "  pd.concat(\n",
      "/var/folders/2x/rfhzgyjn2zq2wlzk_kn4th680000gn/T/ipykernel_9315/2342058334.py:19: FutureWarning: The default of observed=False is deprecated and will be changed to True in a future version of pandas. Pass observed=False to retain current behavior or observed=True to adopt the future default and silence this warning.\n",
      "  pd.concat(\n",
      "/var/folders/2x/rfhzgyjn2zq2wlzk_kn4th680000gn/T/ipykernel_9315/2342058334.py:2: FutureWarning: The default of observed=False is deprecated and will be changed to True in a future version of pandas. Pass observed=False to retain current behavior or observed=True to adopt the future default and silence this warning.\n",
      "  df = (token_table\n"
     ]
    },
    {
     "name": "stdout",
     "output_type": "stream",
     "text": [
      "120015\n",
      "120016\n"
     ]
    },
    {
     "name": "stderr",
     "output_type": "stream",
     "text": [
      "/var/folders/2x/rfhzgyjn2zq2wlzk_kn4th680000gn/T/ipykernel_9315/2342058334.py:9: FutureWarning: The default of observed=False is deprecated and will be changed to True in a future version of pandas. Pass observed=False to retain current behavior or observed=True to adopt the future default and silence this warning.\n",
      "  pd.concat(\n",
      "/var/folders/2x/rfhzgyjn2zq2wlzk_kn4th680000gn/T/ipykernel_9315/2342058334.py:19: FutureWarning: The default of observed=False is deprecated and will be changed to True in a future version of pandas. Pass observed=False to retain current behavior or observed=True to adopt the future default and silence this warning.\n",
      "  pd.concat(\n",
      "/var/folders/2x/rfhzgyjn2zq2wlzk_kn4th680000gn/T/ipykernel_9315/2342058334.py:2: FutureWarning: The default of observed=False is deprecated and will be changed to True in a future version of pandas. Pass observed=False to retain current behavior or observed=True to adopt the future default and silence this warning.\n",
      "  df = (token_table\n",
      "/var/folders/2x/rfhzgyjn2zq2wlzk_kn4th680000gn/T/ipykernel_9315/2342058334.py:9: FutureWarning: The default of observed=False is deprecated and will be changed to True in a future version of pandas. Pass observed=False to retain current behavior or observed=True to adopt the future default and silence this warning.\n",
      "  pd.concat(\n",
      "/var/folders/2x/rfhzgyjn2zq2wlzk_kn4th680000gn/T/ipykernel_9315/2342058334.py:19: FutureWarning: The default of observed=False is deprecated and will be changed to True in a future version of pandas. Pass observed=False to retain current behavior or observed=True to adopt the future default and silence this warning.\n",
      "  pd.concat(\n"
     ]
    },
    {
     "name": "stdout",
     "output_type": "stream",
     "text": [
      "120017\n",
      "120018\n"
     ]
    },
    {
     "name": "stderr",
     "output_type": "stream",
     "text": [
      "/var/folders/2x/rfhzgyjn2zq2wlzk_kn4th680000gn/T/ipykernel_9315/2342058334.py:2: FutureWarning: The default of observed=False is deprecated and will be changed to True in a future version of pandas. Pass observed=False to retain current behavior or observed=True to adopt the future default and silence this warning.\n",
      "  df = (token_table\n",
      "/var/folders/2x/rfhzgyjn2zq2wlzk_kn4th680000gn/T/ipykernel_9315/2342058334.py:9: FutureWarning: The default of observed=False is deprecated and will be changed to True in a future version of pandas. Pass observed=False to retain current behavior or observed=True to adopt the future default and silence this warning.\n",
      "  pd.concat(\n",
      "/var/folders/2x/rfhzgyjn2zq2wlzk_kn4th680000gn/T/ipykernel_9315/2342058334.py:19: FutureWarning: The default of observed=False is deprecated and will be changed to True in a future version of pandas. Pass observed=False to retain current behavior or observed=True to adopt the future default and silence this warning.\n",
      "  pd.concat(\n",
      "/var/folders/2x/rfhzgyjn2zq2wlzk_kn4th680000gn/T/ipykernel_9315/2342058334.py:2: FutureWarning: The default of observed=False is deprecated and will be changed to True in a future version of pandas. Pass observed=False to retain current behavior or observed=True to adopt the future default and silence this warning.\n",
      "  df = (token_table\n",
      "/var/folders/2x/rfhzgyjn2zq2wlzk_kn4th680000gn/T/ipykernel_9315/2342058334.py:9: FutureWarning: The default of observed=False is deprecated and will be changed to True in a future version of pandas. Pass observed=False to retain current behavior or observed=True to adopt the future default and silence this warning.\n",
      "  pd.concat(\n",
      "/var/folders/2x/rfhzgyjn2zq2wlzk_kn4th680000gn/T/ipykernel_9315/2342058334.py:19: FutureWarning: The default of observed=False is deprecated and will be changed to True in a future version of pandas. Pass observed=False to retain current behavior or observed=True to adopt the future default and silence this warning.\n",
      "  pd.concat(\n",
      "/var/folders/2x/rfhzgyjn2zq2wlzk_kn4th680000gn/T/ipykernel_9315/2342058334.py:2: FutureWarning: The default of observed=False is deprecated and will be changed to True in a future version of pandas. Pass observed=False to retain current behavior or observed=True to adopt the future default and silence this warning.\n",
      "  df = (token_table\n",
      "/var/folders/2x/rfhzgyjn2zq2wlzk_kn4th680000gn/T/ipykernel_9315/2342058334.py:9: FutureWarning: The default of observed=False is deprecated and will be changed to True in a future version of pandas. Pass observed=False to retain current behavior or observed=True to adopt the future default and silence this warning.\n",
      "  pd.concat(\n",
      "/var/folders/2x/rfhzgyjn2zq2wlzk_kn4th680000gn/T/ipykernel_9315/2342058334.py:19: FutureWarning: The default of observed=False is deprecated and will be changed to True in a future version of pandas. Pass observed=False to retain current behavior or observed=True to adopt the future default and silence this warning.\n",
      "  pd.concat(\n",
      "/var/folders/2x/rfhzgyjn2zq2wlzk_kn4th680000gn/T/ipykernel_9315/2342058334.py:2: FutureWarning: The default of observed=False is deprecated and will be changed to True in a future version of pandas. Pass observed=False to retain current behavior or observed=True to adopt the future default and silence this warning.\n",
      "  df = (token_table\n"
     ]
    },
    {
     "name": "stdout",
     "output_type": "stream",
     "text": [
      "120019\n",
      "120020\n"
     ]
    },
    {
     "name": "stderr",
     "output_type": "stream",
     "text": [
      "/var/folders/2x/rfhzgyjn2zq2wlzk_kn4th680000gn/T/ipykernel_9315/2342058334.py:9: FutureWarning: The default of observed=False is deprecated and will be changed to True in a future version of pandas. Pass observed=False to retain current behavior or observed=True to adopt the future default and silence this warning.\n",
      "  pd.concat(\n",
      "/var/folders/2x/rfhzgyjn2zq2wlzk_kn4th680000gn/T/ipykernel_9315/2342058334.py:19: FutureWarning: The default of observed=False is deprecated and will be changed to True in a future version of pandas. Pass observed=False to retain current behavior or observed=True to adopt the future default and silence this warning.\n",
      "  pd.concat(\n",
      "/var/folders/2x/rfhzgyjn2zq2wlzk_kn4th680000gn/T/ipykernel_9315/2342058334.py:2: FutureWarning: The default of observed=False is deprecated and will be changed to True in a future version of pandas. Pass observed=False to retain current behavior or observed=True to adopt the future default and silence this warning.\n",
      "  df = (token_table\n",
      "/var/folders/2x/rfhzgyjn2zq2wlzk_kn4th680000gn/T/ipykernel_9315/2342058334.py:9: FutureWarning: The default of observed=False is deprecated and will be changed to True in a future version of pandas. Pass observed=False to retain current behavior or observed=True to adopt the future default and silence this warning.\n",
      "  pd.concat(\n",
      "/var/folders/2x/rfhzgyjn2zq2wlzk_kn4th680000gn/T/ipykernel_9315/2342058334.py:19: FutureWarning: The default of observed=False is deprecated and will be changed to True in a future version of pandas. Pass observed=False to retain current behavior or observed=True to adopt the future default and silence this warning.\n",
      "  pd.concat(\n"
     ]
    },
    {
     "name": "stdout",
     "output_type": "stream",
     "text": [
      "120021\n",
      "120022\n"
     ]
    },
    {
     "name": "stderr",
     "output_type": "stream",
     "text": [
      "/var/folders/2x/rfhzgyjn2zq2wlzk_kn4th680000gn/T/ipykernel_9315/2342058334.py:2: FutureWarning: The default of observed=False is deprecated and will be changed to True in a future version of pandas. Pass observed=False to retain current behavior or observed=True to adopt the future default and silence this warning.\n",
      "  df = (token_table\n",
      "/var/folders/2x/rfhzgyjn2zq2wlzk_kn4th680000gn/T/ipykernel_9315/2342058334.py:9: FutureWarning: The default of observed=False is deprecated and will be changed to True in a future version of pandas. Pass observed=False to retain current behavior or observed=True to adopt the future default and silence this warning.\n",
      "  pd.concat(\n",
      "/var/folders/2x/rfhzgyjn2zq2wlzk_kn4th680000gn/T/ipykernel_9315/2342058334.py:19: FutureWarning: The default of observed=False is deprecated and will be changed to True in a future version of pandas. Pass observed=False to retain current behavior or observed=True to adopt the future default and silence this warning.\n",
      "  pd.concat(\n",
      "/var/folders/2x/rfhzgyjn2zq2wlzk_kn4th680000gn/T/ipykernel_9315/2342058334.py:2: FutureWarning: The default of observed=False is deprecated and will be changed to True in a future version of pandas. Pass observed=False to retain current behavior or observed=True to adopt the future default and silence this warning.\n",
      "  df = (token_table\n"
     ]
    },
    {
     "name": "stdout",
     "output_type": "stream",
     "text": [
      "120023\n",
      "120024\n"
     ]
    },
    {
     "name": "stderr",
     "output_type": "stream",
     "text": [
      "/var/folders/2x/rfhzgyjn2zq2wlzk_kn4th680000gn/T/ipykernel_9315/2342058334.py:9: FutureWarning: The default of observed=False is deprecated and will be changed to True in a future version of pandas. Pass observed=False to retain current behavior or observed=True to adopt the future default and silence this warning.\n",
      "  pd.concat(\n",
      "/var/folders/2x/rfhzgyjn2zq2wlzk_kn4th680000gn/T/ipykernel_9315/2342058334.py:19: FutureWarning: The default of observed=False is deprecated and will be changed to True in a future version of pandas. Pass observed=False to retain current behavior or observed=True to adopt the future default and silence this warning.\n",
      "  pd.concat(\n",
      "/var/folders/2x/rfhzgyjn2zq2wlzk_kn4th680000gn/T/ipykernel_9315/2342058334.py:2: FutureWarning: The default of observed=False is deprecated and will be changed to True in a future version of pandas. Pass observed=False to retain current behavior or observed=True to adopt the future default and silence this warning.\n",
      "  df = (token_table\n",
      "/var/folders/2x/rfhzgyjn2zq2wlzk_kn4th680000gn/T/ipykernel_9315/2342058334.py:9: FutureWarning: The default of observed=False is deprecated and will be changed to True in a future version of pandas. Pass observed=False to retain current behavior or observed=True to adopt the future default and silence this warning.\n",
      "  pd.concat(\n",
      "/var/folders/2x/rfhzgyjn2zq2wlzk_kn4th680000gn/T/ipykernel_9315/2342058334.py:19: FutureWarning: The default of observed=False is deprecated and will be changed to True in a future version of pandas. Pass observed=False to retain current behavior or observed=True to adopt the future default and silence this warning.\n",
      "  pd.concat(\n"
     ]
    },
    {
     "name": "stdout",
     "output_type": "stream",
     "text": [
      "120025\n",
      "120026\n"
     ]
    },
    {
     "name": "stderr",
     "output_type": "stream",
     "text": [
      "/var/folders/2x/rfhzgyjn2zq2wlzk_kn4th680000gn/T/ipykernel_9315/2342058334.py:2: FutureWarning: The default of observed=False is deprecated and will be changed to True in a future version of pandas. Pass observed=False to retain current behavior or observed=True to adopt the future default and silence this warning.\n",
      "  df = (token_table\n",
      "/var/folders/2x/rfhzgyjn2zq2wlzk_kn4th680000gn/T/ipykernel_9315/2342058334.py:9: FutureWarning: The default of observed=False is deprecated and will be changed to True in a future version of pandas. Pass observed=False to retain current behavior or observed=True to adopt the future default and silence this warning.\n",
      "  pd.concat(\n",
      "/var/folders/2x/rfhzgyjn2zq2wlzk_kn4th680000gn/T/ipykernel_9315/2342058334.py:19: FutureWarning: The default of observed=False is deprecated and will be changed to True in a future version of pandas. Pass observed=False to retain current behavior or observed=True to adopt the future default and silence this warning.\n",
      "  pd.concat(\n",
      "/var/folders/2x/rfhzgyjn2zq2wlzk_kn4th680000gn/T/ipykernel_9315/2342058334.py:2: FutureWarning: The default of observed=False is deprecated and will be changed to True in a future version of pandas. Pass observed=False to retain current behavior or observed=True to adopt the future default and silence this warning.\n",
      "  df = (token_table\n",
      "/var/folders/2x/rfhzgyjn2zq2wlzk_kn4th680000gn/T/ipykernel_9315/2342058334.py:9: FutureWarning: The default of observed=False is deprecated and will be changed to True in a future version of pandas. Pass observed=False to retain current behavior or observed=True to adopt the future default and silence this warning.\n",
      "  pd.concat(\n",
      "/var/folders/2x/rfhzgyjn2zq2wlzk_kn4th680000gn/T/ipykernel_9315/2342058334.py:19: FutureWarning: The default of observed=False is deprecated and will be changed to True in a future version of pandas. Pass observed=False to retain current behavior or observed=True to adopt the future default and silence this warning.\n",
      "  pd.concat(\n",
      "/var/folders/2x/rfhzgyjn2zq2wlzk_kn4th680000gn/T/ipykernel_9315/2342058334.py:2: FutureWarning: The default of observed=False is deprecated and will be changed to True in a future version of pandas. Pass observed=False to retain current behavior or observed=True to adopt the future default and silence this warning.\n",
      "  df = (token_table\n",
      "/var/folders/2x/rfhzgyjn2zq2wlzk_kn4th680000gn/T/ipykernel_9315/2342058334.py:9: FutureWarning: The default of observed=False is deprecated and will be changed to True in a future version of pandas. Pass observed=False to retain current behavior or observed=True to adopt the future default and silence this warning.\n",
      "  pd.concat(\n",
      "/var/folders/2x/rfhzgyjn2zq2wlzk_kn4th680000gn/T/ipykernel_9315/2342058334.py:19: FutureWarning: The default of observed=False is deprecated and will be changed to True in a future version of pandas. Pass observed=False to retain current behavior or observed=True to adopt the future default and silence this warning.\n",
      "  pd.concat(\n"
     ]
    },
    {
     "name": "stdout",
     "output_type": "stream",
     "text": [
      "120027\n",
      "120028\n"
     ]
    },
    {
     "name": "stderr",
     "output_type": "stream",
     "text": [
      "/var/folders/2x/rfhzgyjn2zq2wlzk_kn4th680000gn/T/ipykernel_9315/2342058334.py:2: FutureWarning: The default of observed=False is deprecated and will be changed to True in a future version of pandas. Pass observed=False to retain current behavior or observed=True to adopt the future default and silence this warning.\n",
      "  df = (token_table\n",
      "/var/folders/2x/rfhzgyjn2zq2wlzk_kn4th680000gn/T/ipykernel_9315/2342058334.py:9: FutureWarning: The default of observed=False is deprecated and will be changed to True in a future version of pandas. Pass observed=False to retain current behavior or observed=True to adopt the future default and silence this warning.\n",
      "  pd.concat(\n",
      "/var/folders/2x/rfhzgyjn2zq2wlzk_kn4th680000gn/T/ipykernel_9315/2342058334.py:19: FutureWarning: The default of observed=False is deprecated and will be changed to True in a future version of pandas. Pass observed=False to retain current behavior or observed=True to adopt the future default and silence this warning.\n",
      "  pd.concat(\n",
      "/var/folders/2x/rfhzgyjn2zq2wlzk_kn4th680000gn/T/ipykernel_9315/2342058334.py:2: FutureWarning: The default of observed=False is deprecated and will be changed to True in a future version of pandas. Pass observed=False to retain current behavior or observed=True to adopt the future default and silence this warning.\n",
      "  df = (token_table\n"
     ]
    },
    {
     "name": "stdout",
     "output_type": "stream",
     "text": [
      "120029\n",
      "120030\n"
     ]
    },
    {
     "name": "stderr",
     "output_type": "stream",
     "text": [
      "/var/folders/2x/rfhzgyjn2zq2wlzk_kn4th680000gn/T/ipykernel_9315/2342058334.py:9: FutureWarning: The default of observed=False is deprecated and will be changed to True in a future version of pandas. Pass observed=False to retain current behavior or observed=True to adopt the future default and silence this warning.\n",
      "  pd.concat(\n",
      "/var/folders/2x/rfhzgyjn2zq2wlzk_kn4th680000gn/T/ipykernel_9315/2342058334.py:19: FutureWarning: The default of observed=False is deprecated and will be changed to True in a future version of pandas. Pass observed=False to retain current behavior or observed=True to adopt the future default and silence this warning.\n",
      "  pd.concat(\n",
      "/var/folders/2x/rfhzgyjn2zq2wlzk_kn4th680000gn/T/ipykernel_9315/2342058334.py:2: FutureWarning: The default of observed=False is deprecated and will be changed to True in a future version of pandas. Pass observed=False to retain current behavior or observed=True to adopt the future default and silence this warning.\n",
      "  df = (token_table\n",
      "/var/folders/2x/rfhzgyjn2zq2wlzk_kn4th680000gn/T/ipykernel_9315/2342058334.py:9: FutureWarning: The default of observed=False is deprecated and will be changed to True in a future version of pandas. Pass observed=False to retain current behavior or observed=True to adopt the future default and silence this warning.\n",
      "  pd.concat(\n",
      "/var/folders/2x/rfhzgyjn2zq2wlzk_kn4th680000gn/T/ipykernel_9315/2342058334.py:19: FutureWarning: The default of observed=False is deprecated and will be changed to True in a future version of pandas. Pass observed=False to retain current behavior or observed=True to adopt the future default and silence this warning.\n",
      "  pd.concat(\n",
      "/var/folders/2x/rfhzgyjn2zq2wlzk_kn4th680000gn/T/ipykernel_9315/2342058334.py:2: FutureWarning: The default of observed=False is deprecated and will be changed to True in a future version of pandas. Pass observed=False to retain current behavior or observed=True to adopt the future default and silence this warning.\n",
      "  df = (token_table\n",
      "/var/folders/2x/rfhzgyjn2zq2wlzk_kn4th680000gn/T/ipykernel_9315/2342058334.py:9: FutureWarning: The default of observed=False is deprecated and will be changed to True in a future version of pandas. Pass observed=False to retain current behavior or observed=True to adopt the future default and silence this warning.\n",
      "  pd.concat(\n",
      "/var/folders/2x/rfhzgyjn2zq2wlzk_kn4th680000gn/T/ipykernel_9315/2342058334.py:19: FutureWarning: The default of observed=False is deprecated and will be changed to True in a future version of pandas. Pass observed=False to retain current behavior or observed=True to adopt the future default and silence this warning.\n",
      "  pd.concat(\n"
     ]
    },
    {
     "name": "stdout",
     "output_type": "stream",
     "text": [
      "120031\n",
      "120032\n"
     ]
    },
    {
     "name": "stderr",
     "output_type": "stream",
     "text": [
      "/var/folders/2x/rfhzgyjn2zq2wlzk_kn4th680000gn/T/ipykernel_9315/2342058334.py:2: FutureWarning: The default of observed=False is deprecated and will be changed to True in a future version of pandas. Pass observed=False to retain current behavior or observed=True to adopt the future default and silence this warning.\n",
      "  df = (token_table\n",
      "/var/folders/2x/rfhzgyjn2zq2wlzk_kn4th680000gn/T/ipykernel_9315/2342058334.py:9: FutureWarning: The default of observed=False is deprecated and will be changed to True in a future version of pandas. Pass observed=False to retain current behavior or observed=True to adopt the future default and silence this warning.\n",
      "  pd.concat(\n",
      "/var/folders/2x/rfhzgyjn2zq2wlzk_kn4th680000gn/T/ipykernel_9315/2342058334.py:19: FutureWarning: The default of observed=False is deprecated and will be changed to True in a future version of pandas. Pass observed=False to retain current behavior or observed=True to adopt the future default and silence this warning.\n",
      "  pd.concat(\n",
      "/var/folders/2x/rfhzgyjn2zq2wlzk_kn4th680000gn/T/ipykernel_9315/2342058334.py:2: FutureWarning: The default of observed=False is deprecated and will be changed to True in a future version of pandas. Pass observed=False to retain current behavior or observed=True to adopt the future default and silence this warning.\n",
      "  df = (token_table\n",
      "/var/folders/2x/rfhzgyjn2zq2wlzk_kn4th680000gn/T/ipykernel_9315/2342058334.py:9: FutureWarning: The default of observed=False is deprecated and will be changed to True in a future version of pandas. Pass observed=False to retain current behavior or observed=True to adopt the future default and silence this warning.\n",
      "  pd.concat(\n"
     ]
    },
    {
     "name": "stdout",
     "output_type": "stream",
     "text": [
      "120033\n",
      "120034\n"
     ]
    },
    {
     "name": "stderr",
     "output_type": "stream",
     "text": [
      "/var/folders/2x/rfhzgyjn2zq2wlzk_kn4th680000gn/T/ipykernel_9315/2342058334.py:19: FutureWarning: The default of observed=False is deprecated and will be changed to True in a future version of pandas. Pass observed=False to retain current behavior or observed=True to adopt the future default and silence this warning.\n",
      "  pd.concat(\n",
      "/var/folders/2x/rfhzgyjn2zq2wlzk_kn4th680000gn/T/ipykernel_9315/2342058334.py:2: FutureWarning: The default of observed=False is deprecated and will be changed to True in a future version of pandas. Pass observed=False to retain current behavior or observed=True to adopt the future default and silence this warning.\n",
      "  df = (token_table\n",
      "/var/folders/2x/rfhzgyjn2zq2wlzk_kn4th680000gn/T/ipykernel_9315/2342058334.py:9: FutureWarning: The default of observed=False is deprecated and will be changed to True in a future version of pandas. Pass observed=False to retain current behavior or observed=True to adopt the future default and silence this warning.\n",
      "  pd.concat(\n",
      "/var/folders/2x/rfhzgyjn2zq2wlzk_kn4th680000gn/T/ipykernel_9315/2342058334.py:19: FutureWarning: The default of observed=False is deprecated and will be changed to True in a future version of pandas. Pass observed=False to retain current behavior or observed=True to adopt the future default and silence this warning.\n",
      "  pd.concat(\n"
     ]
    },
    {
     "name": "stdout",
     "output_type": "stream",
     "text": [
      "120035\n",
      "120036\n"
     ]
    },
    {
     "name": "stderr",
     "output_type": "stream",
     "text": [
      "/var/folders/2x/rfhzgyjn2zq2wlzk_kn4th680000gn/T/ipykernel_9315/2342058334.py:2: FutureWarning: The default of observed=False is deprecated and will be changed to True in a future version of pandas. Pass observed=False to retain current behavior or observed=True to adopt the future default and silence this warning.\n",
      "  df = (token_table\n",
      "/var/folders/2x/rfhzgyjn2zq2wlzk_kn4th680000gn/T/ipykernel_9315/2342058334.py:9: FutureWarning: The default of observed=False is deprecated and will be changed to True in a future version of pandas. Pass observed=False to retain current behavior or observed=True to adopt the future default and silence this warning.\n",
      "  pd.concat(\n",
      "/var/folders/2x/rfhzgyjn2zq2wlzk_kn4th680000gn/T/ipykernel_9315/2342058334.py:19: FutureWarning: The default of observed=False is deprecated and will be changed to True in a future version of pandas. Pass observed=False to retain current behavior or observed=True to adopt the future default and silence this warning.\n",
      "  pd.concat(\n",
      "/var/folders/2x/rfhzgyjn2zq2wlzk_kn4th680000gn/T/ipykernel_9315/2342058334.py:2: FutureWarning: The default of observed=False is deprecated and will be changed to True in a future version of pandas. Pass observed=False to retain current behavior or observed=True to adopt the future default and silence this warning.\n",
      "  df = (token_table\n",
      "/var/folders/2x/rfhzgyjn2zq2wlzk_kn4th680000gn/T/ipykernel_9315/2342058334.py:9: FutureWarning: The default of observed=False is deprecated and will be changed to True in a future version of pandas. Pass observed=False to retain current behavior or observed=True to adopt the future default and silence this warning.\n",
      "  pd.concat(\n",
      "/var/folders/2x/rfhzgyjn2zq2wlzk_kn4th680000gn/T/ipykernel_9315/2342058334.py:19: FutureWarning: The default of observed=False is deprecated and will be changed to True in a future version of pandas. Pass observed=False to retain current behavior or observed=True to adopt the future default and silence this warning.\n",
      "  pd.concat(\n",
      "/var/folders/2x/rfhzgyjn2zq2wlzk_kn4th680000gn/T/ipykernel_9315/2342058334.py:2: FutureWarning: The default of observed=False is deprecated and will be changed to True in a future version of pandas. Pass observed=False to retain current behavior or observed=True to adopt the future default and silence this warning.\n",
      "  df = (token_table\n"
     ]
    },
    {
     "name": "stdout",
     "output_type": "stream",
     "text": [
      "120037\n",
      "120038\n"
     ]
    },
    {
     "name": "stderr",
     "output_type": "stream",
     "text": [
      "/var/folders/2x/rfhzgyjn2zq2wlzk_kn4th680000gn/T/ipykernel_9315/2342058334.py:9: FutureWarning: The default of observed=False is deprecated and will be changed to True in a future version of pandas. Pass observed=False to retain current behavior or observed=True to adopt the future default and silence this warning.\n",
      "  pd.concat(\n",
      "/var/folders/2x/rfhzgyjn2zq2wlzk_kn4th680000gn/T/ipykernel_9315/2342058334.py:19: FutureWarning: The default of observed=False is deprecated and will be changed to True in a future version of pandas. Pass observed=False to retain current behavior or observed=True to adopt the future default and silence this warning.\n",
      "  pd.concat(\n",
      "/var/folders/2x/rfhzgyjn2zq2wlzk_kn4th680000gn/T/ipykernel_9315/2342058334.py:2: FutureWarning: The default of observed=False is deprecated and will be changed to True in a future version of pandas. Pass observed=False to retain current behavior or observed=True to adopt the future default and silence this warning.\n",
      "  df = (token_table\n",
      "/var/folders/2x/rfhzgyjn2zq2wlzk_kn4th680000gn/T/ipykernel_9315/2342058334.py:9: FutureWarning: The default of observed=False is deprecated and will be changed to True in a future version of pandas. Pass observed=False to retain current behavior or observed=True to adopt the future default and silence this warning.\n",
      "  pd.concat(\n",
      "/var/folders/2x/rfhzgyjn2zq2wlzk_kn4th680000gn/T/ipykernel_9315/2342058334.py:19: FutureWarning: The default of observed=False is deprecated and will be changed to True in a future version of pandas. Pass observed=False to retain current behavior or observed=True to adopt the future default and silence this warning.\n",
      "  pd.concat(\n"
     ]
    },
    {
     "name": "stdout",
     "output_type": "stream",
     "text": [
      "120039\n",
      "120040\n"
     ]
    },
    {
     "name": "stderr",
     "output_type": "stream",
     "text": [
      "/var/folders/2x/rfhzgyjn2zq2wlzk_kn4th680000gn/T/ipykernel_9315/2342058334.py:2: FutureWarning: The default of observed=False is deprecated and will be changed to True in a future version of pandas. Pass observed=False to retain current behavior or observed=True to adopt the future default and silence this warning.\n",
      "  df = (token_table\n",
      "/var/folders/2x/rfhzgyjn2zq2wlzk_kn4th680000gn/T/ipykernel_9315/2342058334.py:9: FutureWarning: The default of observed=False is deprecated and will be changed to True in a future version of pandas. Pass observed=False to retain current behavior or observed=True to adopt the future default and silence this warning.\n",
      "  pd.concat(\n",
      "/var/folders/2x/rfhzgyjn2zq2wlzk_kn4th680000gn/T/ipykernel_9315/2342058334.py:19: FutureWarning: The default of observed=False is deprecated and will be changed to True in a future version of pandas. Pass observed=False to retain current behavior or observed=True to adopt the future default and silence this warning.\n",
      "  pd.concat(\n",
      "/var/folders/2x/rfhzgyjn2zq2wlzk_kn4th680000gn/T/ipykernel_9315/2342058334.py:2: FutureWarning: The default of observed=False is deprecated and will be changed to True in a future version of pandas. Pass observed=False to retain current behavior or observed=True to adopt the future default and silence this warning.\n",
      "  df = (token_table\n",
      "/var/folders/2x/rfhzgyjn2zq2wlzk_kn4th680000gn/T/ipykernel_9315/2342058334.py:9: FutureWarning: The default of observed=False is deprecated and will be changed to True in a future version of pandas. Pass observed=False to retain current behavior or observed=True to adopt the future default and silence this warning.\n",
      "  pd.concat(\n",
      "/var/folders/2x/rfhzgyjn2zq2wlzk_kn4th680000gn/T/ipykernel_9315/2342058334.py:19: FutureWarning: The default of observed=False is deprecated and will be changed to True in a future version of pandas. Pass observed=False to retain current behavior or observed=True to adopt the future default and silence this warning.\n",
      "  pd.concat(\n",
      "/var/folders/2x/rfhzgyjn2zq2wlzk_kn4th680000gn/T/ipykernel_9315/2342058334.py:2: FutureWarning: The default of observed=False is deprecated and will be changed to True in a future version of pandas. Pass observed=False to retain current behavior or observed=True to adopt the future default and silence this warning.\n",
      "  df = (token_table\n",
      "/var/folders/2x/rfhzgyjn2zq2wlzk_kn4th680000gn/T/ipykernel_9315/2342058334.py:9: FutureWarning: The default of observed=False is deprecated and will be changed to True in a future version of pandas. Pass observed=False to retain current behavior or observed=True to adopt the future default and silence this warning.\n",
      "  pd.concat(\n",
      "/var/folders/2x/rfhzgyjn2zq2wlzk_kn4th680000gn/T/ipykernel_9315/2342058334.py:19: FutureWarning: The default of observed=False is deprecated and will be changed to True in a future version of pandas. Pass observed=False to retain current behavior or observed=True to adopt the future default and silence this warning.\n",
      "  pd.concat(\n"
     ]
    },
    {
     "name": "stdout",
     "output_type": "stream",
     "text": [
      "120041\n",
      "120042\n"
     ]
    },
    {
     "name": "stderr",
     "output_type": "stream",
     "text": [
      "/var/folders/2x/rfhzgyjn2zq2wlzk_kn4th680000gn/T/ipykernel_9315/2342058334.py:2: FutureWarning: The default of observed=False is deprecated and will be changed to True in a future version of pandas. Pass observed=False to retain current behavior or observed=True to adopt the future default and silence this warning.\n",
      "  df = (token_table\n",
      "/var/folders/2x/rfhzgyjn2zq2wlzk_kn4th680000gn/T/ipykernel_9315/2342058334.py:9: FutureWarning: The default of observed=False is deprecated and will be changed to True in a future version of pandas. Pass observed=False to retain current behavior or observed=True to adopt the future default and silence this warning.\n",
      "  pd.concat(\n",
      "/var/folders/2x/rfhzgyjn2zq2wlzk_kn4th680000gn/T/ipykernel_9315/2342058334.py:19: FutureWarning: The default of observed=False is deprecated and will be changed to True in a future version of pandas. Pass observed=False to retain current behavior or observed=True to adopt the future default and silence this warning.\n",
      "  pd.concat(\n",
      "/var/folders/2x/rfhzgyjn2zq2wlzk_kn4th680000gn/T/ipykernel_9315/2342058334.py:2: FutureWarning: The default of observed=False is deprecated and will be changed to True in a future version of pandas. Pass observed=False to retain current behavior or observed=True to adopt the future default and silence this warning.\n",
      "  df = (token_table\n"
     ]
    },
    {
     "name": "stdout",
     "output_type": "stream",
     "text": [
      "120043\n",
      "120044\n"
     ]
    },
    {
     "name": "stderr",
     "output_type": "stream",
     "text": [
      "/var/folders/2x/rfhzgyjn2zq2wlzk_kn4th680000gn/T/ipykernel_9315/2342058334.py:9: FutureWarning: The default of observed=False is deprecated and will be changed to True in a future version of pandas. Pass observed=False to retain current behavior or observed=True to adopt the future default and silence this warning.\n",
      "  pd.concat(\n",
      "/var/folders/2x/rfhzgyjn2zq2wlzk_kn4th680000gn/T/ipykernel_9315/2342058334.py:19: FutureWarning: The default of observed=False is deprecated and will be changed to True in a future version of pandas. Pass observed=False to retain current behavior or observed=True to adopt the future default and silence this warning.\n",
      "  pd.concat(\n",
      "/var/folders/2x/rfhzgyjn2zq2wlzk_kn4th680000gn/T/ipykernel_9315/2342058334.py:2: FutureWarning: The default of observed=False is deprecated and will be changed to True in a future version of pandas. Pass observed=False to retain current behavior or observed=True to adopt the future default and silence this warning.\n",
      "  df = (token_table\n",
      "/var/folders/2x/rfhzgyjn2zq2wlzk_kn4th680000gn/T/ipykernel_9315/2342058334.py:9: FutureWarning: The default of observed=False is deprecated and will be changed to True in a future version of pandas. Pass observed=False to retain current behavior or observed=True to adopt the future default and silence this warning.\n",
      "  pd.concat(\n",
      "/var/folders/2x/rfhzgyjn2zq2wlzk_kn4th680000gn/T/ipykernel_9315/2342058334.py:19: FutureWarning: The default of observed=False is deprecated and will be changed to True in a future version of pandas. Pass observed=False to retain current behavior or observed=True to adopt the future default and silence this warning.\n",
      "  pd.concat(\n"
     ]
    },
    {
     "name": "stdout",
     "output_type": "stream",
     "text": [
      "120045\n",
      "120046\n"
     ]
    },
    {
     "name": "stderr",
     "output_type": "stream",
     "text": [
      "/var/folders/2x/rfhzgyjn2zq2wlzk_kn4th680000gn/T/ipykernel_9315/2342058334.py:2: FutureWarning: The default of observed=False is deprecated and will be changed to True in a future version of pandas. Pass observed=False to retain current behavior or observed=True to adopt the future default and silence this warning.\n",
      "  df = (token_table\n",
      "/var/folders/2x/rfhzgyjn2zq2wlzk_kn4th680000gn/T/ipykernel_9315/2342058334.py:9: FutureWarning: The default of observed=False is deprecated and will be changed to True in a future version of pandas. Pass observed=False to retain current behavior or observed=True to adopt the future default and silence this warning.\n",
      "  pd.concat(\n",
      "/var/folders/2x/rfhzgyjn2zq2wlzk_kn4th680000gn/T/ipykernel_9315/2342058334.py:19: FutureWarning: The default of observed=False is deprecated and will be changed to True in a future version of pandas. Pass observed=False to retain current behavior or observed=True to adopt the future default and silence this warning.\n",
      "  pd.concat(\n",
      "/var/folders/2x/rfhzgyjn2zq2wlzk_kn4th680000gn/T/ipykernel_9315/2342058334.py:2: FutureWarning: The default of observed=False is deprecated and will be changed to True in a future version of pandas. Pass observed=False to retain current behavior or observed=True to adopt the future default and silence this warning.\n",
      "  df = (token_table\n",
      "/var/folders/2x/rfhzgyjn2zq2wlzk_kn4th680000gn/T/ipykernel_9315/2342058334.py:9: FutureWarning: The default of observed=False is deprecated and will be changed to True in a future version of pandas. Pass observed=False to retain current behavior or observed=True to adopt the future default and silence this warning.\n",
      "  pd.concat(\n",
      "/var/folders/2x/rfhzgyjn2zq2wlzk_kn4th680000gn/T/ipykernel_9315/2342058334.py:19: FutureWarning: The default of observed=False is deprecated and will be changed to True in a future version of pandas. Pass observed=False to retain current behavior or observed=True to adopt the future default and silence this warning.\n",
      "  pd.concat(\n",
      "/var/folders/2x/rfhzgyjn2zq2wlzk_kn4th680000gn/T/ipykernel_9315/2342058334.py:2: FutureWarning: The default of observed=False is deprecated and will be changed to True in a future version of pandas. Pass observed=False to retain current behavior or observed=True to adopt the future default and silence this warning.\n",
      "  df = (token_table\n",
      "/var/folders/2x/rfhzgyjn2zq2wlzk_kn4th680000gn/T/ipykernel_9315/2342058334.py:9: FutureWarning: The default of observed=False is deprecated and will be changed to True in a future version of pandas. Pass observed=False to retain current behavior or observed=True to adopt the future default and silence this warning.\n",
      "  pd.concat(\n",
      "/var/folders/2x/rfhzgyjn2zq2wlzk_kn4th680000gn/T/ipykernel_9315/2342058334.py:19: FutureWarning: The default of observed=False is deprecated and will be changed to True in a future version of pandas. Pass observed=False to retain current behavior or observed=True to adopt the future default and silence this warning.\n",
      "  pd.concat(\n"
     ]
    },
    {
     "name": "stdout",
     "output_type": "stream",
     "text": [
      "120047\n",
      "120048\n"
     ]
    },
    {
     "name": "stderr",
     "output_type": "stream",
     "text": [
      "/var/folders/2x/rfhzgyjn2zq2wlzk_kn4th680000gn/T/ipykernel_9315/2342058334.py:2: FutureWarning: The default of observed=False is deprecated and will be changed to True in a future version of pandas. Pass observed=False to retain current behavior or observed=True to adopt the future default and silence this warning.\n",
      "  df = (token_table\n",
      "/var/folders/2x/rfhzgyjn2zq2wlzk_kn4th680000gn/T/ipykernel_9315/2342058334.py:9: FutureWarning: The default of observed=False is deprecated and will be changed to True in a future version of pandas. Pass observed=False to retain current behavior or observed=True to adopt the future default and silence this warning.\n",
      "  pd.concat(\n",
      "/var/folders/2x/rfhzgyjn2zq2wlzk_kn4th680000gn/T/ipykernel_9315/2342058334.py:19: FutureWarning: The default of observed=False is deprecated and will be changed to True in a future version of pandas. Pass observed=False to retain current behavior or observed=True to adopt the future default and silence this warning.\n",
      "  pd.concat(\n"
     ]
    },
    {
     "name": "stdout",
     "output_type": "stream",
     "text": [
      "120049\n"
     ]
    },
    {
     "name": "stderr",
     "output_type": "stream",
     "text": [
      "/var/folders/2x/rfhzgyjn2zq2wlzk_kn4th680000gn/T/ipykernel_9315/2342058334.py:2: FutureWarning: The default of observed=False is deprecated and will be changed to True in a future version of pandas. Pass observed=False to retain current behavior or observed=True to adopt the future default and silence this warning.\n",
      "  df = (token_table\n",
      "/var/folders/2x/rfhzgyjn2zq2wlzk_kn4th680000gn/T/ipykernel_9315/2342058334.py:9: FutureWarning: The default of observed=False is deprecated and will be changed to True in a future version of pandas. Pass observed=False to retain current behavior or observed=True to adopt the future default and silence this warning.\n",
      "  pd.concat(\n",
      "/var/folders/2x/rfhzgyjn2zq2wlzk_kn4th680000gn/T/ipykernel_9315/2342058334.py:19: FutureWarning: The default of observed=False is deprecated and will be changed to True in a future version of pandas. Pass observed=False to retain current behavior or observed=True to adopt the future default and silence this warning.\n",
      "  pd.concat(\n",
      "/var/folders/2x/rfhzgyjn2zq2wlzk_kn4th680000gn/T/ipykernel_9315/2342058334.py:2: FutureWarning: The default of observed=False is deprecated and will be changed to True in a future version of pandas. Pass observed=False to retain current behavior or observed=True to adopt the future default and silence this warning.\n",
      "  df = (token_table\n"
     ]
    },
    {
     "name": "stdout",
     "output_type": "stream",
     "text": [
      "120050\n",
      "120051\n"
     ]
    },
    {
     "name": "stderr",
     "output_type": "stream",
     "text": [
      "/var/folders/2x/rfhzgyjn2zq2wlzk_kn4th680000gn/T/ipykernel_9315/2342058334.py:9: FutureWarning: The default of observed=False is deprecated and will be changed to True in a future version of pandas. Pass observed=False to retain current behavior or observed=True to adopt the future default and silence this warning.\n",
      "  pd.concat(\n",
      "/var/folders/2x/rfhzgyjn2zq2wlzk_kn4th680000gn/T/ipykernel_9315/2342058334.py:19: FutureWarning: The default of observed=False is deprecated and will be changed to True in a future version of pandas. Pass observed=False to retain current behavior or observed=True to adopt the future default and silence this warning.\n",
      "  pd.concat(\n",
      "/var/folders/2x/rfhzgyjn2zq2wlzk_kn4th680000gn/T/ipykernel_9315/2342058334.py:2: FutureWarning: The default of observed=False is deprecated and will be changed to True in a future version of pandas. Pass observed=False to retain current behavior or observed=True to adopt the future default and silence this warning.\n",
      "  df = (token_table\n",
      "/var/folders/2x/rfhzgyjn2zq2wlzk_kn4th680000gn/T/ipykernel_9315/2342058334.py:9: FutureWarning: The default of observed=False is deprecated and will be changed to True in a future version of pandas. Pass observed=False to retain current behavior or observed=True to adopt the future default and silence this warning.\n",
      "  pd.concat(\n",
      "/var/folders/2x/rfhzgyjn2zq2wlzk_kn4th680000gn/T/ipykernel_9315/2342058334.py:19: FutureWarning: The default of observed=False is deprecated and will be changed to True in a future version of pandas. Pass observed=False to retain current behavior or observed=True to adopt the future default and silence this warning.\n",
      "  pd.concat(\n"
     ]
    },
    {
     "name": "stdout",
     "output_type": "stream",
     "text": [
      "120052\n"
     ]
    },
    {
     "name": "stderr",
     "output_type": "stream",
     "text": [
      "/var/folders/2x/rfhzgyjn2zq2wlzk_kn4th680000gn/T/ipykernel_9315/2342058334.py:2: FutureWarning: The default of observed=False is deprecated and will be changed to True in a future version of pandas. Pass observed=False to retain current behavior or observed=True to adopt the future default and silence this warning.\n",
      "  df = (token_table\n",
      "/var/folders/2x/rfhzgyjn2zq2wlzk_kn4th680000gn/T/ipykernel_9315/2342058334.py:9: FutureWarning: The default of observed=False is deprecated and will be changed to True in a future version of pandas. Pass observed=False to retain current behavior or observed=True to adopt the future default and silence this warning.\n",
      "  pd.concat(\n",
      "/var/folders/2x/rfhzgyjn2zq2wlzk_kn4th680000gn/T/ipykernel_9315/2342058334.py:19: FutureWarning: The default of observed=False is deprecated and will be changed to True in a future version of pandas. Pass observed=False to retain current behavior or observed=True to adopt the future default and silence this warning.\n",
      "  pd.concat(\n",
      "/var/folders/2x/rfhzgyjn2zq2wlzk_kn4th680000gn/T/ipykernel_9315/2342058334.py:2: FutureWarning: The default of observed=False is deprecated and will be changed to True in a future version of pandas. Pass observed=False to retain current behavior or observed=True to adopt the future default and silence this warning.\n",
      "  df = (token_table\n"
     ]
    },
    {
     "name": "stdout",
     "output_type": "stream",
     "text": [
      "120053\n",
      "120054\n"
     ]
    },
    {
     "name": "stderr",
     "output_type": "stream",
     "text": [
      "/var/folders/2x/rfhzgyjn2zq2wlzk_kn4th680000gn/T/ipykernel_9315/2342058334.py:9: FutureWarning: The default of observed=False is deprecated and will be changed to True in a future version of pandas. Pass observed=False to retain current behavior or observed=True to adopt the future default and silence this warning.\n",
      "  pd.concat(\n",
      "/var/folders/2x/rfhzgyjn2zq2wlzk_kn4th680000gn/T/ipykernel_9315/2342058334.py:19: FutureWarning: The default of observed=False is deprecated and will be changed to True in a future version of pandas. Pass observed=False to retain current behavior or observed=True to adopt the future default and silence this warning.\n",
      "  pd.concat(\n",
      "/var/folders/2x/rfhzgyjn2zq2wlzk_kn4th680000gn/T/ipykernel_9315/2342058334.py:2: FutureWarning: The default of observed=False is deprecated and will be changed to True in a future version of pandas. Pass observed=False to retain current behavior or observed=True to adopt the future default and silence this warning.\n",
      "  df = (token_table\n",
      "/var/folders/2x/rfhzgyjn2zq2wlzk_kn4th680000gn/T/ipykernel_9315/2342058334.py:9: FutureWarning: The default of observed=False is deprecated and will be changed to True in a future version of pandas. Pass observed=False to retain current behavior or observed=True to adopt the future default and silence this warning.\n",
      "  pd.concat(\n",
      "/var/folders/2x/rfhzgyjn2zq2wlzk_kn4th680000gn/T/ipykernel_9315/2342058334.py:19: FutureWarning: The default of observed=False is deprecated and will be changed to True in a future version of pandas. Pass observed=False to retain current behavior or observed=True to adopt the future default and silence this warning.\n",
      "  pd.concat(\n"
     ]
    },
    {
     "name": "stdout",
     "output_type": "stream",
     "text": [
      "120055\n",
      "120056\n"
     ]
    },
    {
     "name": "stderr",
     "output_type": "stream",
     "text": [
      "/var/folders/2x/rfhzgyjn2zq2wlzk_kn4th680000gn/T/ipykernel_9315/2342058334.py:2: FutureWarning: The default of observed=False is deprecated and will be changed to True in a future version of pandas. Pass observed=False to retain current behavior or observed=True to adopt the future default and silence this warning.\n",
      "  df = (token_table\n",
      "/var/folders/2x/rfhzgyjn2zq2wlzk_kn4th680000gn/T/ipykernel_9315/2342058334.py:9: FutureWarning: The default of observed=False is deprecated and will be changed to True in a future version of pandas. Pass observed=False to retain current behavior or observed=True to adopt the future default and silence this warning.\n",
      "  pd.concat(\n",
      "/var/folders/2x/rfhzgyjn2zq2wlzk_kn4th680000gn/T/ipykernel_9315/2342058334.py:19: FutureWarning: The default of observed=False is deprecated and will be changed to True in a future version of pandas. Pass observed=False to retain current behavior or observed=True to adopt the future default and silence this warning.\n",
      "  pd.concat(\n",
      "/var/folders/2x/rfhzgyjn2zq2wlzk_kn4th680000gn/T/ipykernel_9315/2342058334.py:2: FutureWarning: The default of observed=False is deprecated and will be changed to True in a future version of pandas. Pass observed=False to retain current behavior or observed=True to adopt the future default and silence this warning.\n",
      "  df = (token_table\n",
      "/var/folders/2x/rfhzgyjn2zq2wlzk_kn4th680000gn/T/ipykernel_9315/2342058334.py:9: FutureWarning: The default of observed=False is deprecated and will be changed to True in a future version of pandas. Pass observed=False to retain current behavior or observed=True to adopt the future default and silence this warning.\n",
      "  pd.concat(\n",
      "/var/folders/2x/rfhzgyjn2zq2wlzk_kn4th680000gn/T/ipykernel_9315/2342058334.py:19: FutureWarning: The default of observed=False is deprecated and will be changed to True in a future version of pandas. Pass observed=False to retain current behavior or observed=True to adopt the future default and silence this warning.\n",
      "  pd.concat(\n",
      "/var/folders/2x/rfhzgyjn2zq2wlzk_kn4th680000gn/T/ipykernel_9315/2342058334.py:2: FutureWarning: The default of observed=False is deprecated and will be changed to True in a future version of pandas. Pass observed=False to retain current behavior or observed=True to adopt the future default and silence this warning.\n",
      "  df = (token_table\n",
      "/var/folders/2x/rfhzgyjn2zq2wlzk_kn4th680000gn/T/ipykernel_9315/2342058334.py:9: FutureWarning: The default of observed=False is deprecated and will be changed to True in a future version of pandas. Pass observed=False to retain current behavior or observed=True to adopt the future default and silence this warning.\n",
      "  pd.concat(\n",
      "/var/folders/2x/rfhzgyjn2zq2wlzk_kn4th680000gn/T/ipykernel_9315/2342058334.py:19: FutureWarning: The default of observed=False is deprecated and will be changed to True in a future version of pandas. Pass observed=False to retain current behavior or observed=True to adopt the future default and silence this warning.\n",
      "  pd.concat(\n"
     ]
    },
    {
     "name": "stdout",
     "output_type": "stream",
     "text": [
      "120057\n",
      "120058\n"
     ]
    },
    {
     "name": "stderr",
     "output_type": "stream",
     "text": [
      "/var/folders/2x/rfhzgyjn2zq2wlzk_kn4th680000gn/T/ipykernel_9315/2342058334.py:2: FutureWarning: The default of observed=False is deprecated and will be changed to True in a future version of pandas. Pass observed=False to retain current behavior or observed=True to adopt the future default and silence this warning.\n",
      "  df = (token_table\n",
      "/var/folders/2x/rfhzgyjn2zq2wlzk_kn4th680000gn/T/ipykernel_9315/2342058334.py:9: FutureWarning: The default of observed=False is deprecated and will be changed to True in a future version of pandas. Pass observed=False to retain current behavior or observed=True to adopt the future default and silence this warning.\n",
      "  pd.concat(\n",
      "/var/folders/2x/rfhzgyjn2zq2wlzk_kn4th680000gn/T/ipykernel_9315/2342058334.py:19: FutureWarning: The default of observed=False is deprecated and will be changed to True in a future version of pandas. Pass observed=False to retain current behavior or observed=True to adopt the future default and silence this warning.\n",
      "  pd.concat(\n",
      "/var/folders/2x/rfhzgyjn2zq2wlzk_kn4th680000gn/T/ipykernel_9315/2342058334.py:2: FutureWarning: The default of observed=False is deprecated and will be changed to True in a future version of pandas. Pass observed=False to retain current behavior or observed=True to adopt the future default and silence this warning.\n",
      "  df = (token_table\n",
      "/var/folders/2x/rfhzgyjn2zq2wlzk_kn4th680000gn/T/ipykernel_9315/2342058334.py:9: FutureWarning: The default of observed=False is deprecated and will be changed to True in a future version of pandas. Pass observed=False to retain current behavior or observed=True to adopt the future default and silence this warning.\n",
      "  pd.concat(\n"
     ]
    },
    {
     "name": "stdout",
     "output_type": "stream",
     "text": [
      "120059\n",
      "120060\n"
     ]
    },
    {
     "name": "stderr",
     "output_type": "stream",
     "text": [
      "/var/folders/2x/rfhzgyjn2zq2wlzk_kn4th680000gn/T/ipykernel_9315/2342058334.py:19: FutureWarning: The default of observed=False is deprecated and will be changed to True in a future version of pandas. Pass observed=False to retain current behavior or observed=True to adopt the future default and silence this warning.\n",
      "  pd.concat(\n",
      "/var/folders/2x/rfhzgyjn2zq2wlzk_kn4th680000gn/T/ipykernel_9315/2342058334.py:2: FutureWarning: The default of observed=False is deprecated and will be changed to True in a future version of pandas. Pass observed=False to retain current behavior or observed=True to adopt the future default and silence this warning.\n",
      "  df = (token_table\n",
      "/var/folders/2x/rfhzgyjn2zq2wlzk_kn4th680000gn/T/ipykernel_9315/2342058334.py:9: FutureWarning: The default of observed=False is deprecated and will be changed to True in a future version of pandas. Pass observed=False to retain current behavior or observed=True to adopt the future default and silence this warning.\n",
      "  pd.concat(\n",
      "/var/folders/2x/rfhzgyjn2zq2wlzk_kn4th680000gn/T/ipykernel_9315/2342058334.py:19: FutureWarning: The default of observed=False is deprecated and will be changed to True in a future version of pandas. Pass observed=False to retain current behavior or observed=True to adopt the future default and silence this warning.\n",
      "  pd.concat(\n"
     ]
    },
    {
     "name": "stdout",
     "output_type": "stream",
     "text": [
      "120061\n",
      "120062\n"
     ]
    },
    {
     "name": "stderr",
     "output_type": "stream",
     "text": [
      "/var/folders/2x/rfhzgyjn2zq2wlzk_kn4th680000gn/T/ipykernel_9315/2342058334.py:2: FutureWarning: The default of observed=False is deprecated and will be changed to True in a future version of pandas. Pass observed=False to retain current behavior or observed=True to adopt the future default and silence this warning.\n",
      "  df = (token_table\n",
      "/var/folders/2x/rfhzgyjn2zq2wlzk_kn4th680000gn/T/ipykernel_9315/2342058334.py:9: FutureWarning: The default of observed=False is deprecated and will be changed to True in a future version of pandas. Pass observed=False to retain current behavior or observed=True to adopt the future default and silence this warning.\n",
      "  pd.concat(\n",
      "/var/folders/2x/rfhzgyjn2zq2wlzk_kn4th680000gn/T/ipykernel_9315/2342058334.py:19: FutureWarning: The default of observed=False is deprecated and will be changed to True in a future version of pandas. Pass observed=False to retain current behavior or observed=True to adopt the future default and silence this warning.\n",
      "  pd.concat(\n",
      "/var/folders/2x/rfhzgyjn2zq2wlzk_kn4th680000gn/T/ipykernel_9315/2342058334.py:2: FutureWarning: The default of observed=False is deprecated and will be changed to True in a future version of pandas. Pass observed=False to retain current behavior or observed=True to adopt the future default and silence this warning.\n",
      "  df = (token_table\n",
      "/var/folders/2x/rfhzgyjn2zq2wlzk_kn4th680000gn/T/ipykernel_9315/2342058334.py:9: FutureWarning: The default of observed=False is deprecated and will be changed to True in a future version of pandas. Pass observed=False to retain current behavior or observed=True to adopt the future default and silence this warning.\n",
      "  pd.concat(\n",
      "/var/folders/2x/rfhzgyjn2zq2wlzk_kn4th680000gn/T/ipykernel_9315/2342058334.py:19: FutureWarning: The default of observed=False is deprecated and will be changed to True in a future version of pandas. Pass observed=False to retain current behavior or observed=True to adopt the future default and silence this warning.\n",
      "  pd.concat(\n",
      "/var/folders/2x/rfhzgyjn2zq2wlzk_kn4th680000gn/T/ipykernel_9315/2342058334.py:2: FutureWarning: The default of observed=False is deprecated and will be changed to True in a future version of pandas. Pass observed=False to retain current behavior or observed=True to adopt the future default and silence this warning.\n",
      "  df = (token_table\n"
     ]
    },
    {
     "name": "stdout",
     "output_type": "stream",
     "text": [
      "130001\n"
     ]
    },
    {
     "name": "stderr",
     "output_type": "stream",
     "text": [
      "/var/folders/2x/rfhzgyjn2zq2wlzk_kn4th680000gn/T/ipykernel_9315/2342058334.py:9: FutureWarning: The default of observed=False is deprecated and will be changed to True in a future version of pandas. Pass observed=False to retain current behavior or observed=True to adopt the future default and silence this warning.\n",
      "  pd.concat(\n",
      "/var/folders/2x/rfhzgyjn2zq2wlzk_kn4th680000gn/T/ipykernel_9315/2342058334.py:19: FutureWarning: The default of observed=False is deprecated and will be changed to True in a future version of pandas. Pass observed=False to retain current behavior or observed=True to adopt the future default and silence this warning.\n",
      "  pd.concat(\n",
      "/var/folders/2x/rfhzgyjn2zq2wlzk_kn4th680000gn/T/ipykernel_9315/2342058334.py:2: FutureWarning: The default of observed=False is deprecated and will be changed to True in a future version of pandas. Pass observed=False to retain current behavior or observed=True to adopt the future default and silence this warning.\n",
      "  df = (token_table\n",
      "/var/folders/2x/rfhzgyjn2zq2wlzk_kn4th680000gn/T/ipykernel_9315/2342058334.py:9: FutureWarning: The default of observed=False is deprecated and will be changed to True in a future version of pandas. Pass observed=False to retain current behavior or observed=True to adopt the future default and silence this warning.\n",
      "  pd.concat(\n"
     ]
    },
    {
     "name": "stdout",
     "output_type": "stream",
     "text": [
      "130002\n",
      "130003\n"
     ]
    },
    {
     "name": "stderr",
     "output_type": "stream",
     "text": [
      "/var/folders/2x/rfhzgyjn2zq2wlzk_kn4th680000gn/T/ipykernel_9315/2342058334.py:19: FutureWarning: The default of observed=False is deprecated and will be changed to True in a future version of pandas. Pass observed=False to retain current behavior or observed=True to adopt the future default and silence this warning.\n",
      "  pd.concat(\n",
      "/var/folders/2x/rfhzgyjn2zq2wlzk_kn4th680000gn/T/ipykernel_9315/2342058334.py:2: FutureWarning: The default of observed=False is deprecated and will be changed to True in a future version of pandas. Pass observed=False to retain current behavior or observed=True to adopt the future default and silence this warning.\n",
      "  df = (token_table\n",
      "/var/folders/2x/rfhzgyjn2zq2wlzk_kn4th680000gn/T/ipykernel_9315/2342058334.py:9: FutureWarning: The default of observed=False is deprecated and will be changed to True in a future version of pandas. Pass observed=False to retain current behavior or observed=True to adopt the future default and silence this warning.\n",
      "  pd.concat(\n",
      "/var/folders/2x/rfhzgyjn2zq2wlzk_kn4th680000gn/T/ipykernel_9315/2342058334.py:19: FutureWarning: The default of observed=False is deprecated and will be changed to True in a future version of pandas. Pass observed=False to retain current behavior or observed=True to adopt the future default and silence this warning.\n",
      "  pd.concat(\n"
     ]
    },
    {
     "name": "stdout",
     "output_type": "stream",
     "text": [
      "130004\n",
      "130005\n"
     ]
    },
    {
     "name": "stderr",
     "output_type": "stream",
     "text": [
      "/var/folders/2x/rfhzgyjn2zq2wlzk_kn4th680000gn/T/ipykernel_9315/2342058334.py:2: FutureWarning: The default of observed=False is deprecated and will be changed to True in a future version of pandas. Pass observed=False to retain current behavior or observed=True to adopt the future default and silence this warning.\n",
      "  df = (token_table\n",
      "/var/folders/2x/rfhzgyjn2zq2wlzk_kn4th680000gn/T/ipykernel_9315/2342058334.py:9: FutureWarning: The default of observed=False is deprecated and will be changed to True in a future version of pandas. Pass observed=False to retain current behavior or observed=True to adopt the future default and silence this warning.\n",
      "  pd.concat(\n",
      "/var/folders/2x/rfhzgyjn2zq2wlzk_kn4th680000gn/T/ipykernel_9315/2342058334.py:19: FutureWarning: The default of observed=False is deprecated and will be changed to True in a future version of pandas. Pass observed=False to retain current behavior or observed=True to adopt the future default and silence this warning.\n",
      "  pd.concat(\n",
      "/var/folders/2x/rfhzgyjn2zq2wlzk_kn4th680000gn/T/ipykernel_9315/2342058334.py:2: FutureWarning: The default of observed=False is deprecated and will be changed to True in a future version of pandas. Pass observed=False to retain current behavior or observed=True to adopt the future default and silence this warning.\n",
      "  df = (token_table\n",
      "/var/folders/2x/rfhzgyjn2zq2wlzk_kn4th680000gn/T/ipykernel_9315/2342058334.py:9: FutureWarning: The default of observed=False is deprecated and will be changed to True in a future version of pandas. Pass observed=False to retain current behavior or observed=True to adopt the future default and silence this warning.\n",
      "  pd.concat(\n",
      "/var/folders/2x/rfhzgyjn2zq2wlzk_kn4th680000gn/T/ipykernel_9315/2342058334.py:19: FutureWarning: The default of observed=False is deprecated and will be changed to True in a future version of pandas. Pass observed=False to retain current behavior or observed=True to adopt the future default and silence this warning.\n",
      "  pd.concat(\n",
      "/var/folders/2x/rfhzgyjn2zq2wlzk_kn4th680000gn/T/ipykernel_9315/2342058334.py:2: FutureWarning: The default of observed=False is deprecated and will be changed to True in a future version of pandas. Pass observed=False to retain current behavior or observed=True to adopt the future default and silence this warning.\n",
      "  df = (token_table\n"
     ]
    },
    {
     "name": "stdout",
     "output_type": "stream",
     "text": [
      "130006\n",
      "130007\n"
     ]
    },
    {
     "name": "stderr",
     "output_type": "stream",
     "text": [
      "/var/folders/2x/rfhzgyjn2zq2wlzk_kn4th680000gn/T/ipykernel_9315/2342058334.py:9: FutureWarning: The default of observed=False is deprecated and will be changed to True in a future version of pandas. Pass observed=False to retain current behavior or observed=True to adopt the future default and silence this warning.\n",
      "  pd.concat(\n",
      "/var/folders/2x/rfhzgyjn2zq2wlzk_kn4th680000gn/T/ipykernel_9315/2342058334.py:19: FutureWarning: The default of observed=False is deprecated and will be changed to True in a future version of pandas. Pass observed=False to retain current behavior or observed=True to adopt the future default and silence this warning.\n",
      "  pd.concat(\n",
      "/var/folders/2x/rfhzgyjn2zq2wlzk_kn4th680000gn/T/ipykernel_9315/2342058334.py:2: FutureWarning: The default of observed=False is deprecated and will be changed to True in a future version of pandas. Pass observed=False to retain current behavior or observed=True to adopt the future default and silence this warning.\n",
      "  df = (token_table\n",
      "/var/folders/2x/rfhzgyjn2zq2wlzk_kn4th680000gn/T/ipykernel_9315/2342058334.py:9: FutureWarning: The default of observed=False is deprecated and will be changed to True in a future version of pandas. Pass observed=False to retain current behavior or observed=True to adopt the future default and silence this warning.\n",
      "  pd.concat(\n",
      "/var/folders/2x/rfhzgyjn2zq2wlzk_kn4th680000gn/T/ipykernel_9315/2342058334.py:19: FutureWarning: The default of observed=False is deprecated and will be changed to True in a future version of pandas. Pass observed=False to retain current behavior or observed=True to adopt the future default and silence this warning.\n",
      "  pd.concat(\n",
      "/var/folders/2x/rfhzgyjn2zq2wlzk_kn4th680000gn/T/ipykernel_9315/2342058334.py:2: FutureWarning: The default of observed=False is deprecated and will be changed to True in a future version of pandas. Pass observed=False to retain current behavior or observed=True to adopt the future default and silence this warning.\n",
      "  df = (token_table\n",
      "/var/folders/2x/rfhzgyjn2zq2wlzk_kn4th680000gn/T/ipykernel_9315/2342058334.py:9: FutureWarning: The default of observed=False is deprecated and will be changed to True in a future version of pandas. Pass observed=False to retain current behavior or observed=True to adopt the future default and silence this warning.\n",
      "  pd.concat(\n",
      "/var/folders/2x/rfhzgyjn2zq2wlzk_kn4th680000gn/T/ipykernel_9315/2342058334.py:19: FutureWarning: The default of observed=False is deprecated and will be changed to True in a future version of pandas. Pass observed=False to retain current behavior or observed=True to adopt the future default and silence this warning.\n",
      "  pd.concat(\n"
     ]
    },
    {
     "name": "stdout",
     "output_type": "stream",
     "text": [
      "130008\n",
      "130009\n"
     ]
    },
    {
     "name": "stderr",
     "output_type": "stream",
     "text": [
      "/var/folders/2x/rfhzgyjn2zq2wlzk_kn4th680000gn/T/ipykernel_9315/2342058334.py:2: FutureWarning: The default of observed=False is deprecated and will be changed to True in a future version of pandas. Pass observed=False to retain current behavior or observed=True to adopt the future default and silence this warning.\n",
      "  df = (token_table\n",
      "/var/folders/2x/rfhzgyjn2zq2wlzk_kn4th680000gn/T/ipykernel_9315/2342058334.py:9: FutureWarning: The default of observed=False is deprecated and will be changed to True in a future version of pandas. Pass observed=False to retain current behavior or observed=True to adopt the future default and silence this warning.\n",
      "  pd.concat(\n",
      "/var/folders/2x/rfhzgyjn2zq2wlzk_kn4th680000gn/T/ipykernel_9315/2342058334.py:19: FutureWarning: The default of observed=False is deprecated and will be changed to True in a future version of pandas. Pass observed=False to retain current behavior or observed=True to adopt the future default and silence this warning.\n",
      "  pd.concat(\n",
      "/var/folders/2x/rfhzgyjn2zq2wlzk_kn4th680000gn/T/ipykernel_9315/2342058334.py:2: FutureWarning: The default of observed=False is deprecated and will be changed to True in a future version of pandas. Pass observed=False to retain current behavior or observed=True to adopt the future default and silence this warning.\n",
      "  df = (token_table\n"
     ]
    },
    {
     "name": "stdout",
     "output_type": "stream",
     "text": [
      "130010\n"
     ]
    },
    {
     "name": "stderr",
     "output_type": "stream",
     "text": [
      "/var/folders/2x/rfhzgyjn2zq2wlzk_kn4th680000gn/T/ipykernel_9315/2342058334.py:9: FutureWarning: The default of observed=False is deprecated and will be changed to True in a future version of pandas. Pass observed=False to retain current behavior or observed=True to adopt the future default and silence this warning.\n",
      "  pd.concat(\n",
      "/var/folders/2x/rfhzgyjn2zq2wlzk_kn4th680000gn/T/ipykernel_9315/2342058334.py:19: FutureWarning: The default of observed=False is deprecated and will be changed to True in a future version of pandas. Pass observed=False to retain current behavior or observed=True to adopt the future default and silence this warning.\n",
      "  pd.concat(\n",
      "/var/folders/2x/rfhzgyjn2zq2wlzk_kn4th680000gn/T/ipykernel_9315/2342058334.py:2: FutureWarning: The default of observed=False is deprecated and will be changed to True in a future version of pandas. Pass observed=False to retain current behavior or observed=True to adopt the future default and silence this warning.\n",
      "  df = (token_table\n"
     ]
    },
    {
     "name": "stdout",
     "output_type": "stream",
     "text": [
      "130011\n",
      "130012\n"
     ]
    },
    {
     "name": "stderr",
     "output_type": "stream",
     "text": [
      "/var/folders/2x/rfhzgyjn2zq2wlzk_kn4th680000gn/T/ipykernel_9315/2342058334.py:9: FutureWarning: The default of observed=False is deprecated and will be changed to True in a future version of pandas. Pass observed=False to retain current behavior or observed=True to adopt the future default and silence this warning.\n",
      "  pd.concat(\n",
      "/var/folders/2x/rfhzgyjn2zq2wlzk_kn4th680000gn/T/ipykernel_9315/2342058334.py:19: FutureWarning: The default of observed=False is deprecated and will be changed to True in a future version of pandas. Pass observed=False to retain current behavior or observed=True to adopt the future default and silence this warning.\n",
      "  pd.concat(\n",
      "/var/folders/2x/rfhzgyjn2zq2wlzk_kn4th680000gn/T/ipykernel_9315/2342058334.py:2: FutureWarning: The default of observed=False is deprecated and will be changed to True in a future version of pandas. Pass observed=False to retain current behavior or observed=True to adopt the future default and silence this warning.\n",
      "  df = (token_table\n",
      "/var/folders/2x/rfhzgyjn2zq2wlzk_kn4th680000gn/T/ipykernel_9315/2342058334.py:9: FutureWarning: The default of observed=False is deprecated and will be changed to True in a future version of pandas. Pass observed=False to retain current behavior or observed=True to adopt the future default and silence this warning.\n",
      "  pd.concat(\n",
      "/var/folders/2x/rfhzgyjn2zq2wlzk_kn4th680000gn/T/ipykernel_9315/2342058334.py:19: FutureWarning: The default of observed=False is deprecated and will be changed to True in a future version of pandas. Pass observed=False to retain current behavior or observed=True to adopt the future default and silence this warning.\n",
      "  pd.concat(\n",
      "/var/folders/2x/rfhzgyjn2zq2wlzk_kn4th680000gn/T/ipykernel_9315/2342058334.py:2: FutureWarning: The default of observed=False is deprecated and will be changed to True in a future version of pandas. Pass observed=False to retain current behavior or observed=True to adopt the future default and silence this warning.\n",
      "  df = (token_table\n",
      "/var/folders/2x/rfhzgyjn2zq2wlzk_kn4th680000gn/T/ipykernel_9315/2342058334.py:9: FutureWarning: The default of observed=False is deprecated and will be changed to True in a future version of pandas. Pass observed=False to retain current behavior or observed=True to adopt the future default and silence this warning.\n",
      "  pd.concat(\n",
      "/var/folders/2x/rfhzgyjn2zq2wlzk_kn4th680000gn/T/ipykernel_9315/2342058334.py:19: FutureWarning: The default of observed=False is deprecated and will be changed to True in a future version of pandas. Pass observed=False to retain current behavior or observed=True to adopt the future default and silence this warning.\n",
      "  pd.concat(\n"
     ]
    },
    {
     "name": "stdout",
     "output_type": "stream",
     "text": [
      "130013\n",
      "130014\n"
     ]
    },
    {
     "name": "stderr",
     "output_type": "stream",
     "text": [
      "/var/folders/2x/rfhzgyjn2zq2wlzk_kn4th680000gn/T/ipykernel_9315/2342058334.py:2: FutureWarning: The default of observed=False is deprecated and will be changed to True in a future version of pandas. Pass observed=False to retain current behavior or observed=True to adopt the future default and silence this warning.\n",
      "  df = (token_table\n",
      "/var/folders/2x/rfhzgyjn2zq2wlzk_kn4th680000gn/T/ipykernel_9315/2342058334.py:9: FutureWarning: The default of observed=False is deprecated and will be changed to True in a future version of pandas. Pass observed=False to retain current behavior or observed=True to adopt the future default and silence this warning.\n",
      "  pd.concat(\n",
      "/var/folders/2x/rfhzgyjn2zq2wlzk_kn4th680000gn/T/ipykernel_9315/2342058334.py:19: FutureWarning: The default of observed=False is deprecated and will be changed to True in a future version of pandas. Pass observed=False to retain current behavior or observed=True to adopt the future default and silence this warning.\n",
      "  pd.concat(\n",
      "/var/folders/2x/rfhzgyjn2zq2wlzk_kn4th680000gn/T/ipykernel_9315/2342058334.py:2: FutureWarning: The default of observed=False is deprecated and will be changed to True in a future version of pandas. Pass observed=False to retain current behavior or observed=True to adopt the future default and silence this warning.\n",
      "  df = (token_table\n"
     ]
    },
    {
     "name": "stdout",
     "output_type": "stream",
     "text": [
      "130015\n",
      "130016\n"
     ]
    },
    {
     "name": "stderr",
     "output_type": "stream",
     "text": [
      "/var/folders/2x/rfhzgyjn2zq2wlzk_kn4th680000gn/T/ipykernel_9315/2342058334.py:9: FutureWarning: The default of observed=False is deprecated and will be changed to True in a future version of pandas. Pass observed=False to retain current behavior or observed=True to adopt the future default and silence this warning.\n",
      "  pd.concat(\n",
      "/var/folders/2x/rfhzgyjn2zq2wlzk_kn4th680000gn/T/ipykernel_9315/2342058334.py:19: FutureWarning: The default of observed=False is deprecated and will be changed to True in a future version of pandas. Pass observed=False to retain current behavior or observed=True to adopt the future default and silence this warning.\n",
      "  pd.concat(\n",
      "/var/folders/2x/rfhzgyjn2zq2wlzk_kn4th680000gn/T/ipykernel_9315/2342058334.py:2: FutureWarning: The default of observed=False is deprecated and will be changed to True in a future version of pandas. Pass observed=False to retain current behavior or observed=True to adopt the future default and silence this warning.\n",
      "  df = (token_table\n",
      "/var/folders/2x/rfhzgyjn2zq2wlzk_kn4th680000gn/T/ipykernel_9315/2342058334.py:9: FutureWarning: The default of observed=False is deprecated and will be changed to True in a future version of pandas. Pass observed=False to retain current behavior or observed=True to adopt the future default and silence this warning.\n",
      "  pd.concat(\n",
      "/var/folders/2x/rfhzgyjn2zq2wlzk_kn4th680000gn/T/ipykernel_9315/2342058334.py:19: FutureWarning: The default of observed=False is deprecated and will be changed to True in a future version of pandas. Pass observed=False to retain current behavior or observed=True to adopt the future default and silence this warning.\n",
      "  pd.concat(\n"
     ]
    },
    {
     "name": "stdout",
     "output_type": "stream",
     "text": [
      "130017\n",
      "130018\n"
     ]
    },
    {
     "name": "stderr",
     "output_type": "stream",
     "text": [
      "/var/folders/2x/rfhzgyjn2zq2wlzk_kn4th680000gn/T/ipykernel_9315/2342058334.py:2: FutureWarning: The default of observed=False is deprecated and will be changed to True in a future version of pandas. Pass observed=False to retain current behavior or observed=True to adopt the future default and silence this warning.\n",
      "  df = (token_table\n",
      "/var/folders/2x/rfhzgyjn2zq2wlzk_kn4th680000gn/T/ipykernel_9315/2342058334.py:9: FutureWarning: The default of observed=False is deprecated and will be changed to True in a future version of pandas. Pass observed=False to retain current behavior or observed=True to adopt the future default and silence this warning.\n",
      "  pd.concat(\n",
      "/var/folders/2x/rfhzgyjn2zq2wlzk_kn4th680000gn/T/ipykernel_9315/2342058334.py:19: FutureWarning: The default of observed=False is deprecated and will be changed to True in a future version of pandas. Pass observed=False to retain current behavior or observed=True to adopt the future default and silence this warning.\n",
      "  pd.concat(\n",
      "/var/folders/2x/rfhzgyjn2zq2wlzk_kn4th680000gn/T/ipykernel_9315/2342058334.py:2: FutureWarning: The default of observed=False is deprecated and will be changed to True in a future version of pandas. Pass observed=False to retain current behavior or observed=True to adopt the future default and silence this warning.\n",
      "  df = (token_table\n",
      "/var/folders/2x/rfhzgyjn2zq2wlzk_kn4th680000gn/T/ipykernel_9315/2342058334.py:9: FutureWarning: The default of observed=False is deprecated and will be changed to True in a future version of pandas. Pass observed=False to retain current behavior or observed=True to adopt the future default and silence this warning.\n",
      "  pd.concat(\n",
      "/var/folders/2x/rfhzgyjn2zq2wlzk_kn4th680000gn/T/ipykernel_9315/2342058334.py:19: FutureWarning: The default of observed=False is deprecated and will be changed to True in a future version of pandas. Pass observed=False to retain current behavior or observed=True to adopt the future default and silence this warning.\n",
      "  pd.concat(\n",
      "/var/folders/2x/rfhzgyjn2zq2wlzk_kn4th680000gn/T/ipykernel_9315/2342058334.py:2: FutureWarning: The default of observed=False is deprecated and will be changed to True in a future version of pandas. Pass observed=False to retain current behavior or observed=True to adopt the future default and silence this warning.\n",
      "  df = (token_table\n",
      "/var/folders/2x/rfhzgyjn2zq2wlzk_kn4th680000gn/T/ipykernel_9315/2342058334.py:9: FutureWarning: The default of observed=False is deprecated and will be changed to True in a future version of pandas. Pass observed=False to retain current behavior or observed=True to adopt the future default and silence this warning.\n",
      "  pd.concat(\n"
     ]
    },
    {
     "name": "stdout",
     "output_type": "stream",
     "text": [
      "130019\n",
      "130020\n"
     ]
    },
    {
     "name": "stderr",
     "output_type": "stream",
     "text": [
      "/var/folders/2x/rfhzgyjn2zq2wlzk_kn4th680000gn/T/ipykernel_9315/2342058334.py:19: FutureWarning: The default of observed=False is deprecated and will be changed to True in a future version of pandas. Pass observed=False to retain current behavior or observed=True to adopt the future default and silence this warning.\n",
      "  pd.concat(\n",
      "/var/folders/2x/rfhzgyjn2zq2wlzk_kn4th680000gn/T/ipykernel_9315/2342058334.py:2: FutureWarning: The default of observed=False is deprecated and will be changed to True in a future version of pandas. Pass observed=False to retain current behavior or observed=True to adopt the future default and silence this warning.\n",
      "  df = (token_table\n",
      "/var/folders/2x/rfhzgyjn2zq2wlzk_kn4th680000gn/T/ipykernel_9315/2342058334.py:9: FutureWarning: The default of observed=False is deprecated and will be changed to True in a future version of pandas. Pass observed=False to retain current behavior or observed=True to adopt the future default and silence this warning.\n",
      "  pd.concat(\n",
      "/var/folders/2x/rfhzgyjn2zq2wlzk_kn4th680000gn/T/ipykernel_9315/2342058334.py:19: FutureWarning: The default of observed=False is deprecated and will be changed to True in a future version of pandas. Pass observed=False to retain current behavior or observed=True to adopt the future default and silence this warning.\n",
      "  pd.concat(\n",
      "/var/folders/2x/rfhzgyjn2zq2wlzk_kn4th680000gn/T/ipykernel_9315/2342058334.py:2: FutureWarning: The default of observed=False is deprecated and will be changed to True in a future version of pandas. Pass observed=False to retain current behavior or observed=True to adopt the future default and silence this warning.\n",
      "  df = (token_table\n",
      "/var/folders/2x/rfhzgyjn2zq2wlzk_kn4th680000gn/T/ipykernel_9315/2342058334.py:9: FutureWarning: The default of observed=False is deprecated and will be changed to True in a future version of pandas. Pass observed=False to retain current behavior or observed=True to adopt the future default and silence this warning.\n",
      "  pd.concat(\n"
     ]
    },
    {
     "name": "stdout",
     "output_type": "stream",
     "text": [
      "130021\n"
     ]
    },
    {
     "name": "stderr",
     "output_type": "stream",
     "text": [
      "/var/folders/2x/rfhzgyjn2zq2wlzk_kn4th680000gn/T/ipykernel_9315/2342058334.py:19: FutureWarning: The default of observed=False is deprecated and will be changed to True in a future version of pandas. Pass observed=False to retain current behavior or observed=True to adopt the future default and silence this warning.\n",
      "  pd.concat(\n",
      "/var/folders/2x/rfhzgyjn2zq2wlzk_kn4th680000gn/T/ipykernel_9315/2342058334.py:2: FutureWarning: The default of observed=False is deprecated and will be changed to True in a future version of pandas. Pass observed=False to retain current behavior or observed=True to adopt the future default and silence this warning.\n",
      "  df = (token_table\n",
      "/var/folders/2x/rfhzgyjn2zq2wlzk_kn4th680000gn/T/ipykernel_9315/2342058334.py:9: FutureWarning: The default of observed=False is deprecated and will be changed to True in a future version of pandas. Pass observed=False to retain current behavior or observed=True to adopt the future default and silence this warning.\n",
      "  pd.concat(\n",
      "/var/folders/2x/rfhzgyjn2zq2wlzk_kn4th680000gn/T/ipykernel_9315/2342058334.py:19: FutureWarning: The default of observed=False is deprecated and will be changed to True in a future version of pandas. Pass observed=False to retain current behavior or observed=True to adopt the future default and silence this warning.\n",
      "  pd.concat(\n"
     ]
    },
    {
     "name": "stdout",
     "output_type": "stream",
     "text": [
      "130022\n",
      "130023\n"
     ]
    },
    {
     "name": "stderr",
     "output_type": "stream",
     "text": [
      "/var/folders/2x/rfhzgyjn2zq2wlzk_kn4th680000gn/T/ipykernel_9315/2342058334.py:2: FutureWarning: The default of observed=False is deprecated and will be changed to True in a future version of pandas. Pass observed=False to retain current behavior or observed=True to adopt the future default and silence this warning.\n",
      "  df = (token_table\n",
      "/var/folders/2x/rfhzgyjn2zq2wlzk_kn4th680000gn/T/ipykernel_9315/2342058334.py:9: FutureWarning: The default of observed=False is deprecated and will be changed to True in a future version of pandas. Pass observed=False to retain current behavior or observed=True to adopt the future default and silence this warning.\n",
      "  pd.concat(\n",
      "/var/folders/2x/rfhzgyjn2zq2wlzk_kn4th680000gn/T/ipykernel_9315/2342058334.py:19: FutureWarning: The default of observed=False is deprecated and will be changed to True in a future version of pandas. Pass observed=False to retain current behavior or observed=True to adopt the future default and silence this warning.\n",
      "  pd.concat(\n",
      "/var/folders/2x/rfhzgyjn2zq2wlzk_kn4th680000gn/T/ipykernel_9315/2342058334.py:2: FutureWarning: The default of observed=False is deprecated and will be changed to True in a future version of pandas. Pass observed=False to retain current behavior or observed=True to adopt the future default and silence this warning.\n",
      "  df = (token_table\n",
      "/var/folders/2x/rfhzgyjn2zq2wlzk_kn4th680000gn/T/ipykernel_9315/2342058334.py:9: FutureWarning: The default of observed=False is deprecated and will be changed to True in a future version of pandas. Pass observed=False to retain current behavior or observed=True to adopt the future default and silence this warning.\n",
      "  pd.concat(\n"
     ]
    },
    {
     "name": "stdout",
     "output_type": "stream",
     "text": [
      "130024\n",
      "130025\n"
     ]
    },
    {
     "name": "stderr",
     "output_type": "stream",
     "text": [
      "/var/folders/2x/rfhzgyjn2zq2wlzk_kn4th680000gn/T/ipykernel_9315/2342058334.py:19: FutureWarning: The default of observed=False is deprecated and will be changed to True in a future version of pandas. Pass observed=False to retain current behavior or observed=True to adopt the future default and silence this warning.\n",
      "  pd.concat(\n",
      "/var/folders/2x/rfhzgyjn2zq2wlzk_kn4th680000gn/T/ipykernel_9315/2342058334.py:2: FutureWarning: The default of observed=False is deprecated and will be changed to True in a future version of pandas. Pass observed=False to retain current behavior or observed=True to adopt the future default and silence this warning.\n",
      "  df = (token_table\n",
      "/var/folders/2x/rfhzgyjn2zq2wlzk_kn4th680000gn/T/ipykernel_9315/2342058334.py:9: FutureWarning: The default of observed=False is deprecated and will be changed to True in a future version of pandas. Pass observed=False to retain current behavior or observed=True to adopt the future default and silence this warning.\n",
      "  pd.concat(\n",
      "/var/folders/2x/rfhzgyjn2zq2wlzk_kn4th680000gn/T/ipykernel_9315/2342058334.py:19: FutureWarning: The default of observed=False is deprecated and will be changed to True in a future version of pandas. Pass observed=False to retain current behavior or observed=True to adopt the future default and silence this warning.\n",
      "  pd.concat(\n",
      "/var/folders/2x/rfhzgyjn2zq2wlzk_kn4th680000gn/T/ipykernel_9315/2342058334.py:2: FutureWarning: The default of observed=False is deprecated and will be changed to True in a future version of pandas. Pass observed=False to retain current behavior or observed=True to adopt the future default and silence this warning.\n",
      "  df = (token_table\n",
      "/var/folders/2x/rfhzgyjn2zq2wlzk_kn4th680000gn/T/ipykernel_9315/2342058334.py:9: FutureWarning: The default of observed=False is deprecated and will be changed to True in a future version of pandas. Pass observed=False to retain current behavior or observed=True to adopt the future default and silence this warning.\n",
      "  pd.concat(\n",
      "/var/folders/2x/rfhzgyjn2zq2wlzk_kn4th680000gn/T/ipykernel_9315/2342058334.py:19: FutureWarning: The default of observed=False is deprecated and will be changed to True in a future version of pandas. Pass observed=False to retain current behavior or observed=True to adopt the future default and silence this warning.\n",
      "  pd.concat(\n",
      "/var/folders/2x/rfhzgyjn2zq2wlzk_kn4th680000gn/T/ipykernel_9315/2342058334.py:2: FutureWarning: The default of observed=False is deprecated and will be changed to True in a future version of pandas. Pass observed=False to retain current behavior or observed=True to adopt the future default and silence this warning.\n",
      "  df = (token_table\n"
     ]
    },
    {
     "name": "stdout",
     "output_type": "stream",
     "text": [
      "130026\n",
      "130027\n"
     ]
    },
    {
     "name": "stderr",
     "output_type": "stream",
     "text": [
      "/var/folders/2x/rfhzgyjn2zq2wlzk_kn4th680000gn/T/ipykernel_9315/2342058334.py:9: FutureWarning: The default of observed=False is deprecated and will be changed to True in a future version of pandas. Pass observed=False to retain current behavior or observed=True to adopt the future default and silence this warning.\n",
      "  pd.concat(\n",
      "/var/folders/2x/rfhzgyjn2zq2wlzk_kn4th680000gn/T/ipykernel_9315/2342058334.py:19: FutureWarning: The default of observed=False is deprecated and will be changed to True in a future version of pandas. Pass observed=False to retain current behavior or observed=True to adopt the future default and silence this warning.\n",
      "  pd.concat(\n",
      "/var/folders/2x/rfhzgyjn2zq2wlzk_kn4th680000gn/T/ipykernel_9315/2342058334.py:2: FutureWarning: The default of observed=False is deprecated and will be changed to True in a future version of pandas. Pass observed=False to retain current behavior or observed=True to adopt the future default and silence this warning.\n",
      "  df = (token_table\n",
      "/var/folders/2x/rfhzgyjn2zq2wlzk_kn4th680000gn/T/ipykernel_9315/2342058334.py:9: FutureWarning: The default of observed=False is deprecated and will be changed to True in a future version of pandas. Pass observed=False to retain current behavior or observed=True to adopt the future default and silence this warning.\n",
      "  pd.concat(\n"
     ]
    },
    {
     "name": "stdout",
     "output_type": "stream",
     "text": [
      "130028\n",
      "130029\n"
     ]
    },
    {
     "name": "stderr",
     "output_type": "stream",
     "text": [
      "/var/folders/2x/rfhzgyjn2zq2wlzk_kn4th680000gn/T/ipykernel_9315/2342058334.py:19: FutureWarning: The default of observed=False is deprecated and will be changed to True in a future version of pandas. Pass observed=False to retain current behavior or observed=True to adopt the future default and silence this warning.\n",
      "  pd.concat(\n",
      "/var/folders/2x/rfhzgyjn2zq2wlzk_kn4th680000gn/T/ipykernel_9315/2342058334.py:2: FutureWarning: The default of observed=False is deprecated and will be changed to True in a future version of pandas. Pass observed=False to retain current behavior or observed=True to adopt the future default and silence this warning.\n",
      "  df = (token_table\n",
      "/var/folders/2x/rfhzgyjn2zq2wlzk_kn4th680000gn/T/ipykernel_9315/2342058334.py:9: FutureWarning: The default of observed=False is deprecated and will be changed to True in a future version of pandas. Pass observed=False to retain current behavior or observed=True to adopt the future default and silence this warning.\n",
      "  pd.concat(\n",
      "/var/folders/2x/rfhzgyjn2zq2wlzk_kn4th680000gn/T/ipykernel_9315/2342058334.py:19: FutureWarning: The default of observed=False is deprecated and will be changed to True in a future version of pandas. Pass observed=False to retain current behavior or observed=True to adopt the future default and silence this warning.\n",
      "  pd.concat(\n"
     ]
    },
    {
     "name": "stdout",
     "output_type": "stream",
     "text": [
      "140001\n"
     ]
    },
    {
     "name": "stderr",
     "output_type": "stream",
     "text": [
      "/var/folders/2x/rfhzgyjn2zq2wlzk_kn4th680000gn/T/ipykernel_9315/2342058334.py:2: FutureWarning: The default of observed=False is deprecated and will be changed to True in a future version of pandas. Pass observed=False to retain current behavior or observed=True to adopt the future default and silence this warning.\n",
      "  df = (token_table\n",
      "/var/folders/2x/rfhzgyjn2zq2wlzk_kn4th680000gn/T/ipykernel_9315/2342058334.py:9: FutureWarning: The default of observed=False is deprecated and will be changed to True in a future version of pandas. Pass observed=False to retain current behavior or observed=True to adopt the future default and silence this warning.\n",
      "  pd.concat(\n",
      "/var/folders/2x/rfhzgyjn2zq2wlzk_kn4th680000gn/T/ipykernel_9315/2342058334.py:19: FutureWarning: The default of observed=False is deprecated and will be changed to True in a future version of pandas. Pass observed=False to retain current behavior or observed=True to adopt the future default and silence this warning.\n",
      "  pd.concat(\n",
      "/var/folders/2x/rfhzgyjn2zq2wlzk_kn4th680000gn/T/ipykernel_9315/2342058334.py:2: FutureWarning: The default of observed=False is deprecated and will be changed to True in a future version of pandas. Pass observed=False to retain current behavior or observed=True to adopt the future default and silence this warning.\n",
      "  df = (token_table\n",
      "/var/folders/2x/rfhzgyjn2zq2wlzk_kn4th680000gn/T/ipykernel_9315/2342058334.py:9: FutureWarning: The default of observed=False is deprecated and will be changed to True in a future version of pandas. Pass observed=False to retain current behavior or observed=True to adopt the future default and silence this warning.\n",
      "  pd.concat(\n"
     ]
    },
    {
     "name": "stdout",
     "output_type": "stream",
     "text": [
      "140002\n",
      "140003\n"
     ]
    },
    {
     "name": "stderr",
     "output_type": "stream",
     "text": [
      "/var/folders/2x/rfhzgyjn2zq2wlzk_kn4th680000gn/T/ipykernel_9315/2342058334.py:19: FutureWarning: The default of observed=False is deprecated and will be changed to True in a future version of pandas. Pass observed=False to retain current behavior or observed=True to adopt the future default and silence this warning.\n",
      "  pd.concat(\n",
      "/var/folders/2x/rfhzgyjn2zq2wlzk_kn4th680000gn/T/ipykernel_9315/2342058334.py:2: FutureWarning: The default of observed=False is deprecated and will be changed to True in a future version of pandas. Pass observed=False to retain current behavior or observed=True to adopt the future default and silence this warning.\n",
      "  df = (token_table\n",
      "/var/folders/2x/rfhzgyjn2zq2wlzk_kn4th680000gn/T/ipykernel_9315/2342058334.py:9: FutureWarning: The default of observed=False is deprecated and will be changed to True in a future version of pandas. Pass observed=False to retain current behavior or observed=True to adopt the future default and silence this warning.\n",
      "  pd.concat(\n",
      "/var/folders/2x/rfhzgyjn2zq2wlzk_kn4th680000gn/T/ipykernel_9315/2342058334.py:19: FutureWarning: The default of observed=False is deprecated and will be changed to True in a future version of pandas. Pass observed=False to retain current behavior or observed=True to adopt the future default and silence this warning.\n",
      "  pd.concat(\n",
      "/var/folders/2x/rfhzgyjn2zq2wlzk_kn4th680000gn/T/ipykernel_9315/2342058334.py:2: FutureWarning: The default of observed=False is deprecated and will be changed to True in a future version of pandas. Pass observed=False to retain current behavior or observed=True to adopt the future default and silence this warning.\n",
      "  df = (token_table\n"
     ]
    },
    {
     "name": "stdout",
     "output_type": "stream",
     "text": [
      "140004\n",
      "140005\n"
     ]
    },
    {
     "name": "stderr",
     "output_type": "stream",
     "text": [
      "/var/folders/2x/rfhzgyjn2zq2wlzk_kn4th680000gn/T/ipykernel_9315/2342058334.py:9: FutureWarning: The default of observed=False is deprecated and will be changed to True in a future version of pandas. Pass observed=False to retain current behavior or observed=True to adopt the future default and silence this warning.\n",
      "  pd.concat(\n",
      "/var/folders/2x/rfhzgyjn2zq2wlzk_kn4th680000gn/T/ipykernel_9315/2342058334.py:19: FutureWarning: The default of observed=False is deprecated and will be changed to True in a future version of pandas. Pass observed=False to retain current behavior or observed=True to adopt the future default and silence this warning.\n",
      "  pd.concat(\n",
      "/var/folders/2x/rfhzgyjn2zq2wlzk_kn4th680000gn/T/ipykernel_9315/2342058334.py:2: FutureWarning: The default of observed=False is deprecated and will be changed to True in a future version of pandas. Pass observed=False to retain current behavior or observed=True to adopt the future default and silence this warning.\n",
      "  df = (token_table\n",
      "/var/folders/2x/rfhzgyjn2zq2wlzk_kn4th680000gn/T/ipykernel_9315/2342058334.py:9: FutureWarning: The default of observed=False is deprecated and will be changed to True in a future version of pandas. Pass observed=False to retain current behavior or observed=True to adopt the future default and silence this warning.\n",
      "  pd.concat(\n",
      "/var/folders/2x/rfhzgyjn2zq2wlzk_kn4th680000gn/T/ipykernel_9315/2342058334.py:19: FutureWarning: The default of observed=False is deprecated and will be changed to True in a future version of pandas. Pass observed=False to retain current behavior or observed=True to adopt the future default and silence this warning.\n",
      "  pd.concat(\n"
     ]
    },
    {
     "name": "stdout",
     "output_type": "stream",
     "text": [
      "140006\n"
     ]
    },
    {
     "name": "stderr",
     "output_type": "stream",
     "text": [
      "/var/folders/2x/rfhzgyjn2zq2wlzk_kn4th680000gn/T/ipykernel_9315/2342058334.py:2: FutureWarning: The default of observed=False is deprecated and will be changed to True in a future version of pandas. Pass observed=False to retain current behavior or observed=True to adopt the future default and silence this warning.\n",
      "  df = (token_table\n",
      "/var/folders/2x/rfhzgyjn2zq2wlzk_kn4th680000gn/T/ipykernel_9315/2342058334.py:9: FutureWarning: The default of observed=False is deprecated and will be changed to True in a future version of pandas. Pass observed=False to retain current behavior or observed=True to adopt the future default and silence this warning.\n",
      "  pd.concat(\n",
      "/var/folders/2x/rfhzgyjn2zq2wlzk_kn4th680000gn/T/ipykernel_9315/2342058334.py:19: FutureWarning: The default of observed=False is deprecated and will be changed to True in a future version of pandas. Pass observed=False to retain current behavior or observed=True to adopt the future default and silence this warning.\n",
      "  pd.concat(\n",
      "/var/folders/2x/rfhzgyjn2zq2wlzk_kn4th680000gn/T/ipykernel_9315/2342058334.py:2: FutureWarning: The default of observed=False is deprecated and will be changed to True in a future version of pandas. Pass observed=False to retain current behavior or observed=True to adopt the future default and silence this warning.\n",
      "  df = (token_table\n"
     ]
    },
    {
     "name": "stdout",
     "output_type": "stream",
     "text": [
      "140007\n",
      "140008\n"
     ]
    },
    {
     "name": "stderr",
     "output_type": "stream",
     "text": [
      "/var/folders/2x/rfhzgyjn2zq2wlzk_kn4th680000gn/T/ipykernel_9315/2342058334.py:9: FutureWarning: The default of observed=False is deprecated and will be changed to True in a future version of pandas. Pass observed=False to retain current behavior or observed=True to adopt the future default and silence this warning.\n",
      "  pd.concat(\n",
      "/var/folders/2x/rfhzgyjn2zq2wlzk_kn4th680000gn/T/ipykernel_9315/2342058334.py:19: FutureWarning: The default of observed=False is deprecated and will be changed to True in a future version of pandas. Pass observed=False to retain current behavior or observed=True to adopt the future default and silence this warning.\n",
      "  pd.concat(\n",
      "/var/folders/2x/rfhzgyjn2zq2wlzk_kn4th680000gn/T/ipykernel_9315/2342058334.py:2: FutureWarning: The default of observed=False is deprecated and will be changed to True in a future version of pandas. Pass observed=False to retain current behavior or observed=True to adopt the future default and silence this warning.\n",
      "  df = (token_table\n",
      "/var/folders/2x/rfhzgyjn2zq2wlzk_kn4th680000gn/T/ipykernel_9315/2342058334.py:9: FutureWarning: The default of observed=False is deprecated and will be changed to True in a future version of pandas. Pass observed=False to retain current behavior or observed=True to adopt the future default and silence this warning.\n",
      "  pd.concat(\n",
      "/var/folders/2x/rfhzgyjn2zq2wlzk_kn4th680000gn/T/ipykernel_9315/2342058334.py:19: FutureWarning: The default of observed=False is deprecated and will be changed to True in a future version of pandas. Pass observed=False to retain current behavior or observed=True to adopt the future default and silence this warning.\n",
      "  pd.concat(\n"
     ]
    },
    {
     "name": "stdout",
     "output_type": "stream",
     "text": [
      "140009\n",
      "140010\n"
     ]
    },
    {
     "name": "stderr",
     "output_type": "stream",
     "text": [
      "/var/folders/2x/rfhzgyjn2zq2wlzk_kn4th680000gn/T/ipykernel_9315/2342058334.py:2: FutureWarning: The default of observed=False is deprecated and will be changed to True in a future version of pandas. Pass observed=False to retain current behavior or observed=True to adopt the future default and silence this warning.\n",
      "  df = (token_table\n",
      "/var/folders/2x/rfhzgyjn2zq2wlzk_kn4th680000gn/T/ipykernel_9315/2342058334.py:9: FutureWarning: The default of observed=False is deprecated and will be changed to True in a future version of pandas. Pass observed=False to retain current behavior or observed=True to adopt the future default and silence this warning.\n",
      "  pd.concat(\n",
      "/var/folders/2x/rfhzgyjn2zq2wlzk_kn4th680000gn/T/ipykernel_9315/2342058334.py:19: FutureWarning: The default of observed=False is deprecated and will be changed to True in a future version of pandas. Pass observed=False to retain current behavior or observed=True to adopt the future default and silence this warning.\n",
      "  pd.concat(\n",
      "/var/folders/2x/rfhzgyjn2zq2wlzk_kn4th680000gn/T/ipykernel_9315/2342058334.py:2: FutureWarning: The default of observed=False is deprecated and will be changed to True in a future version of pandas. Pass observed=False to retain current behavior or observed=True to adopt the future default and silence this warning.\n",
      "  df = (token_table\n",
      "/var/folders/2x/rfhzgyjn2zq2wlzk_kn4th680000gn/T/ipykernel_9315/2342058334.py:9: FutureWarning: The default of observed=False is deprecated and will be changed to True in a future version of pandas. Pass observed=False to retain current behavior or observed=True to adopt the future default and silence this warning.\n",
      "  pd.concat(\n",
      "/var/folders/2x/rfhzgyjn2zq2wlzk_kn4th680000gn/T/ipykernel_9315/2342058334.py:19: FutureWarning: The default of observed=False is deprecated and will be changed to True in a future version of pandas. Pass observed=False to retain current behavior or observed=True to adopt the future default and silence this warning.\n",
      "  pd.concat(\n",
      "/var/folders/2x/rfhzgyjn2zq2wlzk_kn4th680000gn/T/ipykernel_9315/2342058334.py:2: FutureWarning: The default of observed=False is deprecated and will be changed to True in a future version of pandas. Pass observed=False to retain current behavior or observed=True to adopt the future default and silence this warning.\n",
      "  df = (token_table\n",
      "/var/folders/2x/rfhzgyjn2zq2wlzk_kn4th680000gn/T/ipykernel_9315/2342058334.py:9: FutureWarning: The default of observed=False is deprecated and will be changed to True in a future version of pandas. Pass observed=False to retain current behavior or observed=True to adopt the future default and silence this warning.\n",
      "  pd.concat(\n",
      "/var/folders/2x/rfhzgyjn2zq2wlzk_kn4th680000gn/T/ipykernel_9315/2342058334.py:19: FutureWarning: The default of observed=False is deprecated and will be changed to True in a future version of pandas. Pass observed=False to retain current behavior or observed=True to adopt the future default and silence this warning.\n",
      "  pd.concat(\n"
     ]
    },
    {
     "name": "stdout",
     "output_type": "stream",
     "text": [
      "140011\n",
      "140012\n"
     ]
    },
    {
     "name": "stderr",
     "output_type": "stream",
     "text": [
      "/var/folders/2x/rfhzgyjn2zq2wlzk_kn4th680000gn/T/ipykernel_9315/2342058334.py:2: FutureWarning: The default of observed=False is deprecated and will be changed to True in a future version of pandas. Pass observed=False to retain current behavior or observed=True to adopt the future default and silence this warning.\n",
      "  df = (token_table\n",
      "/var/folders/2x/rfhzgyjn2zq2wlzk_kn4th680000gn/T/ipykernel_9315/2342058334.py:9: FutureWarning: The default of observed=False is deprecated and will be changed to True in a future version of pandas. Pass observed=False to retain current behavior or observed=True to adopt the future default and silence this warning.\n",
      "  pd.concat(\n",
      "/var/folders/2x/rfhzgyjn2zq2wlzk_kn4th680000gn/T/ipykernel_9315/2342058334.py:19: FutureWarning: The default of observed=False is deprecated and will be changed to True in a future version of pandas. Pass observed=False to retain current behavior or observed=True to adopt the future default and silence this warning.\n",
      "  pd.concat(\n",
      "/var/folders/2x/rfhzgyjn2zq2wlzk_kn4th680000gn/T/ipykernel_9315/2342058334.py:2: FutureWarning: The default of observed=False is deprecated and will be changed to True in a future version of pandas. Pass observed=False to retain current behavior or observed=True to adopt the future default and silence this warning.\n",
      "  df = (token_table\n"
     ]
    },
    {
     "name": "stdout",
     "output_type": "stream",
     "text": [
      "140013\n"
     ]
    },
    {
     "name": "stderr",
     "output_type": "stream",
     "text": [
      "/var/folders/2x/rfhzgyjn2zq2wlzk_kn4th680000gn/T/ipykernel_9315/2342058334.py:9: FutureWarning: The default of observed=False is deprecated and will be changed to True in a future version of pandas. Pass observed=False to retain current behavior or observed=True to adopt the future default and silence this warning.\n",
      "  pd.concat(\n",
      "/var/folders/2x/rfhzgyjn2zq2wlzk_kn4th680000gn/T/ipykernel_9315/2342058334.py:19: FutureWarning: The default of observed=False is deprecated and will be changed to True in a future version of pandas. Pass observed=False to retain current behavior or observed=True to adopt the future default and silence this warning.\n",
      "  pd.concat(\n",
      "/var/folders/2x/rfhzgyjn2zq2wlzk_kn4th680000gn/T/ipykernel_9315/2342058334.py:2: FutureWarning: The default of observed=False is deprecated and will be changed to True in a future version of pandas. Pass observed=False to retain current behavior or observed=True to adopt the future default and silence this warning.\n",
      "  df = (token_table\n",
      "/var/folders/2x/rfhzgyjn2zq2wlzk_kn4th680000gn/T/ipykernel_9315/2342058334.py:9: FutureWarning: The default of observed=False is deprecated and will be changed to True in a future version of pandas. Pass observed=False to retain current behavior or observed=True to adopt the future default and silence this warning.\n",
      "  pd.concat(\n"
     ]
    },
    {
     "name": "stdout",
     "output_type": "stream",
     "text": [
      "140014\n",
      "140015\n"
     ]
    },
    {
     "name": "stderr",
     "output_type": "stream",
     "text": [
      "/var/folders/2x/rfhzgyjn2zq2wlzk_kn4th680000gn/T/ipykernel_9315/2342058334.py:19: FutureWarning: The default of observed=False is deprecated and will be changed to True in a future version of pandas. Pass observed=False to retain current behavior or observed=True to adopt the future default and silence this warning.\n",
      "  pd.concat(\n",
      "/var/folders/2x/rfhzgyjn2zq2wlzk_kn4th680000gn/T/ipykernel_9315/2342058334.py:2: FutureWarning: The default of observed=False is deprecated and will be changed to True in a future version of pandas. Pass observed=False to retain current behavior or observed=True to adopt the future default and silence this warning.\n",
      "  df = (token_table\n",
      "/var/folders/2x/rfhzgyjn2zq2wlzk_kn4th680000gn/T/ipykernel_9315/2342058334.py:9: FutureWarning: The default of observed=False is deprecated and will be changed to True in a future version of pandas. Pass observed=False to retain current behavior or observed=True to adopt the future default and silence this warning.\n",
      "  pd.concat(\n",
      "/var/folders/2x/rfhzgyjn2zq2wlzk_kn4th680000gn/T/ipykernel_9315/2342058334.py:19: FutureWarning: The default of observed=False is deprecated and will be changed to True in a future version of pandas. Pass observed=False to retain current behavior or observed=True to adopt the future default and silence this warning.\n",
      "  pd.concat(\n",
      "/var/folders/2x/rfhzgyjn2zq2wlzk_kn4th680000gn/T/ipykernel_9315/2342058334.py:2: FutureWarning: The default of observed=False is deprecated and will be changed to True in a future version of pandas. Pass observed=False to retain current behavior or observed=True to adopt the future default and silence this warning.\n",
      "  df = (token_table\n",
      "/var/folders/2x/rfhzgyjn2zq2wlzk_kn4th680000gn/T/ipykernel_9315/2342058334.py:9: FutureWarning: The default of observed=False is deprecated and will be changed to True in a future version of pandas. Pass observed=False to retain current behavior or observed=True to adopt the future default and silence this warning.\n",
      "  pd.concat(\n"
     ]
    },
    {
     "name": "stdout",
     "output_type": "stream",
     "text": [
      "140016\n",
      "140017\n"
     ]
    },
    {
     "name": "stderr",
     "output_type": "stream",
     "text": [
      "/var/folders/2x/rfhzgyjn2zq2wlzk_kn4th680000gn/T/ipykernel_9315/2342058334.py:19: FutureWarning: The default of observed=False is deprecated and will be changed to True in a future version of pandas. Pass observed=False to retain current behavior or observed=True to adopt the future default and silence this warning.\n",
      "  pd.concat(\n",
      "/var/folders/2x/rfhzgyjn2zq2wlzk_kn4th680000gn/T/ipykernel_9315/2342058334.py:2: FutureWarning: The default of observed=False is deprecated and will be changed to True in a future version of pandas. Pass observed=False to retain current behavior or observed=True to adopt the future default and silence this warning.\n",
      "  df = (token_table\n",
      "/var/folders/2x/rfhzgyjn2zq2wlzk_kn4th680000gn/T/ipykernel_9315/2342058334.py:9: FutureWarning: The default of observed=False is deprecated and will be changed to True in a future version of pandas. Pass observed=False to retain current behavior or observed=True to adopt the future default and silence this warning.\n",
      "  pd.concat(\n",
      "/var/folders/2x/rfhzgyjn2zq2wlzk_kn4th680000gn/T/ipykernel_9315/2342058334.py:19: FutureWarning: The default of observed=False is deprecated and will be changed to True in a future version of pandas. Pass observed=False to retain current behavior or observed=True to adopt the future default and silence this warning.\n",
      "  pd.concat(\n"
     ]
    },
    {
     "name": "stdout",
     "output_type": "stream",
     "text": [
      "140018\n",
      "140019\n"
     ]
    },
    {
     "name": "stderr",
     "output_type": "stream",
     "text": [
      "/var/folders/2x/rfhzgyjn2zq2wlzk_kn4th680000gn/T/ipykernel_9315/2342058334.py:2: FutureWarning: The default of observed=False is deprecated and will be changed to True in a future version of pandas. Pass observed=False to retain current behavior or observed=True to adopt the future default and silence this warning.\n",
      "  df = (token_table\n",
      "/var/folders/2x/rfhzgyjn2zq2wlzk_kn4th680000gn/T/ipykernel_9315/2342058334.py:9: FutureWarning: The default of observed=False is deprecated and will be changed to True in a future version of pandas. Pass observed=False to retain current behavior or observed=True to adopt the future default and silence this warning.\n",
      "  pd.concat(\n",
      "/var/folders/2x/rfhzgyjn2zq2wlzk_kn4th680000gn/T/ipykernel_9315/2342058334.py:19: FutureWarning: The default of observed=False is deprecated and will be changed to True in a future version of pandas. Pass observed=False to retain current behavior or observed=True to adopt the future default and silence this warning.\n",
      "  pd.concat(\n",
      "/var/folders/2x/rfhzgyjn2zq2wlzk_kn4th680000gn/T/ipykernel_9315/2342058334.py:2: FutureWarning: The default of observed=False is deprecated and will be changed to True in a future version of pandas. Pass observed=False to retain current behavior or observed=True to adopt the future default and silence this warning.\n",
      "  df = (token_table\n",
      "/var/folders/2x/rfhzgyjn2zq2wlzk_kn4th680000gn/T/ipykernel_9315/2342058334.py:9: FutureWarning: The default of observed=False is deprecated and will be changed to True in a future version of pandas. Pass observed=False to retain current behavior or observed=True to adopt the future default and silence this warning.\n",
      "  pd.concat(\n",
      "/var/folders/2x/rfhzgyjn2zq2wlzk_kn4th680000gn/T/ipykernel_9315/2342058334.py:19: FutureWarning: The default of observed=False is deprecated and will be changed to True in a future version of pandas. Pass observed=False to retain current behavior or observed=True to adopt the future default and silence this warning.\n",
      "  pd.concat(\n",
      "/var/folders/2x/rfhzgyjn2zq2wlzk_kn4th680000gn/T/ipykernel_9315/2342058334.py:2: FutureWarning: The default of observed=False is deprecated and will be changed to True in a future version of pandas. Pass observed=False to retain current behavior or observed=True to adopt the future default and silence this warning.\n",
      "  df = (token_table\n",
      "/var/folders/2x/rfhzgyjn2zq2wlzk_kn4th680000gn/T/ipykernel_9315/2342058334.py:9: FutureWarning: The default of observed=False is deprecated and will be changed to True in a future version of pandas. Pass observed=False to retain current behavior or observed=True to adopt the future default and silence this warning.\n",
      "  pd.concat(\n",
      "/var/folders/2x/rfhzgyjn2zq2wlzk_kn4th680000gn/T/ipykernel_9315/2342058334.py:19: FutureWarning: The default of observed=False is deprecated and will be changed to True in a future version of pandas. Pass observed=False to retain current behavior or observed=True to adopt the future default and silence this warning.\n",
      "  pd.concat(\n",
      "/var/folders/2x/rfhzgyjn2zq2wlzk_kn4th680000gn/T/ipykernel_9315/2342058334.py:2: FutureWarning: The default of observed=False is deprecated and will be changed to True in a future version of pandas. Pass observed=False to retain current behavior or observed=True to adopt the future default and silence this warning.\n",
      "  df = (token_table\n"
     ]
    },
    {
     "name": "stdout",
     "output_type": "stream",
     "text": [
      "140020\n",
      "140021\n"
     ]
    },
    {
     "name": "stderr",
     "output_type": "stream",
     "text": [
      "/var/folders/2x/rfhzgyjn2zq2wlzk_kn4th680000gn/T/ipykernel_9315/2342058334.py:9: FutureWarning: The default of observed=False is deprecated and will be changed to True in a future version of pandas. Pass observed=False to retain current behavior or observed=True to adopt the future default and silence this warning.\n",
      "  pd.concat(\n",
      "/var/folders/2x/rfhzgyjn2zq2wlzk_kn4th680000gn/T/ipykernel_9315/2342058334.py:19: FutureWarning: The default of observed=False is deprecated and will be changed to True in a future version of pandas. Pass observed=False to retain current behavior or observed=True to adopt the future default and silence this warning.\n",
      "  pd.concat(\n",
      "/var/folders/2x/rfhzgyjn2zq2wlzk_kn4th680000gn/T/ipykernel_9315/2342058334.py:2: FutureWarning: The default of observed=False is deprecated and will be changed to True in a future version of pandas. Pass observed=False to retain current behavior or observed=True to adopt the future default and silence this warning.\n",
      "  df = (token_table\n",
      "/var/folders/2x/rfhzgyjn2zq2wlzk_kn4th680000gn/T/ipykernel_9315/2342058334.py:9: FutureWarning: The default of observed=False is deprecated and will be changed to True in a future version of pandas. Pass observed=False to retain current behavior or observed=True to adopt the future default and silence this warning.\n",
      "  pd.concat(\n",
      "/var/folders/2x/rfhzgyjn2zq2wlzk_kn4th680000gn/T/ipykernel_9315/2342058334.py:19: FutureWarning: The default of observed=False is deprecated and will be changed to True in a future version of pandas. Pass observed=False to retain current behavior or observed=True to adopt the future default and silence this warning.\n",
      "  pd.concat(\n"
     ]
    },
    {
     "name": "stdout",
     "output_type": "stream",
     "text": [
      "140022\n",
      "140023\n"
     ]
    },
    {
     "name": "stderr",
     "output_type": "stream",
     "text": [
      "/var/folders/2x/rfhzgyjn2zq2wlzk_kn4th680000gn/T/ipykernel_9315/2342058334.py:2: FutureWarning: The default of observed=False is deprecated and will be changed to True in a future version of pandas. Pass observed=False to retain current behavior or observed=True to adopt the future default and silence this warning.\n",
      "  df = (token_table\n",
      "/var/folders/2x/rfhzgyjn2zq2wlzk_kn4th680000gn/T/ipykernel_9315/2342058334.py:9: FutureWarning: The default of observed=False is deprecated and will be changed to True in a future version of pandas. Pass observed=False to retain current behavior or observed=True to adopt the future default and silence this warning.\n",
      "  pd.concat(\n",
      "/var/folders/2x/rfhzgyjn2zq2wlzk_kn4th680000gn/T/ipykernel_9315/2342058334.py:19: FutureWarning: The default of observed=False is deprecated and will be changed to True in a future version of pandas. Pass observed=False to retain current behavior or observed=True to adopt the future default and silence this warning.\n",
      "  pd.concat(\n",
      "/var/folders/2x/rfhzgyjn2zq2wlzk_kn4th680000gn/T/ipykernel_9315/2342058334.py:2: FutureWarning: The default of observed=False is deprecated and will be changed to True in a future version of pandas. Pass observed=False to retain current behavior or observed=True to adopt the future default and silence this warning.\n",
      "  df = (token_table\n",
      "/var/folders/2x/rfhzgyjn2zq2wlzk_kn4th680000gn/T/ipykernel_9315/2342058334.py:9: FutureWarning: The default of observed=False is deprecated and will be changed to True in a future version of pandas. Pass observed=False to retain current behavior or observed=True to adopt the future default and silence this warning.\n",
      "  pd.concat(\n"
     ]
    },
    {
     "name": "stdout",
     "output_type": "stream",
     "text": [
      "140024\n"
     ]
    },
    {
     "name": "stderr",
     "output_type": "stream",
     "text": [
      "/var/folders/2x/rfhzgyjn2zq2wlzk_kn4th680000gn/T/ipykernel_9315/2342058334.py:19: FutureWarning: The default of observed=False is deprecated and will be changed to True in a future version of pandas. Pass observed=False to retain current behavior or observed=True to adopt the future default and silence this warning.\n",
      "  pd.concat(\n",
      "/var/folders/2x/rfhzgyjn2zq2wlzk_kn4th680000gn/T/ipykernel_9315/2342058334.py:2: FutureWarning: The default of observed=False is deprecated and will be changed to True in a future version of pandas. Pass observed=False to retain current behavior or observed=True to adopt the future default and silence this warning.\n",
      "  df = (token_table\n"
     ]
    },
    {
     "name": "stdout",
     "output_type": "stream",
     "text": [
      "140025\n"
     ]
    },
    {
     "name": "stderr",
     "output_type": "stream",
     "text": [
      "/var/folders/2x/rfhzgyjn2zq2wlzk_kn4th680000gn/T/ipykernel_9315/2342058334.py:9: FutureWarning: The default of observed=False is deprecated and will be changed to True in a future version of pandas. Pass observed=False to retain current behavior or observed=True to adopt the future default and silence this warning.\n",
      "  pd.concat(\n",
      "/var/folders/2x/rfhzgyjn2zq2wlzk_kn4th680000gn/T/ipykernel_9315/2342058334.py:19: FutureWarning: The default of observed=False is deprecated and will be changed to True in a future version of pandas. Pass observed=False to retain current behavior or observed=True to adopt the future default and silence this warning.\n",
      "  pd.concat(\n",
      "/var/folders/2x/rfhzgyjn2zq2wlzk_kn4th680000gn/T/ipykernel_9315/2342058334.py:2: FutureWarning: The default of observed=False is deprecated and will be changed to True in a future version of pandas. Pass observed=False to retain current behavior or observed=True to adopt the future default and silence this warning.\n",
      "  df = (token_table\n",
      "/var/folders/2x/rfhzgyjn2zq2wlzk_kn4th680000gn/T/ipykernel_9315/2342058334.py:9: FutureWarning: The default of observed=False is deprecated and will be changed to True in a future version of pandas. Pass observed=False to retain current behavior or observed=True to adopt the future default and silence this warning.\n",
      "  pd.concat(\n",
      "/var/folders/2x/rfhzgyjn2zq2wlzk_kn4th680000gn/T/ipykernel_9315/2342058334.py:19: FutureWarning: The default of observed=False is deprecated and will be changed to True in a future version of pandas. Pass observed=False to retain current behavior or observed=True to adopt the future default and silence this warning.\n",
      "  pd.concat(\n"
     ]
    },
    {
     "name": "stdout",
     "output_type": "stream",
     "text": [
      "140026\n",
      "140027\n"
     ]
    },
    {
     "name": "stderr",
     "output_type": "stream",
     "text": [
      "/var/folders/2x/rfhzgyjn2zq2wlzk_kn4th680000gn/T/ipykernel_9315/2342058334.py:2: FutureWarning: The default of observed=False is deprecated and will be changed to True in a future version of pandas. Pass observed=False to retain current behavior or observed=True to adopt the future default and silence this warning.\n",
      "  df = (token_table\n",
      "/var/folders/2x/rfhzgyjn2zq2wlzk_kn4th680000gn/T/ipykernel_9315/2342058334.py:9: FutureWarning: The default of observed=False is deprecated and will be changed to True in a future version of pandas. Pass observed=False to retain current behavior or observed=True to adopt the future default and silence this warning.\n",
      "  pd.concat(\n",
      "/var/folders/2x/rfhzgyjn2zq2wlzk_kn4th680000gn/T/ipykernel_9315/2342058334.py:19: FutureWarning: The default of observed=False is deprecated and will be changed to True in a future version of pandas. Pass observed=False to retain current behavior or observed=True to adopt the future default and silence this warning.\n",
      "  pd.concat(\n",
      "/var/folders/2x/rfhzgyjn2zq2wlzk_kn4th680000gn/T/ipykernel_9315/2342058334.py:2: FutureWarning: The default of observed=False is deprecated and will be changed to True in a future version of pandas. Pass observed=False to retain current behavior or observed=True to adopt the future default and silence this warning.\n",
      "  df = (token_table\n"
     ]
    },
    {
     "name": "stdout",
     "output_type": "stream",
     "text": [
      "140028\n",
      "140029\n"
     ]
    },
    {
     "name": "stderr",
     "output_type": "stream",
     "text": [
      "/var/folders/2x/rfhzgyjn2zq2wlzk_kn4th680000gn/T/ipykernel_9315/2342058334.py:9: FutureWarning: The default of observed=False is deprecated and will be changed to True in a future version of pandas. Pass observed=False to retain current behavior or observed=True to adopt the future default and silence this warning.\n",
      "  pd.concat(\n",
      "/var/folders/2x/rfhzgyjn2zq2wlzk_kn4th680000gn/T/ipykernel_9315/2342058334.py:19: FutureWarning: The default of observed=False is deprecated and will be changed to True in a future version of pandas. Pass observed=False to retain current behavior or observed=True to adopt the future default and silence this warning.\n",
      "  pd.concat(\n",
      "/var/folders/2x/rfhzgyjn2zq2wlzk_kn4th680000gn/T/ipykernel_9315/2342058334.py:2: FutureWarning: The default of observed=False is deprecated and will be changed to True in a future version of pandas. Pass observed=False to retain current behavior or observed=True to adopt the future default and silence this warning.\n",
      "  df = (token_table\n",
      "/var/folders/2x/rfhzgyjn2zq2wlzk_kn4th680000gn/T/ipykernel_9315/2342058334.py:9: FutureWarning: The default of observed=False is deprecated and will be changed to True in a future version of pandas. Pass observed=False to retain current behavior or observed=True to adopt the future default and silence this warning.\n",
      "  pd.concat(\n",
      "/var/folders/2x/rfhzgyjn2zq2wlzk_kn4th680000gn/T/ipykernel_9315/2342058334.py:19: FutureWarning: The default of observed=False is deprecated and will be changed to True in a future version of pandas. Pass observed=False to retain current behavior or observed=True to adopt the future default and silence this warning.\n",
      "  pd.concat(\n"
     ]
    },
    {
     "name": "stdout",
     "output_type": "stream",
     "text": [
      "140030\n",
      "140031\n"
     ]
    },
    {
     "name": "stderr",
     "output_type": "stream",
     "text": [
      "/var/folders/2x/rfhzgyjn2zq2wlzk_kn4th680000gn/T/ipykernel_9315/2342058334.py:2: FutureWarning: The default of observed=False is deprecated and will be changed to True in a future version of pandas. Pass observed=False to retain current behavior or observed=True to adopt the future default and silence this warning.\n",
      "  df = (token_table\n",
      "/var/folders/2x/rfhzgyjn2zq2wlzk_kn4th680000gn/T/ipykernel_9315/2342058334.py:9: FutureWarning: The default of observed=False is deprecated and will be changed to True in a future version of pandas. Pass observed=False to retain current behavior or observed=True to adopt the future default and silence this warning.\n",
      "  pd.concat(\n",
      "/var/folders/2x/rfhzgyjn2zq2wlzk_kn4th680000gn/T/ipykernel_9315/2342058334.py:19: FutureWarning: The default of observed=False is deprecated and will be changed to True in a future version of pandas. Pass observed=False to retain current behavior or observed=True to adopt the future default and silence this warning.\n",
      "  pd.concat(\n",
      "/var/folders/2x/rfhzgyjn2zq2wlzk_kn4th680000gn/T/ipykernel_9315/2342058334.py:2: FutureWarning: The default of observed=False is deprecated and will be changed to True in a future version of pandas. Pass observed=False to retain current behavior or observed=True to adopt the future default and silence this warning.\n",
      "  df = (token_table\n",
      "/var/folders/2x/rfhzgyjn2zq2wlzk_kn4th680000gn/T/ipykernel_9315/2342058334.py:9: FutureWarning: The default of observed=False is deprecated and will be changed to True in a future version of pandas. Pass observed=False to retain current behavior or observed=True to adopt the future default and silence this warning.\n",
      "  pd.concat(\n",
      "/var/folders/2x/rfhzgyjn2zq2wlzk_kn4th680000gn/T/ipykernel_9315/2342058334.py:19: FutureWarning: The default of observed=False is deprecated and will be changed to True in a future version of pandas. Pass observed=False to retain current behavior or observed=True to adopt the future default and silence this warning.\n",
      "  pd.concat(\n",
      "/var/folders/2x/rfhzgyjn2zq2wlzk_kn4th680000gn/T/ipykernel_9315/2342058334.py:2: FutureWarning: The default of observed=False is deprecated and will be changed to True in a future version of pandas. Pass observed=False to retain current behavior or observed=True to adopt the future default and silence this warning.\n",
      "  df = (token_table\n"
     ]
    },
    {
     "name": "stdout",
     "output_type": "stream",
     "text": [
      "150001\n"
     ]
    },
    {
     "name": "stderr",
     "output_type": "stream",
     "text": [
      "/var/folders/2x/rfhzgyjn2zq2wlzk_kn4th680000gn/T/ipykernel_9315/2342058334.py:9: FutureWarning: The default of observed=False is deprecated and will be changed to True in a future version of pandas. Pass observed=False to retain current behavior or observed=True to adopt the future default and silence this warning.\n",
      "  pd.concat(\n",
      "/var/folders/2x/rfhzgyjn2zq2wlzk_kn4th680000gn/T/ipykernel_9315/2342058334.py:19: FutureWarning: The default of observed=False is deprecated and will be changed to True in a future version of pandas. Pass observed=False to retain current behavior or observed=True to adopt the future default and silence this warning.\n",
      "  pd.concat(\n",
      "/var/folders/2x/rfhzgyjn2zq2wlzk_kn4th680000gn/T/ipykernel_9315/2342058334.py:2: FutureWarning: The default of observed=False is deprecated and will be changed to True in a future version of pandas. Pass observed=False to retain current behavior or observed=True to adopt the future default and silence this warning.\n",
      "  df = (token_table\n"
     ]
    },
    {
     "name": "stdout",
     "output_type": "stream",
     "text": [
      "150002\n"
     ]
    },
    {
     "name": "stderr",
     "output_type": "stream",
     "text": [
      "/var/folders/2x/rfhzgyjn2zq2wlzk_kn4th680000gn/T/ipykernel_9315/2342058334.py:9: FutureWarning: The default of observed=False is deprecated and will be changed to True in a future version of pandas. Pass observed=False to retain current behavior or observed=True to adopt the future default and silence this warning.\n",
      "  pd.concat(\n",
      "/var/folders/2x/rfhzgyjn2zq2wlzk_kn4th680000gn/T/ipykernel_9315/2342058334.py:19: FutureWarning: The default of observed=False is deprecated and will be changed to True in a future version of pandas. Pass observed=False to retain current behavior or observed=True to adopt the future default and silence this warning.\n",
      "  pd.concat(\n",
      "/var/folders/2x/rfhzgyjn2zq2wlzk_kn4th680000gn/T/ipykernel_9315/2342058334.py:2: FutureWarning: The default of observed=False is deprecated and will be changed to True in a future version of pandas. Pass observed=False to retain current behavior or observed=True to adopt the future default and silence this warning.\n",
      "  df = (token_table\n",
      "/var/folders/2x/rfhzgyjn2zq2wlzk_kn4th680000gn/T/ipykernel_9315/2342058334.py:9: FutureWarning: The default of observed=False is deprecated and will be changed to True in a future version of pandas. Pass observed=False to retain current behavior or observed=True to adopt the future default and silence this warning.\n",
      "  pd.concat(\n",
      "/var/folders/2x/rfhzgyjn2zq2wlzk_kn4th680000gn/T/ipykernel_9315/2342058334.py:19: FutureWarning: The default of observed=False is deprecated and will be changed to True in a future version of pandas. Pass observed=False to retain current behavior or observed=True to adopt the future default and silence this warning.\n",
      "  pd.concat(\n"
     ]
    },
    {
     "name": "stdout",
     "output_type": "stream",
     "text": [
      "150003\n",
      "150004\n"
     ]
    },
    {
     "name": "stderr",
     "output_type": "stream",
     "text": [
      "/var/folders/2x/rfhzgyjn2zq2wlzk_kn4th680000gn/T/ipykernel_9315/2342058334.py:2: FutureWarning: The default of observed=False is deprecated and will be changed to True in a future version of pandas. Pass observed=False to retain current behavior or observed=True to adopt the future default and silence this warning.\n",
      "  df = (token_table\n",
      "/var/folders/2x/rfhzgyjn2zq2wlzk_kn4th680000gn/T/ipykernel_9315/2342058334.py:9: FutureWarning: The default of observed=False is deprecated and will be changed to True in a future version of pandas. Pass observed=False to retain current behavior or observed=True to adopt the future default and silence this warning.\n",
      "  pd.concat(\n",
      "/var/folders/2x/rfhzgyjn2zq2wlzk_kn4th680000gn/T/ipykernel_9315/2342058334.py:19: FutureWarning: The default of observed=False is deprecated and will be changed to True in a future version of pandas. Pass observed=False to retain current behavior or observed=True to adopt the future default and silence this warning.\n",
      "  pd.concat(\n",
      "/var/folders/2x/rfhzgyjn2zq2wlzk_kn4th680000gn/T/ipykernel_9315/2342058334.py:2: FutureWarning: The default of observed=False is deprecated and will be changed to True in a future version of pandas. Pass observed=False to retain current behavior or observed=True to adopt the future default and silence this warning.\n",
      "  df = (token_table\n"
     ]
    },
    {
     "name": "stdout",
     "output_type": "stream",
     "text": [
      "150005\n",
      "150006\n"
     ]
    },
    {
     "name": "stderr",
     "output_type": "stream",
     "text": [
      "/var/folders/2x/rfhzgyjn2zq2wlzk_kn4th680000gn/T/ipykernel_9315/2342058334.py:9: FutureWarning: The default of observed=False is deprecated and will be changed to True in a future version of pandas. Pass observed=False to retain current behavior or observed=True to adopt the future default and silence this warning.\n",
      "  pd.concat(\n",
      "/var/folders/2x/rfhzgyjn2zq2wlzk_kn4th680000gn/T/ipykernel_9315/2342058334.py:19: FutureWarning: The default of observed=False is deprecated and will be changed to True in a future version of pandas. Pass observed=False to retain current behavior or observed=True to adopt the future default and silence this warning.\n",
      "  pd.concat(\n",
      "/var/folders/2x/rfhzgyjn2zq2wlzk_kn4th680000gn/T/ipykernel_9315/2342058334.py:2: FutureWarning: The default of observed=False is deprecated and will be changed to True in a future version of pandas. Pass observed=False to retain current behavior or observed=True to adopt the future default and silence this warning.\n",
      "  df = (token_table\n",
      "/var/folders/2x/rfhzgyjn2zq2wlzk_kn4th680000gn/T/ipykernel_9315/2342058334.py:9: FutureWarning: The default of observed=False is deprecated and will be changed to True in a future version of pandas. Pass observed=False to retain current behavior or observed=True to adopt the future default and silence this warning.\n",
      "  pd.concat(\n",
      "/var/folders/2x/rfhzgyjn2zq2wlzk_kn4th680000gn/T/ipykernel_9315/2342058334.py:19: FutureWarning: The default of observed=False is deprecated and will be changed to True in a future version of pandas. Pass observed=False to retain current behavior or observed=True to adopt the future default and silence this warning.\n",
      "  pd.concat(\n"
     ]
    },
    {
     "name": "stdout",
     "output_type": "stream",
     "text": [
      "150007\n",
      "150008\n"
     ]
    },
    {
     "name": "stderr",
     "output_type": "stream",
     "text": [
      "/var/folders/2x/rfhzgyjn2zq2wlzk_kn4th680000gn/T/ipykernel_9315/2342058334.py:2: FutureWarning: The default of observed=False is deprecated and will be changed to True in a future version of pandas. Pass observed=False to retain current behavior or observed=True to adopt the future default and silence this warning.\n",
      "  df = (token_table\n",
      "/var/folders/2x/rfhzgyjn2zq2wlzk_kn4th680000gn/T/ipykernel_9315/2342058334.py:9: FutureWarning: The default of observed=False is deprecated and will be changed to True in a future version of pandas. Pass observed=False to retain current behavior or observed=True to adopt the future default and silence this warning.\n",
      "  pd.concat(\n",
      "/var/folders/2x/rfhzgyjn2zq2wlzk_kn4th680000gn/T/ipykernel_9315/2342058334.py:19: FutureWarning: The default of observed=False is deprecated and will be changed to True in a future version of pandas. Pass observed=False to retain current behavior or observed=True to adopt the future default and silence this warning.\n",
      "  pd.concat(\n",
      "/var/folders/2x/rfhzgyjn2zq2wlzk_kn4th680000gn/T/ipykernel_9315/2342058334.py:2: FutureWarning: The default of observed=False is deprecated and will be changed to True in a future version of pandas. Pass observed=False to retain current behavior or observed=True to adopt the future default and silence this warning.\n",
      "  df = (token_table\n",
      "/var/folders/2x/rfhzgyjn2zq2wlzk_kn4th680000gn/T/ipykernel_9315/2342058334.py:9: FutureWarning: The default of observed=False is deprecated and will be changed to True in a future version of pandas. Pass observed=False to retain current behavior or observed=True to adopt the future default and silence this warning.\n",
      "  pd.concat(\n",
      "/var/folders/2x/rfhzgyjn2zq2wlzk_kn4th680000gn/T/ipykernel_9315/2342058334.py:19: FutureWarning: The default of observed=False is deprecated and will be changed to True in a future version of pandas. Pass observed=False to retain current behavior or observed=True to adopt the future default and silence this warning.\n",
      "  pd.concat(\n",
      "/var/folders/2x/rfhzgyjn2zq2wlzk_kn4th680000gn/T/ipykernel_9315/2342058334.py:2: FutureWarning: The default of observed=False is deprecated and will be changed to True in a future version of pandas. Pass observed=False to retain current behavior or observed=True to adopt the future default and silence this warning.\n",
      "  df = (token_table\n",
      "/var/folders/2x/rfhzgyjn2zq2wlzk_kn4th680000gn/T/ipykernel_9315/2342058334.py:9: FutureWarning: The default of observed=False is deprecated and will be changed to True in a future version of pandas. Pass observed=False to retain current behavior or observed=True to adopt the future default and silence this warning.\n",
      "  pd.concat(\n",
      "/var/folders/2x/rfhzgyjn2zq2wlzk_kn4th680000gn/T/ipykernel_9315/2342058334.py:19: FutureWarning: The default of observed=False is deprecated and will be changed to True in a future version of pandas. Pass observed=False to retain current behavior or observed=True to adopt the future default and silence this warning.\n",
      "  pd.concat(\n",
      "/var/folders/2x/rfhzgyjn2zq2wlzk_kn4th680000gn/T/ipykernel_9315/2342058334.py:2: FutureWarning: The default of observed=False is deprecated and will be changed to True in a future version of pandas. Pass observed=False to retain current behavior or observed=True to adopt the future default and silence this warning.\n",
      "  df = (token_table\n"
     ]
    },
    {
     "name": "stdout",
     "output_type": "stream",
     "text": [
      "150009\n",
      "150010\n"
     ]
    },
    {
     "name": "stderr",
     "output_type": "stream",
     "text": [
      "/var/folders/2x/rfhzgyjn2zq2wlzk_kn4th680000gn/T/ipykernel_9315/2342058334.py:9: FutureWarning: The default of observed=False is deprecated and will be changed to True in a future version of pandas. Pass observed=False to retain current behavior or observed=True to adopt the future default and silence this warning.\n",
      "  pd.concat(\n",
      "/var/folders/2x/rfhzgyjn2zq2wlzk_kn4th680000gn/T/ipykernel_9315/2342058334.py:19: FutureWarning: The default of observed=False is deprecated and will be changed to True in a future version of pandas. Pass observed=False to retain current behavior or observed=True to adopt the future default and silence this warning.\n",
      "  pd.concat(\n",
      "/var/folders/2x/rfhzgyjn2zq2wlzk_kn4th680000gn/T/ipykernel_9315/2342058334.py:2: FutureWarning: The default of observed=False is deprecated and will be changed to True in a future version of pandas. Pass observed=False to retain current behavior or observed=True to adopt the future default and silence this warning.\n",
      "  df = (token_table\n",
      "/var/folders/2x/rfhzgyjn2zq2wlzk_kn4th680000gn/T/ipykernel_9315/2342058334.py:9: FutureWarning: The default of observed=False is deprecated and will be changed to True in a future version of pandas. Pass observed=False to retain current behavior or observed=True to adopt the future default and silence this warning.\n",
      "  pd.concat(\n"
     ]
    },
    {
     "name": "stdout",
     "output_type": "stream",
     "text": [
      "150011\n"
     ]
    },
    {
     "name": "stderr",
     "output_type": "stream",
     "text": [
      "/var/folders/2x/rfhzgyjn2zq2wlzk_kn4th680000gn/T/ipykernel_9315/2342058334.py:19: FutureWarning: The default of observed=False is deprecated and will be changed to True in a future version of pandas. Pass observed=False to retain current behavior or observed=True to adopt the future default and silence this warning.\n",
      "  pd.concat(\n",
      "/var/folders/2x/rfhzgyjn2zq2wlzk_kn4th680000gn/T/ipykernel_9315/2342058334.py:2: FutureWarning: The default of observed=False is deprecated and will be changed to True in a future version of pandas. Pass observed=False to retain current behavior or observed=True to adopt the future default and silence this warning.\n",
      "  df = (token_table\n",
      "/var/folders/2x/rfhzgyjn2zq2wlzk_kn4th680000gn/T/ipykernel_9315/2342058334.py:9: FutureWarning: The default of observed=False is deprecated and will be changed to True in a future version of pandas. Pass observed=False to retain current behavior or observed=True to adopt the future default and silence this warning.\n",
      "  pd.concat(\n",
      "/var/folders/2x/rfhzgyjn2zq2wlzk_kn4th680000gn/T/ipykernel_9315/2342058334.py:19: FutureWarning: The default of observed=False is deprecated and will be changed to True in a future version of pandas. Pass observed=False to retain current behavior or observed=True to adopt the future default and silence this warning.\n",
      "  pd.concat(\n"
     ]
    },
    {
     "name": "stdout",
     "output_type": "stream",
     "text": [
      "150012\n",
      "150013\n"
     ]
    },
    {
     "name": "stderr",
     "output_type": "stream",
     "text": [
      "/var/folders/2x/rfhzgyjn2zq2wlzk_kn4th680000gn/T/ipykernel_9315/2342058334.py:2: FutureWarning: The default of observed=False is deprecated and will be changed to True in a future version of pandas. Pass observed=False to retain current behavior or observed=True to adopt the future default and silence this warning.\n",
      "  df = (token_table\n",
      "/var/folders/2x/rfhzgyjn2zq2wlzk_kn4th680000gn/T/ipykernel_9315/2342058334.py:9: FutureWarning: The default of observed=False is deprecated and will be changed to True in a future version of pandas. Pass observed=False to retain current behavior or observed=True to adopt the future default and silence this warning.\n",
      "  pd.concat(\n",
      "/var/folders/2x/rfhzgyjn2zq2wlzk_kn4th680000gn/T/ipykernel_9315/2342058334.py:19: FutureWarning: The default of observed=False is deprecated and will be changed to True in a future version of pandas. Pass observed=False to retain current behavior or observed=True to adopt the future default and silence this warning.\n",
      "  pd.concat(\n",
      "/var/folders/2x/rfhzgyjn2zq2wlzk_kn4th680000gn/T/ipykernel_9315/2342058334.py:2: FutureWarning: The default of observed=False is deprecated and will be changed to True in a future version of pandas. Pass observed=False to retain current behavior or observed=True to adopt the future default and silence this warning.\n",
      "  df = (token_table\n"
     ]
    },
    {
     "name": "stdout",
     "output_type": "stream",
     "text": [
      "150014\n",
      "150015\n"
     ]
    },
    {
     "name": "stderr",
     "output_type": "stream",
     "text": [
      "/var/folders/2x/rfhzgyjn2zq2wlzk_kn4th680000gn/T/ipykernel_9315/2342058334.py:9: FutureWarning: The default of observed=False is deprecated and will be changed to True in a future version of pandas. Pass observed=False to retain current behavior or observed=True to adopt the future default and silence this warning.\n",
      "  pd.concat(\n",
      "/var/folders/2x/rfhzgyjn2zq2wlzk_kn4th680000gn/T/ipykernel_9315/2342058334.py:19: FutureWarning: The default of observed=False is deprecated and will be changed to True in a future version of pandas. Pass observed=False to retain current behavior or observed=True to adopt the future default and silence this warning.\n",
      "  pd.concat(\n",
      "/var/folders/2x/rfhzgyjn2zq2wlzk_kn4th680000gn/T/ipykernel_9315/2342058334.py:2: FutureWarning: The default of observed=False is deprecated and will be changed to True in a future version of pandas. Pass observed=False to retain current behavior or observed=True to adopt the future default and silence this warning.\n",
      "  df = (token_table\n",
      "/var/folders/2x/rfhzgyjn2zq2wlzk_kn4th680000gn/T/ipykernel_9315/2342058334.py:9: FutureWarning: The default of observed=False is deprecated and will be changed to True in a future version of pandas. Pass observed=False to retain current behavior or observed=True to adopt the future default and silence this warning.\n",
      "  pd.concat(\n",
      "/var/folders/2x/rfhzgyjn2zq2wlzk_kn4th680000gn/T/ipykernel_9315/2342058334.py:19: FutureWarning: The default of observed=False is deprecated and will be changed to True in a future version of pandas. Pass observed=False to retain current behavior or observed=True to adopt the future default and silence this warning.\n",
      "  pd.concat(\n"
     ]
    },
    {
     "name": "stdout",
     "output_type": "stream",
     "text": [
      "150016\n"
     ]
    },
    {
     "name": "stderr",
     "output_type": "stream",
     "text": [
      "/var/folders/2x/rfhzgyjn2zq2wlzk_kn4th680000gn/T/ipykernel_9315/2342058334.py:2: FutureWarning: The default of observed=False is deprecated and will be changed to True in a future version of pandas. Pass observed=False to retain current behavior or observed=True to adopt the future default and silence this warning.\n",
      "  df = (token_table\n",
      "/var/folders/2x/rfhzgyjn2zq2wlzk_kn4th680000gn/T/ipykernel_9315/2342058334.py:9: FutureWarning: The default of observed=False is deprecated and will be changed to True in a future version of pandas. Pass observed=False to retain current behavior or observed=True to adopt the future default and silence this warning.\n",
      "  pd.concat(\n",
      "/var/folders/2x/rfhzgyjn2zq2wlzk_kn4th680000gn/T/ipykernel_9315/2342058334.py:19: FutureWarning: The default of observed=False is deprecated and will be changed to True in a future version of pandas. Pass observed=False to retain current behavior or observed=True to adopt the future default and silence this warning.\n",
      "  pd.concat(\n"
     ]
    },
    {
     "name": "stdout",
     "output_type": "stream",
     "text": [
      "150017\n"
     ]
    },
    {
     "name": "stderr",
     "output_type": "stream",
     "text": [
      "/var/folders/2x/rfhzgyjn2zq2wlzk_kn4th680000gn/T/ipykernel_9315/2342058334.py:2: FutureWarning: The default of observed=False is deprecated and will be changed to True in a future version of pandas. Pass observed=False to retain current behavior or observed=True to adopt the future default and silence this warning.\n",
      "  df = (token_table\n",
      "/var/folders/2x/rfhzgyjn2zq2wlzk_kn4th680000gn/T/ipykernel_9315/2342058334.py:9: FutureWarning: The default of observed=False is deprecated and will be changed to True in a future version of pandas. Pass observed=False to retain current behavior or observed=True to adopt the future default and silence this warning.\n",
      "  pd.concat(\n",
      "/var/folders/2x/rfhzgyjn2zq2wlzk_kn4th680000gn/T/ipykernel_9315/2342058334.py:19: FutureWarning: The default of observed=False is deprecated and will be changed to True in a future version of pandas. Pass observed=False to retain current behavior or observed=True to adopt the future default and silence this warning.\n",
      "  pd.concat(\n",
      "/var/folders/2x/rfhzgyjn2zq2wlzk_kn4th680000gn/T/ipykernel_9315/2342058334.py:2: FutureWarning: The default of observed=False is deprecated and will be changed to True in a future version of pandas. Pass observed=False to retain current behavior or observed=True to adopt the future default and silence this warning.\n",
      "  df = (token_table\n",
      "/var/folders/2x/rfhzgyjn2zq2wlzk_kn4th680000gn/T/ipykernel_9315/2342058334.py:9: FutureWarning: The default of observed=False is deprecated and will be changed to True in a future version of pandas. Pass observed=False to retain current behavior or observed=True to adopt the future default and silence this warning.\n",
      "  pd.concat(\n"
     ]
    },
    {
     "name": "stdout",
     "output_type": "stream",
     "text": [
      "150018\n",
      "150019\n"
     ]
    },
    {
     "name": "stderr",
     "output_type": "stream",
     "text": [
      "/var/folders/2x/rfhzgyjn2zq2wlzk_kn4th680000gn/T/ipykernel_9315/2342058334.py:19: FutureWarning: The default of observed=False is deprecated and will be changed to True in a future version of pandas. Pass observed=False to retain current behavior or observed=True to adopt the future default and silence this warning.\n",
      "  pd.concat(\n",
      "/var/folders/2x/rfhzgyjn2zq2wlzk_kn4th680000gn/T/ipykernel_9315/2342058334.py:2: FutureWarning: The default of observed=False is deprecated and will be changed to True in a future version of pandas. Pass observed=False to retain current behavior or observed=True to adopt the future default and silence this warning.\n",
      "  df = (token_table\n",
      "/var/folders/2x/rfhzgyjn2zq2wlzk_kn4th680000gn/T/ipykernel_9315/2342058334.py:9: FutureWarning: The default of observed=False is deprecated and will be changed to True in a future version of pandas. Pass observed=False to retain current behavior or observed=True to adopt the future default and silence this warning.\n",
      "  pd.concat(\n",
      "/var/folders/2x/rfhzgyjn2zq2wlzk_kn4th680000gn/T/ipykernel_9315/2342058334.py:19: FutureWarning: The default of observed=False is deprecated and will be changed to True in a future version of pandas. Pass observed=False to retain current behavior or observed=True to adopt the future default and silence this warning.\n",
      "  pd.concat(\n"
     ]
    },
    {
     "name": "stdout",
     "output_type": "stream",
     "text": [
      "150020\n",
      "150021\n"
     ]
    },
    {
     "name": "stderr",
     "output_type": "stream",
     "text": [
      "/var/folders/2x/rfhzgyjn2zq2wlzk_kn4th680000gn/T/ipykernel_9315/2342058334.py:2: FutureWarning: The default of observed=False is deprecated and will be changed to True in a future version of pandas. Pass observed=False to retain current behavior or observed=True to adopt the future default and silence this warning.\n",
      "  df = (token_table\n",
      "/var/folders/2x/rfhzgyjn2zq2wlzk_kn4th680000gn/T/ipykernel_9315/2342058334.py:9: FutureWarning: The default of observed=False is deprecated and will be changed to True in a future version of pandas. Pass observed=False to retain current behavior or observed=True to adopt the future default and silence this warning.\n",
      "  pd.concat(\n",
      "/var/folders/2x/rfhzgyjn2zq2wlzk_kn4th680000gn/T/ipykernel_9315/2342058334.py:19: FutureWarning: The default of observed=False is deprecated and will be changed to True in a future version of pandas. Pass observed=False to retain current behavior or observed=True to adopt the future default and silence this warning.\n",
      "  pd.concat(\n",
      "/var/folders/2x/rfhzgyjn2zq2wlzk_kn4th680000gn/T/ipykernel_9315/2342058334.py:2: FutureWarning: The default of observed=False is deprecated and will be changed to True in a future version of pandas. Pass observed=False to retain current behavior or observed=True to adopt the future default and silence this warning.\n",
      "  df = (token_table\n",
      "/var/folders/2x/rfhzgyjn2zq2wlzk_kn4th680000gn/T/ipykernel_9315/2342058334.py:9: FutureWarning: The default of observed=False is deprecated and will be changed to True in a future version of pandas. Pass observed=False to retain current behavior or observed=True to adopt the future default and silence this warning.\n",
      "  pd.concat(\n",
      "/var/folders/2x/rfhzgyjn2zq2wlzk_kn4th680000gn/T/ipykernel_9315/2342058334.py:19: FutureWarning: The default of observed=False is deprecated and will be changed to True in a future version of pandas. Pass observed=False to retain current behavior or observed=True to adopt the future default and silence this warning.\n",
      "  pd.concat(\n",
      "/var/folders/2x/rfhzgyjn2zq2wlzk_kn4th680000gn/T/ipykernel_9315/2342058334.py:2: FutureWarning: The default of observed=False is deprecated and will be changed to True in a future version of pandas. Pass observed=False to retain current behavior or observed=True to adopt the future default and silence this warning.\n",
      "  df = (token_table\n",
      "/var/folders/2x/rfhzgyjn2zq2wlzk_kn4th680000gn/T/ipykernel_9315/2342058334.py:9: FutureWarning: The default of observed=False is deprecated and will be changed to True in a future version of pandas. Pass observed=False to retain current behavior or observed=True to adopt the future default and silence this warning.\n",
      "  pd.concat(\n",
      "/var/folders/2x/rfhzgyjn2zq2wlzk_kn4th680000gn/T/ipykernel_9315/2342058334.py:19: FutureWarning: The default of observed=False is deprecated and will be changed to True in a future version of pandas. Pass observed=False to retain current behavior or observed=True to adopt the future default and silence this warning.\n",
      "  pd.concat(\n"
     ]
    },
    {
     "name": "stdout",
     "output_type": "stream",
     "text": [
      "150022\n",
      "150023\n"
     ]
    },
    {
     "name": "stderr",
     "output_type": "stream",
     "text": [
      "/var/folders/2x/rfhzgyjn2zq2wlzk_kn4th680000gn/T/ipykernel_9315/2342058334.py:2: FutureWarning: The default of observed=False is deprecated and will be changed to True in a future version of pandas. Pass observed=False to retain current behavior or observed=True to adopt the future default and silence this warning.\n",
      "  df = (token_table\n",
      "/var/folders/2x/rfhzgyjn2zq2wlzk_kn4th680000gn/T/ipykernel_9315/2342058334.py:9: FutureWarning: The default of observed=False is deprecated and will be changed to True in a future version of pandas. Pass observed=False to retain current behavior or observed=True to adopt the future default and silence this warning.\n",
      "  pd.concat(\n",
      "/var/folders/2x/rfhzgyjn2zq2wlzk_kn4th680000gn/T/ipykernel_9315/2342058334.py:19: FutureWarning: The default of observed=False is deprecated and will be changed to True in a future version of pandas. Pass observed=False to retain current behavior or observed=True to adopt the future default and silence this warning.\n",
      "  pd.concat(\n",
      "/var/folders/2x/rfhzgyjn2zq2wlzk_kn4th680000gn/T/ipykernel_9315/2342058334.py:2: FutureWarning: The default of observed=False is deprecated and will be changed to True in a future version of pandas. Pass observed=False to retain current behavior or observed=True to adopt the future default and silence this warning.\n",
      "  df = (token_table\n"
     ]
    },
    {
     "name": "stdout",
     "output_type": "stream",
     "text": [
      "150024\n",
      "150025\n"
     ]
    },
    {
     "name": "stderr",
     "output_type": "stream",
     "text": [
      "/var/folders/2x/rfhzgyjn2zq2wlzk_kn4th680000gn/T/ipykernel_9315/2342058334.py:9: FutureWarning: The default of observed=False is deprecated and will be changed to True in a future version of pandas. Pass observed=False to retain current behavior or observed=True to adopt the future default and silence this warning.\n",
      "  pd.concat(\n",
      "/var/folders/2x/rfhzgyjn2zq2wlzk_kn4th680000gn/T/ipykernel_9315/2342058334.py:19: FutureWarning: The default of observed=False is deprecated and will be changed to True in a future version of pandas. Pass observed=False to retain current behavior or observed=True to adopt the future default and silence this warning.\n",
      "  pd.concat(\n",
      "/var/folders/2x/rfhzgyjn2zq2wlzk_kn4th680000gn/T/ipykernel_9315/2342058334.py:2: FutureWarning: The default of observed=False is deprecated and will be changed to True in a future version of pandas. Pass observed=False to retain current behavior or observed=True to adopt the future default and silence this warning.\n",
      "  df = (token_table\n",
      "/var/folders/2x/rfhzgyjn2zq2wlzk_kn4th680000gn/T/ipykernel_9315/2342058334.py:9: FutureWarning: The default of observed=False is deprecated and will be changed to True in a future version of pandas. Pass observed=False to retain current behavior or observed=True to adopt the future default and silence this warning.\n",
      "  pd.concat(\n",
      "/var/folders/2x/rfhzgyjn2zq2wlzk_kn4th680000gn/T/ipykernel_9315/2342058334.py:19: FutureWarning: The default of observed=False is deprecated and will be changed to True in a future version of pandas. Pass observed=False to retain current behavior or observed=True to adopt the future default and silence this warning.\n",
      "  pd.concat(\n"
     ]
    },
    {
     "name": "stdout",
     "output_type": "stream",
     "text": [
      "150026\n",
      "150027\n"
     ]
    },
    {
     "name": "stderr",
     "output_type": "stream",
     "text": [
      "/var/folders/2x/rfhzgyjn2zq2wlzk_kn4th680000gn/T/ipykernel_9315/2342058334.py:2: FutureWarning: The default of observed=False is deprecated and will be changed to True in a future version of pandas. Pass observed=False to retain current behavior or observed=True to adopt the future default and silence this warning.\n",
      "  df = (token_table\n",
      "/var/folders/2x/rfhzgyjn2zq2wlzk_kn4th680000gn/T/ipykernel_9315/2342058334.py:9: FutureWarning: The default of observed=False is deprecated and will be changed to True in a future version of pandas. Pass observed=False to retain current behavior or observed=True to adopt the future default and silence this warning.\n",
      "  pd.concat(\n",
      "/var/folders/2x/rfhzgyjn2zq2wlzk_kn4th680000gn/T/ipykernel_9315/2342058334.py:19: FutureWarning: The default of observed=False is deprecated and will be changed to True in a future version of pandas. Pass observed=False to retain current behavior or observed=True to adopt the future default and silence this warning.\n",
      "  pd.concat(\n",
      "/var/folders/2x/rfhzgyjn2zq2wlzk_kn4th680000gn/T/ipykernel_9315/2342058334.py:2: FutureWarning: The default of observed=False is deprecated and will be changed to True in a future version of pandas. Pass observed=False to retain current behavior or observed=True to adopt the future default and silence this warning.\n",
      "  df = (token_table\n",
      "/var/folders/2x/rfhzgyjn2zq2wlzk_kn4th680000gn/T/ipykernel_9315/2342058334.py:9: FutureWarning: The default of observed=False is deprecated and will be changed to True in a future version of pandas. Pass observed=False to retain current behavior or observed=True to adopt the future default and silence this warning.\n",
      "  pd.concat(\n",
      "/var/folders/2x/rfhzgyjn2zq2wlzk_kn4th680000gn/T/ipykernel_9315/2342058334.py:19: FutureWarning: The default of observed=False is deprecated and will be changed to True in a future version of pandas. Pass observed=False to retain current behavior or observed=True to adopt the future default and silence this warning.\n",
      "  pd.concat(\n",
      "/var/folders/2x/rfhzgyjn2zq2wlzk_kn4th680000gn/T/ipykernel_9315/2342058334.py:2: FutureWarning: The default of observed=False is deprecated and will be changed to True in a future version of pandas. Pass observed=False to retain current behavior or observed=True to adopt the future default and silence this warning.\n",
      "  df = (token_table\n",
      "/var/folders/2x/rfhzgyjn2zq2wlzk_kn4th680000gn/T/ipykernel_9315/2342058334.py:9: FutureWarning: The default of observed=False is deprecated and will be changed to True in a future version of pandas. Pass observed=False to retain current behavior or observed=True to adopt the future default and silence this warning.\n",
      "  pd.concat(\n"
     ]
    },
    {
     "name": "stdout",
     "output_type": "stream",
     "text": [
      "150028\n",
      "150029\n"
     ]
    },
    {
     "name": "stderr",
     "output_type": "stream",
     "text": [
      "/var/folders/2x/rfhzgyjn2zq2wlzk_kn4th680000gn/T/ipykernel_9315/2342058334.py:19: FutureWarning: The default of observed=False is deprecated and will be changed to True in a future version of pandas. Pass observed=False to retain current behavior or observed=True to adopt the future default and silence this warning.\n",
      "  pd.concat(\n",
      "/var/folders/2x/rfhzgyjn2zq2wlzk_kn4th680000gn/T/ipykernel_9315/2342058334.py:2: FutureWarning: The default of observed=False is deprecated and will be changed to True in a future version of pandas. Pass observed=False to retain current behavior or observed=True to adopt the future default and silence this warning.\n",
      "  df = (token_table\n",
      "/var/folders/2x/rfhzgyjn2zq2wlzk_kn4th680000gn/T/ipykernel_9315/2342058334.py:9: FutureWarning: The default of observed=False is deprecated and will be changed to True in a future version of pandas. Pass observed=False to retain current behavior or observed=True to adopt the future default and silence this warning.\n",
      "  pd.concat(\n",
      "/var/folders/2x/rfhzgyjn2zq2wlzk_kn4th680000gn/T/ipykernel_9315/2342058334.py:19: FutureWarning: The default of observed=False is deprecated and will be changed to True in a future version of pandas. Pass observed=False to retain current behavior or observed=True to adopt the future default and silence this warning.\n",
      "  pd.concat(\n",
      "/var/folders/2x/rfhzgyjn2zq2wlzk_kn4th680000gn/T/ipykernel_9315/2342058334.py:2: FutureWarning: The default of observed=False is deprecated and will be changed to True in a future version of pandas. Pass observed=False to retain current behavior or observed=True to adopt the future default and silence this warning.\n",
      "  df = (token_table\n"
     ]
    },
    {
     "name": "stdout",
     "output_type": "stream",
     "text": [
      "150030\n",
      "150031\n"
     ]
    },
    {
     "name": "stderr",
     "output_type": "stream",
     "text": [
      "/var/folders/2x/rfhzgyjn2zq2wlzk_kn4th680000gn/T/ipykernel_9315/2342058334.py:9: FutureWarning: The default of observed=False is deprecated and will be changed to True in a future version of pandas. Pass observed=False to retain current behavior or observed=True to adopt the future default and silence this warning.\n",
      "  pd.concat(\n",
      "/var/folders/2x/rfhzgyjn2zq2wlzk_kn4th680000gn/T/ipykernel_9315/2342058334.py:19: FutureWarning: The default of observed=False is deprecated and will be changed to True in a future version of pandas. Pass observed=False to retain current behavior or observed=True to adopt the future default and silence this warning.\n",
      "  pd.concat(\n",
      "/var/folders/2x/rfhzgyjn2zq2wlzk_kn4th680000gn/T/ipykernel_9315/2342058334.py:2: FutureWarning: The default of observed=False is deprecated and will be changed to True in a future version of pandas. Pass observed=False to retain current behavior or observed=True to adopt the future default and silence this warning.\n",
      "  df = (token_table\n",
      "/var/folders/2x/rfhzgyjn2zq2wlzk_kn4th680000gn/T/ipykernel_9315/2342058334.py:9: FutureWarning: The default of observed=False is deprecated and will be changed to True in a future version of pandas. Pass observed=False to retain current behavior or observed=True to adopt the future default and silence this warning.\n",
      "  pd.concat(\n",
      "/var/folders/2x/rfhzgyjn2zq2wlzk_kn4th680000gn/T/ipykernel_9315/2342058334.py:19: FutureWarning: The default of observed=False is deprecated and will be changed to True in a future version of pandas. Pass observed=False to retain current behavior or observed=True to adopt the future default and silence this warning.\n",
      "  pd.concat(\n",
      "/var/folders/2x/rfhzgyjn2zq2wlzk_kn4th680000gn/T/ipykernel_9315/2342058334.py:2: FutureWarning: The default of observed=False is deprecated and will be changed to True in a future version of pandas. Pass observed=False to retain current behavior or observed=True to adopt the future default and silence this warning.\n",
      "  df = (token_table\n",
      "/var/folders/2x/rfhzgyjn2zq2wlzk_kn4th680000gn/T/ipykernel_9315/2342058334.py:9: FutureWarning: The default of observed=False is deprecated and will be changed to True in a future version of pandas. Pass observed=False to retain current behavior or observed=True to adopt the future default and silence this warning.\n",
      "  pd.concat(\n",
      "/var/folders/2x/rfhzgyjn2zq2wlzk_kn4th680000gn/T/ipykernel_9315/2342058334.py:19: FutureWarning: The default of observed=False is deprecated and will be changed to True in a future version of pandas. Pass observed=False to retain current behavior or observed=True to adopt the future default and silence this warning.\n",
      "  pd.concat(\n"
     ]
    },
    {
     "name": "stdout",
     "output_type": "stream",
     "text": [
      "150032\n",
      "150033\n"
     ]
    },
    {
     "name": "stderr",
     "output_type": "stream",
     "text": [
      "/var/folders/2x/rfhzgyjn2zq2wlzk_kn4th680000gn/T/ipykernel_9315/2342058334.py:2: FutureWarning: The default of observed=False is deprecated and will be changed to True in a future version of pandas. Pass observed=False to retain current behavior or observed=True to adopt the future default and silence this warning.\n",
      "  df = (token_table\n",
      "/var/folders/2x/rfhzgyjn2zq2wlzk_kn4th680000gn/T/ipykernel_9315/2342058334.py:9: FutureWarning: The default of observed=False is deprecated and will be changed to True in a future version of pandas. Pass observed=False to retain current behavior or observed=True to adopt the future default and silence this warning.\n",
      "  pd.concat(\n",
      "/var/folders/2x/rfhzgyjn2zq2wlzk_kn4th680000gn/T/ipykernel_9315/2342058334.py:19: FutureWarning: The default of observed=False is deprecated and will be changed to True in a future version of pandas. Pass observed=False to retain current behavior or observed=True to adopt the future default and silence this warning.\n",
      "  pd.concat(\n",
      "/var/folders/2x/rfhzgyjn2zq2wlzk_kn4th680000gn/T/ipykernel_9315/2342058334.py:2: FutureWarning: The default of observed=False is deprecated and will be changed to True in a future version of pandas. Pass observed=False to retain current behavior or observed=True to adopt the future default and silence this warning.\n",
      "  df = (token_table\n"
     ]
    },
    {
     "name": "stdout",
     "output_type": "stream",
     "text": [
      "150034\n"
     ]
    },
    {
     "name": "stderr",
     "output_type": "stream",
     "text": [
      "/var/folders/2x/rfhzgyjn2zq2wlzk_kn4th680000gn/T/ipykernel_9315/2342058334.py:9: FutureWarning: The default of observed=False is deprecated and will be changed to True in a future version of pandas. Pass observed=False to retain current behavior or observed=True to adopt the future default and silence this warning.\n",
      "  pd.concat(\n",
      "/var/folders/2x/rfhzgyjn2zq2wlzk_kn4th680000gn/T/ipykernel_9315/2342058334.py:19: FutureWarning: The default of observed=False is deprecated and will be changed to True in a future version of pandas. Pass observed=False to retain current behavior or observed=True to adopt the future default and silence this warning.\n",
      "  pd.concat(\n",
      "/var/folders/2x/rfhzgyjn2zq2wlzk_kn4th680000gn/T/ipykernel_9315/2342058334.py:2: FutureWarning: The default of observed=False is deprecated and will be changed to True in a future version of pandas. Pass observed=False to retain current behavior or observed=True to adopt the future default and silence this warning.\n",
      "  df = (token_table\n",
      "/var/folders/2x/rfhzgyjn2zq2wlzk_kn4th680000gn/T/ipykernel_9315/2342058334.py:9: FutureWarning: The default of observed=False is deprecated and will be changed to True in a future version of pandas. Pass observed=False to retain current behavior or observed=True to adopt the future default and silence this warning.\n",
      "  pd.concat(\n"
     ]
    },
    {
     "name": "stdout",
     "output_type": "stream",
     "text": [
      "150035\n",
      "150036\n"
     ]
    },
    {
     "name": "stderr",
     "output_type": "stream",
     "text": [
      "/var/folders/2x/rfhzgyjn2zq2wlzk_kn4th680000gn/T/ipykernel_9315/2342058334.py:19: FutureWarning: The default of observed=False is deprecated and will be changed to True in a future version of pandas. Pass observed=False to retain current behavior or observed=True to adopt the future default and silence this warning.\n",
      "  pd.concat(\n",
      "/var/folders/2x/rfhzgyjn2zq2wlzk_kn4th680000gn/T/ipykernel_9315/2342058334.py:2: FutureWarning: The default of observed=False is deprecated and will be changed to True in a future version of pandas. Pass observed=False to retain current behavior or observed=True to adopt the future default and silence this warning.\n",
      "  df = (token_table\n",
      "/var/folders/2x/rfhzgyjn2zq2wlzk_kn4th680000gn/T/ipykernel_9315/2342058334.py:9: FutureWarning: The default of observed=False is deprecated and will be changed to True in a future version of pandas. Pass observed=False to retain current behavior or observed=True to adopt the future default and silence this warning.\n",
      "  pd.concat(\n",
      "/var/folders/2x/rfhzgyjn2zq2wlzk_kn4th680000gn/T/ipykernel_9315/2342058334.py:19: FutureWarning: The default of observed=False is deprecated and will be changed to True in a future version of pandas. Pass observed=False to retain current behavior or observed=True to adopt the future default and silence this warning.\n",
      "  pd.concat(\n",
      "/var/folders/2x/rfhzgyjn2zq2wlzk_kn4th680000gn/T/ipykernel_9315/2342058334.py:2: FutureWarning: The default of observed=False is deprecated and will be changed to True in a future version of pandas. Pass observed=False to retain current behavior or observed=True to adopt the future default and silence this warning.\n",
      "  df = (token_table\n"
     ]
    },
    {
     "name": "stdout",
     "output_type": "stream",
     "text": [
      "150037\n",
      "150038\n"
     ]
    },
    {
     "name": "stderr",
     "output_type": "stream",
     "text": [
      "/var/folders/2x/rfhzgyjn2zq2wlzk_kn4th680000gn/T/ipykernel_9315/2342058334.py:9: FutureWarning: The default of observed=False is deprecated and will be changed to True in a future version of pandas. Pass observed=False to retain current behavior or observed=True to adopt the future default and silence this warning.\n",
      "  pd.concat(\n",
      "/var/folders/2x/rfhzgyjn2zq2wlzk_kn4th680000gn/T/ipykernel_9315/2342058334.py:19: FutureWarning: The default of observed=False is deprecated and will be changed to True in a future version of pandas. Pass observed=False to retain current behavior or observed=True to adopt the future default and silence this warning.\n",
      "  pd.concat(\n",
      "/var/folders/2x/rfhzgyjn2zq2wlzk_kn4th680000gn/T/ipykernel_9315/2342058334.py:2: FutureWarning: The default of observed=False is deprecated and will be changed to True in a future version of pandas. Pass observed=False to retain current behavior or observed=True to adopt the future default and silence this warning.\n",
      "  df = (token_table\n",
      "/var/folders/2x/rfhzgyjn2zq2wlzk_kn4th680000gn/T/ipykernel_9315/2342058334.py:9: FutureWarning: The default of observed=False is deprecated and will be changed to True in a future version of pandas. Pass observed=False to retain current behavior or observed=True to adopt the future default and silence this warning.\n",
      "  pd.concat(\n",
      "/var/folders/2x/rfhzgyjn2zq2wlzk_kn4th680000gn/T/ipykernel_9315/2342058334.py:19: FutureWarning: The default of observed=False is deprecated and will be changed to True in a future version of pandas. Pass observed=False to retain current behavior or observed=True to adopt the future default and silence this warning.\n",
      "  pd.concat(\n",
      "/var/folders/2x/rfhzgyjn2zq2wlzk_kn4th680000gn/T/ipykernel_9315/2342058334.py:2: FutureWarning: The default of observed=False is deprecated and will be changed to True in a future version of pandas. Pass observed=False to retain current behavior or observed=True to adopt the future default and silence this warning.\n",
      "  df = (token_table\n",
      "/var/folders/2x/rfhzgyjn2zq2wlzk_kn4th680000gn/T/ipykernel_9315/2342058334.py:9: FutureWarning: The default of observed=False is deprecated and will be changed to True in a future version of pandas. Pass observed=False to retain current behavior or observed=True to adopt the future default and silence this warning.\n",
      "  pd.concat(\n",
      "/var/folders/2x/rfhzgyjn2zq2wlzk_kn4th680000gn/T/ipykernel_9315/2342058334.py:19: FutureWarning: The default of observed=False is deprecated and will be changed to True in a future version of pandas. Pass observed=False to retain current behavior or observed=True to adopt the future default and silence this warning.\n",
      "  pd.concat(\n"
     ]
    },
    {
     "name": "stdout",
     "output_type": "stream",
     "text": [
      "150039\n",
      "150040\n"
     ]
    },
    {
     "name": "stderr",
     "output_type": "stream",
     "text": [
      "/var/folders/2x/rfhzgyjn2zq2wlzk_kn4th680000gn/T/ipykernel_9315/2342058334.py:2: FutureWarning: The default of observed=False is deprecated and will be changed to True in a future version of pandas. Pass observed=False to retain current behavior or observed=True to adopt the future default and silence this warning.\n",
      "  df = (token_table\n",
      "/var/folders/2x/rfhzgyjn2zq2wlzk_kn4th680000gn/T/ipykernel_9315/2342058334.py:9: FutureWarning: The default of observed=False is deprecated and will be changed to True in a future version of pandas. Pass observed=False to retain current behavior or observed=True to adopt the future default and silence this warning.\n",
      "  pd.concat(\n",
      "/var/folders/2x/rfhzgyjn2zq2wlzk_kn4th680000gn/T/ipykernel_9315/2342058334.py:19: FutureWarning: The default of observed=False is deprecated and will be changed to True in a future version of pandas. Pass observed=False to retain current behavior or observed=True to adopt the future default and silence this warning.\n",
      "  pd.concat(\n"
     ]
    },
    {
     "name": "stdout",
     "output_type": "stream",
     "text": [
      "150041\n"
     ]
    },
    {
     "name": "stderr",
     "output_type": "stream",
     "text": [
      "/var/folders/2x/rfhzgyjn2zq2wlzk_kn4th680000gn/T/ipykernel_9315/2342058334.py:2: FutureWarning: The default of observed=False is deprecated and will be changed to True in a future version of pandas. Pass observed=False to retain current behavior or observed=True to adopt the future default and silence this warning.\n",
      "  df = (token_table\n",
      "/var/folders/2x/rfhzgyjn2zq2wlzk_kn4th680000gn/T/ipykernel_9315/2342058334.py:9: FutureWarning: The default of observed=False is deprecated and will be changed to True in a future version of pandas. Pass observed=False to retain current behavior or observed=True to adopt the future default and silence this warning.\n",
      "  pd.concat(\n",
      "/var/folders/2x/rfhzgyjn2zq2wlzk_kn4th680000gn/T/ipykernel_9315/2342058334.py:19: FutureWarning: The default of observed=False is deprecated and will be changed to True in a future version of pandas. Pass observed=False to retain current behavior or observed=True to adopt the future default and silence this warning.\n",
      "  pd.concat(\n",
      "/var/folders/2x/rfhzgyjn2zq2wlzk_kn4th680000gn/T/ipykernel_9315/2342058334.py:2: FutureWarning: The default of observed=False is deprecated and will be changed to True in a future version of pandas. Pass observed=False to retain current behavior or observed=True to adopt the future default and silence this warning.\n",
      "  df = (token_table\n"
     ]
    },
    {
     "name": "stdout",
     "output_type": "stream",
     "text": [
      "150042\n",
      "150043\n"
     ]
    },
    {
     "name": "stderr",
     "output_type": "stream",
     "text": [
      "/var/folders/2x/rfhzgyjn2zq2wlzk_kn4th680000gn/T/ipykernel_9315/2342058334.py:9: FutureWarning: The default of observed=False is deprecated and will be changed to True in a future version of pandas. Pass observed=False to retain current behavior or observed=True to adopt the future default and silence this warning.\n",
      "  pd.concat(\n",
      "/var/folders/2x/rfhzgyjn2zq2wlzk_kn4th680000gn/T/ipykernel_9315/2342058334.py:19: FutureWarning: The default of observed=False is deprecated and will be changed to True in a future version of pandas. Pass observed=False to retain current behavior or observed=True to adopt the future default and silence this warning.\n",
      "  pd.concat(\n",
      "/var/folders/2x/rfhzgyjn2zq2wlzk_kn4th680000gn/T/ipykernel_9315/2342058334.py:2: FutureWarning: The default of observed=False is deprecated and will be changed to True in a future version of pandas. Pass observed=False to retain current behavior or observed=True to adopt the future default and silence this warning.\n",
      "  df = (token_table\n",
      "/var/folders/2x/rfhzgyjn2zq2wlzk_kn4th680000gn/T/ipykernel_9315/2342058334.py:9: FutureWarning: The default of observed=False is deprecated and will be changed to True in a future version of pandas. Pass observed=False to retain current behavior or observed=True to adopt the future default and silence this warning.\n",
      "  pd.concat(\n",
      "/var/folders/2x/rfhzgyjn2zq2wlzk_kn4th680000gn/T/ipykernel_9315/2342058334.py:19: FutureWarning: The default of observed=False is deprecated and will be changed to True in a future version of pandas. Pass observed=False to retain current behavior or observed=True to adopt the future default and silence this warning.\n",
      "  pd.concat(\n",
      "/var/folders/2x/rfhzgyjn2zq2wlzk_kn4th680000gn/T/ipykernel_9315/2342058334.py:2: FutureWarning: The default of observed=False is deprecated and will be changed to True in a future version of pandas. Pass observed=False to retain current behavior or observed=True to adopt the future default and silence this warning.\n",
      "  df = (token_table\n",
      "/var/folders/2x/rfhzgyjn2zq2wlzk_kn4th680000gn/T/ipykernel_9315/2342058334.py:9: FutureWarning: The default of observed=False is deprecated and will be changed to True in a future version of pandas. Pass observed=False to retain current behavior or observed=True to adopt the future default and silence this warning.\n",
      "  pd.concat(\n"
     ]
    },
    {
     "name": "stdout",
     "output_type": "stream",
     "text": [
      "150044\n",
      "150045\n"
     ]
    },
    {
     "name": "stderr",
     "output_type": "stream",
     "text": [
      "/var/folders/2x/rfhzgyjn2zq2wlzk_kn4th680000gn/T/ipykernel_9315/2342058334.py:19: FutureWarning: The default of observed=False is deprecated and will be changed to True in a future version of pandas. Pass observed=False to retain current behavior or observed=True to adopt the future default and silence this warning.\n",
      "  pd.concat(\n",
      "/var/folders/2x/rfhzgyjn2zq2wlzk_kn4th680000gn/T/ipykernel_9315/2342058334.py:2: FutureWarning: The default of observed=False is deprecated and will be changed to True in a future version of pandas. Pass observed=False to retain current behavior or observed=True to adopt the future default and silence this warning.\n",
      "  df = (token_table\n",
      "/var/folders/2x/rfhzgyjn2zq2wlzk_kn4th680000gn/T/ipykernel_9315/2342058334.py:9: FutureWarning: The default of observed=False is deprecated and will be changed to True in a future version of pandas. Pass observed=False to retain current behavior or observed=True to adopt the future default and silence this warning.\n",
      "  pd.concat(\n",
      "/var/folders/2x/rfhzgyjn2zq2wlzk_kn4th680000gn/T/ipykernel_9315/2342058334.py:19: FutureWarning: The default of observed=False is deprecated and will be changed to True in a future version of pandas. Pass observed=False to retain current behavior or observed=True to adopt the future default and silence this warning.\n",
      "  pd.concat(\n"
     ]
    },
    {
     "name": "stdout",
     "output_type": "stream",
     "text": [
      "150046\n",
      "150047\n"
     ]
    },
    {
     "name": "stderr",
     "output_type": "stream",
     "text": [
      "/var/folders/2x/rfhzgyjn2zq2wlzk_kn4th680000gn/T/ipykernel_9315/2342058334.py:2: FutureWarning: The default of observed=False is deprecated and will be changed to True in a future version of pandas. Pass observed=False to retain current behavior or observed=True to adopt the future default and silence this warning.\n",
      "  df = (token_table\n",
      "/var/folders/2x/rfhzgyjn2zq2wlzk_kn4th680000gn/T/ipykernel_9315/2342058334.py:9: FutureWarning: The default of observed=False is deprecated and will be changed to True in a future version of pandas. Pass observed=False to retain current behavior or observed=True to adopt the future default and silence this warning.\n",
      "  pd.concat(\n",
      "/var/folders/2x/rfhzgyjn2zq2wlzk_kn4th680000gn/T/ipykernel_9315/2342058334.py:19: FutureWarning: The default of observed=False is deprecated and will be changed to True in a future version of pandas. Pass observed=False to retain current behavior or observed=True to adopt the future default and silence this warning.\n",
      "  pd.concat(\n",
      "/var/folders/2x/rfhzgyjn2zq2wlzk_kn4th680000gn/T/ipykernel_9315/2342058334.py:2: FutureWarning: The default of observed=False is deprecated and will be changed to True in a future version of pandas. Pass observed=False to retain current behavior or observed=True to adopt the future default and silence this warning.\n",
      "  df = (token_table\n",
      "/var/folders/2x/rfhzgyjn2zq2wlzk_kn4th680000gn/T/ipykernel_9315/2342058334.py:9: FutureWarning: The default of observed=False is deprecated and will be changed to True in a future version of pandas. Pass observed=False to retain current behavior or observed=True to adopt the future default and silence this warning.\n",
      "  pd.concat(\n",
      "/var/folders/2x/rfhzgyjn2zq2wlzk_kn4th680000gn/T/ipykernel_9315/2342058334.py:19: FutureWarning: The default of observed=False is deprecated and will be changed to True in a future version of pandas. Pass observed=False to retain current behavior or observed=True to adopt the future default and silence this warning.\n",
      "  pd.concat(\n",
      "/var/folders/2x/rfhzgyjn2zq2wlzk_kn4th680000gn/T/ipykernel_9315/2342058334.py:2: FutureWarning: The default of observed=False is deprecated and will be changed to True in a future version of pandas. Pass observed=False to retain current behavior or observed=True to adopt the future default and silence this warning.\n",
      "  df = (token_table\n"
     ]
    },
    {
     "name": "stdout",
     "output_type": "stream",
     "text": [
      "160001\n"
     ]
    },
    {
     "name": "stderr",
     "output_type": "stream",
     "text": [
      "/var/folders/2x/rfhzgyjn2zq2wlzk_kn4th680000gn/T/ipykernel_9315/2342058334.py:9: FutureWarning: The default of observed=False is deprecated and will be changed to True in a future version of pandas. Pass observed=False to retain current behavior or observed=True to adopt the future default and silence this warning.\n",
      "  pd.concat(\n",
      "/var/folders/2x/rfhzgyjn2zq2wlzk_kn4th680000gn/T/ipykernel_9315/2342058334.py:19: FutureWarning: The default of observed=False is deprecated and will be changed to True in a future version of pandas. Pass observed=False to retain current behavior or observed=True to adopt the future default and silence this warning.\n",
      "  pd.concat(\n",
      "/var/folders/2x/rfhzgyjn2zq2wlzk_kn4th680000gn/T/ipykernel_9315/2342058334.py:2: FutureWarning: The default of observed=False is deprecated and will be changed to True in a future version of pandas. Pass observed=False to retain current behavior or observed=True to adopt the future default and silence this warning.\n",
      "  df = (token_table\n",
      "/var/folders/2x/rfhzgyjn2zq2wlzk_kn4th680000gn/T/ipykernel_9315/2342058334.py:9: FutureWarning: The default of observed=False is deprecated and will be changed to True in a future version of pandas. Pass observed=False to retain current behavior or observed=True to adopt the future default and silence this warning.\n",
      "  pd.concat(\n"
     ]
    },
    {
     "name": "stdout",
     "output_type": "stream",
     "text": [
      "160002\n"
     ]
    },
    {
     "name": "stderr",
     "output_type": "stream",
     "text": [
      "/var/folders/2x/rfhzgyjn2zq2wlzk_kn4th680000gn/T/ipykernel_9315/2342058334.py:19: FutureWarning: The default of observed=False is deprecated and will be changed to True in a future version of pandas. Pass observed=False to retain current behavior or observed=True to adopt the future default and silence this warning.\n",
      "  pd.concat(\n"
     ]
    },
    {
     "name": "stdout",
     "output_type": "stream",
     "text": [
      "160003\n"
     ]
    },
    {
     "name": "stderr",
     "output_type": "stream",
     "text": [
      "/var/folders/2x/rfhzgyjn2zq2wlzk_kn4th680000gn/T/ipykernel_9315/2342058334.py:2: FutureWarning: The default of observed=False is deprecated and will be changed to True in a future version of pandas. Pass observed=False to retain current behavior or observed=True to adopt the future default and silence this warning.\n",
      "  df = (token_table\n",
      "/var/folders/2x/rfhzgyjn2zq2wlzk_kn4th680000gn/T/ipykernel_9315/2342058334.py:9: FutureWarning: The default of observed=False is deprecated and will be changed to True in a future version of pandas. Pass observed=False to retain current behavior or observed=True to adopt the future default and silence this warning.\n",
      "  pd.concat(\n",
      "/var/folders/2x/rfhzgyjn2zq2wlzk_kn4th680000gn/T/ipykernel_9315/2342058334.py:19: FutureWarning: The default of observed=False is deprecated and will be changed to True in a future version of pandas. Pass observed=False to retain current behavior or observed=True to adopt the future default and silence this warning.\n",
      "  pd.concat(\n"
     ]
    },
    {
     "name": "stdout",
     "output_type": "stream",
     "text": [
      "160004\n",
      "160005\n"
     ]
    },
    {
     "name": "stderr",
     "output_type": "stream",
     "text": [
      "/var/folders/2x/rfhzgyjn2zq2wlzk_kn4th680000gn/T/ipykernel_9315/2342058334.py:2: FutureWarning: The default of observed=False is deprecated and will be changed to True in a future version of pandas. Pass observed=False to retain current behavior or observed=True to adopt the future default and silence this warning.\n",
      "  df = (token_table\n",
      "/var/folders/2x/rfhzgyjn2zq2wlzk_kn4th680000gn/T/ipykernel_9315/2342058334.py:9: FutureWarning: The default of observed=False is deprecated and will be changed to True in a future version of pandas. Pass observed=False to retain current behavior or observed=True to adopt the future default and silence this warning.\n",
      "  pd.concat(\n",
      "/var/folders/2x/rfhzgyjn2zq2wlzk_kn4th680000gn/T/ipykernel_9315/2342058334.py:19: FutureWarning: The default of observed=False is deprecated and will be changed to True in a future version of pandas. Pass observed=False to retain current behavior or observed=True to adopt the future default and silence this warning.\n",
      "  pd.concat(\n",
      "/var/folders/2x/rfhzgyjn2zq2wlzk_kn4th680000gn/T/ipykernel_9315/2342058334.py:2: FutureWarning: The default of observed=False is deprecated and will be changed to True in a future version of pandas. Pass observed=False to retain current behavior or observed=True to adopt the future default and silence this warning.\n",
      "  df = (token_table\n",
      "/var/folders/2x/rfhzgyjn2zq2wlzk_kn4th680000gn/T/ipykernel_9315/2342058334.py:9: FutureWarning: The default of observed=False is deprecated and will be changed to True in a future version of pandas. Pass observed=False to retain current behavior or observed=True to adopt the future default and silence this warning.\n",
      "  pd.concat(\n",
      "/var/folders/2x/rfhzgyjn2zq2wlzk_kn4th680000gn/T/ipykernel_9315/2342058334.py:19: FutureWarning: The default of observed=False is deprecated and will be changed to True in a future version of pandas. Pass observed=False to retain current behavior or observed=True to adopt the future default and silence this warning.\n",
      "  pd.concat(\n",
      "/var/folders/2x/rfhzgyjn2zq2wlzk_kn4th680000gn/T/ipykernel_9315/2342058334.py:2: FutureWarning: The default of observed=False is deprecated and will be changed to True in a future version of pandas. Pass observed=False to retain current behavior or observed=True to adopt the future default and silence this warning.\n",
      "  df = (token_table\n"
     ]
    },
    {
     "name": "stdout",
     "output_type": "stream",
     "text": [
      "160006\n",
      "160007\n"
     ]
    },
    {
     "name": "stderr",
     "output_type": "stream",
     "text": [
      "/var/folders/2x/rfhzgyjn2zq2wlzk_kn4th680000gn/T/ipykernel_9315/2342058334.py:9: FutureWarning: The default of observed=False is deprecated and will be changed to True in a future version of pandas. Pass observed=False to retain current behavior or observed=True to adopt the future default and silence this warning.\n",
      "  pd.concat(\n",
      "/var/folders/2x/rfhzgyjn2zq2wlzk_kn4th680000gn/T/ipykernel_9315/2342058334.py:19: FutureWarning: The default of observed=False is deprecated and will be changed to True in a future version of pandas. Pass observed=False to retain current behavior or observed=True to adopt the future default and silence this warning.\n",
      "  pd.concat(\n",
      "/var/folders/2x/rfhzgyjn2zq2wlzk_kn4th680000gn/T/ipykernel_9315/2342058334.py:2: FutureWarning: The default of observed=False is deprecated and will be changed to True in a future version of pandas. Pass observed=False to retain current behavior or observed=True to adopt the future default and silence this warning.\n",
      "  df = (token_table\n",
      "/var/folders/2x/rfhzgyjn2zq2wlzk_kn4th680000gn/T/ipykernel_9315/2342058334.py:9: FutureWarning: The default of observed=False is deprecated and will be changed to True in a future version of pandas. Pass observed=False to retain current behavior or observed=True to adopt the future default and silence this warning.\n",
      "  pd.concat(\n",
      "/var/folders/2x/rfhzgyjn2zq2wlzk_kn4th680000gn/T/ipykernel_9315/2342058334.py:19: FutureWarning: The default of observed=False is deprecated and will be changed to True in a future version of pandas. Pass observed=False to retain current behavior or observed=True to adopt the future default and silence this warning.\n",
      "  pd.concat(\n",
      "/var/folders/2x/rfhzgyjn2zq2wlzk_kn4th680000gn/T/ipykernel_9315/2342058334.py:2: FutureWarning: The default of observed=False is deprecated and will be changed to True in a future version of pandas. Pass observed=False to retain current behavior or observed=True to adopt the future default and silence this warning.\n",
      "  df = (token_table\n",
      "/var/folders/2x/rfhzgyjn2zq2wlzk_kn4th680000gn/T/ipykernel_9315/2342058334.py:9: FutureWarning: The default of observed=False is deprecated and will be changed to True in a future version of pandas. Pass observed=False to retain current behavior or observed=True to adopt the future default and silence this warning.\n",
      "  pd.concat(\n",
      "/var/folders/2x/rfhzgyjn2zq2wlzk_kn4th680000gn/T/ipykernel_9315/2342058334.py:19: FutureWarning: The default of observed=False is deprecated and will be changed to True in a future version of pandas. Pass observed=False to retain current behavior or observed=True to adopt the future default and silence this warning.\n",
      "  pd.concat(\n"
     ]
    },
    {
     "name": "stdout",
     "output_type": "stream",
     "text": [
      "160008\n",
      "160009\n"
     ]
    },
    {
     "name": "stderr",
     "output_type": "stream",
     "text": [
      "/var/folders/2x/rfhzgyjn2zq2wlzk_kn4th680000gn/T/ipykernel_9315/2342058334.py:2: FutureWarning: The default of observed=False is deprecated and will be changed to True in a future version of pandas. Pass observed=False to retain current behavior or observed=True to adopt the future default and silence this warning.\n",
      "  df = (token_table\n",
      "/var/folders/2x/rfhzgyjn2zq2wlzk_kn4th680000gn/T/ipykernel_9315/2342058334.py:9: FutureWarning: The default of observed=False is deprecated and will be changed to True in a future version of pandas. Pass observed=False to retain current behavior or observed=True to adopt the future default and silence this warning.\n",
      "  pd.concat(\n",
      "/var/folders/2x/rfhzgyjn2zq2wlzk_kn4th680000gn/T/ipykernel_9315/2342058334.py:19: FutureWarning: The default of observed=False is deprecated and will be changed to True in a future version of pandas. Pass observed=False to retain current behavior or observed=True to adopt the future default and silence this warning.\n",
      "  pd.concat(\n"
     ]
    },
    {
     "name": "stdout",
     "output_type": "stream",
     "text": [
      "160010\n",
      "160011\n"
     ]
    },
    {
     "name": "stderr",
     "output_type": "stream",
     "text": [
      "/var/folders/2x/rfhzgyjn2zq2wlzk_kn4th680000gn/T/ipykernel_9315/2342058334.py:2: FutureWarning: The default of observed=False is deprecated and will be changed to True in a future version of pandas. Pass observed=False to retain current behavior or observed=True to adopt the future default and silence this warning.\n",
      "  df = (token_table\n",
      "/var/folders/2x/rfhzgyjn2zq2wlzk_kn4th680000gn/T/ipykernel_9315/2342058334.py:9: FutureWarning: The default of observed=False is deprecated and will be changed to True in a future version of pandas. Pass observed=False to retain current behavior or observed=True to adopt the future default and silence this warning.\n",
      "  pd.concat(\n",
      "/var/folders/2x/rfhzgyjn2zq2wlzk_kn4th680000gn/T/ipykernel_9315/2342058334.py:19: FutureWarning: The default of observed=False is deprecated and will be changed to True in a future version of pandas. Pass observed=False to retain current behavior or observed=True to adopt the future default and silence this warning.\n",
      "  pd.concat(\n",
      "/var/folders/2x/rfhzgyjn2zq2wlzk_kn4th680000gn/T/ipykernel_9315/2342058334.py:2: FutureWarning: The default of observed=False is deprecated and will be changed to True in a future version of pandas. Pass observed=False to retain current behavior or observed=True to adopt the future default and silence this warning.\n",
      "  df = (token_table\n",
      "/var/folders/2x/rfhzgyjn2zq2wlzk_kn4th680000gn/T/ipykernel_9315/2342058334.py:9: FutureWarning: The default of observed=False is deprecated and will be changed to True in a future version of pandas. Pass observed=False to retain current behavior or observed=True to adopt the future default and silence this warning.\n",
      "  pd.concat(\n",
      "/var/folders/2x/rfhzgyjn2zq2wlzk_kn4th680000gn/T/ipykernel_9315/2342058334.py:19: FutureWarning: The default of observed=False is deprecated and will be changed to True in a future version of pandas. Pass observed=False to retain current behavior or observed=True to adopt the future default and silence this warning.\n",
      "  pd.concat(\n",
      "/var/folders/2x/rfhzgyjn2zq2wlzk_kn4th680000gn/T/ipykernel_9315/2342058334.py:2: FutureWarning: The default of observed=False is deprecated and will be changed to True in a future version of pandas. Pass observed=False to retain current behavior or observed=True to adopt the future default and silence this warning.\n",
      "  df = (token_table\n",
      "/var/folders/2x/rfhzgyjn2zq2wlzk_kn4th680000gn/T/ipykernel_9315/2342058334.py:9: FutureWarning: The default of observed=False is deprecated and will be changed to True in a future version of pandas. Pass observed=False to retain current behavior or observed=True to adopt the future default and silence this warning.\n",
      "  pd.concat(\n",
      "/var/folders/2x/rfhzgyjn2zq2wlzk_kn4th680000gn/T/ipykernel_9315/2342058334.py:19: FutureWarning: The default of observed=False is deprecated and will be changed to True in a future version of pandas. Pass observed=False to retain current behavior or observed=True to adopt the future default and silence this warning.\n",
      "  pd.concat(\n"
     ]
    },
    {
     "name": "stdout",
     "output_type": "stream",
     "text": [
      "160012\n",
      "160013\n"
     ]
    },
    {
     "name": "stderr",
     "output_type": "stream",
     "text": [
      "/var/folders/2x/rfhzgyjn2zq2wlzk_kn4th680000gn/T/ipykernel_9315/2342058334.py:2: FutureWarning: The default of observed=False is deprecated and will be changed to True in a future version of pandas. Pass observed=False to retain current behavior or observed=True to adopt the future default and silence this warning.\n",
      "  df = (token_table\n",
      "/var/folders/2x/rfhzgyjn2zq2wlzk_kn4th680000gn/T/ipykernel_9315/2342058334.py:9: FutureWarning: The default of observed=False is deprecated and will be changed to True in a future version of pandas. Pass observed=False to retain current behavior or observed=True to adopt the future default and silence this warning.\n",
      "  pd.concat(\n",
      "/var/folders/2x/rfhzgyjn2zq2wlzk_kn4th680000gn/T/ipykernel_9315/2342058334.py:19: FutureWarning: The default of observed=False is deprecated and will be changed to True in a future version of pandas. Pass observed=False to retain current behavior or observed=True to adopt the future default and silence this warning.\n",
      "  pd.concat(\n",
      "/var/folders/2x/rfhzgyjn2zq2wlzk_kn4th680000gn/T/ipykernel_9315/2342058334.py:2: FutureWarning: The default of observed=False is deprecated and will be changed to True in a future version of pandas. Pass observed=False to retain current behavior or observed=True to adopt the future default and silence this warning.\n",
      "  df = (token_table\n"
     ]
    },
    {
     "name": "stdout",
     "output_type": "stream",
     "text": [
      "160014\n",
      "160015\n"
     ]
    },
    {
     "name": "stderr",
     "output_type": "stream",
     "text": [
      "/var/folders/2x/rfhzgyjn2zq2wlzk_kn4th680000gn/T/ipykernel_9315/2342058334.py:9: FutureWarning: The default of observed=False is deprecated and will be changed to True in a future version of pandas. Pass observed=False to retain current behavior or observed=True to adopt the future default and silence this warning.\n",
      "  pd.concat(\n",
      "/var/folders/2x/rfhzgyjn2zq2wlzk_kn4th680000gn/T/ipykernel_9315/2342058334.py:19: FutureWarning: The default of observed=False is deprecated and will be changed to True in a future version of pandas. Pass observed=False to retain current behavior or observed=True to adopt the future default and silence this warning.\n",
      "  pd.concat(\n",
      "/var/folders/2x/rfhzgyjn2zq2wlzk_kn4th680000gn/T/ipykernel_9315/2342058334.py:2: FutureWarning: The default of observed=False is deprecated and will be changed to True in a future version of pandas. Pass observed=False to retain current behavior or observed=True to adopt the future default and silence this warning.\n",
      "  df = (token_table\n",
      "/var/folders/2x/rfhzgyjn2zq2wlzk_kn4th680000gn/T/ipykernel_9315/2342058334.py:9: FutureWarning: The default of observed=False is deprecated and will be changed to True in a future version of pandas. Pass observed=False to retain current behavior or observed=True to adopt the future default and silence this warning.\n",
      "  pd.concat(\n",
      "/var/folders/2x/rfhzgyjn2zq2wlzk_kn4th680000gn/T/ipykernel_9315/2342058334.py:19: FutureWarning: The default of observed=False is deprecated and will be changed to True in a future version of pandas. Pass observed=False to retain current behavior or observed=True to adopt the future default and silence this warning.\n",
      "  pd.concat(\n"
     ]
    },
    {
     "name": "stdout",
     "output_type": "stream",
     "text": [
      "160016\n",
      "160017\n"
     ]
    },
    {
     "name": "stderr",
     "output_type": "stream",
     "text": [
      "/var/folders/2x/rfhzgyjn2zq2wlzk_kn4th680000gn/T/ipykernel_9315/2342058334.py:2: FutureWarning: The default of observed=False is deprecated and will be changed to True in a future version of pandas. Pass observed=False to retain current behavior or observed=True to adopt the future default and silence this warning.\n",
      "  df = (token_table\n",
      "/var/folders/2x/rfhzgyjn2zq2wlzk_kn4th680000gn/T/ipykernel_9315/2342058334.py:9: FutureWarning: The default of observed=False is deprecated and will be changed to True in a future version of pandas. Pass observed=False to retain current behavior or observed=True to adopt the future default and silence this warning.\n",
      "  pd.concat(\n",
      "/var/folders/2x/rfhzgyjn2zq2wlzk_kn4th680000gn/T/ipykernel_9315/2342058334.py:19: FutureWarning: The default of observed=False is deprecated and will be changed to True in a future version of pandas. Pass observed=False to retain current behavior or observed=True to adopt the future default and silence this warning.\n",
      "  pd.concat(\n",
      "/var/folders/2x/rfhzgyjn2zq2wlzk_kn4th680000gn/T/ipykernel_9315/2342058334.py:2: FutureWarning: The default of observed=False is deprecated and will be changed to True in a future version of pandas. Pass observed=False to retain current behavior or observed=True to adopt the future default and silence this warning.\n",
      "  df = (token_table\n",
      "/var/folders/2x/rfhzgyjn2zq2wlzk_kn4th680000gn/T/ipykernel_9315/2342058334.py:9: FutureWarning: The default of observed=False is deprecated and will be changed to True in a future version of pandas. Pass observed=False to retain current behavior or observed=True to adopt the future default and silence this warning.\n",
      "  pd.concat(\n",
      "/var/folders/2x/rfhzgyjn2zq2wlzk_kn4th680000gn/T/ipykernel_9315/2342058334.py:19: FutureWarning: The default of observed=False is deprecated and will be changed to True in a future version of pandas. Pass observed=False to retain current behavior or observed=True to adopt the future default and silence this warning.\n",
      "  pd.concat(\n"
     ]
    },
    {
     "name": "stdout",
     "output_type": "stream",
     "text": [
      "160018\n"
     ]
    },
    {
     "name": "stderr",
     "output_type": "stream",
     "text": [
      "/var/folders/2x/rfhzgyjn2zq2wlzk_kn4th680000gn/T/ipykernel_9315/2342058334.py:2: FutureWarning: The default of observed=False is deprecated and will be changed to True in a future version of pandas. Pass observed=False to retain current behavior or observed=True to adopt the future default and silence this warning.\n",
      "  df = (token_table\n",
      "/var/folders/2x/rfhzgyjn2zq2wlzk_kn4th680000gn/T/ipykernel_9315/2342058334.py:9: FutureWarning: The default of observed=False is deprecated and will be changed to True in a future version of pandas. Pass observed=False to retain current behavior or observed=True to adopt the future default and silence this warning.\n",
      "  pd.concat(\n",
      "/var/folders/2x/rfhzgyjn2zq2wlzk_kn4th680000gn/T/ipykernel_9315/2342058334.py:19: FutureWarning: The default of observed=False is deprecated and will be changed to True in a future version of pandas. Pass observed=False to retain current behavior or observed=True to adopt the future default and silence this warning.\n",
      "  pd.concat(\n",
      "/var/folders/2x/rfhzgyjn2zq2wlzk_kn4th680000gn/T/ipykernel_9315/2342058334.py:2: FutureWarning: The default of observed=False is deprecated and will be changed to True in a future version of pandas. Pass observed=False to retain current behavior or observed=True to adopt the future default and silence this warning.\n",
      "  df = (token_table\n",
      "/var/folders/2x/rfhzgyjn2zq2wlzk_kn4th680000gn/T/ipykernel_9315/2342058334.py:9: FutureWarning: The default of observed=False is deprecated and will be changed to True in a future version of pandas. Pass observed=False to retain current behavior or observed=True to adopt the future default and silence this warning.\n",
      "  pd.concat(\n"
     ]
    },
    {
     "name": "stdout",
     "output_type": "stream",
     "text": [
      "160019\n"
     ]
    },
    {
     "name": "stderr",
     "output_type": "stream",
     "text": [
      "/var/folders/2x/rfhzgyjn2zq2wlzk_kn4th680000gn/T/ipykernel_9315/2342058334.py:19: FutureWarning: The default of observed=False is deprecated and will be changed to True in a future version of pandas. Pass observed=False to retain current behavior or observed=True to adopt the future default and silence this warning.\n",
      "  pd.concat(\n",
      "/var/folders/2x/rfhzgyjn2zq2wlzk_kn4th680000gn/T/ipykernel_9315/2342058334.py:2: FutureWarning: The default of observed=False is deprecated and will be changed to True in a future version of pandas. Pass observed=False to retain current behavior or observed=True to adopt the future default and silence this warning.\n",
      "  df = (token_table\n"
     ]
    },
    {
     "name": "stdout",
     "output_type": "stream",
     "text": [
      "160020\n"
     ]
    },
    {
     "name": "stderr",
     "output_type": "stream",
     "text": [
      "/var/folders/2x/rfhzgyjn2zq2wlzk_kn4th680000gn/T/ipykernel_9315/2342058334.py:9: FutureWarning: The default of observed=False is deprecated and will be changed to True in a future version of pandas. Pass observed=False to retain current behavior or observed=True to adopt the future default and silence this warning.\n",
      "  pd.concat(\n",
      "/var/folders/2x/rfhzgyjn2zq2wlzk_kn4th680000gn/T/ipykernel_9315/2342058334.py:19: FutureWarning: The default of observed=False is deprecated and will be changed to True in a future version of pandas. Pass observed=False to retain current behavior or observed=True to adopt the future default and silence this warning.\n",
      "  pd.concat(\n",
      "/var/folders/2x/rfhzgyjn2zq2wlzk_kn4th680000gn/T/ipykernel_9315/2342058334.py:2: FutureWarning: The default of observed=False is deprecated and will be changed to True in a future version of pandas. Pass observed=False to retain current behavior or observed=True to adopt the future default and silence this warning.\n",
      "  df = (token_table\n",
      "/var/folders/2x/rfhzgyjn2zq2wlzk_kn4th680000gn/T/ipykernel_9315/2342058334.py:9: FutureWarning: The default of observed=False is deprecated and will be changed to True in a future version of pandas. Pass observed=False to retain current behavior or observed=True to adopt the future default and silence this warning.\n",
      "  pd.concat(\n",
      "/var/folders/2x/rfhzgyjn2zq2wlzk_kn4th680000gn/T/ipykernel_9315/2342058334.py:19: FutureWarning: The default of observed=False is deprecated and will be changed to True in a future version of pandas. Pass observed=False to retain current behavior or observed=True to adopt the future default and silence this warning.\n",
      "  pd.concat(\n"
     ]
    },
    {
     "name": "stdout",
     "output_type": "stream",
     "text": [
      "160021\n",
      "160022\n"
     ]
    },
    {
     "name": "stderr",
     "output_type": "stream",
     "text": [
      "/var/folders/2x/rfhzgyjn2zq2wlzk_kn4th680000gn/T/ipykernel_9315/2342058334.py:2: FutureWarning: The default of observed=False is deprecated and will be changed to True in a future version of pandas. Pass observed=False to retain current behavior or observed=True to adopt the future default and silence this warning.\n",
      "  df = (token_table\n",
      "/var/folders/2x/rfhzgyjn2zq2wlzk_kn4th680000gn/T/ipykernel_9315/2342058334.py:9: FutureWarning: The default of observed=False is deprecated and will be changed to True in a future version of pandas. Pass observed=False to retain current behavior or observed=True to adopt the future default and silence this warning.\n",
      "  pd.concat(\n",
      "/var/folders/2x/rfhzgyjn2zq2wlzk_kn4th680000gn/T/ipykernel_9315/2342058334.py:19: FutureWarning: The default of observed=False is deprecated and will be changed to True in a future version of pandas. Pass observed=False to retain current behavior or observed=True to adopt the future default and silence this warning.\n",
      "  pd.concat(\n",
      "/var/folders/2x/rfhzgyjn2zq2wlzk_kn4th680000gn/T/ipykernel_9315/2342058334.py:2: FutureWarning: The default of observed=False is deprecated and will be changed to True in a future version of pandas. Pass observed=False to retain current behavior or observed=True to adopt the future default and silence this warning.\n",
      "  df = (token_table\n"
     ]
    },
    {
     "name": "stdout",
     "output_type": "stream",
     "text": [
      "170001\n"
     ]
    },
    {
     "name": "stderr",
     "output_type": "stream",
     "text": [
      "/var/folders/2x/rfhzgyjn2zq2wlzk_kn4th680000gn/T/ipykernel_9315/2342058334.py:9: FutureWarning: The default of observed=False is deprecated and will be changed to True in a future version of pandas. Pass observed=False to retain current behavior or observed=True to adopt the future default and silence this warning.\n",
      "  pd.concat(\n",
      "/var/folders/2x/rfhzgyjn2zq2wlzk_kn4th680000gn/T/ipykernel_9315/2342058334.py:19: FutureWarning: The default of observed=False is deprecated and will be changed to True in a future version of pandas. Pass observed=False to retain current behavior or observed=True to adopt the future default and silence this warning.\n",
      "  pd.concat(\n"
     ]
    },
    {
     "name": "stdout",
     "output_type": "stream",
     "text": [
      "170002\n"
     ]
    },
    {
     "name": "stderr",
     "output_type": "stream",
     "text": [
      "/var/folders/2x/rfhzgyjn2zq2wlzk_kn4th680000gn/T/ipykernel_9315/2342058334.py:2: FutureWarning: The default of observed=False is deprecated and will be changed to True in a future version of pandas. Pass observed=False to retain current behavior or observed=True to adopt the future default and silence this warning.\n",
      "  df = (token_table\n",
      "/var/folders/2x/rfhzgyjn2zq2wlzk_kn4th680000gn/T/ipykernel_9315/2342058334.py:9: FutureWarning: The default of observed=False is deprecated and will be changed to True in a future version of pandas. Pass observed=False to retain current behavior or observed=True to adopt the future default and silence this warning.\n",
      "  pd.concat(\n",
      "/var/folders/2x/rfhzgyjn2zq2wlzk_kn4th680000gn/T/ipykernel_9315/2342058334.py:19: FutureWarning: The default of observed=False is deprecated and will be changed to True in a future version of pandas. Pass observed=False to retain current behavior or observed=True to adopt the future default and silence this warning.\n",
      "  pd.concat(\n",
      "/var/folders/2x/rfhzgyjn2zq2wlzk_kn4th680000gn/T/ipykernel_9315/2342058334.py:2: FutureWarning: The default of observed=False is deprecated and will be changed to True in a future version of pandas. Pass observed=False to retain current behavior or observed=True to adopt the future default and silence this warning.\n",
      "  df = (token_table\n",
      "/var/folders/2x/rfhzgyjn2zq2wlzk_kn4th680000gn/T/ipykernel_9315/2342058334.py:9: FutureWarning: The default of observed=False is deprecated and will be changed to True in a future version of pandas. Pass observed=False to retain current behavior or observed=True to adopt the future default and silence this warning.\n",
      "  pd.concat(\n"
     ]
    },
    {
     "name": "stdout",
     "output_type": "stream",
     "text": [
      "170003\n",
      "170004\n"
     ]
    },
    {
     "name": "stderr",
     "output_type": "stream",
     "text": [
      "/var/folders/2x/rfhzgyjn2zq2wlzk_kn4th680000gn/T/ipykernel_9315/2342058334.py:19: FutureWarning: The default of observed=False is deprecated and will be changed to True in a future version of pandas. Pass observed=False to retain current behavior or observed=True to adopt the future default and silence this warning.\n",
      "  pd.concat(\n",
      "/var/folders/2x/rfhzgyjn2zq2wlzk_kn4th680000gn/T/ipykernel_9315/2342058334.py:2: FutureWarning: The default of observed=False is deprecated and will be changed to True in a future version of pandas. Pass observed=False to retain current behavior or observed=True to adopt the future default and silence this warning.\n",
      "  df = (token_table\n",
      "/var/folders/2x/rfhzgyjn2zq2wlzk_kn4th680000gn/T/ipykernel_9315/2342058334.py:9: FutureWarning: The default of observed=False is deprecated and will be changed to True in a future version of pandas. Pass observed=False to retain current behavior or observed=True to adopt the future default and silence this warning.\n",
      "  pd.concat(\n",
      "/var/folders/2x/rfhzgyjn2zq2wlzk_kn4th680000gn/T/ipykernel_9315/2342058334.py:19: FutureWarning: The default of observed=False is deprecated and will be changed to True in a future version of pandas. Pass observed=False to retain current behavior or observed=True to adopt the future default and silence this warning.\n",
      "  pd.concat(\n"
     ]
    },
    {
     "name": "stdout",
     "output_type": "stream",
     "text": [
      "170005\n",
      "170006\n"
     ]
    },
    {
     "name": "stderr",
     "output_type": "stream",
     "text": [
      "/var/folders/2x/rfhzgyjn2zq2wlzk_kn4th680000gn/T/ipykernel_9315/2342058334.py:2: FutureWarning: The default of observed=False is deprecated and will be changed to True in a future version of pandas. Pass observed=False to retain current behavior or observed=True to adopt the future default and silence this warning.\n",
      "  df = (token_table\n",
      "/var/folders/2x/rfhzgyjn2zq2wlzk_kn4th680000gn/T/ipykernel_9315/2342058334.py:9: FutureWarning: The default of observed=False is deprecated and will be changed to True in a future version of pandas. Pass observed=False to retain current behavior or observed=True to adopt the future default and silence this warning.\n",
      "  pd.concat(\n",
      "/var/folders/2x/rfhzgyjn2zq2wlzk_kn4th680000gn/T/ipykernel_9315/2342058334.py:19: FutureWarning: The default of observed=False is deprecated and will be changed to True in a future version of pandas. Pass observed=False to retain current behavior or observed=True to adopt the future default and silence this warning.\n",
      "  pd.concat(\n",
      "/var/folders/2x/rfhzgyjn2zq2wlzk_kn4th680000gn/T/ipykernel_9315/2342058334.py:2: FutureWarning: The default of observed=False is deprecated and will be changed to True in a future version of pandas. Pass observed=False to retain current behavior or observed=True to adopt the future default and silence this warning.\n",
      "  df = (token_table\n",
      "/var/folders/2x/rfhzgyjn2zq2wlzk_kn4th680000gn/T/ipykernel_9315/2342058334.py:9: FutureWarning: The default of observed=False is deprecated and will be changed to True in a future version of pandas. Pass observed=False to retain current behavior or observed=True to adopt the future default and silence this warning.\n",
      "  pd.concat(\n",
      "/var/folders/2x/rfhzgyjn2zq2wlzk_kn4th680000gn/T/ipykernel_9315/2342058334.py:19: FutureWarning: The default of observed=False is deprecated and will be changed to True in a future version of pandas. Pass observed=False to retain current behavior or observed=True to adopt the future default and silence this warning.\n",
      "  pd.concat(\n",
      "/var/folders/2x/rfhzgyjn2zq2wlzk_kn4th680000gn/T/ipykernel_9315/2342058334.py:2: FutureWarning: The default of observed=False is deprecated and will be changed to True in a future version of pandas. Pass observed=False to retain current behavior or observed=True to adopt the future default and silence this warning.\n",
      "  df = (token_table\n"
     ]
    },
    {
     "name": "stdout",
     "output_type": "stream",
     "text": [
      "170007\n",
      "170008\n"
     ]
    },
    {
     "name": "stderr",
     "output_type": "stream",
     "text": [
      "/var/folders/2x/rfhzgyjn2zq2wlzk_kn4th680000gn/T/ipykernel_9315/2342058334.py:9: FutureWarning: The default of observed=False is deprecated and will be changed to True in a future version of pandas. Pass observed=False to retain current behavior or observed=True to adopt the future default and silence this warning.\n",
      "  pd.concat(\n",
      "/var/folders/2x/rfhzgyjn2zq2wlzk_kn4th680000gn/T/ipykernel_9315/2342058334.py:19: FutureWarning: The default of observed=False is deprecated and will be changed to True in a future version of pandas. Pass observed=False to retain current behavior or observed=True to adopt the future default and silence this warning.\n",
      "  pd.concat(\n",
      "/var/folders/2x/rfhzgyjn2zq2wlzk_kn4th680000gn/T/ipykernel_9315/2342058334.py:2: FutureWarning: The default of observed=False is deprecated and will be changed to True in a future version of pandas. Pass observed=False to retain current behavior or observed=True to adopt the future default and silence this warning.\n",
      "  df = (token_table\n",
      "/var/folders/2x/rfhzgyjn2zq2wlzk_kn4th680000gn/T/ipykernel_9315/2342058334.py:9: FutureWarning: The default of observed=False is deprecated and will be changed to True in a future version of pandas. Pass observed=False to retain current behavior or observed=True to adopt the future default and silence this warning.\n",
      "  pd.concat(\n",
      "/var/folders/2x/rfhzgyjn2zq2wlzk_kn4th680000gn/T/ipykernel_9315/2342058334.py:19: FutureWarning: The default of observed=False is deprecated and will be changed to True in a future version of pandas. Pass observed=False to retain current behavior or observed=True to adopt the future default and silence this warning.\n",
      "  pd.concat(\n",
      "/var/folders/2x/rfhzgyjn2zq2wlzk_kn4th680000gn/T/ipykernel_9315/2342058334.py:2: FutureWarning: The default of observed=False is deprecated and will be changed to True in a future version of pandas. Pass observed=False to retain current behavior or observed=True to adopt the future default and silence this warning.\n",
      "  df = (token_table\n",
      "/var/folders/2x/rfhzgyjn2zq2wlzk_kn4th680000gn/T/ipykernel_9315/2342058334.py:9: FutureWarning: The default of observed=False is deprecated and will be changed to True in a future version of pandas. Pass observed=False to retain current behavior or observed=True to adopt the future default and silence this warning.\n",
      "  pd.concat(\n",
      "/var/folders/2x/rfhzgyjn2zq2wlzk_kn4th680000gn/T/ipykernel_9315/2342058334.py:19: FutureWarning: The default of observed=False is deprecated and will be changed to True in a future version of pandas. Pass observed=False to retain current behavior or observed=True to adopt the future default and silence this warning.\n",
      "  pd.concat(\n"
     ]
    },
    {
     "name": "stdout",
     "output_type": "stream",
     "text": [
      "170009\n",
      "170010\n"
     ]
    },
    {
     "name": "stderr",
     "output_type": "stream",
     "text": [
      "/var/folders/2x/rfhzgyjn2zq2wlzk_kn4th680000gn/T/ipykernel_9315/2342058334.py:2: FutureWarning: The default of observed=False is deprecated and will be changed to True in a future version of pandas. Pass observed=False to retain current behavior or observed=True to adopt the future default and silence this warning.\n",
      "  df = (token_table\n",
      "/var/folders/2x/rfhzgyjn2zq2wlzk_kn4th680000gn/T/ipykernel_9315/2342058334.py:9: FutureWarning: The default of observed=False is deprecated and will be changed to True in a future version of pandas. Pass observed=False to retain current behavior or observed=True to adopt the future default and silence this warning.\n",
      "  pd.concat(\n",
      "/var/folders/2x/rfhzgyjn2zq2wlzk_kn4th680000gn/T/ipykernel_9315/2342058334.py:19: FutureWarning: The default of observed=False is deprecated and will be changed to True in a future version of pandas. Pass observed=False to retain current behavior or observed=True to adopt the future default and silence this warning.\n",
      "  pd.concat(\n",
      "/var/folders/2x/rfhzgyjn2zq2wlzk_kn4th680000gn/T/ipykernel_9315/2342058334.py:2: FutureWarning: The default of observed=False is deprecated and will be changed to True in a future version of pandas. Pass observed=False to retain current behavior or observed=True to adopt the future default and silence this warning.\n",
      "  df = (token_table\n"
     ]
    },
    {
     "name": "stdout",
     "output_type": "stream",
     "text": [
      "170011\n",
      "170012\n"
     ]
    },
    {
     "name": "stderr",
     "output_type": "stream",
     "text": [
      "/var/folders/2x/rfhzgyjn2zq2wlzk_kn4th680000gn/T/ipykernel_9315/2342058334.py:9: FutureWarning: The default of observed=False is deprecated and will be changed to True in a future version of pandas. Pass observed=False to retain current behavior or observed=True to adopt the future default and silence this warning.\n",
      "  pd.concat(\n",
      "/var/folders/2x/rfhzgyjn2zq2wlzk_kn4th680000gn/T/ipykernel_9315/2342058334.py:19: FutureWarning: The default of observed=False is deprecated and will be changed to True in a future version of pandas. Pass observed=False to retain current behavior or observed=True to adopt the future default and silence this warning.\n",
      "  pd.concat(\n",
      "/var/folders/2x/rfhzgyjn2zq2wlzk_kn4th680000gn/T/ipykernel_9315/2342058334.py:2: FutureWarning: The default of observed=False is deprecated and will be changed to True in a future version of pandas. Pass observed=False to retain current behavior or observed=True to adopt the future default and silence this warning.\n",
      "  df = (token_table\n",
      "/var/folders/2x/rfhzgyjn2zq2wlzk_kn4th680000gn/T/ipykernel_9315/2342058334.py:9: FutureWarning: The default of observed=False is deprecated and will be changed to True in a future version of pandas. Pass observed=False to retain current behavior or observed=True to adopt the future default and silence this warning.\n",
      "  pd.concat(\n",
      "/var/folders/2x/rfhzgyjn2zq2wlzk_kn4th680000gn/T/ipykernel_9315/2342058334.py:19: FutureWarning: The default of observed=False is deprecated and will be changed to True in a future version of pandas. Pass observed=False to retain current behavior or observed=True to adopt the future default and silence this warning.\n",
      "  pd.concat(\n",
      "/var/folders/2x/rfhzgyjn2zq2wlzk_kn4th680000gn/T/ipykernel_9315/2342058334.py:2: FutureWarning: The default of observed=False is deprecated and will be changed to True in a future version of pandas. Pass observed=False to retain current behavior or observed=True to adopt the future default and silence this warning.\n",
      "  df = (token_table\n",
      "/var/folders/2x/rfhzgyjn2zq2wlzk_kn4th680000gn/T/ipykernel_9315/2342058334.py:9: FutureWarning: The default of observed=False is deprecated and will be changed to True in a future version of pandas. Pass observed=False to retain current behavior or observed=True to adopt the future default and silence this warning.\n",
      "  pd.concat(\n",
      "/var/folders/2x/rfhzgyjn2zq2wlzk_kn4th680000gn/T/ipykernel_9315/2342058334.py:19: FutureWarning: The default of observed=False is deprecated and will be changed to True in a future version of pandas. Pass observed=False to retain current behavior or observed=True to adopt the future default and silence this warning.\n",
      "  pd.concat(\n",
      "/var/folders/2x/rfhzgyjn2zq2wlzk_kn4th680000gn/T/ipykernel_9315/2342058334.py:2: FutureWarning: The default of observed=False is deprecated and will be changed to True in a future version of pandas. Pass observed=False to retain current behavior or observed=True to adopt the future default and silence this warning.\n",
      "  df = (token_table\n"
     ]
    },
    {
     "name": "stdout",
     "output_type": "stream",
     "text": [
      "170013\n",
      "170014\n"
     ]
    },
    {
     "name": "stderr",
     "output_type": "stream",
     "text": [
      "/var/folders/2x/rfhzgyjn2zq2wlzk_kn4th680000gn/T/ipykernel_9315/2342058334.py:9: FutureWarning: The default of observed=False is deprecated and will be changed to True in a future version of pandas. Pass observed=False to retain current behavior or observed=True to adopt the future default and silence this warning.\n",
      "  pd.concat(\n",
      "/var/folders/2x/rfhzgyjn2zq2wlzk_kn4th680000gn/T/ipykernel_9315/2342058334.py:19: FutureWarning: The default of observed=False is deprecated and will be changed to True in a future version of pandas. Pass observed=False to retain current behavior or observed=True to adopt the future default and silence this warning.\n",
      "  pd.concat(\n",
      "/var/folders/2x/rfhzgyjn2zq2wlzk_kn4th680000gn/T/ipykernel_9315/2342058334.py:2: FutureWarning: The default of observed=False is deprecated and will be changed to True in a future version of pandas. Pass observed=False to retain current behavior or observed=True to adopt the future default and silence this warning.\n",
      "  df = (token_table\n",
      "/var/folders/2x/rfhzgyjn2zq2wlzk_kn4th680000gn/T/ipykernel_9315/2342058334.py:9: FutureWarning: The default of observed=False is deprecated and will be changed to True in a future version of pandas. Pass observed=False to retain current behavior or observed=True to adopt the future default and silence this warning.\n",
      "  pd.concat(\n",
      "/var/folders/2x/rfhzgyjn2zq2wlzk_kn4th680000gn/T/ipykernel_9315/2342058334.py:19: FutureWarning: The default of observed=False is deprecated and will be changed to True in a future version of pandas. Pass observed=False to retain current behavior or observed=True to adopt the future default and silence this warning.\n",
      "  pd.concat(\n"
     ]
    },
    {
     "name": "stdout",
     "output_type": "stream",
     "text": [
      "170015\n",
      "170016\n"
     ]
    },
    {
     "name": "stderr",
     "output_type": "stream",
     "text": [
      "/var/folders/2x/rfhzgyjn2zq2wlzk_kn4th680000gn/T/ipykernel_9315/2342058334.py:2: FutureWarning: The default of observed=False is deprecated and will be changed to True in a future version of pandas. Pass observed=False to retain current behavior or observed=True to adopt the future default and silence this warning.\n",
      "  df = (token_table\n",
      "/var/folders/2x/rfhzgyjn2zq2wlzk_kn4th680000gn/T/ipykernel_9315/2342058334.py:9: FutureWarning: The default of observed=False is deprecated and will be changed to True in a future version of pandas. Pass observed=False to retain current behavior or observed=True to adopt the future default and silence this warning.\n",
      "  pd.concat(\n",
      "/var/folders/2x/rfhzgyjn2zq2wlzk_kn4th680000gn/T/ipykernel_9315/2342058334.py:19: FutureWarning: The default of observed=False is deprecated and will be changed to True in a future version of pandas. Pass observed=False to retain current behavior or observed=True to adopt the future default and silence this warning.\n",
      "  pd.concat(\n"
     ]
    },
    {
     "name": "stdout",
     "output_type": "stream",
     "text": [
      "170017\n",
      "170018\n"
     ]
    },
    {
     "name": "stderr",
     "output_type": "stream",
     "text": [
      "/var/folders/2x/rfhzgyjn2zq2wlzk_kn4th680000gn/T/ipykernel_9315/2342058334.py:2: FutureWarning: The default of observed=False is deprecated and will be changed to True in a future version of pandas. Pass observed=False to retain current behavior or observed=True to adopt the future default and silence this warning.\n",
      "  df = (token_table\n",
      "/var/folders/2x/rfhzgyjn2zq2wlzk_kn4th680000gn/T/ipykernel_9315/2342058334.py:9: FutureWarning: The default of observed=False is deprecated and will be changed to True in a future version of pandas. Pass observed=False to retain current behavior or observed=True to adopt the future default and silence this warning.\n",
      "  pd.concat(\n",
      "/var/folders/2x/rfhzgyjn2zq2wlzk_kn4th680000gn/T/ipykernel_9315/2342058334.py:19: FutureWarning: The default of observed=False is deprecated and will be changed to True in a future version of pandas. Pass observed=False to retain current behavior or observed=True to adopt the future default and silence this warning.\n",
      "  pd.concat(\n",
      "/var/folders/2x/rfhzgyjn2zq2wlzk_kn4th680000gn/T/ipykernel_9315/2342058334.py:2: FutureWarning: The default of observed=False is deprecated and will be changed to True in a future version of pandas. Pass observed=False to retain current behavior or observed=True to adopt the future default and silence this warning.\n",
      "  df = (token_table\n",
      "/var/folders/2x/rfhzgyjn2zq2wlzk_kn4th680000gn/T/ipykernel_9315/2342058334.py:9: FutureWarning: The default of observed=False is deprecated and will be changed to True in a future version of pandas. Pass observed=False to retain current behavior or observed=True to adopt the future default and silence this warning.\n",
      "  pd.concat(\n",
      "/var/folders/2x/rfhzgyjn2zq2wlzk_kn4th680000gn/T/ipykernel_9315/2342058334.py:19: FutureWarning: The default of observed=False is deprecated and will be changed to True in a future version of pandas. Pass observed=False to retain current behavior or observed=True to adopt the future default and silence this warning.\n",
      "  pd.concat(\n",
      "/var/folders/2x/rfhzgyjn2zq2wlzk_kn4th680000gn/T/ipykernel_9315/2342058334.py:2: FutureWarning: The default of observed=False is deprecated and will be changed to True in a future version of pandas. Pass observed=False to retain current behavior or observed=True to adopt the future default and silence this warning.\n",
      "  df = (token_table\n",
      "/var/folders/2x/rfhzgyjn2zq2wlzk_kn4th680000gn/T/ipykernel_9315/2342058334.py:9: FutureWarning: The default of observed=False is deprecated and will be changed to True in a future version of pandas. Pass observed=False to retain current behavior or observed=True to adopt the future default and silence this warning.\n",
      "  pd.concat(\n",
      "/var/folders/2x/rfhzgyjn2zq2wlzk_kn4th680000gn/T/ipykernel_9315/2342058334.py:19: FutureWarning: The default of observed=False is deprecated and will be changed to True in a future version of pandas. Pass observed=False to retain current behavior or observed=True to adopt the future default and silence this warning.\n",
      "  pd.concat(\n"
     ]
    },
    {
     "name": "stdout",
     "output_type": "stream",
     "text": [
      "170019\n",
      "170020\n"
     ]
    },
    {
     "name": "stderr",
     "output_type": "stream",
     "text": [
      "/var/folders/2x/rfhzgyjn2zq2wlzk_kn4th680000gn/T/ipykernel_9315/2342058334.py:2: FutureWarning: The default of observed=False is deprecated and will be changed to True in a future version of pandas. Pass observed=False to retain current behavior or observed=True to adopt the future default and silence this warning.\n",
      "  df = (token_table\n",
      "/var/folders/2x/rfhzgyjn2zq2wlzk_kn4th680000gn/T/ipykernel_9315/2342058334.py:9: FutureWarning: The default of observed=False is deprecated and will be changed to True in a future version of pandas. Pass observed=False to retain current behavior or observed=True to adopt the future default and silence this warning.\n",
      "  pd.concat(\n",
      "/var/folders/2x/rfhzgyjn2zq2wlzk_kn4th680000gn/T/ipykernel_9315/2342058334.py:19: FutureWarning: The default of observed=False is deprecated and will be changed to True in a future version of pandas. Pass observed=False to retain current behavior or observed=True to adopt the future default and silence this warning.\n",
      "  pd.concat(\n",
      "/var/folders/2x/rfhzgyjn2zq2wlzk_kn4th680000gn/T/ipykernel_9315/2342058334.py:2: FutureWarning: The default of observed=False is deprecated and will be changed to True in a future version of pandas. Pass observed=False to retain current behavior or observed=True to adopt the future default and silence this warning.\n",
      "  df = (token_table\n"
     ]
    },
    {
     "name": "stdout",
     "output_type": "stream",
     "text": [
      "170021\n",
      "170022\n"
     ]
    },
    {
     "name": "stderr",
     "output_type": "stream",
     "text": [
      "/var/folders/2x/rfhzgyjn2zq2wlzk_kn4th680000gn/T/ipykernel_9315/2342058334.py:9: FutureWarning: The default of observed=False is deprecated and will be changed to True in a future version of pandas. Pass observed=False to retain current behavior or observed=True to adopt the future default and silence this warning.\n",
      "  pd.concat(\n",
      "/var/folders/2x/rfhzgyjn2zq2wlzk_kn4th680000gn/T/ipykernel_9315/2342058334.py:19: FutureWarning: The default of observed=False is deprecated and will be changed to True in a future version of pandas. Pass observed=False to retain current behavior or observed=True to adopt the future default and silence this warning.\n",
      "  pd.concat(\n",
      "/var/folders/2x/rfhzgyjn2zq2wlzk_kn4th680000gn/T/ipykernel_9315/2342058334.py:2: FutureWarning: The default of observed=False is deprecated and will be changed to True in a future version of pandas. Pass observed=False to retain current behavior or observed=True to adopt the future default and silence this warning.\n",
      "  df = (token_table\n",
      "/var/folders/2x/rfhzgyjn2zq2wlzk_kn4th680000gn/T/ipykernel_9315/2342058334.py:9: FutureWarning: The default of observed=False is deprecated and will be changed to True in a future version of pandas. Pass observed=False to retain current behavior or observed=True to adopt the future default and silence this warning.\n",
      "  pd.concat(\n",
      "/var/folders/2x/rfhzgyjn2zq2wlzk_kn4th680000gn/T/ipykernel_9315/2342058334.py:19: FutureWarning: The default of observed=False is deprecated and will be changed to True in a future version of pandas. Pass observed=False to retain current behavior or observed=True to adopt the future default and silence this warning.\n",
      "  pd.concat(\n"
     ]
    },
    {
     "name": "stdout",
     "output_type": "stream",
     "text": [
      "170023\n",
      "170024\n"
     ]
    },
    {
     "name": "stderr",
     "output_type": "stream",
     "text": [
      "/var/folders/2x/rfhzgyjn2zq2wlzk_kn4th680000gn/T/ipykernel_9315/2342058334.py:2: FutureWarning: The default of observed=False is deprecated and will be changed to True in a future version of pandas. Pass observed=False to retain current behavior or observed=True to adopt the future default and silence this warning.\n",
      "  df = (token_table\n",
      "/var/folders/2x/rfhzgyjn2zq2wlzk_kn4th680000gn/T/ipykernel_9315/2342058334.py:9: FutureWarning: The default of observed=False is deprecated and will be changed to True in a future version of pandas. Pass observed=False to retain current behavior or observed=True to adopt the future default and silence this warning.\n",
      "  pd.concat(\n",
      "/var/folders/2x/rfhzgyjn2zq2wlzk_kn4th680000gn/T/ipykernel_9315/2342058334.py:19: FutureWarning: The default of observed=False is deprecated and will be changed to True in a future version of pandas. Pass observed=False to retain current behavior or observed=True to adopt the future default and silence this warning.\n",
      "  pd.concat(\n",
      "/var/folders/2x/rfhzgyjn2zq2wlzk_kn4th680000gn/T/ipykernel_9315/2342058334.py:2: FutureWarning: The default of observed=False is deprecated and will be changed to True in a future version of pandas. Pass observed=False to retain current behavior or observed=True to adopt the future default and silence this warning.\n",
      "  df = (token_table\n",
      "/var/folders/2x/rfhzgyjn2zq2wlzk_kn4th680000gn/T/ipykernel_9315/2342058334.py:9: FutureWarning: The default of observed=False is deprecated and will be changed to True in a future version of pandas. Pass observed=False to retain current behavior or observed=True to adopt the future default and silence this warning.\n",
      "  pd.concat(\n",
      "/var/folders/2x/rfhzgyjn2zq2wlzk_kn4th680000gn/T/ipykernel_9315/2342058334.py:19: FutureWarning: The default of observed=False is deprecated and will be changed to True in a future version of pandas. Pass observed=False to retain current behavior or observed=True to adopt the future default and silence this warning.\n",
      "  pd.concat(\n",
      "/var/folders/2x/rfhzgyjn2zq2wlzk_kn4th680000gn/T/ipykernel_9315/2342058334.py:2: FutureWarning: The default of observed=False is deprecated and will be changed to True in a future version of pandas. Pass observed=False to retain current behavior or observed=True to adopt the future default and silence this warning.\n",
      "  df = (token_table\n",
      "/var/folders/2x/rfhzgyjn2zq2wlzk_kn4th680000gn/T/ipykernel_9315/2342058334.py:9: FutureWarning: The default of observed=False is deprecated and will be changed to True in a future version of pandas. Pass observed=False to retain current behavior or observed=True to adopt the future default and silence this warning.\n",
      "  pd.concat(\n",
      "/var/folders/2x/rfhzgyjn2zq2wlzk_kn4th680000gn/T/ipykernel_9315/2342058334.py:19: FutureWarning: The default of observed=False is deprecated and will be changed to True in a future version of pandas. Pass observed=False to retain current behavior or observed=True to adopt the future default and silence this warning.\n",
      "  pd.concat(\n"
     ]
    },
    {
     "name": "stdout",
     "output_type": "stream",
     "text": [
      "170025\n",
      "170026\n"
     ]
    },
    {
     "name": "stderr",
     "output_type": "stream",
     "text": [
      "/var/folders/2x/rfhzgyjn2zq2wlzk_kn4th680000gn/T/ipykernel_9315/2342058334.py:2: FutureWarning: The default of observed=False is deprecated and will be changed to True in a future version of pandas. Pass observed=False to retain current behavior or observed=True to adopt the future default and silence this warning.\n",
      "  df = (token_table\n",
      "/var/folders/2x/rfhzgyjn2zq2wlzk_kn4th680000gn/T/ipykernel_9315/2342058334.py:9: FutureWarning: The default of observed=False is deprecated and will be changed to True in a future version of pandas. Pass observed=False to retain current behavior or observed=True to adopt the future default and silence this warning.\n",
      "  pd.concat(\n",
      "/var/folders/2x/rfhzgyjn2zq2wlzk_kn4th680000gn/T/ipykernel_9315/2342058334.py:19: FutureWarning: The default of observed=False is deprecated and will be changed to True in a future version of pandas. Pass observed=False to retain current behavior or observed=True to adopt the future default and silence this warning.\n",
      "  pd.concat(\n",
      "/var/folders/2x/rfhzgyjn2zq2wlzk_kn4th680000gn/T/ipykernel_9315/2342058334.py:2: FutureWarning: The default of observed=False is deprecated and will be changed to True in a future version of pandas. Pass observed=False to retain current behavior or observed=True to adopt the future default and silence this warning.\n",
      "  df = (token_table\n",
      "/var/folders/2x/rfhzgyjn2zq2wlzk_kn4th680000gn/T/ipykernel_9315/2342058334.py:9: FutureWarning: The default of observed=False is deprecated and will be changed to True in a future version of pandas. Pass observed=False to retain current behavior or observed=True to adopt the future default and silence this warning.\n",
      "  pd.concat(\n"
     ]
    },
    {
     "name": "stdout",
     "output_type": "stream",
     "text": [
      "170027\n",
      "170028\n"
     ]
    },
    {
     "name": "stderr",
     "output_type": "stream",
     "text": [
      "/var/folders/2x/rfhzgyjn2zq2wlzk_kn4th680000gn/T/ipykernel_9315/2342058334.py:19: FutureWarning: The default of observed=False is deprecated and will be changed to True in a future version of pandas. Pass observed=False to retain current behavior or observed=True to adopt the future default and silence this warning.\n",
      "  pd.concat(\n",
      "/var/folders/2x/rfhzgyjn2zq2wlzk_kn4th680000gn/T/ipykernel_9315/2342058334.py:2: FutureWarning: The default of observed=False is deprecated and will be changed to True in a future version of pandas. Pass observed=False to retain current behavior or observed=True to adopt the future default and silence this warning.\n",
      "  df = (token_table\n",
      "/var/folders/2x/rfhzgyjn2zq2wlzk_kn4th680000gn/T/ipykernel_9315/2342058334.py:9: FutureWarning: The default of observed=False is deprecated and will be changed to True in a future version of pandas. Pass observed=False to retain current behavior or observed=True to adopt the future default and silence this warning.\n",
      "  pd.concat(\n",
      "/var/folders/2x/rfhzgyjn2zq2wlzk_kn4th680000gn/T/ipykernel_9315/2342058334.py:19: FutureWarning: The default of observed=False is deprecated and will be changed to True in a future version of pandas. Pass observed=False to retain current behavior or observed=True to adopt the future default and silence this warning.\n",
      "  pd.concat(\n",
      "/var/folders/2x/rfhzgyjn2zq2wlzk_kn4th680000gn/T/ipykernel_9315/2342058334.py:2: FutureWarning: The default of observed=False is deprecated and will be changed to True in a future version of pandas. Pass observed=False to retain current behavior or observed=True to adopt the future default and silence this warning.\n",
      "  df = (token_table\n",
      "/var/folders/2x/rfhzgyjn2zq2wlzk_kn4th680000gn/T/ipykernel_9315/2342058334.py:9: FutureWarning: The default of observed=False is deprecated and will be changed to True in a future version of pandas. Pass observed=False to retain current behavior or observed=True to adopt the future default and silence this warning.\n",
      "  pd.concat(\n",
      "/var/folders/2x/rfhzgyjn2zq2wlzk_kn4th680000gn/T/ipykernel_9315/2342058334.py:19: FutureWarning: The default of observed=False is deprecated and will be changed to True in a future version of pandas. Pass observed=False to retain current behavior or observed=True to adopt the future default and silence this warning.\n",
      "  pd.concat(\n"
     ]
    },
    {
     "name": "stdout",
     "output_type": "stream",
     "text": [
      "170029\n",
      "170030\n"
     ]
    },
    {
     "name": "stderr",
     "output_type": "stream",
     "text": [
      "/var/folders/2x/rfhzgyjn2zq2wlzk_kn4th680000gn/T/ipykernel_9315/2342058334.py:2: FutureWarning: The default of observed=False is deprecated and will be changed to True in a future version of pandas. Pass observed=False to retain current behavior or observed=True to adopt the future default and silence this warning.\n",
      "  df = (token_table\n",
      "/var/folders/2x/rfhzgyjn2zq2wlzk_kn4th680000gn/T/ipykernel_9315/2342058334.py:9: FutureWarning: The default of observed=False is deprecated and will be changed to True in a future version of pandas. Pass observed=False to retain current behavior or observed=True to adopt the future default and silence this warning.\n",
      "  pd.concat(\n",
      "/var/folders/2x/rfhzgyjn2zq2wlzk_kn4th680000gn/T/ipykernel_9315/2342058334.py:19: FutureWarning: The default of observed=False is deprecated and will be changed to True in a future version of pandas. Pass observed=False to retain current behavior or observed=True to adopt the future default and silence this warning.\n",
      "  pd.concat(\n",
      "/var/folders/2x/rfhzgyjn2zq2wlzk_kn4th680000gn/T/ipykernel_9315/2342058334.py:2: FutureWarning: The default of observed=False is deprecated and will be changed to True in a future version of pandas. Pass observed=False to retain current behavior or observed=True to adopt the future default and silence this warning.\n",
      "  df = (token_table\n",
      "/var/folders/2x/rfhzgyjn2zq2wlzk_kn4th680000gn/T/ipykernel_9315/2342058334.py:9: FutureWarning: The default of observed=False is deprecated and will be changed to True in a future version of pandas. Pass observed=False to retain current behavior or observed=True to adopt the future default and silence this warning.\n",
      "  pd.concat(\n"
     ]
    },
    {
     "name": "stdout",
     "output_type": "stream",
     "text": [
      "170031\n",
      "170032\n"
     ]
    },
    {
     "name": "stderr",
     "output_type": "stream",
     "text": [
      "/var/folders/2x/rfhzgyjn2zq2wlzk_kn4th680000gn/T/ipykernel_9315/2342058334.py:19: FutureWarning: The default of observed=False is deprecated and will be changed to True in a future version of pandas. Pass observed=False to retain current behavior or observed=True to adopt the future default and silence this warning.\n",
      "  pd.concat(\n",
      "/var/folders/2x/rfhzgyjn2zq2wlzk_kn4th680000gn/T/ipykernel_9315/2342058334.py:2: FutureWarning: The default of observed=False is deprecated and will be changed to True in a future version of pandas. Pass observed=False to retain current behavior or observed=True to adopt the future default and silence this warning.\n",
      "  df = (token_table\n",
      "/var/folders/2x/rfhzgyjn2zq2wlzk_kn4th680000gn/T/ipykernel_9315/2342058334.py:9: FutureWarning: The default of observed=False is deprecated and will be changed to True in a future version of pandas. Pass observed=False to retain current behavior or observed=True to adopt the future default and silence this warning.\n",
      "  pd.concat(\n",
      "/var/folders/2x/rfhzgyjn2zq2wlzk_kn4th680000gn/T/ipykernel_9315/2342058334.py:19: FutureWarning: The default of observed=False is deprecated and will be changed to True in a future version of pandas. Pass observed=False to retain current behavior or observed=True to adopt the future default and silence this warning.\n",
      "  pd.concat(\n",
      "/var/folders/2x/rfhzgyjn2zq2wlzk_kn4th680000gn/T/ipykernel_9315/2342058334.py:2: FutureWarning: The default of observed=False is deprecated and will be changed to True in a future version of pandas. Pass observed=False to retain current behavior or observed=True to adopt the future default and silence this warning.\n",
      "  df = (token_table\n",
      "/var/folders/2x/rfhzgyjn2zq2wlzk_kn4th680000gn/T/ipykernel_9315/2342058334.py:9: FutureWarning: The default of observed=False is deprecated and will be changed to True in a future version of pandas. Pass observed=False to retain current behavior or observed=True to adopt the future default and silence this warning.\n",
      "  pd.concat(\n",
      "/var/folders/2x/rfhzgyjn2zq2wlzk_kn4th680000gn/T/ipykernel_9315/2342058334.py:19: FutureWarning: The default of observed=False is deprecated and will be changed to True in a future version of pandas. Pass observed=False to retain current behavior or observed=True to adopt the future default and silence this warning.\n",
      "  pd.concat(\n"
     ]
    },
    {
     "name": "stdout",
     "output_type": "stream",
     "text": [
      "170033\n",
      "170035\n"
     ]
    },
    {
     "name": "stderr",
     "output_type": "stream",
     "text": [
      "/var/folders/2x/rfhzgyjn2zq2wlzk_kn4th680000gn/T/ipykernel_9315/2342058334.py:2: FutureWarning: The default of observed=False is deprecated and will be changed to True in a future version of pandas. Pass observed=False to retain current behavior or observed=True to adopt the future default and silence this warning.\n",
      "  df = (token_table\n",
      "/var/folders/2x/rfhzgyjn2zq2wlzk_kn4th680000gn/T/ipykernel_9315/2342058334.py:9: FutureWarning: The default of observed=False is deprecated and will be changed to True in a future version of pandas. Pass observed=False to retain current behavior or observed=True to adopt the future default and silence this warning.\n",
      "  pd.concat(\n",
      "/var/folders/2x/rfhzgyjn2zq2wlzk_kn4th680000gn/T/ipykernel_9315/2342058334.py:19: FutureWarning: The default of observed=False is deprecated and will be changed to True in a future version of pandas. Pass observed=False to retain current behavior or observed=True to adopt the future default and silence this warning.\n",
      "  pd.concat(\n"
     ]
    },
    {
     "name": "stdout",
     "output_type": "stream",
     "text": [
      "170036\n",
      "170037\n"
     ]
    },
    {
     "name": "stderr",
     "output_type": "stream",
     "text": [
      "/var/folders/2x/rfhzgyjn2zq2wlzk_kn4th680000gn/T/ipykernel_9315/2342058334.py:2: FutureWarning: The default of observed=False is deprecated and will be changed to True in a future version of pandas. Pass observed=False to retain current behavior or observed=True to adopt the future default and silence this warning.\n",
      "  df = (token_table\n",
      "/var/folders/2x/rfhzgyjn2zq2wlzk_kn4th680000gn/T/ipykernel_9315/2342058334.py:9: FutureWarning: The default of observed=False is deprecated and will be changed to True in a future version of pandas. Pass observed=False to retain current behavior or observed=True to adopt the future default and silence this warning.\n",
      "  pd.concat(\n",
      "/var/folders/2x/rfhzgyjn2zq2wlzk_kn4th680000gn/T/ipykernel_9315/2342058334.py:19: FutureWarning: The default of observed=False is deprecated and will be changed to True in a future version of pandas. Pass observed=False to retain current behavior or observed=True to adopt the future default and silence this warning.\n",
      "  pd.concat(\n",
      "/var/folders/2x/rfhzgyjn2zq2wlzk_kn4th680000gn/T/ipykernel_9315/2342058334.py:2: FutureWarning: The default of observed=False is deprecated and will be changed to True in a future version of pandas. Pass observed=False to retain current behavior or observed=True to adopt the future default and silence this warning.\n",
      "  df = (token_table\n",
      "/var/folders/2x/rfhzgyjn2zq2wlzk_kn4th680000gn/T/ipykernel_9315/2342058334.py:9: FutureWarning: The default of observed=False is deprecated and will be changed to True in a future version of pandas. Pass observed=False to retain current behavior or observed=True to adopt the future default and silence this warning.\n",
      "  pd.concat(\n",
      "/var/folders/2x/rfhzgyjn2zq2wlzk_kn4th680000gn/T/ipykernel_9315/2342058334.py:19: FutureWarning: The default of observed=False is deprecated and will be changed to True in a future version of pandas. Pass observed=False to retain current behavior or observed=True to adopt the future default and silence this warning.\n",
      "  pd.concat(\n",
      "/var/folders/2x/rfhzgyjn2zq2wlzk_kn4th680000gn/T/ipykernel_9315/2342058334.py:2: FutureWarning: The default of observed=False is deprecated and will be changed to True in a future version of pandas. Pass observed=False to retain current behavior or observed=True to adopt the future default and silence this warning.\n",
      "  df = (token_table\n",
      "/var/folders/2x/rfhzgyjn2zq2wlzk_kn4th680000gn/T/ipykernel_9315/2342058334.py:9: FutureWarning: The default of observed=False is deprecated and will be changed to True in a future version of pandas. Pass observed=False to retain current behavior or observed=True to adopt the future default and silence this warning.\n",
      "  pd.concat(\n",
      "/var/folders/2x/rfhzgyjn2zq2wlzk_kn4th680000gn/T/ipykernel_9315/2342058334.py:19: FutureWarning: The default of observed=False is deprecated and will be changed to True in a future version of pandas. Pass observed=False to retain current behavior or observed=True to adopt the future default and silence this warning.\n",
      "  pd.concat(\n"
     ]
    },
    {
     "name": "stdout",
     "output_type": "stream",
     "text": [
      "170038\n",
      "170039\n"
     ]
    },
    {
     "name": "stderr",
     "output_type": "stream",
     "text": [
      "/var/folders/2x/rfhzgyjn2zq2wlzk_kn4th680000gn/T/ipykernel_9315/2342058334.py:2: FutureWarning: The default of observed=False is deprecated and will be changed to True in a future version of pandas. Pass observed=False to retain current behavior or observed=True to adopt the future default and silence this warning.\n",
      "  df = (token_table\n",
      "/var/folders/2x/rfhzgyjn2zq2wlzk_kn4th680000gn/T/ipykernel_9315/2342058334.py:9: FutureWarning: The default of observed=False is deprecated and will be changed to True in a future version of pandas. Pass observed=False to retain current behavior or observed=True to adopt the future default and silence this warning.\n",
      "  pd.concat(\n",
      "/var/folders/2x/rfhzgyjn2zq2wlzk_kn4th680000gn/T/ipykernel_9315/2342058334.py:19: FutureWarning: The default of observed=False is deprecated and will be changed to True in a future version of pandas. Pass observed=False to retain current behavior or observed=True to adopt the future default and silence this warning.\n",
      "  pd.concat(\n"
     ]
    },
    {
     "name": "stdout",
     "output_type": "stream",
     "text": [
      "170040\n",
      "170041\n"
     ]
    },
    {
     "name": "stderr",
     "output_type": "stream",
     "text": [
      "/var/folders/2x/rfhzgyjn2zq2wlzk_kn4th680000gn/T/ipykernel_9315/2342058334.py:2: FutureWarning: The default of observed=False is deprecated and will be changed to True in a future version of pandas. Pass observed=False to retain current behavior or observed=True to adopt the future default and silence this warning.\n",
      "  df = (token_table\n",
      "/var/folders/2x/rfhzgyjn2zq2wlzk_kn4th680000gn/T/ipykernel_9315/2342058334.py:9: FutureWarning: The default of observed=False is deprecated and will be changed to True in a future version of pandas. Pass observed=False to retain current behavior or observed=True to adopt the future default and silence this warning.\n",
      "  pd.concat(\n",
      "/var/folders/2x/rfhzgyjn2zq2wlzk_kn4th680000gn/T/ipykernel_9315/2342058334.py:19: FutureWarning: The default of observed=False is deprecated and will be changed to True in a future version of pandas. Pass observed=False to retain current behavior or observed=True to adopt the future default and silence this warning.\n",
      "  pd.concat(\n",
      "/var/folders/2x/rfhzgyjn2zq2wlzk_kn4th680000gn/T/ipykernel_9315/2342058334.py:2: FutureWarning: The default of observed=False is deprecated and will be changed to True in a future version of pandas. Pass observed=False to retain current behavior or observed=True to adopt the future default and silence this warning.\n",
      "  df = (token_table\n",
      "/var/folders/2x/rfhzgyjn2zq2wlzk_kn4th680000gn/T/ipykernel_9315/2342058334.py:9: FutureWarning: The default of observed=False is deprecated and will be changed to True in a future version of pandas. Pass observed=False to retain current behavior or observed=True to adopt the future default and silence this warning.\n",
      "  pd.concat(\n",
      "/var/folders/2x/rfhzgyjn2zq2wlzk_kn4th680000gn/T/ipykernel_9315/2342058334.py:19: FutureWarning: The default of observed=False is deprecated and will be changed to True in a future version of pandas. Pass observed=False to retain current behavior or observed=True to adopt the future default and silence this warning.\n",
      "  pd.concat(\n",
      "/var/folders/2x/rfhzgyjn2zq2wlzk_kn4th680000gn/T/ipykernel_9315/2342058334.py:2: FutureWarning: The default of observed=False is deprecated and will be changed to True in a future version of pandas. Pass observed=False to retain current behavior or observed=True to adopt the future default and silence this warning.\n",
      "  df = (token_table\n",
      "/var/folders/2x/rfhzgyjn2zq2wlzk_kn4th680000gn/T/ipykernel_9315/2342058334.py:9: FutureWarning: The default of observed=False is deprecated and will be changed to True in a future version of pandas. Pass observed=False to retain current behavior or observed=True to adopt the future default and silence this warning.\n",
      "  pd.concat(\n"
     ]
    },
    {
     "name": "stdout",
     "output_type": "stream",
     "text": [
      "170042\n",
      "170043\n"
     ]
    },
    {
     "name": "stderr",
     "output_type": "stream",
     "text": [
      "/var/folders/2x/rfhzgyjn2zq2wlzk_kn4th680000gn/T/ipykernel_9315/2342058334.py:19: FutureWarning: The default of observed=False is deprecated and will be changed to True in a future version of pandas. Pass observed=False to retain current behavior or observed=True to adopt the future default and silence this warning.\n",
      "  pd.concat(\n",
      "/var/folders/2x/rfhzgyjn2zq2wlzk_kn4th680000gn/T/ipykernel_9315/2342058334.py:2: FutureWarning: The default of observed=False is deprecated and will be changed to True in a future version of pandas. Pass observed=False to retain current behavior or observed=True to adopt the future default and silence this warning.\n",
      "  df = (token_table\n",
      "/var/folders/2x/rfhzgyjn2zq2wlzk_kn4th680000gn/T/ipykernel_9315/2342058334.py:9: FutureWarning: The default of observed=False is deprecated and will be changed to True in a future version of pandas. Pass observed=False to retain current behavior or observed=True to adopt the future default and silence this warning.\n",
      "  pd.concat(\n",
      "/var/folders/2x/rfhzgyjn2zq2wlzk_kn4th680000gn/T/ipykernel_9315/2342058334.py:19: FutureWarning: The default of observed=False is deprecated and will be changed to True in a future version of pandas. Pass observed=False to retain current behavior or observed=True to adopt the future default and silence this warning.\n",
      "  pd.concat(\n"
     ]
    },
    {
     "name": "stdout",
     "output_type": "stream",
     "text": [
      "170044\n",
      "180001\n"
     ]
    },
    {
     "name": "stderr",
     "output_type": "stream",
     "text": [
      "/var/folders/2x/rfhzgyjn2zq2wlzk_kn4th680000gn/T/ipykernel_9315/2342058334.py:2: FutureWarning: The default of observed=False is deprecated and will be changed to True in a future version of pandas. Pass observed=False to retain current behavior or observed=True to adopt the future default and silence this warning.\n",
      "  df = (token_table\n",
      "/var/folders/2x/rfhzgyjn2zq2wlzk_kn4th680000gn/T/ipykernel_9315/2342058334.py:9: FutureWarning: The default of observed=False is deprecated and will be changed to True in a future version of pandas. Pass observed=False to retain current behavior or observed=True to adopt the future default and silence this warning.\n",
      "  pd.concat(\n",
      "/var/folders/2x/rfhzgyjn2zq2wlzk_kn4th680000gn/T/ipykernel_9315/2342058334.py:19: FutureWarning: The default of observed=False is deprecated and will be changed to True in a future version of pandas. Pass observed=False to retain current behavior or observed=True to adopt the future default and silence this warning.\n",
      "  pd.concat(\n",
      "/var/folders/2x/rfhzgyjn2zq2wlzk_kn4th680000gn/T/ipykernel_9315/2342058334.py:2: FutureWarning: The default of observed=False is deprecated and will be changed to True in a future version of pandas. Pass observed=False to retain current behavior or observed=True to adopt the future default and silence this warning.\n",
      "  df = (token_table\n",
      "/var/folders/2x/rfhzgyjn2zq2wlzk_kn4th680000gn/T/ipykernel_9315/2342058334.py:9: FutureWarning: The default of observed=False is deprecated and will be changed to True in a future version of pandas. Pass observed=False to retain current behavior or observed=True to adopt the future default and silence this warning.\n",
      "  pd.concat(\n",
      "/var/folders/2x/rfhzgyjn2zq2wlzk_kn4th680000gn/T/ipykernel_9315/2342058334.py:19: FutureWarning: The default of observed=False is deprecated and will be changed to True in a future version of pandas. Pass observed=False to retain current behavior or observed=True to adopt the future default and silence this warning.\n",
      "  pd.concat(\n",
      "/var/folders/2x/rfhzgyjn2zq2wlzk_kn4th680000gn/T/ipykernel_9315/2342058334.py:2: FutureWarning: The default of observed=False is deprecated and will be changed to True in a future version of pandas. Pass observed=False to retain current behavior or observed=True to adopt the future default and silence this warning.\n",
      "  df = (token_table\n"
     ]
    },
    {
     "name": "stdout",
     "output_type": "stream",
     "text": [
      "180002\n",
      "180003\n"
     ]
    },
    {
     "name": "stderr",
     "output_type": "stream",
     "text": [
      "/var/folders/2x/rfhzgyjn2zq2wlzk_kn4th680000gn/T/ipykernel_9315/2342058334.py:9: FutureWarning: The default of observed=False is deprecated and will be changed to True in a future version of pandas. Pass observed=False to retain current behavior or observed=True to adopt the future default and silence this warning.\n",
      "  pd.concat(\n",
      "/var/folders/2x/rfhzgyjn2zq2wlzk_kn4th680000gn/T/ipykernel_9315/2342058334.py:19: FutureWarning: The default of observed=False is deprecated and will be changed to True in a future version of pandas. Pass observed=False to retain current behavior or observed=True to adopt the future default and silence this warning.\n",
      "  pd.concat(\n",
      "/var/folders/2x/rfhzgyjn2zq2wlzk_kn4th680000gn/T/ipykernel_9315/2342058334.py:2: FutureWarning: The default of observed=False is deprecated and will be changed to True in a future version of pandas. Pass observed=False to retain current behavior or observed=True to adopt the future default and silence this warning.\n",
      "  df = (token_table\n",
      "/var/folders/2x/rfhzgyjn2zq2wlzk_kn4th680000gn/T/ipykernel_9315/2342058334.py:9: FutureWarning: The default of observed=False is deprecated and will be changed to True in a future version of pandas. Pass observed=False to retain current behavior or observed=True to adopt the future default and silence this warning.\n",
      "  pd.concat(\n",
      "/var/folders/2x/rfhzgyjn2zq2wlzk_kn4th680000gn/T/ipykernel_9315/2342058334.py:19: FutureWarning: The default of observed=False is deprecated and will be changed to True in a future version of pandas. Pass observed=False to retain current behavior or observed=True to adopt the future default and silence this warning.\n",
      "  pd.concat(\n",
      "/var/folders/2x/rfhzgyjn2zq2wlzk_kn4th680000gn/T/ipykernel_9315/2342058334.py:2: FutureWarning: The default of observed=False is deprecated and will be changed to True in a future version of pandas. Pass observed=False to retain current behavior or observed=True to adopt the future default and silence this warning.\n",
      "  df = (token_table\n"
     ]
    },
    {
     "name": "stdout",
     "output_type": "stream",
     "text": [
      "180004\n"
     ]
    },
    {
     "name": "stderr",
     "output_type": "stream",
     "text": [
      "/var/folders/2x/rfhzgyjn2zq2wlzk_kn4th680000gn/T/ipykernel_9315/2342058334.py:9: FutureWarning: The default of observed=False is deprecated and will be changed to True in a future version of pandas. Pass observed=False to retain current behavior or observed=True to adopt the future default and silence this warning.\n",
      "  pd.concat(\n",
      "/var/folders/2x/rfhzgyjn2zq2wlzk_kn4th680000gn/T/ipykernel_9315/2342058334.py:19: FutureWarning: The default of observed=False is deprecated and will be changed to True in a future version of pandas. Pass observed=False to retain current behavior or observed=True to adopt the future default and silence this warning.\n",
      "  pd.concat(\n",
      "/var/folders/2x/rfhzgyjn2zq2wlzk_kn4th680000gn/T/ipykernel_9315/2342058334.py:2: FutureWarning: The default of observed=False is deprecated and will be changed to True in a future version of pandas. Pass observed=False to retain current behavior or observed=True to adopt the future default and silence this warning.\n",
      "  df = (token_table\n",
      "/var/folders/2x/rfhzgyjn2zq2wlzk_kn4th680000gn/T/ipykernel_9315/2342058334.py:9: FutureWarning: The default of observed=False is deprecated and will be changed to True in a future version of pandas. Pass observed=False to retain current behavior or observed=True to adopt the future default and silence this warning.\n",
      "  pd.concat(\n",
      "/var/folders/2x/rfhzgyjn2zq2wlzk_kn4th680000gn/T/ipykernel_9315/2342058334.py:19: FutureWarning: The default of observed=False is deprecated and will be changed to True in a future version of pandas. Pass observed=False to retain current behavior or observed=True to adopt the future default and silence this warning.\n",
      "  pd.concat(\n"
     ]
    },
    {
     "name": "stdout",
     "output_type": "stream",
     "text": [
      "180005\n",
      "180006\n"
     ]
    },
    {
     "name": "stderr",
     "output_type": "stream",
     "text": [
      "/var/folders/2x/rfhzgyjn2zq2wlzk_kn4th680000gn/T/ipykernel_9315/2342058334.py:2: FutureWarning: The default of observed=False is deprecated and will be changed to True in a future version of pandas. Pass observed=False to retain current behavior or observed=True to adopt the future default and silence this warning.\n",
      "  df = (token_table\n",
      "/var/folders/2x/rfhzgyjn2zq2wlzk_kn4th680000gn/T/ipykernel_9315/2342058334.py:9: FutureWarning: The default of observed=False is deprecated and will be changed to True in a future version of pandas. Pass observed=False to retain current behavior or observed=True to adopt the future default and silence this warning.\n",
      "  pd.concat(\n",
      "/var/folders/2x/rfhzgyjn2zq2wlzk_kn4th680000gn/T/ipykernel_9315/2342058334.py:19: FutureWarning: The default of observed=False is deprecated and will be changed to True in a future version of pandas. Pass observed=False to retain current behavior or observed=True to adopt the future default and silence this warning.\n",
      "  pd.concat(\n",
      "/var/folders/2x/rfhzgyjn2zq2wlzk_kn4th680000gn/T/ipykernel_9315/2342058334.py:2: FutureWarning: The default of observed=False is deprecated and will be changed to True in a future version of pandas. Pass observed=False to retain current behavior or observed=True to adopt the future default and silence this warning.\n",
      "  df = (token_table\n"
     ]
    },
    {
     "name": "stdout",
     "output_type": "stream",
     "text": [
      "180007\n",
      "180008\n"
     ]
    },
    {
     "name": "stderr",
     "output_type": "stream",
     "text": [
      "/var/folders/2x/rfhzgyjn2zq2wlzk_kn4th680000gn/T/ipykernel_9315/2342058334.py:9: FutureWarning: The default of observed=False is deprecated and will be changed to True in a future version of pandas. Pass observed=False to retain current behavior or observed=True to adopt the future default and silence this warning.\n",
      "  pd.concat(\n",
      "/var/folders/2x/rfhzgyjn2zq2wlzk_kn4th680000gn/T/ipykernel_9315/2342058334.py:19: FutureWarning: The default of observed=False is deprecated and will be changed to True in a future version of pandas. Pass observed=False to retain current behavior or observed=True to adopt the future default and silence this warning.\n",
      "  pd.concat(\n",
      "/var/folders/2x/rfhzgyjn2zq2wlzk_kn4th680000gn/T/ipykernel_9315/2342058334.py:2: FutureWarning: The default of observed=False is deprecated and will be changed to True in a future version of pandas. Pass observed=False to retain current behavior or observed=True to adopt the future default and silence this warning.\n",
      "  df = (token_table\n",
      "/var/folders/2x/rfhzgyjn2zq2wlzk_kn4th680000gn/T/ipykernel_9315/2342058334.py:9: FutureWarning: The default of observed=False is deprecated and will be changed to True in a future version of pandas. Pass observed=False to retain current behavior or observed=True to adopt the future default and silence this warning.\n",
      "  pd.concat(\n",
      "/var/folders/2x/rfhzgyjn2zq2wlzk_kn4th680000gn/T/ipykernel_9315/2342058334.py:19: FutureWarning: The default of observed=False is deprecated and will be changed to True in a future version of pandas. Pass observed=False to retain current behavior or observed=True to adopt the future default and silence this warning.\n",
      "  pd.concat(\n"
     ]
    },
    {
     "name": "stdout",
     "output_type": "stream",
     "text": [
      "180009\n",
      "180010\n"
     ]
    },
    {
     "name": "stderr",
     "output_type": "stream",
     "text": [
      "/var/folders/2x/rfhzgyjn2zq2wlzk_kn4th680000gn/T/ipykernel_9315/2342058334.py:2: FutureWarning: The default of observed=False is deprecated and will be changed to True in a future version of pandas. Pass observed=False to retain current behavior or observed=True to adopt the future default and silence this warning.\n",
      "  df = (token_table\n",
      "/var/folders/2x/rfhzgyjn2zq2wlzk_kn4th680000gn/T/ipykernel_9315/2342058334.py:9: FutureWarning: The default of observed=False is deprecated and will be changed to True in a future version of pandas. Pass observed=False to retain current behavior or observed=True to adopt the future default and silence this warning.\n",
      "  pd.concat(\n",
      "/var/folders/2x/rfhzgyjn2zq2wlzk_kn4th680000gn/T/ipykernel_9315/2342058334.py:19: FutureWarning: The default of observed=False is deprecated and will be changed to True in a future version of pandas. Pass observed=False to retain current behavior or observed=True to adopt the future default and silence this warning.\n",
      "  pd.concat(\n",
      "/var/folders/2x/rfhzgyjn2zq2wlzk_kn4th680000gn/T/ipykernel_9315/2342058334.py:2: FutureWarning: The default of observed=False is deprecated and will be changed to True in a future version of pandas. Pass observed=False to retain current behavior or observed=True to adopt the future default and silence this warning.\n",
      "  df = (token_table\n",
      "/var/folders/2x/rfhzgyjn2zq2wlzk_kn4th680000gn/T/ipykernel_9315/2342058334.py:9: FutureWarning: The default of observed=False is deprecated and will be changed to True in a future version of pandas. Pass observed=False to retain current behavior or observed=True to adopt the future default and silence this warning.\n",
      "  pd.concat(\n",
      "/var/folders/2x/rfhzgyjn2zq2wlzk_kn4th680000gn/T/ipykernel_9315/2342058334.py:19: FutureWarning: The default of observed=False is deprecated and will be changed to True in a future version of pandas. Pass observed=False to retain current behavior or observed=True to adopt the future default and silence this warning.\n",
      "  pd.concat(\n",
      "/var/folders/2x/rfhzgyjn2zq2wlzk_kn4th680000gn/T/ipykernel_9315/2342058334.py:2: FutureWarning: The default of observed=False is deprecated and will be changed to True in a future version of pandas. Pass observed=False to retain current behavior or observed=True to adopt the future default and silence this warning.\n",
      "  df = (token_table\n",
      "/var/folders/2x/rfhzgyjn2zq2wlzk_kn4th680000gn/T/ipykernel_9315/2342058334.py:9: FutureWarning: The default of observed=False is deprecated and will be changed to True in a future version of pandas. Pass observed=False to retain current behavior or observed=True to adopt the future default and silence this warning.\n",
      "  pd.concat(\n",
      "/var/folders/2x/rfhzgyjn2zq2wlzk_kn4th680000gn/T/ipykernel_9315/2342058334.py:19: FutureWarning: The default of observed=False is deprecated and will be changed to True in a future version of pandas. Pass observed=False to retain current behavior or observed=True to adopt the future default and silence this warning.\n",
      "  pd.concat(\n"
     ]
    },
    {
     "name": "stdout",
     "output_type": "stream",
     "text": [
      "180011\n",
      "180012\n"
     ]
    },
    {
     "name": "stderr",
     "output_type": "stream",
     "text": [
      "/var/folders/2x/rfhzgyjn2zq2wlzk_kn4th680000gn/T/ipykernel_9315/2342058334.py:2: FutureWarning: The default of observed=False is deprecated and will be changed to True in a future version of pandas. Pass observed=False to retain current behavior or observed=True to adopt the future default and silence this warning.\n",
      "  df = (token_table\n",
      "/var/folders/2x/rfhzgyjn2zq2wlzk_kn4th680000gn/T/ipykernel_9315/2342058334.py:9: FutureWarning: The default of observed=False is deprecated and will be changed to True in a future version of pandas. Pass observed=False to retain current behavior or observed=True to adopt the future default and silence this warning.\n",
      "  pd.concat(\n",
      "/var/folders/2x/rfhzgyjn2zq2wlzk_kn4th680000gn/T/ipykernel_9315/2342058334.py:19: FutureWarning: The default of observed=False is deprecated and will be changed to True in a future version of pandas. Pass observed=False to retain current behavior or observed=True to adopt the future default and silence this warning.\n",
      "  pd.concat(\n",
      "/var/folders/2x/rfhzgyjn2zq2wlzk_kn4th680000gn/T/ipykernel_9315/2342058334.py:2: FutureWarning: The default of observed=False is deprecated and will be changed to True in a future version of pandas. Pass observed=False to retain current behavior or observed=True to adopt the future default and silence this warning.\n",
      "  df = (token_table\n",
      "/var/folders/2x/rfhzgyjn2zq2wlzk_kn4th680000gn/T/ipykernel_9315/2342058334.py:9: FutureWarning: The default of observed=False is deprecated and will be changed to True in a future version of pandas. Pass observed=False to retain current behavior or observed=True to adopt the future default and silence this warning.\n",
      "  pd.concat(\n"
     ]
    },
    {
     "name": "stdout",
     "output_type": "stream",
     "text": [
      "180013\n",
      "180014\n"
     ]
    },
    {
     "name": "stderr",
     "output_type": "stream",
     "text": [
      "/var/folders/2x/rfhzgyjn2zq2wlzk_kn4th680000gn/T/ipykernel_9315/2342058334.py:19: FutureWarning: The default of observed=False is deprecated and will be changed to True in a future version of pandas. Pass observed=False to retain current behavior or observed=True to adopt the future default and silence this warning.\n",
      "  pd.concat(\n",
      "/var/folders/2x/rfhzgyjn2zq2wlzk_kn4th680000gn/T/ipykernel_9315/2342058334.py:2: FutureWarning: The default of observed=False is deprecated and will be changed to True in a future version of pandas. Pass observed=False to retain current behavior or observed=True to adopt the future default and silence this warning.\n",
      "  df = (token_table\n",
      "/var/folders/2x/rfhzgyjn2zq2wlzk_kn4th680000gn/T/ipykernel_9315/2342058334.py:9: FutureWarning: The default of observed=False is deprecated and will be changed to True in a future version of pandas. Pass observed=False to retain current behavior or observed=True to adopt the future default and silence this warning.\n",
      "  pd.concat(\n",
      "/var/folders/2x/rfhzgyjn2zq2wlzk_kn4th680000gn/T/ipykernel_9315/2342058334.py:19: FutureWarning: The default of observed=False is deprecated and will be changed to True in a future version of pandas. Pass observed=False to retain current behavior or observed=True to adopt the future default and silence this warning.\n",
      "  pd.concat(\n",
      "/var/folders/2x/rfhzgyjn2zq2wlzk_kn4th680000gn/T/ipykernel_9315/2342058334.py:2: FutureWarning: The default of observed=False is deprecated and will be changed to True in a future version of pandas. Pass observed=False to retain current behavior or observed=True to adopt the future default and silence this warning.\n",
      "  df = (token_table\n",
      "/var/folders/2x/rfhzgyjn2zq2wlzk_kn4th680000gn/T/ipykernel_9315/2342058334.py:9: FutureWarning: The default of observed=False is deprecated and will be changed to True in a future version of pandas. Pass observed=False to retain current behavior or observed=True to adopt the future default and silence this warning.\n",
      "  pd.concat(\n",
      "/var/folders/2x/rfhzgyjn2zq2wlzk_kn4th680000gn/T/ipykernel_9315/2342058334.py:19: FutureWarning: The default of observed=False is deprecated and will be changed to True in a future version of pandas. Pass observed=False to retain current behavior or observed=True to adopt the future default and silence this warning.\n",
      "  pd.concat(\n"
     ]
    },
    {
     "name": "stdout",
     "output_type": "stream",
     "text": [
      "180015\n",
      "180016\n"
     ]
    },
    {
     "name": "stderr",
     "output_type": "stream",
     "text": [
      "/var/folders/2x/rfhzgyjn2zq2wlzk_kn4th680000gn/T/ipykernel_9315/2342058334.py:2: FutureWarning: The default of observed=False is deprecated and will be changed to True in a future version of pandas. Pass observed=False to retain current behavior or observed=True to adopt the future default and silence this warning.\n",
      "  df = (token_table\n",
      "/var/folders/2x/rfhzgyjn2zq2wlzk_kn4th680000gn/T/ipykernel_9315/2342058334.py:9: FutureWarning: The default of observed=False is deprecated and will be changed to True in a future version of pandas. Pass observed=False to retain current behavior or observed=True to adopt the future default and silence this warning.\n",
      "  pd.concat(\n",
      "/var/folders/2x/rfhzgyjn2zq2wlzk_kn4th680000gn/T/ipykernel_9315/2342058334.py:19: FutureWarning: The default of observed=False is deprecated and will be changed to True in a future version of pandas. Pass observed=False to retain current behavior or observed=True to adopt the future default and silence this warning.\n",
      "  pd.concat(\n",
      "/var/folders/2x/rfhzgyjn2zq2wlzk_kn4th680000gn/T/ipykernel_9315/2342058334.py:2: FutureWarning: The default of observed=False is deprecated and will be changed to True in a future version of pandas. Pass observed=False to retain current behavior or observed=True to adopt the future default and silence this warning.\n",
      "  df = (token_table\n"
     ]
    },
    {
     "name": "stdout",
     "output_type": "stream",
     "text": [
      "180017\n",
      "180018\n"
     ]
    },
    {
     "name": "stderr",
     "output_type": "stream",
     "text": [
      "/var/folders/2x/rfhzgyjn2zq2wlzk_kn4th680000gn/T/ipykernel_9315/2342058334.py:9: FutureWarning: The default of observed=False is deprecated and will be changed to True in a future version of pandas. Pass observed=False to retain current behavior or observed=True to adopt the future default and silence this warning.\n",
      "  pd.concat(\n",
      "/var/folders/2x/rfhzgyjn2zq2wlzk_kn4th680000gn/T/ipykernel_9315/2342058334.py:19: FutureWarning: The default of observed=False is deprecated and will be changed to True in a future version of pandas. Pass observed=False to retain current behavior or observed=True to adopt the future default and silence this warning.\n",
      "  pd.concat(\n",
      "/var/folders/2x/rfhzgyjn2zq2wlzk_kn4th680000gn/T/ipykernel_9315/2342058334.py:2: FutureWarning: The default of observed=False is deprecated and will be changed to True in a future version of pandas. Pass observed=False to retain current behavior or observed=True to adopt the future default and silence this warning.\n",
      "  df = (token_table\n",
      "/var/folders/2x/rfhzgyjn2zq2wlzk_kn4th680000gn/T/ipykernel_9315/2342058334.py:9: FutureWarning: The default of observed=False is deprecated and will be changed to True in a future version of pandas. Pass observed=False to retain current behavior or observed=True to adopt the future default and silence this warning.\n",
      "  pd.concat(\n",
      "/var/folders/2x/rfhzgyjn2zq2wlzk_kn4th680000gn/T/ipykernel_9315/2342058334.py:19: FutureWarning: The default of observed=False is deprecated and will be changed to True in a future version of pandas. Pass observed=False to retain current behavior or observed=True to adopt the future default and silence this warning.\n",
      "  pd.concat(\n",
      "/var/folders/2x/rfhzgyjn2zq2wlzk_kn4th680000gn/T/ipykernel_9315/2342058334.py:2: FutureWarning: The default of observed=False is deprecated and will be changed to True in a future version of pandas. Pass observed=False to retain current behavior or observed=True to adopt the future default and silence this warning.\n",
      "  df = (token_table\n",
      "/var/folders/2x/rfhzgyjn2zq2wlzk_kn4th680000gn/T/ipykernel_9315/2342058334.py:9: FutureWarning: The default of observed=False is deprecated and will be changed to True in a future version of pandas. Pass observed=False to retain current behavior or observed=True to adopt the future default and silence this warning.\n",
      "  pd.concat(\n",
      "/var/folders/2x/rfhzgyjn2zq2wlzk_kn4th680000gn/T/ipykernel_9315/2342058334.py:19: FutureWarning: The default of observed=False is deprecated and will be changed to True in a future version of pandas. Pass observed=False to retain current behavior or observed=True to adopt the future default and silence this warning.\n",
      "  pd.concat(\n",
      "/var/folders/2x/rfhzgyjn2zq2wlzk_kn4th680000gn/T/ipykernel_9315/2342058334.py:2: FutureWarning: The default of observed=False is deprecated and will be changed to True in a future version of pandas. Pass observed=False to retain current behavior or observed=True to adopt the future default and silence this warning.\n",
      "  df = (token_table\n"
     ]
    },
    {
     "name": "stdout",
     "output_type": "stream",
     "text": [
      "180019\n",
      "180020\n"
     ]
    },
    {
     "name": "stderr",
     "output_type": "stream",
     "text": [
      "/var/folders/2x/rfhzgyjn2zq2wlzk_kn4th680000gn/T/ipykernel_9315/2342058334.py:9: FutureWarning: The default of observed=False is deprecated and will be changed to True in a future version of pandas. Pass observed=False to retain current behavior or observed=True to adopt the future default and silence this warning.\n",
      "  pd.concat(\n",
      "/var/folders/2x/rfhzgyjn2zq2wlzk_kn4th680000gn/T/ipykernel_9315/2342058334.py:19: FutureWarning: The default of observed=False is deprecated and will be changed to True in a future version of pandas. Pass observed=False to retain current behavior or observed=True to adopt the future default and silence this warning.\n",
      "  pd.concat(\n",
      "/var/folders/2x/rfhzgyjn2zq2wlzk_kn4th680000gn/T/ipykernel_9315/2342058334.py:2: FutureWarning: The default of observed=False is deprecated and will be changed to True in a future version of pandas. Pass observed=False to retain current behavior or observed=True to adopt the future default and silence this warning.\n",
      "  df = (token_table\n",
      "/var/folders/2x/rfhzgyjn2zq2wlzk_kn4th680000gn/T/ipykernel_9315/2342058334.py:9: FutureWarning: The default of observed=False is deprecated and will be changed to True in a future version of pandas. Pass observed=False to retain current behavior or observed=True to adopt the future default and silence this warning.\n",
      "  pd.concat(\n",
      "/var/folders/2x/rfhzgyjn2zq2wlzk_kn4th680000gn/T/ipykernel_9315/2342058334.py:19: FutureWarning: The default of observed=False is deprecated and will be changed to True in a future version of pandas. Pass observed=False to retain current behavior or observed=True to adopt the future default and silence this warning.\n",
      "  pd.concat(\n"
     ]
    },
    {
     "name": "stdout",
     "output_type": "stream",
     "text": [
      "180021\n",
      "180022\n"
     ]
    },
    {
     "name": "stderr",
     "output_type": "stream",
     "text": [
      "/var/folders/2x/rfhzgyjn2zq2wlzk_kn4th680000gn/T/ipykernel_9315/2342058334.py:2: FutureWarning: The default of observed=False is deprecated and will be changed to True in a future version of pandas. Pass observed=False to retain current behavior or observed=True to adopt the future default and silence this warning.\n",
      "  df = (token_table\n",
      "/var/folders/2x/rfhzgyjn2zq2wlzk_kn4th680000gn/T/ipykernel_9315/2342058334.py:9: FutureWarning: The default of observed=False is deprecated and will be changed to True in a future version of pandas. Pass observed=False to retain current behavior or observed=True to adopt the future default and silence this warning.\n",
      "  pd.concat(\n",
      "/var/folders/2x/rfhzgyjn2zq2wlzk_kn4th680000gn/T/ipykernel_9315/2342058334.py:19: FutureWarning: The default of observed=False is deprecated and will be changed to True in a future version of pandas. Pass observed=False to retain current behavior or observed=True to adopt the future default and silence this warning.\n",
      "  pd.concat(\n",
      "/var/folders/2x/rfhzgyjn2zq2wlzk_kn4th680000gn/T/ipykernel_9315/2342058334.py:2: FutureWarning: The default of observed=False is deprecated and will be changed to True in a future version of pandas. Pass observed=False to retain current behavior or observed=True to adopt the future default and silence this warning.\n",
      "  df = (token_table\n"
     ]
    },
    {
     "name": "stdout",
     "output_type": "stream",
     "text": [
      "180023\n",
      "180024\n"
     ]
    },
    {
     "name": "stderr",
     "output_type": "stream",
     "text": [
      "/var/folders/2x/rfhzgyjn2zq2wlzk_kn4th680000gn/T/ipykernel_9315/2342058334.py:9: FutureWarning: The default of observed=False is deprecated and will be changed to True in a future version of pandas. Pass observed=False to retain current behavior or observed=True to adopt the future default and silence this warning.\n",
      "  pd.concat(\n",
      "/var/folders/2x/rfhzgyjn2zq2wlzk_kn4th680000gn/T/ipykernel_9315/2342058334.py:19: FutureWarning: The default of observed=False is deprecated and will be changed to True in a future version of pandas. Pass observed=False to retain current behavior or observed=True to adopt the future default and silence this warning.\n",
      "  pd.concat(\n",
      "/var/folders/2x/rfhzgyjn2zq2wlzk_kn4th680000gn/T/ipykernel_9315/2342058334.py:2: FutureWarning: The default of observed=False is deprecated and will be changed to True in a future version of pandas. Pass observed=False to retain current behavior or observed=True to adopt the future default and silence this warning.\n",
      "  df = (token_table\n",
      "/var/folders/2x/rfhzgyjn2zq2wlzk_kn4th680000gn/T/ipykernel_9315/2342058334.py:9: FutureWarning: The default of observed=False is deprecated and will be changed to True in a future version of pandas. Pass observed=False to retain current behavior or observed=True to adopt the future default and silence this warning.\n",
      "  pd.concat(\n",
      "/var/folders/2x/rfhzgyjn2zq2wlzk_kn4th680000gn/T/ipykernel_9315/2342058334.py:19: FutureWarning: The default of observed=False is deprecated and will be changed to True in a future version of pandas. Pass observed=False to retain current behavior or observed=True to adopt the future default and silence this warning.\n",
      "  pd.concat(\n"
     ]
    },
    {
     "name": "stdout",
     "output_type": "stream",
     "text": [
      "180025\n",
      "180026\n"
     ]
    },
    {
     "name": "stderr",
     "output_type": "stream",
     "text": [
      "/var/folders/2x/rfhzgyjn2zq2wlzk_kn4th680000gn/T/ipykernel_9315/2342058334.py:2: FutureWarning: The default of observed=False is deprecated and will be changed to True in a future version of pandas. Pass observed=False to retain current behavior or observed=True to adopt the future default and silence this warning.\n",
      "  df = (token_table\n",
      "/var/folders/2x/rfhzgyjn2zq2wlzk_kn4th680000gn/T/ipykernel_9315/2342058334.py:9: FutureWarning: The default of observed=False is deprecated and will be changed to True in a future version of pandas. Pass observed=False to retain current behavior or observed=True to adopt the future default and silence this warning.\n",
      "  pd.concat(\n",
      "/var/folders/2x/rfhzgyjn2zq2wlzk_kn4th680000gn/T/ipykernel_9315/2342058334.py:19: FutureWarning: The default of observed=False is deprecated and will be changed to True in a future version of pandas. Pass observed=False to retain current behavior or observed=True to adopt the future default and silence this warning.\n",
      "  pd.concat(\n",
      "/var/folders/2x/rfhzgyjn2zq2wlzk_kn4th680000gn/T/ipykernel_9315/2342058334.py:2: FutureWarning: The default of observed=False is deprecated and will be changed to True in a future version of pandas. Pass observed=False to retain current behavior or observed=True to adopt the future default and silence this warning.\n",
      "  df = (token_table\n",
      "/var/folders/2x/rfhzgyjn2zq2wlzk_kn4th680000gn/T/ipykernel_9315/2342058334.py:9: FutureWarning: The default of observed=False is deprecated and will be changed to True in a future version of pandas. Pass observed=False to retain current behavior or observed=True to adopt the future default and silence this warning.\n",
      "  pd.concat(\n",
      "/var/folders/2x/rfhzgyjn2zq2wlzk_kn4th680000gn/T/ipykernel_9315/2342058334.py:19: FutureWarning: The default of observed=False is deprecated and will be changed to True in a future version of pandas. Pass observed=False to retain current behavior or observed=True to adopt the future default and silence this warning.\n",
      "  pd.concat(\n",
      "/var/folders/2x/rfhzgyjn2zq2wlzk_kn4th680000gn/T/ipykernel_9315/2342058334.py:2: FutureWarning: The default of observed=False is deprecated and will be changed to True in a future version of pandas. Pass observed=False to retain current behavior or observed=True to adopt the future default and silence this warning.\n",
      "  df = (token_table\n",
      "/var/folders/2x/rfhzgyjn2zq2wlzk_kn4th680000gn/T/ipykernel_9315/2342058334.py:9: FutureWarning: The default of observed=False is deprecated and will be changed to True in a future version of pandas. Pass observed=False to retain current behavior or observed=True to adopt the future default and silence this warning.\n",
      "  pd.concat(\n"
     ]
    },
    {
     "name": "stdout",
     "output_type": "stream",
     "text": [
      "180027\n",
      "180028\n"
     ]
    },
    {
     "name": "stderr",
     "output_type": "stream",
     "text": [
      "/var/folders/2x/rfhzgyjn2zq2wlzk_kn4th680000gn/T/ipykernel_9315/2342058334.py:19: FutureWarning: The default of observed=False is deprecated and will be changed to True in a future version of pandas. Pass observed=False to retain current behavior or observed=True to adopt the future default and silence this warning.\n",
      "  pd.concat(\n",
      "/var/folders/2x/rfhzgyjn2zq2wlzk_kn4th680000gn/T/ipykernel_9315/2342058334.py:2: FutureWarning: The default of observed=False is deprecated and will be changed to True in a future version of pandas. Pass observed=False to retain current behavior or observed=True to adopt the future default and silence this warning.\n",
      "  df = (token_table\n",
      "/var/folders/2x/rfhzgyjn2zq2wlzk_kn4th680000gn/T/ipykernel_9315/2342058334.py:9: FutureWarning: The default of observed=False is deprecated and will be changed to True in a future version of pandas. Pass observed=False to retain current behavior or observed=True to adopt the future default and silence this warning.\n",
      "  pd.concat(\n",
      "/var/folders/2x/rfhzgyjn2zq2wlzk_kn4th680000gn/T/ipykernel_9315/2342058334.py:19: FutureWarning: The default of observed=False is deprecated and will be changed to True in a future version of pandas. Pass observed=False to retain current behavior or observed=True to adopt the future default and silence this warning.\n",
      "  pd.concat(\n"
     ]
    },
    {
     "name": "stdout",
     "output_type": "stream",
     "text": [
      "180029\n",
      "180030\n"
     ]
    },
    {
     "name": "stderr",
     "output_type": "stream",
     "text": [
      "/var/folders/2x/rfhzgyjn2zq2wlzk_kn4th680000gn/T/ipykernel_9315/2342058334.py:2: FutureWarning: The default of observed=False is deprecated and will be changed to True in a future version of pandas. Pass observed=False to retain current behavior or observed=True to adopt the future default and silence this warning.\n",
      "  df = (token_table\n",
      "/var/folders/2x/rfhzgyjn2zq2wlzk_kn4th680000gn/T/ipykernel_9315/2342058334.py:9: FutureWarning: The default of observed=False is deprecated and will be changed to True in a future version of pandas. Pass observed=False to retain current behavior or observed=True to adopt the future default and silence this warning.\n",
      "  pd.concat(\n",
      "/var/folders/2x/rfhzgyjn2zq2wlzk_kn4th680000gn/T/ipykernel_9315/2342058334.py:19: FutureWarning: The default of observed=False is deprecated and will be changed to True in a future version of pandas. Pass observed=False to retain current behavior or observed=True to adopt the future default and silence this warning.\n",
      "  pd.concat(\n",
      "/var/folders/2x/rfhzgyjn2zq2wlzk_kn4th680000gn/T/ipykernel_9315/2342058334.py:2: FutureWarning: The default of observed=False is deprecated and will be changed to True in a future version of pandas. Pass observed=False to retain current behavior or observed=True to adopt the future default and silence this warning.\n",
      "  df = (token_table\n",
      "/var/folders/2x/rfhzgyjn2zq2wlzk_kn4th680000gn/T/ipykernel_9315/2342058334.py:9: FutureWarning: The default of observed=False is deprecated and will be changed to True in a future version of pandas. Pass observed=False to retain current behavior or observed=True to adopt the future default and silence this warning.\n",
      "  pd.concat(\n",
      "/var/folders/2x/rfhzgyjn2zq2wlzk_kn4th680000gn/T/ipykernel_9315/2342058334.py:19: FutureWarning: The default of observed=False is deprecated and will be changed to True in a future version of pandas. Pass observed=False to retain current behavior or observed=True to adopt the future default and silence this warning.\n",
      "  pd.concat(\n",
      "/var/folders/2x/rfhzgyjn2zq2wlzk_kn4th680000gn/T/ipykernel_9315/2342058334.py:2: FutureWarning: The default of observed=False is deprecated and will be changed to True in a future version of pandas. Pass observed=False to retain current behavior or observed=True to adopt the future default and silence this warning.\n",
      "  df = (token_table\n",
      "/var/folders/2x/rfhzgyjn2zq2wlzk_kn4th680000gn/T/ipykernel_9315/2342058334.py:9: FutureWarning: The default of observed=False is deprecated and will be changed to True in a future version of pandas. Pass observed=False to retain current behavior or observed=True to adopt the future default and silence this warning.\n",
      "  pd.concat(\n",
      "/var/folders/2x/rfhzgyjn2zq2wlzk_kn4th680000gn/T/ipykernel_9315/2342058334.py:19: FutureWarning: The default of observed=False is deprecated and will be changed to True in a future version of pandas. Pass observed=False to retain current behavior or observed=True to adopt the future default and silence this warning.\n",
      "  pd.concat(\n"
     ]
    },
    {
     "name": "stdout",
     "output_type": "stream",
     "text": [
      "180031\n",
      "180032\n"
     ]
    },
    {
     "name": "stderr",
     "output_type": "stream",
     "text": [
      "/var/folders/2x/rfhzgyjn2zq2wlzk_kn4th680000gn/T/ipykernel_9315/2342058334.py:2: FutureWarning: The default of observed=False is deprecated and will be changed to True in a future version of pandas. Pass observed=False to retain current behavior or observed=True to adopt the future default and silence this warning.\n",
      "  df = (token_table\n",
      "/var/folders/2x/rfhzgyjn2zq2wlzk_kn4th680000gn/T/ipykernel_9315/2342058334.py:9: FutureWarning: The default of observed=False is deprecated and will be changed to True in a future version of pandas. Pass observed=False to retain current behavior or observed=True to adopt the future default and silence this warning.\n",
      "  pd.concat(\n",
      "/var/folders/2x/rfhzgyjn2zq2wlzk_kn4th680000gn/T/ipykernel_9315/2342058334.py:19: FutureWarning: The default of observed=False is deprecated and will be changed to True in a future version of pandas. Pass observed=False to retain current behavior or observed=True to adopt the future default and silence this warning.\n",
      "  pd.concat(\n",
      "/var/folders/2x/rfhzgyjn2zq2wlzk_kn4th680000gn/T/ipykernel_9315/2342058334.py:2: FutureWarning: The default of observed=False is deprecated and will be changed to True in a future version of pandas. Pass observed=False to retain current behavior or observed=True to adopt the future default and silence this warning.\n",
      "  df = (token_table\n",
      "/var/folders/2x/rfhzgyjn2zq2wlzk_kn4th680000gn/T/ipykernel_9315/2342058334.py:9: FutureWarning: The default of observed=False is deprecated and will be changed to True in a future version of pandas. Pass observed=False to retain current behavior or observed=True to adopt the future default and silence this warning.\n",
      "  pd.concat(\n"
     ]
    },
    {
     "name": "stdout",
     "output_type": "stream",
     "text": [
      "180033\n",
      "180034\n"
     ]
    },
    {
     "name": "stderr",
     "output_type": "stream",
     "text": [
      "/var/folders/2x/rfhzgyjn2zq2wlzk_kn4th680000gn/T/ipykernel_9315/2342058334.py:19: FutureWarning: The default of observed=False is deprecated and will be changed to True in a future version of pandas. Pass observed=False to retain current behavior or observed=True to adopt the future default and silence this warning.\n",
      "  pd.concat(\n",
      "/var/folders/2x/rfhzgyjn2zq2wlzk_kn4th680000gn/T/ipykernel_9315/2342058334.py:2: FutureWarning: The default of observed=False is deprecated and will be changed to True in a future version of pandas. Pass observed=False to retain current behavior or observed=True to adopt the future default and silence this warning.\n",
      "  df = (token_table\n",
      "/var/folders/2x/rfhzgyjn2zq2wlzk_kn4th680000gn/T/ipykernel_9315/2342058334.py:9: FutureWarning: The default of observed=False is deprecated and will be changed to True in a future version of pandas. Pass observed=False to retain current behavior or observed=True to adopt the future default and silence this warning.\n",
      "  pd.concat(\n",
      "/var/folders/2x/rfhzgyjn2zq2wlzk_kn4th680000gn/T/ipykernel_9315/2342058334.py:19: FutureWarning: The default of observed=False is deprecated and will be changed to True in a future version of pandas. Pass observed=False to retain current behavior or observed=True to adopt the future default and silence this warning.\n",
      "  pd.concat(\n"
     ]
    },
    {
     "name": "stdout",
     "output_type": "stream",
     "text": [
      "180035\n",
      "180036\n"
     ]
    },
    {
     "name": "stderr",
     "output_type": "stream",
     "text": [
      "/var/folders/2x/rfhzgyjn2zq2wlzk_kn4th680000gn/T/ipykernel_9315/2342058334.py:2: FutureWarning: The default of observed=False is deprecated and will be changed to True in a future version of pandas. Pass observed=False to retain current behavior or observed=True to adopt the future default and silence this warning.\n",
      "  df = (token_table\n",
      "/var/folders/2x/rfhzgyjn2zq2wlzk_kn4th680000gn/T/ipykernel_9315/2342058334.py:9: FutureWarning: The default of observed=False is deprecated and will be changed to True in a future version of pandas. Pass observed=False to retain current behavior or observed=True to adopt the future default and silence this warning.\n",
      "  pd.concat(\n",
      "/var/folders/2x/rfhzgyjn2zq2wlzk_kn4th680000gn/T/ipykernel_9315/2342058334.py:19: FutureWarning: The default of observed=False is deprecated and will be changed to True in a future version of pandas. Pass observed=False to retain current behavior or observed=True to adopt the future default and silence this warning.\n",
      "  pd.concat(\n",
      "/var/folders/2x/rfhzgyjn2zq2wlzk_kn4th680000gn/T/ipykernel_9315/2342058334.py:2: FutureWarning: The default of observed=False is deprecated and will be changed to True in a future version of pandas. Pass observed=False to retain current behavior or observed=True to adopt the future default and silence this warning.\n",
      "  df = (token_table\n",
      "/var/folders/2x/rfhzgyjn2zq2wlzk_kn4th680000gn/T/ipykernel_9315/2342058334.py:9: FutureWarning: The default of observed=False is deprecated and will be changed to True in a future version of pandas. Pass observed=False to retain current behavior or observed=True to adopt the future default and silence this warning.\n",
      "  pd.concat(\n",
      "/var/folders/2x/rfhzgyjn2zq2wlzk_kn4th680000gn/T/ipykernel_9315/2342058334.py:19: FutureWarning: The default of observed=False is deprecated and will be changed to True in a future version of pandas. Pass observed=False to retain current behavior or observed=True to adopt the future default and silence this warning.\n",
      "  pd.concat(\n",
      "/var/folders/2x/rfhzgyjn2zq2wlzk_kn4th680000gn/T/ipykernel_9315/2342058334.py:2: FutureWarning: The default of observed=False is deprecated and will be changed to True in a future version of pandas. Pass observed=False to retain current behavior or observed=True to adopt the future default and silence this warning.\n",
      "  df = (token_table\n",
      "/var/folders/2x/rfhzgyjn2zq2wlzk_kn4th680000gn/T/ipykernel_9315/2342058334.py:9: FutureWarning: The default of observed=False is deprecated and will be changed to True in a future version of pandas. Pass observed=False to retain current behavior or observed=True to adopt the future default and silence this warning.\n",
      "  pd.concat(\n",
      "/var/folders/2x/rfhzgyjn2zq2wlzk_kn4th680000gn/T/ipykernel_9315/2342058334.py:19: FutureWarning: The default of observed=False is deprecated and will be changed to True in a future version of pandas. Pass observed=False to retain current behavior or observed=True to adopt the future default and silence this warning.\n",
      "  pd.concat(\n"
     ]
    },
    {
     "name": "stdout",
     "output_type": "stream",
     "text": [
      "180037\n",
      "180038\n"
     ]
    },
    {
     "name": "stderr",
     "output_type": "stream",
     "text": [
      "/var/folders/2x/rfhzgyjn2zq2wlzk_kn4th680000gn/T/ipykernel_9315/2342058334.py:2: FutureWarning: The default of observed=False is deprecated and will be changed to True in a future version of pandas. Pass observed=False to retain current behavior or observed=True to adopt the future default and silence this warning.\n",
      "  df = (token_table\n",
      "/var/folders/2x/rfhzgyjn2zq2wlzk_kn4th680000gn/T/ipykernel_9315/2342058334.py:9: FutureWarning: The default of observed=False is deprecated and will be changed to True in a future version of pandas. Pass observed=False to retain current behavior or observed=True to adopt the future default and silence this warning.\n",
      "  pd.concat(\n",
      "/var/folders/2x/rfhzgyjn2zq2wlzk_kn4th680000gn/T/ipykernel_9315/2342058334.py:19: FutureWarning: The default of observed=False is deprecated and will be changed to True in a future version of pandas. Pass observed=False to retain current behavior or observed=True to adopt the future default and silence this warning.\n",
      "  pd.concat(\n"
     ]
    },
    {
     "name": "stdout",
     "output_type": "stream",
     "text": [
      "180039\n",
      "180040\n"
     ]
    },
    {
     "name": "stderr",
     "output_type": "stream",
     "text": [
      "/var/folders/2x/rfhzgyjn2zq2wlzk_kn4th680000gn/T/ipykernel_9315/2342058334.py:2: FutureWarning: The default of observed=False is deprecated and will be changed to True in a future version of pandas. Pass observed=False to retain current behavior or observed=True to adopt the future default and silence this warning.\n",
      "  df = (token_table\n",
      "/var/folders/2x/rfhzgyjn2zq2wlzk_kn4th680000gn/T/ipykernel_9315/2342058334.py:9: FutureWarning: The default of observed=False is deprecated and will be changed to True in a future version of pandas. Pass observed=False to retain current behavior or observed=True to adopt the future default and silence this warning.\n",
      "  pd.concat(\n",
      "/var/folders/2x/rfhzgyjn2zq2wlzk_kn4th680000gn/T/ipykernel_9315/2342058334.py:19: FutureWarning: The default of observed=False is deprecated and will be changed to True in a future version of pandas. Pass observed=False to retain current behavior or observed=True to adopt the future default and silence this warning.\n",
      "  pd.concat(\n",
      "/var/folders/2x/rfhzgyjn2zq2wlzk_kn4th680000gn/T/ipykernel_9315/2342058334.py:2: FutureWarning: The default of observed=False is deprecated and will be changed to True in a future version of pandas. Pass observed=False to retain current behavior or observed=True to adopt the future default and silence this warning.\n",
      "  df = (token_table\n",
      "/var/folders/2x/rfhzgyjn2zq2wlzk_kn4th680000gn/T/ipykernel_9315/2342058334.py:9: FutureWarning: The default of observed=False is deprecated and will be changed to True in a future version of pandas. Pass observed=False to retain current behavior or observed=True to adopt the future default and silence this warning.\n",
      "  pd.concat(\n",
      "/var/folders/2x/rfhzgyjn2zq2wlzk_kn4th680000gn/T/ipykernel_9315/2342058334.py:19: FutureWarning: The default of observed=False is deprecated and will be changed to True in a future version of pandas. Pass observed=False to retain current behavior or observed=True to adopt the future default and silence this warning.\n",
      "  pd.concat(\n",
      "/var/folders/2x/rfhzgyjn2zq2wlzk_kn4th680000gn/T/ipykernel_9315/2342058334.py:2: FutureWarning: The default of observed=False is deprecated and will be changed to True in a future version of pandas. Pass observed=False to retain current behavior or observed=True to adopt the future default and silence this warning.\n",
      "  df = (token_table\n",
      "/var/folders/2x/rfhzgyjn2zq2wlzk_kn4th680000gn/T/ipykernel_9315/2342058334.py:9: FutureWarning: The default of observed=False is deprecated and will be changed to True in a future version of pandas. Pass observed=False to retain current behavior or observed=True to adopt the future default and silence this warning.\n",
      "  pd.concat(\n",
      "/var/folders/2x/rfhzgyjn2zq2wlzk_kn4th680000gn/T/ipykernel_9315/2342058334.py:19: FutureWarning: The default of observed=False is deprecated and will be changed to True in a future version of pandas. Pass observed=False to retain current behavior or observed=True to adopt the future default and silence this warning.\n",
      "  pd.concat(\n"
     ]
    },
    {
     "name": "stdout",
     "output_type": "stream",
     "text": [
      "180041\n",
      "180042\n"
     ]
    },
    {
     "name": "stderr",
     "output_type": "stream",
     "text": [
      "/var/folders/2x/rfhzgyjn2zq2wlzk_kn4th680000gn/T/ipykernel_9315/2342058334.py:2: FutureWarning: The default of observed=False is deprecated and will be changed to True in a future version of pandas. Pass observed=False to retain current behavior or observed=True to adopt the future default and silence this warning.\n",
      "  df = (token_table\n",
      "/var/folders/2x/rfhzgyjn2zq2wlzk_kn4th680000gn/T/ipykernel_9315/2342058334.py:9: FutureWarning: The default of observed=False is deprecated and will be changed to True in a future version of pandas. Pass observed=False to retain current behavior or observed=True to adopt the future default and silence this warning.\n",
      "  pd.concat(\n",
      "/var/folders/2x/rfhzgyjn2zq2wlzk_kn4th680000gn/T/ipykernel_9315/2342058334.py:19: FutureWarning: The default of observed=False is deprecated and will be changed to True in a future version of pandas. Pass observed=False to retain current behavior or observed=True to adopt the future default and silence this warning.\n",
      "  pd.concat(\n",
      "/var/folders/2x/rfhzgyjn2zq2wlzk_kn4th680000gn/T/ipykernel_9315/2342058334.py:2: FutureWarning: The default of observed=False is deprecated and will be changed to True in a future version of pandas. Pass observed=False to retain current behavior or observed=True to adopt the future default and silence this warning.\n",
      "  df = (token_table\n"
     ]
    },
    {
     "name": "stdout",
     "output_type": "stream",
     "text": [
      "180043\n",
      "180044\n"
     ]
    },
    {
     "name": "stderr",
     "output_type": "stream",
     "text": [
      "/var/folders/2x/rfhzgyjn2zq2wlzk_kn4th680000gn/T/ipykernel_9315/2342058334.py:9: FutureWarning: The default of observed=False is deprecated and will be changed to True in a future version of pandas. Pass observed=False to retain current behavior or observed=True to adopt the future default and silence this warning.\n",
      "  pd.concat(\n",
      "/var/folders/2x/rfhzgyjn2zq2wlzk_kn4th680000gn/T/ipykernel_9315/2342058334.py:19: FutureWarning: The default of observed=False is deprecated and will be changed to True in a future version of pandas. Pass observed=False to retain current behavior or observed=True to adopt the future default and silence this warning.\n",
      "  pd.concat(\n",
      "/var/folders/2x/rfhzgyjn2zq2wlzk_kn4th680000gn/T/ipykernel_9315/2342058334.py:2: FutureWarning: The default of observed=False is deprecated and will be changed to True in a future version of pandas. Pass observed=False to retain current behavior or observed=True to adopt the future default and silence this warning.\n",
      "  df = (token_table\n",
      "/var/folders/2x/rfhzgyjn2zq2wlzk_kn4th680000gn/T/ipykernel_9315/2342058334.py:9: FutureWarning: The default of observed=False is deprecated and will be changed to True in a future version of pandas. Pass observed=False to retain current behavior or observed=True to adopt the future default and silence this warning.\n",
      "  pd.concat(\n",
      "/var/folders/2x/rfhzgyjn2zq2wlzk_kn4th680000gn/T/ipykernel_9315/2342058334.py:19: FutureWarning: The default of observed=False is deprecated and will be changed to True in a future version of pandas. Pass observed=False to retain current behavior or observed=True to adopt the future default and silence this warning.\n",
      "  pd.concat(\n"
     ]
    },
    {
     "name": "stdout",
     "output_type": "stream",
     "text": [
      "180045\n",
      "180046\n"
     ]
    },
    {
     "name": "stderr",
     "output_type": "stream",
     "text": [
      "/var/folders/2x/rfhzgyjn2zq2wlzk_kn4th680000gn/T/ipykernel_9315/2342058334.py:2: FutureWarning: The default of observed=False is deprecated and will be changed to True in a future version of pandas. Pass observed=False to retain current behavior or observed=True to adopt the future default and silence this warning.\n",
      "  df = (token_table\n",
      "/var/folders/2x/rfhzgyjn2zq2wlzk_kn4th680000gn/T/ipykernel_9315/2342058334.py:9: FutureWarning: The default of observed=False is deprecated and will be changed to True in a future version of pandas. Pass observed=False to retain current behavior or observed=True to adopt the future default and silence this warning.\n",
      "  pd.concat(\n",
      "/var/folders/2x/rfhzgyjn2zq2wlzk_kn4th680000gn/T/ipykernel_9315/2342058334.py:19: FutureWarning: The default of observed=False is deprecated and will be changed to True in a future version of pandas. Pass observed=False to retain current behavior or observed=True to adopt the future default and silence this warning.\n",
      "  pd.concat(\n",
      "/var/folders/2x/rfhzgyjn2zq2wlzk_kn4th680000gn/T/ipykernel_9315/2342058334.py:2: FutureWarning: The default of observed=False is deprecated and will be changed to True in a future version of pandas. Pass observed=False to retain current behavior or observed=True to adopt the future default and silence this warning.\n",
      "  df = (token_table\n",
      "/var/folders/2x/rfhzgyjn2zq2wlzk_kn4th680000gn/T/ipykernel_9315/2342058334.py:9: FutureWarning: The default of observed=False is deprecated and will be changed to True in a future version of pandas. Pass observed=False to retain current behavior or observed=True to adopt the future default and silence this warning.\n",
      "  pd.concat(\n",
      "/var/folders/2x/rfhzgyjn2zq2wlzk_kn4th680000gn/T/ipykernel_9315/2342058334.py:19: FutureWarning: The default of observed=False is deprecated and will be changed to True in a future version of pandas. Pass observed=False to retain current behavior or observed=True to adopt the future default and silence this warning.\n",
      "  pd.concat(\n",
      "/var/folders/2x/rfhzgyjn2zq2wlzk_kn4th680000gn/T/ipykernel_9315/2342058334.py:2: FutureWarning: The default of observed=False is deprecated and will be changed to True in a future version of pandas. Pass observed=False to retain current behavior or observed=True to adopt the future default and silence this warning.\n",
      "  df = (token_table\n"
     ]
    },
    {
     "name": "stdout",
     "output_type": "stream",
     "text": [
      "180047\n"
     ]
    },
    {
     "name": "stderr",
     "output_type": "stream",
     "text": [
      "/var/folders/2x/rfhzgyjn2zq2wlzk_kn4th680000gn/T/ipykernel_9315/2342058334.py:9: FutureWarning: The default of observed=False is deprecated and will be changed to True in a future version of pandas. Pass observed=False to retain current behavior or observed=True to adopt the future default and silence this warning.\n",
      "  pd.concat(\n",
      "/var/folders/2x/rfhzgyjn2zq2wlzk_kn4th680000gn/T/ipykernel_9315/2342058334.py:19: FutureWarning: The default of observed=False is deprecated and will be changed to True in a future version of pandas. Pass observed=False to retain current behavior or observed=True to adopt the future default and silence this warning.\n",
      "  pd.concat(\n",
      "/var/folders/2x/rfhzgyjn2zq2wlzk_kn4th680000gn/T/ipykernel_9315/2342058334.py:2: FutureWarning: The default of observed=False is deprecated and will be changed to True in a future version of pandas. Pass observed=False to retain current behavior or observed=True to adopt the future default and silence this warning.\n",
      "  df = (token_table\n",
      "/var/folders/2x/rfhzgyjn2zq2wlzk_kn4th680000gn/T/ipykernel_9315/2342058334.py:9: FutureWarning: The default of observed=False is deprecated and will be changed to True in a future version of pandas. Pass observed=False to retain current behavior or observed=True to adopt the future default and silence this warning.\n",
      "  pd.concat(\n",
      "/var/folders/2x/rfhzgyjn2zq2wlzk_kn4th680000gn/T/ipykernel_9315/2342058334.py:19: FutureWarning: The default of observed=False is deprecated and will be changed to True in a future version of pandas. Pass observed=False to retain current behavior or observed=True to adopt the future default and silence this warning.\n",
      "  pd.concat(\n"
     ]
    },
    {
     "name": "stdout",
     "output_type": "stream",
     "text": [
      "180048\n",
      "180049\n"
     ]
    },
    {
     "name": "stderr",
     "output_type": "stream",
     "text": [
      "/var/folders/2x/rfhzgyjn2zq2wlzk_kn4th680000gn/T/ipykernel_9315/2342058334.py:2: FutureWarning: The default of observed=False is deprecated and will be changed to True in a future version of pandas. Pass observed=False to retain current behavior or observed=True to adopt the future default and silence this warning.\n",
      "  df = (token_table\n",
      "/var/folders/2x/rfhzgyjn2zq2wlzk_kn4th680000gn/T/ipykernel_9315/2342058334.py:9: FutureWarning: The default of observed=False is deprecated and will be changed to True in a future version of pandas. Pass observed=False to retain current behavior or observed=True to adopt the future default and silence this warning.\n",
      "  pd.concat(\n",
      "/var/folders/2x/rfhzgyjn2zq2wlzk_kn4th680000gn/T/ipykernel_9315/2342058334.py:19: FutureWarning: The default of observed=False is deprecated and will be changed to True in a future version of pandas. Pass observed=False to retain current behavior or observed=True to adopt the future default and silence this warning.\n",
      "  pd.concat(\n"
     ]
    },
    {
     "name": "stdout",
     "output_type": "stream",
     "text": [
      "180050\n"
     ]
    },
    {
     "name": "stderr",
     "output_type": "stream",
     "text": [
      "/var/folders/2x/rfhzgyjn2zq2wlzk_kn4th680000gn/T/ipykernel_9315/2342058334.py:2: FutureWarning: The default of observed=False is deprecated and will be changed to True in a future version of pandas. Pass observed=False to retain current behavior or observed=True to adopt the future default and silence this warning.\n",
      "  df = (token_table\n",
      "/var/folders/2x/rfhzgyjn2zq2wlzk_kn4th680000gn/T/ipykernel_9315/2342058334.py:9: FutureWarning: The default of observed=False is deprecated and will be changed to True in a future version of pandas. Pass observed=False to retain current behavior or observed=True to adopt the future default and silence this warning.\n",
      "  pd.concat(\n",
      "/var/folders/2x/rfhzgyjn2zq2wlzk_kn4th680000gn/T/ipykernel_9315/2342058334.py:19: FutureWarning: The default of observed=False is deprecated and will be changed to True in a future version of pandas. Pass observed=False to retain current behavior or observed=True to adopt the future default and silence this warning.\n",
      "  pd.concat(\n",
      "/var/folders/2x/rfhzgyjn2zq2wlzk_kn4th680000gn/T/ipykernel_9315/2342058334.py:2: FutureWarning: The default of observed=False is deprecated and will be changed to True in a future version of pandas. Pass observed=False to retain current behavior or observed=True to adopt the future default and silence this warning.\n",
      "  df = (token_table\n"
     ]
    },
    {
     "name": "stdout",
     "output_type": "stream",
     "text": [
      "180051\n"
     ]
    },
    {
     "name": "stderr",
     "output_type": "stream",
     "text": [
      "/var/folders/2x/rfhzgyjn2zq2wlzk_kn4th680000gn/T/ipykernel_9315/2342058334.py:9: FutureWarning: The default of observed=False is deprecated and will be changed to True in a future version of pandas. Pass observed=False to retain current behavior or observed=True to adopt the future default and silence this warning.\n",
      "  pd.concat(\n",
      "/var/folders/2x/rfhzgyjn2zq2wlzk_kn4th680000gn/T/ipykernel_9315/2342058334.py:19: FutureWarning: The default of observed=False is deprecated and will be changed to True in a future version of pandas. Pass observed=False to retain current behavior or observed=True to adopt the future default and silence this warning.\n",
      "  pd.concat(\n"
     ]
    }
   ],
   "source": [
    "tables = []\n",
    "for label, group in df.groupby('speech', observed=False):\n",
    "    print(label)\n",
    "    token_table = group.explode(['tokens', 'elided']).rename(columns={'tokens':'token'})\n",
    "    fulltext = ' '.join(group.perseus_text)\n",
    "    token_table['token'] = [tok for tok in nlp(fulltext)]\n",
    "    token_table['lemma'] = [tok.lemma_ for tok in token_table.token]\n",
    "    context = getContext(token_table)\n",
    "    reps = pd.merge(token_table, context, how='left', on='line_id')[['lemma', 'context']]\n",
    "    reps['lemma'] = reps['lemma'].str.lower()\n",
    "    token_table['reps'] = reps.apply(lambda row: row['context'].count(row['lemma']), axis=1).values\n",
    "\n",
    "    tables.append(token_table)"
   ]
  },
  {
   "cell_type": "code",
   "execution_count": 13,
   "id": "43ecec53-0ab8-4e28-839a-5f5a4f08f1db",
   "metadata": {},
   "outputs": [],
   "source": [
    "token_table = pd.concat(tables)\n",
    "\n",
    "token_table['upos'] = [tok.pos_ for tok in token_table.token]\n",
    "token_table['morph'] = [tok.morph.to_dict() for tok in token_table.token]\n",
    "token_table['mood'] = [morph.get('Mood') for morph in token_table.morph]\n",
    "token_table['tense'] = [morph.get('Tense') for morph in token_table.morph]\n",
    "token_table['voice'] = [morph.get('Voice') for morph in token_table.morph]\n",
    "token_table['person'] = [morph.get('Person') for morph in token_table.morph]\n",
    "token_table['number'] = [morph.get('Number') for morph in token_table.morph]\n",
    "token_table['case'] = [morph.get('Case') for morph in token_table.morph]\n",
    "token_table['gender'] = [morph.get('Gender') for morph in token_table.morph]\n",
    "token_table = token_table.drop(columns=['morph', 'perseus_text', 'anceps_text', 'anceps_n', 'comp'])\n",
    "token_table = token_table.loc[token_table.upos != 'PUNCT']\n",
    "token_table.to_csv(os.path.join('data', 'seneca_tokens.csv'), index=False)"
   ]
  },
  {
   "cell_type": "code",
   "execution_count": null,
   "id": "6d53cde6-0d66-47f5-a2b5-4a0547c6e8eb",
   "metadata": {},
   "outputs": [],
   "source": []
  }
 ],
 "metadata": {
  "kernelspec": {
   "display_name": "Python 3 (ipykernel)",
   "language": "python",
   "name": "python3"
  },
  "language_info": {
   "codemirror_mode": {
    "name": "ipython",
    "version": 3
   },
   "file_extension": ".py",
   "mimetype": "text/x-python",
   "name": "python",
   "nbconvert_exporter": "python",
   "pygments_lexer": "ipython3",
   "version": "3.10.15"
  }
 },
 "nbformat": 4,
 "nbformat_minor": 5
}
